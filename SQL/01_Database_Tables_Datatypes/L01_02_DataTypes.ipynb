{
 "cells": [
  {
   "cell_type": "markdown",
   "metadata": {},
   "source": [
    "# Data Types in MySQL"
   ]
  },
  {
   "cell_type": "markdown",
   "metadata": {},
   "source": [
    "Data types are used to define a type of data that a column can hold such as integer, float, string, etc. In this notebook, we will learn about the different data types in MySQL.\n",
    "\n",
    "There are a lot of data types in MySQL, but we will only cover the most commonly used ones.\n",
    "\n",
    "Link: [MySQL Data types](https://www.w3schools.com/mysql/mysql_datatypes.asp)"
   ]
  },
  {
   "cell_type": "markdown",
   "metadata": {},
   "source": [
    "## String Data Types\n",
    "String data types are used to store character values such as names, addresses, and other text data. The following are the commonly used string data types in MySQL:\n",
    "- `VARCHAR(size)`  : The size is the maximum length of the string.\n",
    "- `SET(val1, val2, val3, ...)` : The SET data type is used to store a string object with a maximum of 64 different values.\n",
    "\n"
   ]
  },
  {
   "cell_type": "markdown",
   "metadata": {},
   "source": [
    "## Numeric Data Types\n",
    "Numeric data types are used to store numeric values such as integers, decimals, and floating-point numbers. The following are the commonly used numeric data types in MySQL:\n",
    "- `INT` : The INT data type is used to store a whole number.\n",
    "- `FLOAT` : The FLOAT data type is used to store a floating-point number.\n",
    "- `DECIMAL(size, d)` : The DECIMAL data type is used to store a fixed-point number. The size is the total number of digits (including numbers after the decimal point) and d is the number of digits after the decimal point."
   ]
  },
  {
   "cell_type": "markdown",
   "metadata": {},
   "source": [
    "## Date and Time Data Types\n",
    "Date and time data types are used to store date and time values. The following are the commonly used date and time data types in MySQL:\n",
    "- `DATE` : The DATE data type is used to store a date value in the format YYYY-MM-DD.\n",
    "- `TIME` : The TIME data type is used to store a time value in the format HH:MM:SS.\n",
    "- `DATETIME` : The DATETIME data type is used to store a date and time value in the format YYYY-MM-DD HH:MM:SS."
   ]
  },
  {
   "cell_type": "markdown",
   "metadata": {},
   "source": []
  }
 ],
 "metadata": {
  "language_info": {
   "name": "python"
  }
 },
 "nbformat": 4,
 "nbformat_minor": 2
}

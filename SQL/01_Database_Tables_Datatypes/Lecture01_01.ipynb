{
 "cells": [
  {
   "cell_type": "markdown",
   "metadata": {},
   "source": [
    "# Table of Contents\n",
    "- [Installation link](#installation-link)\n",
    "- [Create Database](#create-database)\n",
    "- [Delete Database](#delete-database)\n",
    "- [Using the Database](#use-database)\n",
    "- [Create Table](#create-table)\n",
    "- [See Tables](#see-tables)\n",
    "\n"
   ]
  },
  {
   "cell_type": "markdown",
   "metadata": {},
   "source": [
    "## Installation link\n",
    "Follow the steps mentioned in the article install MySQL on your local machine.\n",
    "[Installation Guide](https://arvideichner.medium.com/a-step-by-step-guide-to-installing-mysql-and-mysql-workbench-on-windows-c4f2e9e37fb8)"
   ]
  },
  {
   "cell_type": "markdown",
   "metadata": {},
   "source": [
    "## <a id='create-database'></a>Create database\n",
    "**Command:** `CREATE DATABASE database_name;`\n",
    "\n",
    "**Description:**\n",
    "This command creates a new database. In place of `database_name`, specify the name of the database that you want to create. For example:\n",
    "\n",
    "**Syntax:**\n",
    "```sql\n",
    "CREATE DATABASE super_store;\n",
    "```"
   ]
  },
  {
   "cell_type": "markdown",
   "metadata": {},
   "source": [
    "## <a id=\"delete-database\"></a> Delete a database\n",
    "**Command:** `DROP DATABASE database_name;`\n",
    "\n",
    "**Description:**\n",
    "This command deletes an existing database. In place of `database_name`, specify the name of the database that you want to delete. Database should exist otherwise you will see an error at the bottom of MySQL workbench. For example you can delete database like following:\n",
    "\n",
    "**Syntax:**\n",
    "```sql\n",
    "DROP DATABASE super_store;\n",
    "```\n",
    "\n",
    "**Note:** Once you delete a database, and you want to do some operation on that database, you will have to create that database again using `CREATE DATABASE` command."
   ]
  },
  {
   "cell_type": "markdown",
   "metadata": {},
   "source": [
    "## <a id=\"use-database\"></a> Use a database\n",
    "**Command:** `USE database_name;`\n",
    "\n",
    "**Description:**\n",
    "This command is used to select a database. After selecting a database, you can perform operations on the tables of that database.\n",
    "\n",
    "**Syntax:**\n",
    "```sql\n",
    "USE super_store;\n",
    "```"
   ]
  },
  {
   "cell_type": "markdown",
   "metadata": {},
   "source": [
    "## <a id=\"create-table\"></a> Create a table\n",
    "**Command:**  <br>\n",
    "`CREATE TABLE table_name (`  \n",
    "    column1_name data_type,   \n",
    "    column2_name data_type,  \n",
    "    column3_name data_type, \n",
    "    ...  \n",
    "`);`   <br>\n",
    "\n",
    "**Description:**\n",
    "This command creates a new table. In place of `table_name`, specify the name of the table that you want to create. In place of `column1_name`, `column2_name`, `column3_name`, etc., specify the names of the columns that you want to create. In place of `data_type`, specify the data type for each column.\n",
    "\n",
    "**Syntax:**\n",
    "```sql\n",
    "CREATE TABLE products (\n",
    "    product_id INT, \n",
    "    product_name VARCHAR(100), \n",
    "    price DECIMAL(10,2), \n",
    "    quantity INT\n",
    ");\n",
    "```"
   ]
  },
  {
   "cell_type": "markdown",
   "metadata": {},
   "source": [
    "## <a id=\"see-tables\"></a> See tables in a database\n",
    "**Command:** `SHOW TABLES;`\n",
    "\n",
    "**Description:**\n",
    "This command shows all the tables in the current database. \n",
    "\n",
    "If you want to see all the tables in a different database, you can use the following command: `SHOW TABLES FROM database_name;`\n",
    "\n",
    "**Extra:** You can use `SHOW DATABASES;` to see all the databases in the MySQL server as well."
   ]
  }
 ],
 "metadata": {
  "language_info": {
   "name": "python"
  }
 },
 "nbformat": 4,
 "nbformat_minor": 2
}

{
 "cells": [
  {
   "cell_type": "markdown",
   "metadata": {},
   "source": [
    "## ALTER\n",
    "1. The ALTER statement is used to add, delete, or modify columns in an existing table.  \n",
    "`ALTER TABLE table_name ADD column_name datatype;`  \n",
    "`ALTER TABLE table_name DROP COLUMN column_name;`  \n",
    "`ALTER TABLE table_name MODIFY COLUMN column_name datatype;`  \n",
    "\n",
    "    For example:  \n",
    "    ``` sql\n",
    "    ALTER TABLE products ADD description VARCHAR(255);  \n",
    "    ALTER TABLE products DROP COLUMN description;  \n",
    "    ALTER TABLE products MODIFY COLUMN price INT;  \n",
    "    ```\n",
    "<hr>"
   ]
  },
  {
   "cell_type": "markdown",
   "metadata": {},
   "source": [
    "2. We can also use the ALTER statement to rename a table.  \n",
    "`ALTER TABLE table_name RENAME TO new_table_name;`  \n",
    "    For example:  \n",
    "    ``` sql  \n",
    "    ALTER TABLE products RENAME TO items;  \n",
    "    ```\n",
    "<hr>"
   ]
  },
  {
   "cell_type": "markdown",
   "metadata": {},
   "source": [
    "3. ALTER statement can be used to rename a column.  \n",
    "`ALTER TABLE table_name CHANGE old_column_name new_column_name datatype;`  \n",
    "    For example:  \n",
    "    ``` sql\n",
    "    ALTER TABLE products CHANGE price cost INT;\n",
    "    ```\n",
    "<hr>"
   ]
  },
  {
   "cell_type": "markdown",
   "metadata": {},
   "source": [
    "4. We can also use the ALTER statement to add or drop a primary or foreign key.  \n",
    "    `ALTER TABLE table_name ADD PRIMARY KEY (column_name);`  \n",
    "    `ALTER TABLE table_name DROP PRIMARY KEY;`  \n",
    "    `ALTER TABLE table_name ADD FOREIGN KEY (column_name) REFERENCES other_table(column_name);`  \n",
    "    For example:  \n",
    "    ``` sql\n",
    "    ALTER TABLE products ADD PRIMARY KEY (id);  \n",
    "    ALTER TABLE products ADD FOREIGN KEY (category_id) REFERENCES categories(id);  \n",
    "    ```   \n",
    "\n",
    "    <hr>\n",
    "\n",
    "    **NOTE:**\n",
    "    To DROP FOREIGN KEY constraint, we need to know the constraint_name. We can use the following query to find the constraint_name:\n",
    "    ``` sql\n",
    "    SHOW CREATE TABLE table_name;\n",
    "    ```\n",
    "    After finding the constraint_name, we can use the following query to drop the foreign key constraint.  \n",
    "    `ALTER TABLE table_name DROP FOREIGN KEY constraint_name;`  \n",
    "    Once the FOREIGN KEY constraint is dropped, we can drop the column using the above mentioned column DROP command.\n",
    "\n"
   ]
  },
  {
   "cell_type": "markdown",
   "metadata": {},
   "source": []
  }
 ],
 "metadata": {
  "language_info": {
   "name": "python"
  }
 },
 "nbformat": 4,
 "nbformat_minor": 2
}

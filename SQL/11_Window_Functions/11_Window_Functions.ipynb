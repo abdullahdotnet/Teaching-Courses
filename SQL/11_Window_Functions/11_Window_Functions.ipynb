{
 "cells": [
  {
   "cell_type": "markdown",
   "metadata": {},
   "source": [
    "# Window Functions\n",
    "Window functions perform calculations across a set of table rows that are somehow related to the current row. Unlike aggregate functions, window functions do not cause rows to become grouped into a single output row. This means you can retain the individual rows while performing an aggregation across a set of them.  \n",
    "\n",
    "![alt text](Agg_Window_Funct.JPG)\n"
   ]
  },
  {
   "cell_type": "markdown",
   "metadata": {},
   "source": [
    "### Syntax\n",
    "Window functions can be defined in the SELECT clause of a query.  \n",
    "```sql\n",
    "SELECT\n",
    "    column1,\n",
    "    column2,\n",
    "    window_function(column3) OVER (\n",
    "        PARTITION BY column1\n",
    "        ORDER BY column2\n",
    "        RANGE BETWEEN UNBOUNDED PRECEDING AND CURRENT ROW\n",
    "    ) AS column3\n",
    "FROM\n",
    "    table_name;\n",
    "```"
   ]
  },
  {
   "cell_type": "markdown",
   "metadata": {},
   "source": [
    "## Difference between GROUP BY Aggregation and Window Functions\n",
    "GROUP BY Aggregations return a single value for each group of rows. Window functions return a single value for each row.  \n",
    "Find out the average salary for male and female employees.    \n"
   ]
  },
  {
   "cell_type": "markdown",
   "metadata": {},
   "source": [
    "Lets see the result of following queries. (USE test03 database)  \n",
    "```sql\n",
    "SELECT gender, AVG(sal.salary) AS avg_salary\n",
    "FROM employee_demographics dem\n",
    "JOIN employee_salary sal\n",
    "ON dem.employee_id = sal.employee_id\n",
    "GROUP BY gender;\n",
    "```\n",
    "<hr>\n",
    "\n",
    "```sql\n",
    "SELECT dem.first_name, gender, AVG(sal.salary) OVER(PARTITION BY gender)\n",
    "FROM employee_demographics dem\n",
    "JOIN employee_salary sal\n",
    "ON dem.employee_id = sal.employee_id;\n",
    "```"
   ]
  },
  {
   "cell_type": "markdown",
   "metadata": {},
   "source": [
    "## List of Window Functions\n",
    "1. [ROW_NUMBER()](#ROW_NUMBER())\n",
    "2. [RANK()](#RANK())\n",
    "3. [DENSE_RANK()](#DENSE_RANK())\n",
    "4. [PERCENT_RANK()](#PERCENT_RANK())\n",
    "5. [CUME_DIST()](#CUME_DIST())\n",
    "6. [NTILE()](#NTILE())\n",
    "7. [LAG()](#LAG())\n",
    "8. [LEAD()](#LEAD())\n",
    "9. [FIRST_VALUE()](#FIRST_VALUE())\n",
    "10. [LAST_VALUE()](#LAST_VALUE())\n",
    "11. [NTH_VALUE()](#NTH_VALUE())\n"
   ]
  },
  {
   "cell_type": "markdown",
   "metadata": {},
   "source": [
    "### ROW_NUMBER()\n",
    "The ROW_NUMBER() function assigns a unique integer value to each row within the partition of a result set. The row number starts with 1 for the first row in each partition.  \n",
    "\n",
    "You can partition by gender or dept_id and order by salary.  \n",
    "\n",
    "For example:\n",
    "```sql\n",
    "SELECT dem.employee_id, dem.first_name, dem.gender, sal.salary, \n",
    "ROW_NUMBER() OVER()     AS row_num\n",
    "FROM employee_demographics dem\n",
    "JOIN employee_salary sal\n",
    "ON sal.employee_id = dem.employee_id;\n",
    "```\n"
   ]
  },
  {
   "cell_type": "markdown",
   "metadata": {},
   "source": [
    "## RANK()\n",
    "The difference between RANK() and ROW_NUMBER() is that RANK() will assign the same value to the rows that have the same value in the ordered column. The next row will have a rank value that is incremented by the number of rows with the same value.\n",
    "\n",
    "For example:\n",
    "```sql\n",
    "SELECT dem.employee_id, dem.first_name, dem.gender, sal.salary, \n",
    "ROW_NUMBER() OVER(PARTITION BY gender ORDER BY sal.salary)  AS row_num,\n",
    "RANK() OVER(PARTITION BY gender ORDER BY sal.salary)  AS rank_num\n",
    "FROM employee_demographics dem\n",
    "JOIN employee_salary sal\n",
    "ON sal.employee_id = dem.employee_id;\n",
    "```"
   ]
  },
  {
   "cell_type": "markdown",
   "metadata": {},
   "source": [
    "## DENSE_RANK()\n",
    "The DENSE_RANK() function is similar to the RANK() function. The difference is that the DENSE_RANK() function does not leave gaps in the ranking sequence when there are ties.\n",
    "\n",
    "For example:\n",
    "```sql\n",
    "SELECT dem.employee_id, dem.first_name, dem.gender, sal.salary, \n",
    "ROW_NUMBER() OVER(PARTITION BY gender ORDER BY sal.salary)  AS row_num,\n",
    "RANK() OVER(PARTITION BY gender ORDER BY sal.salary)  AS rank_num,\n",
    "DENSE_RANK() OVER(PARTITION BY gender ORDER BY sal.salary)  AS dense_rank_num\n",
    "FROM employee_demographics dem\n",
    "JOIN employee_salary sal\n",
    "ON sal.employee_id = dem.employee_id;\n",
    "```\n"
   ]
  },
  {
   "cell_type": "markdown",
   "metadata": {},
   "source": [
    "## NTILE()\n",
    "The NTILE() function divides the result set into a specified number of approximately equal groups. The groups are numbered, starting at one.\n",
    "\n",
    "For example:\n",
    "```sql\n",
    "SELECT dem.employee_id, dem.first_name, dem.gender, sal.salary, \n",
    "NTILE(4) OVER(PARTITION BY gender ORDER BY sal.salary)  AS quartile\n",
    "FROM employee_demographics dem\n",
    "JOIN employee_salary sal\n",
    "ON sal.employee_id = dem.employee_id;"
   ]
  },
  {
   "cell_type": "markdown",
   "metadata": {},
   "source": [
    "## LAG(column, offset, default_value)\n",
    "The LAG() function is used to access data from a previous row in the same result set without the use of a self-join. The LAG() function returns the value of column from the previous row that is offset rows before the current row. If there is no such row, the default_value is returned.\n",
    "\n",
    "For example:\n",
    "```sql\n",
    "SELECT dem.employee_id, dem.first_name, dem.gender, sal.salary, \n",
    "LAG(sal.salary,1,0) OVER(PARTITION BY gender ORDER BY sal.salary)  AS prev_val\n",
    "FROM employee_demographics dem\n",
    "JOIN employee_salary sal\n",
    "ON sal.employee_id = dem.employee_id;\n",
    "```"
   ]
  },
  {
   "cell_type": "markdown",
   "metadata": {},
   "source": [
    "## LEAD(column, offset, default_value)\n",
    "The LEAD() function is used to access data from a subsequent row in the same result set without the use of a self-join. The LEAD() function returns the value of column from the next row that is offset rows after the current row. If there is no such row, the default_value is returned.\n",
    "\n",
    "For example:\n",
    "```sql\n",
    "SELECT dem.employee_id, dem.first_name, dem.gender, sal.salary, \n",
    "LEAD(sal.salary,1,0) OVER(PARTITION BY gender ORDER BY sal.salary)  AS next_val\n",
    "FROM employee_demographics dem\n",
    "JOIN employee_salary sal\n",
    "ON sal.employee_id = dem.employee_id;\n",
    "```\n"
   ]
  },
  {
   "cell_type": "markdown",
   "metadata": {},
   "source": [
    "<hr>\n",
    "\n",
    "# Frame Specifying Clause\n",
    "The frame_spec clause defines the window frame over which the window function operates. \n",
    "\n",
    "**Syntax**  \n",
    "```sql\n",
    "[ ROWS | RANGE ]\n",
    "BETWEEN frame_start AND frame_end\n",
    "```\n",
    "\n",
    "**Default Frame is:**\n",
    "```sql\n",
    "RANGE BETWEEN UNBOUNDED PRECEDING AND CURRENT ROW\n",
    "```  \n",
    "\n",
    "**Frame Boundaries**  \n",
    " - UNBOUNDED PRECEDING: The frame starts at the first row of the partition.\n",
    " - N PRECEDING: The frame starts N rows before the current row.\n",
    " - CURRENT ROW: The frame starts or ends at the current row.\n",
    " - N FOLLOWING: The frame starts N rows after the current row.\n",
    " - UNBOUNDED FOLLOWING: The frame ends at the last row of the partition.\n",
    "\n",
    "Lets use it inside the window functions LAST_VALUE() and FIRST_VALUE().\n",
    "\n",
    "<hr>"
   ]
  },
  {
   "cell_type": "markdown",
   "metadata": {},
   "source": [
    "## FIRST_VALUE()\n",
    "The FIRST_VALUE() function returns the first value in an ordered set of values. The frame_spec clause is used to define the window frame over which the window function operates.\n",
    "\n",
    "For example:\n",
    "```sql\n",
    "SELECT dem.employee_id, dem.first_name, dem.gender, sal.salary, \n",
    "RANK() OVER(PARTITION BY gender ORDER BY sal.salary)  AS rank_num,\n",
    "LAST_VALUE(sal.first_name) OVER(PARTITION BY gender ORDER BY sal.salary\n",
    "\tRANGE BETWEEN UNBOUNDED PRECEDING AND UNBOUNDED FOLLOWING\n",
    ")  AS last_val\n",
    "FROM employee_demographics dem\n",
    "JOIN employee_salary sal\n",
    "ON sal.employee_id = dem.employee_id;"
   ]
  }
 ],
 "metadata": {
  "language_info": {
   "name": "python"
  }
 },
 "nbformat": 4,
 "nbformat_minor": 2
}

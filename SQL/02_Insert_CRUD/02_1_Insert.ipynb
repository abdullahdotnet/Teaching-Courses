{
 "cells": [
  {
   "cell_type": "markdown",
   "metadata": {},
   "source": [
    "# Inserting Records into the table\n",
    "We can insert records into tables using the 3 following ways"
   ]
  },
  {
   "cell_type": "markdown",
   "metadata": {},
   "source": [
    "## Method 01    \n",
    "`INSERT INTO table_name (col1, col2, col3, ...) VALUE (val1, val2, val3)`  \n",
    "For example:\n",
    "``` sql\n",
    "INSERT INTO products (id, product_name, price, quantity) \n",
    "VALUE (1,\"mouse\", 10, 50);\n",
    "\n",
    "INSERT INTO products (id, product_name, price, quantity) \n",
    "VALUE (2,\"keyboard\", 25, 56);\n",
    "```"
   ]
  },
  {
   "cell_type": "markdown",
   "metadata": {},
   "source": [
    "## Method 02 (Multiple records)    \n",
    "`INSERT INTO table_name (col1, col2, col3, ...) VALUE (val1, val2, val3),\n",
    "(val1, val2, val3),\n",
    "(val1, val2, val3)`  \n",
    "For example:\n",
    "``` sql\n",
    "INSERT INTO products (id, product_name, price, quantity) \n",
    "VALUE (3,\"mobile\", 250, 86),\n",
    "(4,\"charger\", 20, 46),\n",
    "(5, \"laptop\", 760, 24);\n",
    "```"
   ]
  },
  {
   "cell_type": "markdown",
   "metadata": {},
   "source": [
    "## Method 03 (Without column names)    \n",
    "`INSERT INTO table_name VALUE (val1, val2, val3),\n",
    "(val1, val2, val3),\n",
    "(val1, val2, val3)`  \n",
    "For example:\n",
    "``` sql\n",
    "INSERT INTO products  \n",
    "VALUE (6,\"bottle\", 5, 124),\n",
    "(7,\"pen\", 5, 186),\n",
    "(8, \"bag\", 24, 47);\n",
    "```"
   ]
  },
  {
   "cell_type": "markdown",
   "metadata": {},
   "source": [
    "Similarly, you can also insert single records without specifying column names. But remember, if you do not write column names, then you have to enter the data for all the columns.\n",
    "``` sql\n",
    "INSERT INTO products VALUE (9, \"table\", 40, 15)\n",
    "```"
   ]
  },
  {
   "cell_type": "markdown",
   "metadata": {},
   "source": [
    "### Note:\n",
    "Instead of `VALUE` you can also write `VALUES` in all the cases."
   ]
  }
 ],
 "metadata": {
  "language_info": {
   "name": "python"
  }
 },
 "nbformat": 4,
 "nbformat_minor": 2
}

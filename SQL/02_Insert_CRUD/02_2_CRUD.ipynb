{
 "cells": [
  {
   "cell_type": "markdown",
   "metadata": {},
   "source": [
    "# SELECT, DELETE, and UPDATE\n",
    "<hr>"
   ]
  },
  {
   "cell_type": "markdown",
   "metadata": {},
   "source": [
    "## 1. SELECT\n",
    "The SELECT statement is used to select data from a database.\n",
    "The data returned is stored in a result table.  \n",
    "`SELECT col1, col2, ... FROM table_name`  \n",
    "\n",
    "For example:\n",
    "``` sql\n",
    "SELECT product_name, price FROM products;\n",
    "```\n",
    "To select all the columns, we can write a `*` in place of column names.\n",
    "``` sql\n",
    "SELECT * FROM products;\n",
    "```\n",
    "<hr>"
   ]
  },
  {
   "cell_type": "markdown",
   "metadata": {},
   "source": [
    "## 2. DELETE\n",
    "The DELETE statement is used to delete existing records in a table.  \n",
    "`DELETE FROM table_name WHERE condition;`  \n",
    "\n",
    "To avoid the safe mode error, you can write limit number.\n",
    "For example:  \n",
    "``` sql\n",
    "DELETE FROM products WHERE id = 1 limit 10;\n",
    "```  \n",
    "\n",
    "**Note:** Be careful when deleting records in a table! If you omit the WHERE clause, all records in the table will be deleted!\n",
    "<hr>"
   ]
  },
  {
   "cell_type": "markdown",
   "metadata": {},
   "source": [
    "## 3. UPDATE\n",
    "The UPDATE statement is used to modify the existing records in a table.  \n",
    "`UPDATE table_name\n",
    "SET column1 = value1, column2 = value2, ...\n",
    "WHERE condition;`\n",
    "\n",
    "For example:\n",
    "``` sql\n",
    "UPDATE products SET price = 100, quantity = 34 WHERE id = 1;\n",
    "```\n",
    "\n",
    "**NOTE:** If you omit the WHERE clause, all records in the table will be updated!\n",
    "<hr>"
   ]
  },
  {
   "cell_type": "code",
   "execution_count": null,
   "metadata": {
    "vscode": {
     "languageId": "plaintext"
    }
   },
   "outputs": [],
   "source": []
  }
 ],
 "metadata": {
  "language_info": {
   "name": "python"
  }
 },
 "nbformat": 4,
 "nbformat_minor": 2
}

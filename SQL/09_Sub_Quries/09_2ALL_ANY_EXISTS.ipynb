{
 "cells": [
  {
   "cell_type": "markdown",
   "metadata": {},
   "source": [
    "## ALL\n",
    "ALL checks if all rows returned by the subquery satisfy a specific condition.  \n",
    "Example: Find all customers who have placed orders with a total amount greater than $500 in all their orders.  \n",
    "``` sql\n",
    "SELECT c.id, c.first_name, c.last_name\n",
    "FROM Customers c\n",
    "WHERE 500 < ALL (\n",
    "    SELECT o.total_amount\n",
    "    FROM Orders o\n",
    "    WHERE c.id = o.customer_id\n",
    ");\n",
    "```\n",
    "\n",
    "**Note:** If a customer has even one order with a total amount less than or equal to $500, they won't be included in the results.  \n",
    "Just for verification:  \n",
    "select * from orders where customer_id in (11,24,35,39,42,47) and total_amount < 500;\n",
    "\n",
    "<hr>"
   ]
  },
  {
   "cell_type": "markdown",
   "metadata": {},
   "source": [
    "## ANY\n",
    "ANY checks if at least one row returned by the subquery satisfies a specific condition.\n",
    "Example: Find all customers who have placed at least one order with a total amount greater than $900.  \n",
    "\n",
    "``` sql\n",
    "SELECT c.id, c.first_name, c.last_name\n",
    "FROM Customers c\n",
    "WHERE 900 < ANY (\n",
    "    SELECT o.total_amount\n",
    "    FROM Orders o\n",
    "    WHERE c.id = o.customer_id\n",
    ");\n",
    "```\n",
    "**Note:** Even if a customer has orders with a total amount less than or equal to $900, they'll be included in the results as long as they have at least one order exceeding $900.  \n",
    "Just for verification:  \n",
    "select DISTINCT(customer_id) from orders where total_amount > 900 ORDER BY customer_id;\n",
    "<hr>"
   ]
  },
  {
   "cell_type": "markdown",
   "metadata": {},
   "source": [
    "## EXISTS\n",
    "EXISTS simply checks if the subquery returns at least one row, regardless of the specific condition within the subquery.  \n",
    "Example: Find all customers who have placed any orders (regardless of total amount).\n",
    "``` sql\n",
    "SELECT c.customer_id, c.first_name, c.last_name\n",
    "FROM Customers c\n",
    "WHERE EXISTS (\n",
    "  SELECT 1\n",
    "  FROM Orders\n",
    "  WHERE c.customer_id = o.customer_id\n",
    ");\n",
    "```\n",
    "\n",
    "Similarly we can solve the above question of `ANY` as well using `EXISTS`:  \n",
    "\n",
    "Find all customers who have placed at least one order with a total amount greater than $900.  \n",
    "``` sql\n",
    "SELECT c.id, c.first_name, c.last_name\n",
    "FROM Customers c\n",
    "WHERE EXISTS (\n",
    "    SELECT o.total_amount\n",
    "    FROM Orders o\n",
    "    WHERE c.id = o.customer_id\n",
    "    and o.total_amount > 900\n",
    ");\n",
    "```\n",
    "\n",
    "<hr>"
   ]
  }
 ],
 "metadata": {
  "language_info": {
   "name": "python"
  }
 },
 "nbformat": 4,
 "nbformat_minor": 2
}

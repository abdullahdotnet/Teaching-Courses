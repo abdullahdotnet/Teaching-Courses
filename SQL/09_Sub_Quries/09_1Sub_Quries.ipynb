{
 "cells": [
  {
   "cell_type": "markdown",
   "metadata": {},
   "source": [
    "# Sub Quries"
   ]
  },
  {
   "cell_type": "markdown",
   "metadata": {},
   "source": [
    "Syntax:  \n",
    "\n",
    "```sql\n",
    "SELECT column FROM  table\n",
    "WHERE column OPERATOR (\n",
    "  SELECT column FROM table\n",
    ");\n",
    "```"
   ]
  },
  {
   "cell_type": "markdown",
   "metadata": {},
   "source": [
    "## Usage\n",
    "Subqueries are a powerful tool in SQL that allow you to perform complex tasks by breaking them down into smaller, more manageable steps. They can be used in a variety of scenarios, such as:\n",
    "\n",
    " - Filtering data based on results from another query: For instance, finding all orders placed by customers who live in a specific state.\n",
    "\n",
    " - Aggregating data and using the results in conditions to fetch from other tables: An example is finding the customer name who has placed the order with the highest total_amount.\n",
    "\n",
    " - Comparing data from multiple tables: This can be helpful for tasks like finding all the customers who have never placed any order.\n",
    "\n",
    " - Joining tables with complex conditions: This can be useful for scenarios where the join condition relies on results from another table. For example: Finding customers who have purchased above average orders"
   ]
  },
  {
   "cell_type": "markdown",
   "metadata": {},
   "source": [
    "## Solutions\n",
    "\n",
    "1. ``` sql\n",
    "    select * from orders where customer_id in (\n",
    "    select id from customers where state = \"Kentucky\"\n",
    "    );\n",
    "    ```\n",
    "<hr> "
   ]
  },
  {
   "cell_type": "markdown",
   "metadata": {},
   "source": [
    "2. ``` sql \n",
    "    select * from customers where id = (\n",
    "        select customer_id from orders \n",
    "        order by total_amount desc limit 1\n",
    "    ); \n",
    "    ```\n",
    "<hr>"
   ]
  },
  {
   "cell_type": "markdown",
   "metadata": {},
   "source": [
    "3. ``` sql\n",
    "    SELECT * from customers where id \n",
    "    not in (select customer_id from orders);\n",
    "    ```\n",
    "<hr>"
   ]
  },
  {
   "cell_type": "markdown",
   "metadata": {},
   "source": [
    "4. ``` sql\n",
    "    select id, first_name, last_name from customers where id \n",
    "    not in (select customer_id from orders);\n",
    "    ```\n",
    "<hr>"
   ]
  },
  {
   "cell_type": "markdown",
   "metadata": {},
   "source": [
    "5. Method 01: \n",
    "\n",
    "    ``` sql  \n",
    "    SELECT c.id, c.first_name, c.last_name FROM Customers c JOIN\n",
    "    Orders o ON c.id = o.customer_id WHERE o.total_amount > ( SELECT\n",
    "    AVG(total_amount) FROM Orders );\n",
    "    ```\n",
    "    <hr>\n",
    "    Method 02: \n",
    "``` sql\n",
    "    SELECT c.id, c.first_name, c.last_name\n",
    "    FROM Customers c\n",
    "    INNER JOIN Orders o ON c.id = o.customer_id\n",
    "    INNER JOIN (\n",
    "      SELECT AVG(total_amount) AS avg_total_amount\n",
    "      FROM Orders\n",
    "    ) AS avg_totals\n",
    "    ON o.total_amount > avg_totals.avg_total_amount;\n",
    "```\n",
    "<hr \\>\n"
   ]
  }
 ],
 "metadata": {
  "language_info": {
   "name": "python"
  }
 },
 "nbformat": 4,
 "nbformat_minor": 2
}

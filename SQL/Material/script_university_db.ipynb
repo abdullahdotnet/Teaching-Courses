{
 "cells": [
  {
   "cell_type": "code",
   "execution_count": 3,
   "metadata": {},
   "outputs": [],
   "source": [
    "import mysql.connector\n",
    "import db_credentials\n",
    "\n",
    "connector = mysql.connector.connect(\n",
    "    host=db_credentials.host,\n",
    "    user=db_credentials.user,\n",
    "    password=db_credentials.password,\n",
    "    database=\"university_db\"\n",
    ")\n",
    "\n",
    "cursor = connector.cursor()\n"
   ]
  },
  {
   "cell_type": "code",
   "execution_count": 9,
   "metadata": {},
   "outputs": [],
   "source": [
    "cursor.execute(\"\"\" CREATE TABLE students (\n",
    "        id INT AUTO_INCREMENT PRIMARY KEY,\n",
    "        name VARCHAR(50),\n",
    "        gender ENUM('M', 'F') DEFAULT 'M',  \n",
    "        major VARCHAR(50) DEFAULT 'Undecided',             \n",
    "        age INT DEFAULT 18,\n",
    "        grade FLOAT DEFAULT 0.0,\n",
    "        email VARCHAR(50) ,\n",
    "        phone VARCHAR(30) DEFAULT '000-000-0000',\n",
    "        registration_date DATE,\n",
    "        active BOOLEAN DEFAULT TRUE,\n",
    "        graduation_date DATE DEFAULT NULL\n",
    "    );\n",
    "\"\"\")"
   ]
  },
  {
   "cell_type": "code",
   "execution_count": 11,
   "metadata": {},
   "outputs": [],
   "source": [
    "cursor.execute(\"\"\"\n",
    "    CREATE TABLE instructor (\n",
    "        id INT AUTO_INCREMENT PRIMARY KEY,\n",
    "        name VARCHAR(50),\n",
    "        email VARCHAR(100),\n",
    "        phone VARCHAR(20),\n",
    "        department VARCHAR(50),\n",
    "        hire_date DATE\n",
    "    )\n",
    "\"\"\")"
   ]
  },
  {
   "cell_type": "code",
   "execution_count": 13,
   "metadata": {},
   "outputs": [],
   "source": [
    "cursor.execute(\"\"\"\n",
    "    CREATE TABLE department (\n",
    "        id INT AUTO_INCREMENT PRIMARY KEY,\n",
    "        name VARCHAR(50),\n",
    "        building VARCHAR(50) DEFAULT 'A',\n",
    "        budget DECIMAL(10, 2) DEFAULT 1000000.00\n",
    "    );\n",
    "\"\"\")"
   ]
  },
  {
   "cell_type": "code",
   "execution_count": 18,
   "metadata": {},
   "outputs": [],
   "source": [
    "cursor.execute(\"\"\"\n",
    "    CREATE TABLE course (\n",
    "        id INT AUTO_INCREMENT PRIMARY KEY,\n",
    "        name VARCHAR(50),\n",
    "        department_id INT,\n",
    "        credits INT DEFAULT 3,\n",
    "        instructor_id INT,\n",
    "        semester VARCHAR(20) DEFAULT 'Fall',\n",
    "        year INT DEFAULT 2021\n",
    "    )\n",
    "\"\"\")"
   ]
  },
  {
   "cell_type": "code",
   "execution_count": 19,
   "metadata": {},
   "outputs": [],
   "source": [
    "# Add foreign key for department_id\n",
    "cursor.execute(\"\"\"\n",
    "    ALTER TABLE course\n",
    "    ADD FOREIGN KEY (department_id) REFERENCES department(id)\n",
    "\"\"\")\n",
    "\n",
    "# Add foreign key for instructor_id\n",
    "cursor.execute(\"\"\"\n",
    "    ALTER TABLE course\n",
    "    ADD FOREIGN KEY (instructor_id) REFERENCES instructor(id)\n",
    "\"\"\")"
   ]
  },
  {
   "cell_type": "code",
   "execution_count": null,
   "metadata": {},
   "outputs": [],
   "source": [
    "# Add foreign key for instructor_id\n",
    "cursor.execute(\"\"\"\n",
    "    ALTER TABLE course\n",
    "    ADD FOREIGN KEY (instructor_id) REFERENCES instructor(id)\n",
    "\"\"\")"
   ]
  },
  {
   "cell_type": "code",
   "execution_count": 4,
   "metadata": {},
   "outputs": [],
   "source": [
    "from faker import Faker\n",
    "import random\n",
    "fake = Faker()\n",
    "\n",
    "\n",
    "\n"
   ]
  },
  {
   "cell_type": "code",
   "execution_count": null,
   "metadata": {},
   "outputs": [],
   "source": [
    "# Generate and insert data for 50 students\n",
    "for i in range(1, 51):\n",
    "    name = fake.name()\n",
    "    age = random.randint(18, 30)\n",
    "    email = f\"{name.split()[0].lower()}@gmail.com\"\n",
    "\n",
    "    cursor.execute(f\"\"\"\n",
    "    INSERT INTO students (id, name, age, email) \n",
    "    VALUES \n",
    "    ({i}, '{name}', {age}, '{email}')\n",
    "    \"\"\")"
   ]
  },
  {
   "cell_type": "code",
   "execution_count": 6,
   "metadata": {},
   "outputs": [],
   "source": [
    "# Commit the transaction\n",
    "connector.commit()"
   ]
  },
  {
   "cell_type": "code",
   "execution_count": 2,
   "metadata": {},
   "outputs": [],
   "source": [
    "cursor.execute(\"TRUNCATE TABLE students;\")\n"
   ]
  },
  {
   "cell_type": "code",
   "execution_count": null,
   "metadata": {},
   "outputs": [],
   "source": [
    "connector.commit()"
   ]
  }
 ],
 "metadata": {
  "kernelspec": {
   "display_name": "Python 3",
   "language": "python",
   "name": "python3"
  },
  "language_info": {
   "codemirror_mode": {
    "name": "ipython",
    "version": 3
   },
   "file_extension": ".py",
   "mimetype": "text/x-python",
   "name": "python",
   "nbconvert_exporter": "python",
   "pygments_lexer": "ipython3",
   "version": "3.12.2"
  }
 },
 "nbformat": 4,
 "nbformat_minor": 2
}

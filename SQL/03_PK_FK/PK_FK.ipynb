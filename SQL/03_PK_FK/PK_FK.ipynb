{
 "cells": [
  {
   "cell_type": "markdown",
   "metadata": {},
   "source": [
    "# Primary and Foreign Keys\n",
    "- **Primary Key**: A primary key is a field in a table which uniquely identifies each row/record in a database table. Primary keys must contain unique values. A primary key column cannot have NULL values.\n",
    "- **Foreign Key**: A foreign key is a column or a group of columns in a table that reference the primary key of another table. The purpose of the foreign key is to ensure referential integrity of the data.\n",
    "\n",
    "There is composite key as well which is a combination of two or more columns that uniquely identify a row in a table.\n"
   ]
  }
 ],
 "metadata": {
  "language_info": {
   "name": "python"
  }
 },
 "nbformat": 4,
 "nbformat_minor": 2
}

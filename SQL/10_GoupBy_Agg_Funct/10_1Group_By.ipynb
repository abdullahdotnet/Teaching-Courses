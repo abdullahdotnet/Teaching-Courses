{
 "cells": [
  {
   "cell_type": "markdown",
   "metadata": {},
   "source": [
    "# GROUP BY\n",
    "[Link](https://www.datacamp.com/tutorial/group-by-having-clause-sql)  \n",
    "The GROUP BY statement in MySQL is used to group rows that have the same values in specified columns into aggregated data. This is often used in conjunction with aggregate functions (such as COUNT, SUM, AVG, MAX, MIN) to perform calculations on each group of rows."
   ]
  },
  {
   "cell_type": "markdown",
   "metadata": {},
   "source": [
    "### Syntax\n",
    "```sql\n",
    "SELECT column_name(s)\n",
    "FROM table_name\n",
    "WHERE condition\n",
    "GROUP BY column_name(s)\n",
    "HAVING condition\n",
    "ORDER BY column_name(s);\n",
    "```\n",
    "<hr>"
   ]
  },
  {
   "cell_type": "markdown",
   "metadata": {},
   "source": [
    "## 3 Phases of of grouping data."
   ]
  },
  {
   "cell_type": "markdown",
   "metadata": {},
   "source": [
    "**1. Split:** the dataset is split up into chunks of rows based on the values of the variables we have chosen for the aggregation.  \n",
    "**2. Apply:** Compute an aggregate function, like average, minimum and maximum, returning a single value.  \n",
    "**3. Combine:** All these resulting outputs are combined in a unique table. In this way, we’ll have a single value for each modality of the variable of interest.  \n",
    "<hr>"
   ]
  },
  {
   "cell_type": "markdown",
   "metadata": {},
   "source": [
    "# Condition for GROUP BY\n",
    " - Every non-aggregated column in the SELECT clause must be in the GROUP BY clause.\n",
    "    \n",
    "``` sql\n",
    "SELECT department, AVG(salary) FROM employees GROUP BY department;\n",
    "```\n",
    "\n",
    "**Note:** Even if you are using joins, all the non-aggregated columns in the SELECT clause must be in the GROUP BY clause.\n",
    "<hr>"
   ]
  },
  {
   "cell_type": "markdown",
   "metadata": {},
   "source": [
    "## Question\n",
    "Get the total sales for each product using order_items table.\n",
    "\n",
    "** Solution **\n",
    "```sql\n",
    "SELECT product_id, SUM(quantity * price) as Total_Sales \n",
    "from order_items\n",
    "GROUP BY product_id\n",
    "having SUM(quantity * price) > 1500\n",
    ";\n",
    "```\n",
    "<hr>"
   ]
  },
  {
   "cell_type": "markdown",
   "metadata": {},
   "source": [
    "## HAVING\n",
    "Like WHERE, the HAVING clause filters the rows of a table. Whereas WHERE tried to filter the whole table, HAVING filters rows within each of the groups defined by GROUP BY.   \n",
    "\n",
    "**Some rules to follow:**  \n",
    " - You can use column aliases in the HAVING clause, but not in the GROUP BY clause.  \n",
    " Example: SELECT product, SUM(quantity) AS total_quantity FROM sales GROUP BY product HAVING total_quantity > 100;\n",
    " - You cannot use aggregate functions with `WHERE` clause. For this you can use `HAVING`.  \n",
    "\n",
    "<b>Summary:</b> If you want to apply condition over all the rows of a table then you can use `WHERE` and if you want to apply conditions over the groups then you can use `HAVING`. Remember, `HAVING` is used with `GROUP BY` clause only."
   ]
  },
  {
   "cell_type": "markdown",
   "metadata": {},
   "source": []
  }
 ],
 "metadata": {
  "language_info": {
   "name": "python"
  }
 },
 "nbformat": 4,
 "nbformat_minor": 2
}

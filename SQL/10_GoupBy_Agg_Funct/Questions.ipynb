{
 "cells": [
  {
   "cell_type": "markdown",
   "metadata": {},
   "source": [
    "[Link](https://www.hackerrank.com/challenges/revising-aggregations-the-count-function/problem) the-count-function.  \n",
    "Using single aggregate function.\n",
    "``` sql\n",
    "SELECT COUNT(ID) FROM CITY WHERE POPULATION > 100000;\n",
    "```\n",
    "<hr>"
   ]
  },
  {
   "cell_type": "markdown",
   "metadata": {},
   "source": [
    "[Link](https://leetcode.com/problems/find-followers-count/) find-followers-count.  \n",
    "Aggregate and Non-Aggregated columns.\n",
    "``` sql\n",
    "SELECT user_id, COUNT(follower_id) AS followers_count\n",
    "FROM Followers\n",
    "GROUP By user_id\n",
    "ORDER BY user_id;\n",
    "```\n",
    "<hr>"
   ]
  },
  {
   "cell_type": "markdown",
   "metadata": {},
   "source": [
    "[Link](https://leetcode.com/problems/actors-and-directors-who-cooperated-at-least-three-times/) actors-and-directors-who-cooperated-at-least-three-times.  \n",
    "Using `GROUP BY` and `HAVING` clause.\n",
    "``` sql\n",
    "SELECT actor_id, director_id FROM ActorDirector\n",
    "GROUP BY actor_id, director_id\n",
    "HAVING COUNT(*) >= 3;\n",
    "```\n",
    "<hr>"
   ]
  },
  {
   "cell_type": "markdown",
   "metadata": {},
   "source": []
  }
 ],
 "metadata": {
  "language_info": {
   "name": "python"
  }
 },
 "nbformat": 4,
 "nbformat_minor": 2
}

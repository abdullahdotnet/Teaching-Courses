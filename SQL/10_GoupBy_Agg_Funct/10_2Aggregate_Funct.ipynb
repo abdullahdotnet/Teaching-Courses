{
 "cells": [
  {
   "cell_type": "markdown",
   "metadata": {},
   "source": [
    "# Aggregate Functions"
   ]
  },
  {
   "cell_type": "markdown",
   "metadata": {},
   "source": [
    "## Using Aggregate Functions without Group By\n",
    " - If you want to use aggregate functions in select statement without the use of Group by then the result should be a single row.\n",
    "\n",
    "    ``` sql\n",
    "    SELECT COUNT(*) FROM employees;\n",
    "    SELECT AVG(salary) FROM employees;\n",
    "    ```\n",
    " - You can also use combination of aggregate functions without Group By but condition is the same, the result should be a single row. It means generally you cannot use non-aggregated columns.\n",
    "    ``` sql\n",
    "    SELECT COUNT(*), AVG(salary), MAX(salary) FROM employees;\n",
    "    ```\n",
    "<hr>"
   ]
  },
  {
   "cell_type": "markdown",
   "metadata": {},
   "source": [
    "## Using Aggregate Functions in Subqueries\n",
    " - Using an aggregate function in a subquery that returns a single value.\n",
    " ``` sql\n",
    " SELECT name FROM employees WHERE salary = (SELECT MAX(salary) FROM employees);\n",
    " ```\n",
    "<hr>"
   ]
  },
  {
   "cell_type": "markdown",
   "metadata": {},
   "source": [
    "## Using aggregate functions inside WHERE clause\n",
    " - You cannot use aggregate functions in the WHERE clause. You can use HAVING clause instead.\n",
    "    ``` sql\n",
    "    SELECT department_id, AVG(salary) FROM employees WHERE AVG(salary) > 50000; -- Error\n",
    "    SELECT department_id, AVG(salary) FROM employees GROUP BY department_id HAVING AVG(salary) > 50000;\n",
    "    ```"
   ]
  }
 ],
 "metadata": {
  "language_info": {
   "name": "python"
  }
 },
 "nbformat": 4,
 "nbformat_minor": 2
}

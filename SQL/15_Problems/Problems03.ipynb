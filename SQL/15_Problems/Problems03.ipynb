{
 "cells": [
  {
   "cell_type": "markdown",
   "metadata": {},
   "source": [
    "# **Q 01**\n",
    "Find all the authors that viewed at least one of their own articles.[Link](https://leetcode.com/problems/article-views-i/description/?envType=study-plan-v2&envId=top-sql-50)\n",
    "\n",
    "**Solution:**\n",
    "``` sql\n",
    "SELECT DISTINCT(author_id) AS id FROM Views\n",
    "WHERE author_id = viewer_id \n",
    "ORDER BY id;\n",
    "```\n",
    "<hr>"
   ]
  },
  {
   "cell_type": "markdown",
   "metadata": {},
   "source": [
    "# **Q 02**\n",
    "Project employees average experience.[Link](https://leetcode.com/problems/project-employees-i/description/?envType=study-plan-v2&envId=top-sql-50)\n",
    "\n",
    "**Solution:**\n",
    "``` sql\n",
    "SELECT p.project_id, \n",
    "ROUND(AVG(e.experience_years),2) AS average_years\n",
    "FROM Project p \n",
    "JOIN Employee e\n",
    "ON p.employee_id = e.employee_id\n",
    "GROUP BY p.project_id\n",
    "```\n",
    "<hr>"
   ]
  },
  {
   "cell_type": "markdown",
   "metadata": {},
   "source": [
    "# **Q 03**\n",
    "Average time of process per Machine. [Link](https://leetcode.com/problems/average-time-of-process-per-machine/?envType=study-plan-v2&envId=top-sql-50)\n",
    "\n",
    "**Solution:**\n",
    "``` sql\n",
    "SELECT a1.machine_id,\n",
    "ROUND(SUM(a2.timestamp - a1.timestamp)/ COUNT(*),3) AS processing_time\n",
    "FROM activity a1\n",
    "JOIN activity a2\n",
    "ON a1.machine_id = a2.machine_id\n",
    "AND a1.process_id = a2.process_id\n",
    "AND a1.activity_type = 'start'\n",
    "AND a2.activity_type = 'end'\n",
    "GROUP BY a1.machine_id\n",
    "```\n",
    "<hr>"
   ]
  },
  {
   "cell_type": "markdown",
   "metadata": {},
   "source": []
  }
 ],
 "metadata": {
  "language_info": {
   "name": "python"
  }
 },
 "nbformat": 4,
 "nbformat_minor": 2
}

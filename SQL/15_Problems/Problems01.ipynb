{
 "cells": [
  {
   "cell_type": "markdown",
   "metadata": {},
   "source": [
    "# Q01\n",
    "Select all columns of Japanese cities. [Link](https://www.hackerrank.com/challenges/japanese-cities-attributes/problem?isFullScreen=true)\n",
    "\n",
    "```sql\n",
    "SELECT * FROM city WHERE countrycode = 'JPN';\n",
    "```\n",
    "<hr>\n"
   ]
  },
  {
   "cell_type": "markdown",
   "metadata": {},
   "source": [
    "# Q02\n",
    "Query the NAME field for all American cities in the CITY table with populations larger than 120000. The CountryCode for America is USA. [Link](https://www.hackerrank.com/challenges/revising-the-select-query-2/problem?isFullScreen=true)\n",
    "\n",
    "Solution:\n",
    "```sql\n",
    "    SELECT name FROM city WHERE countrycode = 'USA' AND population > 120000;\n",
    "```\n",
    "<hr>"
   ]
  },
  {
   "cell_type": "markdown",
   "metadata": {},
   "source": [
    "# Q03\n",
    "Query a list of CITY names from STATION for cities that have an even ID number. Print the results in any order, but exclude duplicates from the answer. [Link](https://www.hackerrank.com/challenges/weather-observation-station-3/problem?isFullScreen=true)\n",
    "\n",
    "Solution:\n",
    "```sql\n",
    "    SELECT DISTINCT(city) FROM station WHERE id % 2 = 0;\n",
    "```\n",
    "<hr>"
   ]
  },
  {
   "cell_type": "markdown",
   "metadata": {},
   "source": [
    "# Q04\n",
    "Find the difference between unique cities and total number of cities. [Link](https://www.hackerrank.com/challenges/weather-observation-station-4/problem?isFullScreen=true)\n",
    "\n",
    "Solution:\n",
    "```sql\n",
    "    SELECT COUNT(city) - COUNT(DISTINCT(city)) FROM station;\n",
    "```\n",
    "<hr>"
   ]
  },
  {
   "cell_type": "markdown",
   "metadata": {},
   "source": [
    "# Q 05\n",
    "**Triangle Type**: Write a query identifying the type of each record in the TRIANGLES table using its three side lengths. [Link](https://www.hackerrank.com/challenges/what-type-of-triangle/problem?isFullScreen=true)\n",
    "\n",
    "Solution:\n",
    "```sql\n",
    "    SELECT CASE\n",
    "        WHEN A + B <= C OR A + C <= B OR B + C <= A THEN 'Not A Triangle'\n",
    "        WHEN A = B AND B = C THEN 'Equilateral'\n",
    "        WHEN A = B OR B = C OR A = C THEN 'Isosceles'\n",
    "        ELSE 'Scalene'\n",
    "    END\n",
    "    FROM TRIANGLES;\n",
    "```\n",
    "<hr>"
   ]
  },
  {
   "cell_type": "markdown",
   "metadata": {},
   "source": [
    "# Q 06\n",
    "Names with their occupations and their count. [Link](https://www.hackerrank.com/challenges/the-pads/problem?isFullScreen=true)\n",
    "\n",
    "Solution:\n",
    "```sql\n",
    "    SELECT CONCAT(Name, '(', SUBSTRING(Occupation, 1, 1), ')') AS NameWithInitial\n",
    "    FROM OCCUPATIONS\n",
    "    ORDER BY Name;\n",
    "\n",
    "    SELECT CONCAT('There are a total of ', COUNT(*), ' ', LOWER(Occupation), 's.') AS OccupationCount\n",
    "    FROM OCCUPATIONS\n",
    "    GROUP BY Occupation\n",
    "    ORDER BY COUNT(*), Occupation;\n",
    "```\n",
    "<hr>"
   ]
  },
  {
   "cell_type": "markdown",
   "metadata": {},
   "source": [
    "# Q 07\n",
    "Maximum employee salary and their count. [Link](https://www.hackerrank.com/challenges/earnings-of-employees/problem?isFullScreen=true)\n",
    "\n",
    "Solution:\n",
    "We can solve this question using the group by as well as sub queries.\n",
    "```sql\n",
    "    SELECT (months * salary) AS earnings, COUNT(months*salary) FROM Employee GROUP BY (months * salary) ORDER BY earnings DESC limit 1;\n",
    "```\n",
    "<hr>"
   ]
  }
 ],
 "metadata": {
  "language_info": {
   "name": "python"
  }
 },
 "nbformat": 4,
 "nbformat_minor": 2
}

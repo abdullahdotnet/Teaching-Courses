{
 "cells": [
  {
   "cell_type": "markdown",
   "metadata": {},
   "source": [
    "# Insert into select statement"
   ]
  },
  {
   "cell_type": "markdown",
   "metadata": {},
   "source": [
    "The `INSERT INTO SELECT` statement copies data from one table and inserts it into another table. The source table can be a table, view, or a subquery. The `INSERT INTO SELECT` statement requires that the data types in source and target tables match. The existing records in the target table are unaffected."
   ]
  },
  {
   "cell_type": "markdown",
   "metadata": {},
   "source": [
    "## Syntax\n",
    "\n",
    "The basic syntax of the `INSERT INTO SELECT` statement is as follows:\n",
    "\n",
    "```sql\n",
    "INSERT INTO target_table (column1, column2, ...)\n",
    "SELECT column1, column2, ...\n",
    "FROM source_table;\n",
    "```"
   ]
  },
  {
   "cell_type": "markdown",
   "metadata": {},
   "source": [
    "For example, the following SQL statement copies data from the `customers` table into the `new_customers` table:\n",
    "\n",
    "```sql\n",
    "INSERT INTO new_customers (name, email)\n",
    "SELECT first_name, email\n",
    "FROM customers;\n",
    "```"
   ]
  }
 ],
 "metadata": {
  "language_info": {
   "name": "python"
  }
 },
 "nbformat": 4,
 "nbformat_minor": 2
}

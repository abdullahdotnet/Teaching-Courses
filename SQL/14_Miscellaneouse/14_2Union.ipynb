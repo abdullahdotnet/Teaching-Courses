{
 "cells": [
  {
   "cell_type": "markdown",
   "metadata": {},
   "source": [
    "# Union in MySQL"
   ]
  },
  {
   "cell_type": "markdown",
   "metadata": {},
   "source": [
    "Union is a set operation in SQL that allows you to combine the results of two or more queries into a single result set. The result set of a union query contains all the rows that are returned by the individual queries.\n",
    "\n",
    "The syntax for the union operation is as follows:\n",
    "\n",
    "```sql\n",
    "SELECT column1, column2, ...\n",
    "FROM table1\n",
    "UNION\n",
    "SELECT column1, column2, ...\n",
    "FROM table2;\n",
    "```\n",
    "\n",
    "The union operation removes duplicate rows from the result set. If you want to include duplicate rows, you can use the `UNION ALL` operator.\n",
    "\n",
    "In this notebook, we'll explore how to use the union operation in MySQL to combine the results of two or more queries."
   ]
  },
  {
   "cell_type": "markdown",
   "metadata": {},
   "source": [
    "## Examples\n",
    " - Select id, names and cities of all the customers and suppliers from super_store database.\n",
    " - Select all the distinct cities from the customers and suppliers tables.\n",
    " - Select all the distinct cities from the customers and suppliers tables and sort them in ascending order.\n"
   ]
  },
  {
   "cell_type": "markdown",
   "metadata": {},
   "source": [
    "## Important point\n",
    " - The number of columns and their data types must be the same in all the queries that are combined using the union operation.\n",
    "    "
   ]
  },
  {
   "cell_type": "markdown",
   "metadata": {},
   "source": []
  }
 ],
 "metadata": {
  "language_info": {
   "name": "python"
  }
 },
 "nbformat": 4,
 "nbformat_minor": 2
}

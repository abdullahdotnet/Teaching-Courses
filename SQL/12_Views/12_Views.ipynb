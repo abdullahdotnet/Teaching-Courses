{
 "cells": [
  {
   "cell_type": "markdown",
   "metadata": {},
   "source": [
    "# Views in MySQL"
   ]
  },
  {
   "cell_type": "markdown",
   "metadata": {},
   "source": [
    "In MySQL, a view is a virtual table based on the result-set of an SQL statement. A view contains rows and columns, just like a real table. The fields in a view are fields from one or more real tables in the database."
   ]
  },
  {
   "cell_type": "markdown",
   "metadata": {},
   "source": [
    "## Benefits of Views\n",
    "\n",
    "1. **Security**: Views can be used to restrict access to specific columns of a table. For example, you can create a view that only shows the `name` and `email` columns of a table, and then grant users access to the view without giving them access to the underlying table.\n",
    "\n",
    "2. **Simplicity**: Views can be used to simplify complex queries. For example, you can create a view that joins multiple tables together, and then query the view instead of writing the join query every time."
   ]
  },
  {
   "cell_type": "markdown",
   "metadata": {},
   "source": [
    "## Creating a View\n",
    "A view is created with the `CREATE VIEW` statement. The following is the basic syntax of the CREATE VIEW statement:\n",
    "``` sql\n",
    "CREATE VIEW view_name AS\n",
    "SELECT column1, column2, ...\n",
    "FROM table_name\n",
    "WHERE condition;\n",
    "```\n",
    "\n",
    "For example, the following statement creates a view named `customer_list` that contains the `id`, `first_name`, `email`, and `city` columns from the `customers` table:\n",
    "``` sql\n",
    "CREATE VIEW customer_list AS\n",
    "SELECT id, first_name, email, city\n",
    "FROM customers;\n",
    "```"
   ]
  },
  {
   "cell_type": "markdown",
   "metadata": {},
   "source": [
    "## Querying a View\n",
    "Once a view is created, you can query it like a table. For example, the following statement retrieves all rows from the `customer_list` view:\n",
    "``` sql\n",
    "SELECT * FROM customer_list;\n",
    "```\n",
    "\n",
    "**NOTE:** If you update the data in the underlying tables, the data in the view will also change. This is because the view is just a window into the underlying tables.\n",
    "When you query a view, MySQL internally executes the query that defines the view and returns the result to you. Therefore, you can think of a view as a stored query that you can query like a table.\n",
    "\n"
   ]
  },
  {
   "cell_type": "markdown",
   "metadata": {},
   "source": [
    "## Updating a View\n",
    "You can update the definition of a view using the `CREATE OR REPLACE VIEW` statement. For example, the following statement updates the definition of the `customer_list` view to include the `last_name` column:\n",
    "``` sql\n",
    "CREATE OR REPLACE VIEW customer_list AS\n",
    "SELECT id, first_name, last_name, email, city\n",
    "FROM customers;\n",
    "```\n",
    "\n",
    "**NOTE:** `CREATE OR REPLACE VIEW` statement will create the view if it does not exist, or replace the existing view if it does exist.\n"
   ]
  },
  {
   "cell_type": "markdown",
   "metadata": {},
   "source": [
    "## Questions\n",
    " - Create a view named `employee_info` that contains the employee_id, first_name, gender, and salary columns from the employee_demographics and employee_salary tables. (use test03 database)\n",
    "\n",
    " - Create a view named `customers_spending` that contains the customer id, first_name, last_name, and total_spending columns from the customers and orders tables. (use super_store database)\n"
   ]
  },
  {
   "cell_type": "markdown",
   "metadata": {},
   "source": [
    "## Dropping a View\n",
    "You can drop a view using the `DROP VIEW` statement. For example, the following statement drops the `customer_list` view:\n",
    "``` sql\n",
    "DROP VIEW customer_list;\n",
    "```"
   ]
  },
  {
   "cell_type": "markdown",
   "metadata": {},
   "source": [
    "## Updateable Views\n",
    "In MySQL, you can create updateable views that allow you to modify the data in the underlying tables through the view. But not all views are updateable. A view is updateable if it meets the criteria listed in the [MySQL documentation](https://dev.mysql.com/doc/refman/8.4/en/view-updatability.html#:~:text=MySQL%20sets%20a%20flag%2C%20called,set%20to%20NO%20(false).).\n",
    "\n",
    "If a view is updateable, you can use the `INSERT`, `UPDATE`, and `DELETE` statements to modify the data in the underlying tables through the view.\n",
    "\n",
    "For example you can update the `customer_info` view using the following `UPDATE` statement:\n",
    "``` sql\n",
    "UPDATE customer_info\n",
    "SET city = 'New York'\n",
    "WHERE id = 1;\n",
    "```\n",
    "\n",
    "This statement will also update the `customers` table because the `customer_info` view is based on the `customers` table."
   ]
  }
 ],
 "metadata": {
  "language_info": {
   "name": "python"
  }
 },
 "nbformat": 4,
 "nbformat_minor": 2
}

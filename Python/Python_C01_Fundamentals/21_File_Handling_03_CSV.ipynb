{
 "cells": [
  {
   "cell_type": "markdown",
   "id": "d21d41aa-7479-4023-89c0-74e100e3df5e",
   "metadata": {},
   "source": [
    "# File Handling (Part 03) - CSV files"
   ]
  },
  {
   "attachments": {},
   "cell_type": "markdown",
   "id": "05ba384a-5da8-4eab-9c0f-7c32079ce0ce",
   "metadata": {},
   "source": [
    "## What is CSV? \n",
    "CSV (Comma Separated Values) is a simple file format used to store tabular data, such as a spreadsheet or database. CSV files contain data in a structured way such that each item or attribute is separated by a comma, and each record is on a new line of the file. CSV (Comma Separated Values) format is the most common import and export format for spreadsheets and databases. You can simply write them in a text editor but write the extension `.csv` instead of `.txt`. For example, data for a CSV file can look like:"
   ]
  },
  {
   "cell_type": "raw",
   "id": "4fde00d4-961d-486b-8c03-c7b72050cfdf",
   "metadata": {},
   "source": [
    "Player name, Player score\n",
    "DinoFish,0\n",
    "SharkDragon,2\n",
    "TeaDrinker,8"
   ]
  },
  {
   "cell_type": "markdown",
   "id": "ec1aa244-6d9a-4533-a7fa-6a5b27cdc92f",
   "metadata": {},
   "source": [
    "If you open a csv file in a text editor like notepad etc, then you will see the data like in the above cell. But you can open a csv file in MS Excel as well and it will show you in a proper format."
   ]
  },
  {
   "cell_type": "markdown",
   "id": "beddb1cc-337e-4be0-a2eb-f766bcdbed54",
   "metadata": {},
   "source": [
    "### Working with CSVs\n",
    "We can read and write in csv files using simple file handling modes and techniques that we have learned so far but there is a built in csv module in Python that will make the things easier. So we will be using that module."
   ]
  },
  {
   "cell_type": "code",
   "execution_count": 3,
   "id": "1696dc56-2d2f-4dfa-aa4d-ba24501ae5bb",
   "metadata": {},
   "outputs": [],
   "source": [
    "# Writing using simple write mode\n",
    "data = [\n",
    "    ['Name', 'Age', 'City'],\n",
    "    ['Alice', '25', 'New York'],\n",
    "    ['Bob', '30', 'San Francisco']\n",
    "]\n",
    "\n",
    "with open('21_candidates.csv', 'w') as file:\n",
    "    for row in data:\n",
    "        file.write(','.join(row) + '\\n')"
   ]
  },
  {
   "cell_type": "code",
   "execution_count": 4,
   "id": "31cff1b2-6403-4382-9e5a-7bed3b6c8a82",
   "metadata": {},
   "outputs": [
    {
     "name": "stdout",
     "output_type": "stream",
     "text": [
      "['Name', 'Age', 'City']\n",
      "['Alice', '25', 'New York']\n",
      "['Bob', '30', 'San Francisco']\n"
     ]
    }
   ],
   "source": [
    "# Reading using simple read mode\n",
    "with open('21_candidates.csv', 'r') as file:\n",
    "    lines = file.readlines()\n",
    "    for line in lines:\n",
    "        print(line.strip().split(','))"
   ]
  },
  {
   "cell_type": "markdown",
   "id": "3e8a2a8f-cdfe-45fa-a81b-098ce8a7ce60",
   "metadata": {},
   "source": [
    "### Using CSV Module\n",
    "1. **Reading**  \n",
    "   `reader`: This function takes a file object and returns a reader object that iterates over the lines of the file as lists."
   ]
  },
  {
   "cell_type": "code",
   "execution_count": 5,
   "id": "3f297346-3f83-4a2e-8a07-a2a90387dab6",
   "metadata": {},
   "outputs": [],
   "source": [
    "import csv"
   ]
  },
  {
   "cell_type": "code",
   "execution_count": 6,
   "id": "1faeb47c-0bf5-43fa-a3a0-51e05feba3f6",
   "metadata": {},
   "outputs": [
    {
     "name": "stdout",
     "output_type": "stream",
     "text": [
      "['Size', 'Abbreviated Size']\n",
      "['Extra Small', 'XS']\n",
      "['Small', 'S']\n",
      "['Medium', 'M']\n",
      "['Large', 'L']\n",
      "['Extra Large', 'XL']\n"
     ]
    }
   ],
   "source": [
    "with open(\"21_size.csv\", \"r\") as file:\n",
    "    reader = csv.reader(file)\n",
    "    for row in reader:\n",
    "        print(row)"
   ]
  },
  {
   "cell_type": "markdown",
   "id": "b6e18e6e-8df5-462f-bfcb-683b586c18b5",
   "metadata": {},
   "source": [
    "`DictReader`: This class takes a file object and returns a DictReader object that iterates over the lines of the file as dictionaries, where each key is a header and each value is the corresponding data."
   ]
  },
  {
   "cell_type": "code",
   "execution_count": 7,
   "id": "05492318-1747-4a87-b549-77df2129c33a",
   "metadata": {},
   "outputs": [
    {
     "name": "stdout",
     "output_type": "stream",
     "text": [
      "{'Size': 'Extra Small', 'Abbreviated Size': 'XS'}\n",
      "{'Size': 'Small', 'Abbreviated Size': 'S'}\n",
      "{'Size': 'Medium', 'Abbreviated Size': 'M'}\n",
      "{'Size': 'Large', 'Abbreviated Size': 'L'}\n",
      "{'Size': 'Extra Large', 'Abbreviated Size': 'XL'}\n"
     ]
    }
   ],
   "source": [
    "with open(\"21_size.csv\", \"r\") as file:\n",
    "    reader = csv.DictReader(file)\n",
    "    for row in reader:\n",
    "        print(row)"
   ]
  },
  {
   "cell_type": "markdown",
   "id": "4358bd59-6051-45d3-8748-f8638fcb09d4",
   "metadata": {},
   "source": [
    "2. **Writing**  \n",
    "   `writer`: Like the simple write example, this function creates a writer object that allows writing rows to the file."
   ]
  },
  {
   "cell_type": "code",
   "execution_count": 8,
   "id": "b32781dc-1af4-4308-a61b-ef5abcd52ded",
   "metadata": {},
   "outputs": [],
   "source": [
    "data = [\n",
    "    ['Product', 'Price', 'Quantity'],\n",
    "    ['Laptop', 1200.50, 5],\n",
    "    ['Mouse', 19.99, 20],\n",
    "    ['Monitor', 299.99, 3],\n",
    "    ['Headphones', 89.95, 10]\n",
    "]\n",
    "with open('21_inventory.csv', 'w') as file:     # newline='' will handle the extra CR\n",
    "    csv_writer = csv.writer(file)\n",
    "    # Write header row\n",
    "    csv_writer.writerow(data[0])\n",
    "    # Write data rows\n",
    "    csv_writer.writerows(data[1:])"
   ]
  },
  {
   "cell_type": "code",
   "execution_count": 9,
   "id": "dd3ecd10-a858-4f39-a813-76211b446c79",
   "metadata": {},
   "outputs": [],
   "source": [
    "with open('21_inventory.csv', 'w',newline='') as file:    # newline='' sets the uniform CRLF for all plateforms\n",
    "    csv_writer = csv.writer(file)\n",
    "    csv_writer.writerow(data[0])\n",
    "    # Write data rows\n",
    "    csv_writer.writerows(data[1:])"
   ]
  },
  {
   "cell_type": "markdown",
   "id": "6b1294f4-d027-495d-8cc4-20ba3a45c30a",
   "metadata": {},
   "source": [
    "`DictWriter`: Similar to DictReader, this class creates a writer object that writes data as dictionaries.n"
   ]
  },
  {
   "cell_type": "code",
   "execution_count": 10,
   "id": "708af396-8d4f-4215-8990-ed62618ff0a2",
   "metadata": {},
   "outputs": [],
   "source": [
    "# Writing data to a CSV file using DictWriter\n",
    "data = [\n",
    "    {'Product': 'Laptop', 'Price': 1200.50, 'Quantity': 5},\n",
    "    {'Product': 'Mouse', 'Price': 19.99, 'Quantity': 20},\n",
    "    {'Product': 'Monitor', 'Price': 299.99, 'Quantity': 3},\n",
    "    {'Product': 'Headphones', 'Price': 89.95, 'Quantity': 10}\n",
    "]\n",
    "\n",
    "inventory_columns = ['Product', 'Price', 'Quantity']\n",
    "\n",
    "with open('21_inventory.csv', 'w', newline='') as file:\n",
    "    csv_writer = csv.DictWriter(file, fieldnames=inventory_columns)\n",
    "    \n",
    "    # Write header row\n",
    "    csv_writer.writeheader()\n",
    "    \n",
    "    # Write data rows\n",
    "    csv_writer.writerows(data)\n"
   ]
  },
  {
   "cell_type": "markdown",
   "id": "8357821d-dd6d-4a80-962a-7bb308d1d281",
   "metadata": {},
   "source": [
    "### Accessing specific rows and columns"
   ]
  },
  {
   "cell_type": "code",
   "execution_count": 11,
   "id": "98484a5c-c0e8-4d56-8c8e-e732b4d42e82",
   "metadata": {},
   "outputs": [
    {
     "name": "stdout",
     "output_type": "stream",
     "text": [
      "Price of Monitor: $299.99\n",
      "Quantity of Monitor: $3\n"
     ]
    }
   ],
   "source": [
    "# 1. Accessing the price and quantity of monitor\n",
    "with open(\"21_inventory.csv\", \"r\") as file:\n",
    "    # Create a reader object\n",
    "    reader = csv.DictReader(file)\n",
    "\n",
    "    # Find the row for the desired product\n",
    "    for row in reader:\n",
    "        if row[\"Product\"] == \"Monitor\":\n",
    "            price = row[\"Price\"]\n",
    "            quantity = row['Quantity']\n",
    "            break\n",
    "\n",
    "    print(f\"Price of Monitor: ${price}\")\n",
    "    print(f\"Quantity of Monitor: ${quantity}\")"
   ]
  },
  {
   "cell_type": "code",
   "execution_count": 12,
   "id": "70d82211-7c2f-4ea3-b236-490955b216c1",
   "metadata": {},
   "outputs": [
    {
     "name": "stdout",
     "output_type": "stream",
     "text": [
      "Total Quantity: 38\n"
     ]
    }
   ],
   "source": [
    "# 2. Accessing total quantity of all items:\n",
    "with open(\"21_inventory.csv\", \"r\") as file:\n",
    "    # Create a reader object\n",
    "    reader = csv.reader(file)\n",
    "\n",
    "    # Skip the header row\n",
    "    next(reader)\n",
    "\n",
    "    # Total quantity\n",
    "    total_quantity = 0\n",
    "    for row in reader:\n",
    "        quantity = int(row[2])\n",
    "        total_quantity += quantity\n",
    "\n",
    "    # Print the total quantity\n",
    "    print(f\"Total Quantity: {total_quantity}\")"
   ]
  },
  {
   "cell_type": "code",
   "execution_count": 13,
   "id": "be5855c4-b18b-496c-a357-0ffbe09adc21",
   "metadata": {},
   "outputs": [
    {
     "name": "stdout",
     "output_type": "stream",
     "text": [
      "Average Price: $215.83605263157895\n"
     ]
    }
   ],
   "source": [
    "# 3. Accessing average price of all items:\n",
    "with open(\"21_inventory.csv\", \"r\") as file:\n",
    "    # Create a reader object\n",
    "    reader = csv.reader(file)\n",
    "\n",
    "    # Skip the header row\n",
    "    next(reader)\n",
    "\n",
    "    # Total price and quantity\n",
    "    total_price = 0\n",
    "    total_quantity = 0\n",
    "    for row in reader:\n",
    "        price = float(row[1])\n",
    "        quantity = int(row[2])\n",
    "        total_price += price * quantity\n",
    "        total_quantity += quantity\n",
    "\n",
    "    # Calculate the average price\n",
    "    average_price = total_price / total_quantity\n",
    "\n",
    "    # Print the average price\n",
    "    print(f\"Average Price: ${average_price}\")"
   ]
  },
  {
   "cell_type": "markdown",
   "id": "500561ff",
   "metadata": {},
   "source": [
    "# File Handling using Pandas\n",
    "Pandas is a very useful library and it is very extensively used for data analysis and data science. But we will see only the file handling part of it. We can read and write csv files using pandas as well. We can also access specific rows and columns using pandas. Here is the command for installing pandas:  \n",
    "`pip install pandas`"
   ]
  },
  {
   "cell_type": "code",
   "execution_count": 14,
   "id": "8ee42ca1",
   "metadata": {},
   "outputs": [
    {
     "name": "stderr",
     "output_type": "stream",
     "text": [
      "C:\\Users\\Zubair\\AppData\\Local\\Temp\\ipykernel_6676\\2039197250.py:2: DeprecationWarning: \n",
      "Pyarrow will become a required dependency of pandas in the next major release of pandas (pandas 3.0),\n",
      "(to allow more performant data types, such as the Arrow string type, and better interoperability with other libraries)\n",
      "but was not found to be installed on your system.\n",
      "If this would cause problems for you,\n",
      "please provide us feedback at https://github.com/pandas-dev/pandas/issues/54466\n",
      "        \n",
      "  import pandas as pd\n"
     ]
    }
   ],
   "source": [
    "# Importing the library\n",
    "import pandas as pd"
   ]
  },
  {
   "cell_type": "markdown",
   "id": "312c293d",
   "metadata": {},
   "source": [
    "## Reading and Writing using Pandas\n",
    "To read data from a file, we can use a function from pandas called `read_csv`. This function reads the data from a csv file and returns a DataFrame object. We can also write data to a csv file using the `to_csv` function. We can also access specific rows and columns using pandas."
   ]
  },
  {
   "cell_type": "code",
   "execution_count": 15,
   "id": "85a335b0",
   "metadata": {},
   "outputs": [
    {
     "data": {
      "text/html": [
       "<div>\n",
       "<style scoped>\n",
       "    .dataframe tbody tr th:only-of-type {\n",
       "        vertical-align: middle;\n",
       "    }\n",
       "\n",
       "    .dataframe tbody tr th {\n",
       "        vertical-align: top;\n",
       "    }\n",
       "\n",
       "    .dataframe thead th {\n",
       "        text-align: right;\n",
       "    }\n",
       "</style>\n",
       "<table border=\"1\" class=\"dataframe\">\n",
       "  <thead>\n",
       "    <tr style=\"text-align: right;\">\n",
       "      <th></th>\n",
       "      <th>Product</th>\n",
       "      <th>Price</th>\n",
       "      <th>Quantity</th>\n",
       "    </tr>\n",
       "  </thead>\n",
       "  <tbody>\n",
       "    <tr>\n",
       "      <th>0</th>\n",
       "      <td>Laptop</td>\n",
       "      <td>1200.50</td>\n",
       "      <td>5</td>\n",
       "    </tr>\n",
       "    <tr>\n",
       "      <th>1</th>\n",
       "      <td>Mouse</td>\n",
       "      <td>19.99</td>\n",
       "      <td>20</td>\n",
       "    </tr>\n",
       "    <tr>\n",
       "      <th>2</th>\n",
       "      <td>Monitor</td>\n",
       "      <td>299.99</td>\n",
       "      <td>3</td>\n",
       "    </tr>\n",
       "    <tr>\n",
       "      <th>3</th>\n",
       "      <td>Headphones</td>\n",
       "      <td>89.95</td>\n",
       "      <td>10</td>\n",
       "    </tr>\n",
       "  </tbody>\n",
       "</table>\n",
       "</div>"
      ],
      "text/plain": [
       "      Product    Price  Quantity\n",
       "0      Laptop  1200.50         5\n",
       "1       Mouse    19.99        20\n",
       "2     Monitor   299.99         3\n",
       "3  Headphones    89.95        10"
      ]
     },
     "execution_count": 15,
     "metadata": {},
     "output_type": "execute_result"
    }
   ],
   "source": [
    "data_frame = pd.read_csv(\"21_inventory.csv\")\n",
    "data_frame"
   ]
  },
  {
   "cell_type": "code",
   "execution_count": 16,
   "id": "8480c2d7",
   "metadata": {},
   "outputs": [
    {
     "data": {
      "text/plain": [
       "0        Laptop\n",
       "1         Mouse\n",
       "2       Monitor\n",
       "3    Headphones\n",
       "Name: Product, dtype: object"
      ]
     },
     "execution_count": 16,
     "metadata": {},
     "output_type": "execute_result"
    }
   ],
   "source": [
    "data_frame['Product']"
   ]
  },
  {
   "cell_type": "code",
   "execution_count": 17,
   "id": "2e74c7d6",
   "metadata": {},
   "outputs": [
    {
     "data": {
      "text/html": [
       "<div>\n",
       "<style scoped>\n",
       "    .dataframe tbody tr th:only-of-type {\n",
       "        vertical-align: middle;\n",
       "    }\n",
       "\n",
       "    .dataframe tbody tr th {\n",
       "        vertical-align: top;\n",
       "    }\n",
       "\n",
       "    .dataframe thead th {\n",
       "        text-align: right;\n",
       "    }\n",
       "</style>\n",
       "<table border=\"1\" class=\"dataframe\">\n",
       "  <thead>\n",
       "    <tr style=\"text-align: right;\">\n",
       "      <th></th>\n",
       "      <th>Product</th>\n",
       "      <th>Price</th>\n",
       "      <th>Quantity</th>\n",
       "    </tr>\n",
       "  </thead>\n",
       "  <tbody>\n",
       "    <tr>\n",
       "      <th>2</th>\n",
       "      <td>Monitor</td>\n",
       "      <td>299.99</td>\n",
       "      <td>3</td>\n",
       "    </tr>\n",
       "  </tbody>\n",
       "</table>\n",
       "</div>"
      ],
      "text/plain": [
       "   Product   Price  Quantity\n",
       "2  Monitor  299.99         3"
      ]
     },
     "execution_count": 17,
     "metadata": {},
     "output_type": "execute_result"
    }
   ],
   "source": [
    "# Accessing the price and quantity of monitor\n",
    "monitor = data_frame[data_frame['Product'] == 'Monitor']\n",
    "monitor"
   ]
  },
  {
   "cell_type": "code",
   "execution_count": 18,
   "id": "868678d3",
   "metadata": {},
   "outputs": [
    {
     "data": {
      "text/plain": [
       "2    299.99\n",
       "Name: Price, dtype: float64"
      ]
     },
     "execution_count": 18,
     "metadata": {},
     "output_type": "execute_result"
    }
   ],
   "source": [
    "monitor['Price']"
   ]
  },
  {
   "cell_type": "code",
   "execution_count": 19,
   "id": "4cd78d32",
   "metadata": {},
   "outputs": [
    {
     "data": {
      "text/plain": [
       "215.83605263157895"
      ]
     },
     "execution_count": 19,
     "metadata": {},
     "output_type": "execute_result"
    }
   ],
   "source": [
    "# Accessing average price of all items\n",
    "total = (data_frame['Price']*data_frame['Quantity']).sum()\n",
    "average_price = total / data_frame['Quantity'].sum()\n",
    "average_price"
   ]
  }
 ],
 "metadata": {
  "kernelspec": {
   "display_name": "Python 3",
   "language": "python",
   "name": "python3"
  },
  "language_info": {
   "codemirror_mode": {
    "name": "ipython",
    "version": 3
   },
   "file_extension": ".py",
   "mimetype": "text/x-python",
   "name": "python",
   "nbconvert_exporter": "python",
   "pygments_lexer": "ipython3",
   "version": "3.12.2"
  }
 },
 "nbformat": 4,
 "nbformat_minor": 5
}

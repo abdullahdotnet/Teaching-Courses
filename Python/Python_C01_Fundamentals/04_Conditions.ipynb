{
 "cells": [
  {
   "cell_type": "markdown",
   "id": "ead7f7f1-8c24-44b6-920a-d38d9eba09c0",
   "metadata": {},
   "source": [
    "# Conditional Statements"
   ]
  },
  {
   "cell_type": "markdown",
   "id": "deba6a78-01c7-4dc4-b4dc-c19dc0593307",
   "metadata": {},
   "source": [
    "Conditional Statements allow you to run a specific block of code when certain conditions are true or false in your program.  \n",
    "There are three conditional structures in Python:  \n",
    "1. if\n",
    "2. else\n",
    "3. elif"
   ]
  },
  {
   "cell_type": "code",
   "execution_count": 10,
   "id": "4f551e38-092d-428b-9f02-e3435a558119",
   "metadata": {},
   "outputs": [
    {
     "name": "stdin",
     "output_type": "stream",
     "text": [
      "Enter the num  2\n"
     ]
    },
    {
     "name": "stdout",
     "output_type": "stream",
     "text": [
      "Number is positive\n"
     ]
    }
   ],
   "source": [
    "# Check if the number is positive or negative; (input())\n",
    "num = int(input(\"Enter the num \"))\n",
    "# num = 34\n",
    "if num < 0:\n",
    "    print(\"Number is negative\")    # spaces on left side is called indentation\n",
    "# print(\"Doing good\")\n",
    "else:\n",
    "    print(\"Number is positive\")\n"
   ]
  },
  {
   "cell_type": "code",
   "execution_count": 11,
   "id": "e122d25b-1a32-4c52-ac77-17372ac36a53",
   "metadata": {},
   "outputs": [
    {
     "name": "stdin",
     "output_type": "stream",
     "text": [
      " 34\n"
     ]
    },
    {
     "name": "stdout",
     "output_type": "stream",
     "text": [
      "You can get the liscense\n",
      "Program ends\n"
     ]
    }
   ],
   "source": [
    "# Age check entry\n",
    "age = int(input())\n",
    "if age >= 18:\n",
    "    print(\"You can get the liscense\")\n",
    "else:\n",
    "    print(\"Please Wait\")\n",
    "\n",
    "print(\"Program ends\")"
   ]
  },
  {
   "cell_type": "code",
   "execution_count": 14,
   "id": "ab151f96-88d4-4047-a693-71e25003fb40",
   "metadata": {},
   "outputs": [
    {
     "name": "stdin",
     "output_type": "stream",
     "text": [
      "Enter username admin\n",
      "Enter password admin123\n"
     ]
    },
    {
     "name": "stdout",
     "output_type": "stream",
     "text": [
      "Accessed the system\n"
     ]
    }
   ],
   "source": [
    "# username and password check\n",
    "stored_username = 'admin'\n",
    "stored_password = \"admin123\"\n",
    "\n",
    "user_name = input(\"Enter username\")\n",
    "password = input(\"Enter password\")\n",
    "\n",
    "if user_name == stored_username and password == stored_password:\n",
    "    print(\"Accessed the system\")\n",
    "else:\n",
    "    print(\"Wrong username or password\")\n"
   ]
  },
  {
   "cell_type": "code",
   "execution_count": 13,
   "id": "3d511c3d-8795-49d4-8696-e02b20970808",
   "metadata": {},
   "outputs": [
    {
     "name": "stdin",
     "output_type": "stream",
     "text": [
      "Tell us your age:  14\n"
     ]
    },
    {
     "name": "stdout",
     "output_type": "stream",
     "text": [
      "Ticket price for you is 10 dollars\n"
     ]
    }
   ],
   "source": [
    "# Age-based ticket price. 1-12-> 5, 13-40-> 10, 40+ -> 7\n",
    "age = int(input(\"Tell us your age: \"))\n",
    "ticket = 0\n",
    "if age < 12:\n",
    "    ticket = 5\n",
    "if 13 <= age and age < 40:\n",
    "    ticket = 10\n",
    "if age >= 40:\n",
    "    ticket = 7\n",
    "\n",
    "print(\"Ticket price for you is\",ticket,\"dollars\")"
   ]
  },
  {
   "cell_type": "code",
   "execution_count": 18,
   "id": "b56e7e28-0b07-476e-a7fd-003ce5f9f722",
   "metadata": {
    "scrolled": true
   },
   "outputs": [
    {
     "name": "stdin",
     "output_type": "stream",
     "text": [
      "Enter the student's score:  1\n"
     ]
    },
    {
     "name": "stdout",
     "output_type": "stream",
     "text": [
      "The student's grade is F\n"
     ]
    }
   ],
   "source": [
    "# Grad assignment based on scores in exams\n",
    "score = float(input(\"Enter the student's score: \"))\n",
    "\n",
    "if score >= 90:\n",
    "    grade = 'A'\n",
    "if score >= 80:\n",
    "    grade = 'B'\n",
    "if score >= 70:\n",
    "    grade = 'C'\n",
    "if score >= 60:\n",
    "    grade = 'D'\n",
    "else:\n",
    "    grade = 'F'\n",
    "\n",
    "print(\"The student's grade is\",grade)"
   ]
  },
  {
   "cell_type": "code",
   "execution_count": 22,
   "id": "8802e70e-eba4-410a-a98c-7471c3c81142",
   "metadata": {},
   "outputs": [
    {
     "name": "stdout",
     "output_type": "stream",
     "text": [
      "Welcome to the Restaurant!\n",
      "Menu:\n",
      "1. Pizza\n",
      "2. Burger\n",
      "3. Salad\n",
      "4. Pasta\n"
     ]
    },
    {
     "name": "stdin",
     "output_type": "stream",
     "text": [
      "Enter your choice (1/2/3/4):  4\n"
     ]
    },
    {
     "name": "stdout",
     "output_type": "stream",
     "text": [
      "You selected Pasta. That will be $10.00.\n"
     ]
    }
   ],
   "source": [
    "# Select the menu\n",
    "print(\"Welcome to the Restaurant!\")\n",
    "print(\"Menu:\")\n",
    "print(\"1. Pizza\")\n",
    "print(\"2. Burger\")\n",
    "print(\"3. Salad\")\n",
    "print(\"4. Pasta\")\n",
    "\n",
    "choice = int(input(\"Enter your choice (1/2/3/4): \"))\n",
    "\n",
    "if choice == 1:\n",
    "    print(\"You selected Pizza. That will be $12.50.\")\n",
    "if choice == 2:\n",
    "    print(\"You selected Burger. That will be $8.00.\")\n",
    "if choice == 3:\n",
    "    print(\"You selected Salad. That will be $6.00.\")\n",
    "if choice == 4:\n",
    "    print(\"You selected Pasta. That will be $10.00.\")\n",
    "else:\n",
    "    print(\"Invalid choice. Please select a valid option from 1 to 4.\")\n"
   ]
  },
  {
   "cell_type": "code",
   "execution_count": null,
   "id": "1daabee3-ed6d-4a71-bb3d-d21e9555e024",
   "metadata": {},
   "outputs": [],
   "source": []
  }
 ],
 "metadata": {
  "kernelspec": {
   "display_name": "Python 3 (ipykernel)",
   "language": "python",
   "name": "python3"
  },
  "language_info": {
   "codemirror_mode": {
    "name": "ipython",
    "version": 3
   },
   "file_extension": ".py",
   "mimetype": "text/x-python",
   "name": "python",
   "nbconvert_exporter": "python",
   "pygments_lexer": "ipython3",
   "version": "3.11.3"
  }
 },
 "nbformat": 4,
 "nbformat_minor": 5
}

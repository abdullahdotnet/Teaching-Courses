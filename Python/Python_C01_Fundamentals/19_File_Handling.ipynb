{
 "cells": [
  {
   "cell_type": "markdown",
   "id": "e988c6f5-c99d-4f25-95f2-feedd5b7f303",
   "metadata": {},
   "source": [
    "# File Handling\n",
    "File handling means reading and writing data using files. We use files to store data. One reason is that once we close our program, all of the data is lost and when we re-run the program, it starts from the beginning. But we can use files to store data even after the program is closed. We can also manipulate the files using programs. We will be seeing how we can do that using Python. There are many types of file but we can categories them in 2 categories just for our simplicity.\n",
    "1. Text files\n",
    "2. Binary file\n",
    "\n",
    "These types includes many other types of files. But for now, we will only see `Text Files`. File handling also depends on the structure of the file. There are many types of files. You may have seen extensions after the file names like `.xlsx` in Excel files, `.txt` in text files and many more types exist. In our course, we will be covering 2 types of text files:  \n",
    "1. Text Files  \n",
    "2. Comma Separated Values (CSV)\n",
    "\n",
    "Let's see how the file handling works :)"
   ]
  },
  {
   "cell_type": "markdown",
   "id": "c7a7d44c-5170-4461-b732-4b5420e89584",
   "metadata": {},
   "source": [
    "### Working with files\n",
    "To use the file either for reading or writing, we need to open the file in different **`modes`**. For reading, we will open it in the reading mode and for writing, we will use writing mode. Some other modes also exist but we may see it later. After doing our work with the file, it is a good practice to <u>close</u> the file as well so the file can be used for normal functioning. To open a file, we use the `open()` function. The first argument is the file name and the second argument is the file mode in which we want to open it. By default, if we don't mention the mode, it will open in `read` mode. While opening the file, you will also write a variable. We will be using that variable for doing anything with the file. That will be a <u>pointer</u> for the file.  \n",
    "`file_pointer = open('file_name.txt',mode)`  \n",
    "In the above syntax shows how we open the file for reading and writing. `file_pointer` is just a variable. You can write any variable name here but we will be using that variable for all of the operations on that file. Then there is file name as a string. After that there is `mode`. Instead of it, you will write `'r'` for read mode and `'w'` for write mode. There are other modes as well, we may see them later.  \n",
    "After doing your working with files, you should close the file as well.  \n",
    "`file_pointer.close()`  \n",
    "**Important Note:** Whether you read or write data inside the file, you will deal with only **strings**.  \n",
    "Let's see the action!!!!!!"
   ]
  },
  {
   "cell_type": "markdown",
   "id": "e2b83f9f-40e5-48c9-9094-b54f23184cec",
   "metadata": {},
   "source": [
    "### Reading data from file\n",
    "You will use `read()` method for reading data from file. When you freshly opens a file, its pointer is at the start. When you read all the data, your pointer reaches at the end by reading characters one by one. So if you try to after that, it will have no data after that and it will return an empty string."
   ]
  },
  {
   "cell_type": "code",
   "execution_count": null,
   "id": "d57849a0-ff51-4629-9f85-1e6da937ad5e",
   "metadata": {},
   "outputs": [
    {
     "name": "stdout",
     "output_type": "stream",
     "text": [
      "You have done a great progress so far.\n",
      "Keep on working hard. Well done!!\n"
     ]
    }
   ],
   "source": [
    "file = open('19_file01.txt','r')     # Opening the file in read mode\n",
    "data = file.read()     # Reading all the file\n",
    "print(data)"
   ]
  },
  {
   "cell_type": "code",
   "execution_count": null,
   "id": "2a407bc3-e22d-40bf-a9b6-3b19fd6d31ce",
   "metadata": {},
   "outputs": [
    {
     "name": "stdout",
     "output_type": "stream",
     "text": [
      "\n",
      "<class 'str'>\n"
     ]
    }
   ],
   "source": [
    "data0 = file.read()\n",
    "print(data0)\n",
    "print(type(data0))"
   ]
  },
  {
   "cell_type": "code",
   "execution_count": null,
   "id": "3b6f9890-bead-43ee-8ca1-53d618c6aab1",
   "metadata": {},
   "outputs": [],
   "source": [
    "file.close()"
   ]
  },
  {
   "cell_type": "code",
   "execution_count": null,
   "id": "bd8fd384-6864-426c-a7ca-ebb7663b4e35",
   "metadata": {},
   "outputs": [
    {
     "name": "stdout",
     "output_type": "stream",
     "text": [
      "You have d\n",
      "one a great p\n"
     ]
    }
   ],
   "source": [
    "file = open('19_file01.txt')     # Opening the file in read mode, read mode is the default mode\n",
    "data2 = file.read(10)     # Reading 10 characters\n",
    "print(data2)\n",
    "data3 = file.read(13)     # Reading next 13 characters because our pointer is at 10th character due to previous read\n",
    "print(data3)\n",
    "file.close()"
   ]
  },
  {
   "cell_type": "markdown",
   "id": "f5f938ff-8442-4454-a048-beed8f7fa24c",
   "metadata": {},
   "source": [
    "For reading file, file must be present inide the directory or folder otherwise, it will raise an error."
   ]
  },
  {
   "cell_type": "code",
   "execution_count": null,
   "id": "e6ecfff6-d7e3-45db-9aaa-67cef726eaea",
   "metadata": {},
   "outputs": [],
   "source": [
    "# This will raise error\n",
    "# file01 = open(\"just_a_random.txt\",'r')"
   ]
  },
  {
   "cell_type": "markdown",
   "id": "0049fbdc-1c56-4369-b3c7-d5cd946686f8",
   "metadata": {},
   "source": [
    "### Writing inside the file\n",
    "We use `write()` method for writing data inside the file. When you open the file in the write mode, it first removes all the data and then write the new data. If your file is not created yet, it will create the file with th specified name. Otherwise, it simply clears all the data and writes the new content into it."
   ]
  },
  {
   "cell_type": "code",
   "execution_count": null,
   "id": "ff0581b4-d443-4033-a9c3-f5edad9d9a87",
   "metadata": {},
   "outputs": [
    {
     "data": {
      "text/plain": [
       "15"
      ]
     },
     "execution_count": 40,
     "metadata": {},
     "output_type": "execute_result"
    }
   ],
   "source": [
    "file_w = open(\"19_Welcome.txt\",\"w\")\n",
    "file_w.write(\"Welcome to file handling topic.\\n\")    # \\n is just for adding a new line.\n",
    "file_w.write(\"This is really useful. You have to focus on it.\\n\")\n",
    "file_w.write(\"Keep smiling :)\")"
   ]
  },
  {
   "cell_type": "code",
   "execution_count": null,
   "id": "8b172442-17d0-4966-b951-da9f257ffeed",
   "metadata": {},
   "outputs": [],
   "source": [
    "file_w.close()"
   ]
  },
  {
   "cell_type": "code",
   "execution_count": null,
   "id": "0de5e8b7-92d2-43b9-84ac-f6baf784aa5c",
   "metadata": {},
   "outputs": [],
   "source": [
    "# import random         # Import the whole module and then use function from it\n",
    "from random import randint    # Just another way directly import the function from module\n",
    "fw = open(\"19_numbers.txt\",'w')\n",
    "fw.write(\"Following are random numbers.\\n\")\n",
    "for i in range(1000):\n",
    "    fw.write(str(randint(10,10000))+'\\n')\n",
    "# Close the file as well to see the results"
   ]
  },
  {
   "cell_type": "code",
   "execution_count": 60,
   "id": "aab34114-a8d4-4702-bae2-1df0a60e9cd5",
   "metadata": {},
   "outputs": [],
   "source": [
    "fw.close()"
   ]
  },
  {
   "cell_type": "markdown",
   "id": "1f3e6827",
   "metadata": {},
   "source": [
    "## Some other file-handling modes\n",
    "3. Append mode (a)\n",
    "4. Creation mode (x)\n",
    "5. Plus modes (+): `r+`, `w+` and `a+` modes"
   ]
  },
  {
   "cell_type": "markdown",
   "id": "4da6be9e",
   "metadata": {},
   "source": [
    "### 3. Append mode (a)\n",
    "Opens a file for writing and adds new content to the end of the existing content. If the file doesn't exist, it's created. Existing content is never overwritten."
   ]
  },
  {
   "cell_type": "code",
   "execution_count": null,
   "id": "b59ab925",
   "metadata": {},
   "outputs": [],
   "source": [
    "with open(\"20_My_Rumi_Garden.txt\", \"a\") as f:\n",
    "    f.write(\"\\n\\n\")\n",
    "    f.write(\"\"\"In Rumi's garden, where roses bloom,\n",
    "My spirit finds a sacred room.\n",
    "With every whisper, every sigh,\n",
    "My soul ascends, reaching for the sky.\n",
    "\"\"\")"
   ]
  },
  {
   "cell_type": "markdown",
   "id": "1755d0fa",
   "metadata": {},
   "source": [
    "### 4. Create Mode (x)\n",
    "Attempts to create a new file. Fails if the file already exists."
   ]
  },
  {
   "cell_type": "code",
   "execution_count": 1,
   "id": "487c7c11",
   "metadata": {},
   "outputs": [],
   "source": [
    "# Example of x mode\n",
    "file = open(\"20_file01.txt\",'x')    # This will create a new file if it does not exist, otherwise it will raise an error"
   ]
  },
  {
   "cell_type": "code",
   "execution_count": 2,
   "id": "3be902ff",
   "metadata": {},
   "outputs": [
    {
     "ename": "FileExistsError",
     "evalue": "[Errno 17] File exists: '20_file01.txt'",
     "output_type": "error",
     "traceback": [
      "\u001b[1;31m---------------------------------------------------------------------------\u001b[0m",
      "\u001b[1;31mFileExistsError\u001b[0m                           Traceback (most recent call last)",
      "Cell \u001b[1;32mIn[2], line 1\u001b[0m\n\u001b[1;32m----> 1\u001b[0m file \u001b[38;5;241m=\u001b[39m \u001b[38;5;28;43mopen\u001b[39;49m\u001b[43m(\u001b[49m\u001b[38;5;124;43m\"\u001b[39;49m\u001b[38;5;124;43m20_file01.txt\u001b[39;49m\u001b[38;5;124;43m\"\u001b[39;49m\u001b[43m,\u001b[49m\u001b[38;5;124;43m'\u001b[39;49m\u001b[38;5;124;43mx\u001b[39;49m\u001b[38;5;124;43m'\u001b[39;49m\u001b[43m)\u001b[49m \n",
      "File \u001b[1;32mc:\\Users\\Zubair\\AppData\\Local\\Programs\\Python\\Python311\\Lib\\site-packages\\IPython\\core\\interactiveshell.py:286\u001b[0m, in \u001b[0;36m_modified_open\u001b[1;34m(file, *args, **kwargs)\u001b[0m\n\u001b[0;32m    279\u001b[0m \u001b[38;5;28;01mif\u001b[39;00m file \u001b[38;5;129;01min\u001b[39;00m {\u001b[38;5;241m0\u001b[39m, \u001b[38;5;241m1\u001b[39m, \u001b[38;5;241m2\u001b[39m}:\n\u001b[0;32m    280\u001b[0m     \u001b[38;5;28;01mraise\u001b[39;00m \u001b[38;5;167;01mValueError\u001b[39;00m(\n\u001b[0;32m    281\u001b[0m         \u001b[38;5;124mf\u001b[39m\u001b[38;5;124m\"\u001b[39m\u001b[38;5;124mIPython won\u001b[39m\u001b[38;5;124m'\u001b[39m\u001b[38;5;124mt let you open fd=\u001b[39m\u001b[38;5;132;01m{\u001b[39;00mfile\u001b[38;5;132;01m}\u001b[39;00m\u001b[38;5;124m by default \u001b[39m\u001b[38;5;124m\"\u001b[39m\n\u001b[0;32m    282\u001b[0m         \u001b[38;5;124m\"\u001b[39m\u001b[38;5;124mas it is likely to crash IPython. If you know what you are doing, \u001b[39m\u001b[38;5;124m\"\u001b[39m\n\u001b[0;32m    283\u001b[0m         \u001b[38;5;124m\"\u001b[39m\u001b[38;5;124myou can use builtins\u001b[39m\u001b[38;5;124m'\u001b[39m\u001b[38;5;124m open.\u001b[39m\u001b[38;5;124m\"\u001b[39m\n\u001b[0;32m    284\u001b[0m     )\n\u001b[1;32m--> 286\u001b[0m \u001b[38;5;28;01mreturn\u001b[39;00m \u001b[43mio_open\u001b[49m\u001b[43m(\u001b[49m\u001b[43mfile\u001b[49m\u001b[43m,\u001b[49m\u001b[43m \u001b[49m\u001b[38;5;241;43m*\u001b[39;49m\u001b[43margs\u001b[49m\u001b[43m,\u001b[49m\u001b[43m \u001b[49m\u001b[38;5;241;43m*\u001b[39;49m\u001b[38;5;241;43m*\u001b[39;49m\u001b[43mkwargs\u001b[49m\u001b[43m)\u001b[49m\n",
      "\u001b[1;31mFileExistsError\u001b[0m: [Errno 17] File exists: '20_file01.txt'"
     ]
    }
   ],
   "source": [
    "file = open(\"20_file01.txt\",'x') "
   ]
  },
  {
   "cell_type": "code",
   "execution_count": null,
   "id": "8b010d78",
   "metadata": {},
   "outputs": [
    {
     "name": "stdout",
     "output_type": "stream",
     "text": [
      "File already exists.\n"
     ]
    }
   ],
   "source": [
    "# We will see Error Handling or Exception Handling in the next lesson. Just remember that 'try' block will run everytime\n",
    "# 'except' block will only run if some error occurs in your code.\n",
    "try:\n",
    "    with open(\"20_new_file.txt\", \"x\") as f:\n",
    "        f.write(\"This is a new file created with 'x' mode.\")\n",
    "        print(\"File is created and content is added in it. You can open the file to check.\")\n",
    "except FileExistsError:\n",
    "    print(\"File already exists.\")"
   ]
  },
  {
   "cell_type": "markdown",
   "id": "d13fde74",
   "metadata": {},
   "source": [
    "### 5. Plus modes (+): `r+`, `w+` and `a+` modes\n",
    "Appends \"+\" to any mode to allow both reading and writing to the file.  \n",
    "Examples:  \n",
    "a) `r+`: Opens the file for both reading and writing, starting at the beginning of the file.  \n",
    "b) `w+`: Opens the file for writing and reading, but truncates the existing content first.  \n",
    "c) `a+`: Opens the file for appending and reading.  "
   ]
  },
  {
   "cell_type": "markdown",
   "id": "ad7b2011",
   "metadata": {},
   "source": [
    "#### a) `r+`\n",
    "This method opens the file for both reading and writing. This is just read mode but you can write in this mode as well. As read mode does not truncate or remove the existing content, `r+` also does not remove content. If the file does not exist, an I/O error gets raised."
   ]
  },
  {
   "cell_type": "code",
   "execution_count": null,
   "id": "14410c17",
   "metadata": {},
   "outputs": [],
   "source": [
    "with open(\"20_My_Rumi_Garden.txt\", \"r+\") as f:\n",
    "    content = f.read()  # Read the existing content\n",
    "    f.seek(0)  # Move the cursor to the beginning\n",
    "    f.write(\"New text added at the beginning and over-writing the existing content.\\n\")  # Write new text at the beginning"
   ]
  },
  {
   "cell_type": "code",
   "execution_count": null,
   "id": "88815855",
   "metadata": {},
   "outputs": [],
   "source": [
    "with open(\"20_My_Rumi_Garden.txt\", \"r+\") as f:\n",
    "    f.write(content)    # Wrtting the previous content again\n",
    "    f.seek(0)\n",
    "    print(f.read())"
   ]
  },
  {
   "cell_type": "markdown",
   "id": "8845440c",
   "metadata": {},
   "source": [
    "#### b) `w+`\n",
    "Opens the file for writing and reading, but first truncates (removes) the existing content."
   ]
  },
  {
   "cell_type": "code",
   "execution_count": null,
   "id": "0d438c1a",
   "metadata": {},
   "outputs": [],
   "source": [
    "with open(\"20_My_Rumi_Garden.txt\", \"w+\") as f:\n",
    "    f.write(\"Rumi's Poetry has lost but you can re-run the first cells to write the content again. \\n\")\n",
    "    f.write(\"Another way of getting the content is you have stored the poetry in the `content` variable, you \\ncan use it to write the content again.\")\n",
    "    f.seek(0)  # Move the cursor to the beginning\n",
    "    content2 = f.read()  # Read the newly written content\n",
    "    print(content2)  # Prints: This completely rewrites the file."
   ]
  },
  {
   "cell_type": "code",
   "execution_count": null,
   "id": "dd79ccf6",
   "metadata": {},
   "outputs": [],
   "source": [
    "with open(\"20_My_Rumi_Garden.txt\", \"w+\") as f:\n",
    "    f.write(content)\n",
    "    f.seek(0)\n",
    "    print(f.read())"
   ]
  },
  {
   "cell_type": "markdown",
   "id": "b6ca2a18",
   "metadata": {},
   "source": [
    "#### c) `a+`\n",
    "Opens the file for appending and reading."
   ]
  },
  {
   "cell_type": "code",
   "execution_count": null,
   "id": "3663752d",
   "metadata": {},
   "outputs": [],
   "source": [
    "with open(\"20_My_Rumi_Garden.txt\", \"a+\") as f:\n",
    "    f.write(\"\\nLove and light fill this garden.\")\n",
    "    f.seek(0)  # Move the cursor to the beginning\n",
    "    content3 = f.read()  # Read all content, including the appended text\n",
    "    print(content3)  # Prints the original content followed by the appended text."
   ]
  }
 ],
 "metadata": {
  "kernelspec": {
   "display_name": "Python 3 (ipykernel)",
   "language": "python",
   "name": "python3"
  },
  "language_info": {
   "codemirror_mode": {
    "name": "ipython",
    "version": 3
   },
   "file_extension": ".py",
   "mimetype": "text/x-python",
   "name": "python",
   "nbconvert_exporter": "python",
   "pygments_lexer": "ipython3",
   "version": "3.11.3"
  }
 },
 "nbformat": 4,
 "nbformat_minor": 5
}

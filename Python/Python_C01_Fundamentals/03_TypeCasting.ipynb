{
 "cells": [
  {
   "cell_type": "markdown",
   "id": "11170a7d-7731-45e4-b858-855a7537c753",
   "metadata": {},
   "source": [
    "### Type Casting"
   ]
  },
  {
   "cell_type": "markdown",
   "id": "fc478530-142d-4abb-a83f-b1959b2520a6",
   "metadata": {},
   "source": [
    "Type casting in Python refers to the process of converting a value from one data type to another.  \n",
    "We cannot convert every data type to others. Type casting should make sense in terms of data type conversion. We will see it here as well."
   ]
  },
  {
   "cell_type": "markdown",
   "id": "e7a962de-29d7-46d5-a7d3-8dfd45c74750",
   "metadata": {},
   "source": [
    "For type casting, the following functions can be used.  \n",
    "`int()`  \n",
    "`float()`  \n",
    "`str()`  \n",
    "`bool()`  \n",
    "Because there are some other data types as well, so for them, there are some other type casting fuctions as well. I have mentioned them here for reference but you can just ignore them for now. We will definitely cover them later on.\n",
    "`list()`  \n",
    "`set()`  \n",
    "`tuple()`  \n",
    "`dict()`  \n",
    "`complex()`  "
   ]
  },
  {
   "cell_type": "markdown",
   "id": "e2e7e448-ef95-4709-aab5-5231675b112a",
   "metadata": {},
   "source": [
    "##### 1. Float and integer conversion or type casting"
   ]
  },
  {
   "cell_type": "code",
   "execution_count": null,
   "id": "240107b3-6ddf-4b14-8ba2-159f14d8c9f2",
   "metadata": {},
   "outputs": [],
   "source": [
    "num1 = 34.834\n",
    "print(type(num1))\n",
    "num2 = int(num1)\n",
    "print(num2)    # Will not round off. Just take the integer value\n",
    "\n",
    "num3 = 57\n",
    "num3 = float(num3)\n",
    "print(num3)"
   ]
  },
  {
   "cell_type": "markdown",
   "id": "38ffaf23-34c5-4e63-9338-734e436b16c3",
   "metadata": {},
   "source": [
    "##### 2. Stringtype casting"
   ]
  },
  {
   "cell_type": "code",
   "execution_count": null,
   "id": "fef78569-44d6-44a6-aac7-7080eef1c60b",
   "metadata": {},
   "outputs": [],
   "source": [
    "new_string  = \"Python\"\n",
    "# new_string = int(new_string)    # It does not make sense to convert a Python string to a number because we cannot convert it into a number. So it will give us error.\n",
    "\n",
    "string01 = '762829'    # As this is a number inside a string, so we can convert it into an actual number\n",
    "print(type(string01))\n",
    "string02 = int(string01)\n",
    "print(type(string02))\n",
    "\n",
    "\n",
    "st = 'Doing good!'\n",
    "st = bool(st)\n",
    "print(st)\n",
    "\n"
   ]
  },
  {
   "cell_type": "markdown",
   "id": "8eb05a7d-1e34-4b51-a420-a9276dfc878e",
   "metadata": {},
   "source": [
    "##### 3. Some other conversions"
   ]
  },
  {
   "cell_type": "code",
   "execution_count": null,
   "id": "67e70753-bbf1-4938-b04a-917e62e894db",
   "metadata": {},
   "outputs": [],
   "source": [
    "r = -0\n",
    "b = bool(r)   # This will assign False only if the value will be exactly ZERO. Otherwise, it will assign True\n",
    "print(b)"
   ]
  }
 ],
 "metadata": {
  "kernelspec": {
   "display_name": "Python 3 (ipykernel)",
   "language": "python",
   "name": "python3"
  },
  "language_info": {
   "codemirror_mode": {
    "name": "ipython",
    "version": 3
   },
   "file_extension": ".py",
   "mimetype": "text/x-python",
   "name": "python",
   "nbconvert_exporter": "python",
   "pygments_lexer": "ipython3",
   "version": "3.11.3"
  }
 },
 "nbformat": 4,
 "nbformat_minor": 5
}

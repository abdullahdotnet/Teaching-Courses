{
 "cells": [
  {
   "cell_type": "markdown",
   "id": "84aaaad7-c45c-4b42-b63f-1152a4d7a63f",
   "metadata": {},
   "source": [
    "# Project 01\n",
    "This is going to be our first project. You have to implement any one of them. If you want to implement both then you can do that as well but you have to implement at least one of them. These projects use dictionaries in their implementation."
   ]
  },
  {
   "cell_type": "markdown",
   "id": "64f40150-2548-4ac3-904c-cd2a04daa3fb",
   "metadata": {},
   "source": [
    "## 1) Inventory Management\n",
    "Create a program for managing inventory in a store. Use a dictionary to represent the inventory, where the keys are item names, and the values are the quantities available. Implement the following functions:    \n",
    "i) **add_item(item_name, quantity)**: Add a new item to the inventory or update the quantity if the item already exists.  \n",
    "ii) **sell_item(item_name, quantity)**: Sell a certain quantity of an item. Update the inventory accordingly.  \n",
    "iii) **available_items()**: Return a list of items that are currently in stock.  "
   ]
  },
  {
   "cell_type": "code",
   "execution_count": null,
   "id": "233342d0-454b-49a2-9131-136ea854c281",
   "metadata": {},
   "outputs": [],
   "source": []
  },
  {
   "cell_type": "code",
   "execution_count": null,
   "id": "42280ecd-063d-4611-819d-a77c17202de1",
   "metadata": {},
   "outputs": [],
   "source": []
  },
  {
   "cell_type": "markdown",
   "id": "0e93ce16-ad61-45bc-9d09-09d3bbdea42e",
   "metadata": {},
   "source": [
    "## 2) Contacts Management\n",
    "Develop a program for managing contacts. Use a dictionary where the keys are contact names, and the values are dictionaries with contact information (e.g., phone number, email, address). Implement the following functions:  \n",
    "i) **add_contact(name, phone, email, address)**: Add a new contact to the dictionary.  \n",
    "ii) **get_contact_info(name)**: Retrieve and print the contact information for a specific person.  \n",
    "iii) **update_contact(name, field, new_value)**: Update a specific field (phone, email, address) for a contact.  \n",
    "iv) **delete_contact(name)**: Remove a contact from the dictionary.  "
   ]
  },
  {
   "cell_type": "code",
   "execution_count": null,
   "id": "a5fa4e7b-04a0-4bca-ab34-8967b7eabc0e",
   "metadata": {},
   "outputs": [],
   "source": []
  }
 ],
 "metadata": {
  "kernelspec": {
   "display_name": "Python 3 (ipykernel)",
   "language": "python",
   "name": "python3"
  },
  "language_info": {
   "codemirror_mode": {
    "name": "ipython",
    "version": 3
   },
   "file_extension": ".py",
   "mimetype": "text/x-python",
   "name": "python",
   "nbconvert_exporter": "python",
   "pygments_lexer": "ipython3",
   "version": "3.11.3"
  }
 },
 "nbformat": 4,
 "nbformat_minor": 5
}

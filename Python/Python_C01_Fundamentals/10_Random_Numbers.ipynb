{
 "cells": [
  {
   "cell_type": "code",
   "execution_count": 2,
   "id": "7c7c798f-e5c1-4eb9-8b41-009338903dcd",
   "metadata": {},
   "outputs": [],
   "source": [
    "# Random library\n",
    "import random"
   ]
  },
  {
   "cell_type": "code",
   "execution_count": 12,
   "id": "284873b8-51e3-4c6a-8a8f-6c01ae296e23",
   "metadata": {},
   "outputs": [
    {
     "name": "stdout",
     "output_type": "stream",
     "text": [
      "3\n"
     ]
    }
   ],
   "source": [
    "x = random.randint(2,3)\n",
    "print(x)"
   ]
  },
  {
   "cell_type": "code",
   "execution_count": 17,
   "id": "43f7d250-005c-4ef5-8a4b-5a00982d43d3",
   "metadata": {},
   "outputs": [
    {
     "name": "stdout",
     "output_type": "stream",
     "text": [
      "0.797068176537945\n"
     ]
    }
   ],
   "source": [
    "# Returns a random floating-point number in the range [0.0, 1.0).\n",
    "random_number = random.random()\n",
    "print(random_number)"
   ]
  },
  {
   "cell_type": "code",
   "execution_count": null,
   "id": "8d712d4e-32f2-41ec-aef7-9647ce42e113",
   "metadata": {},
   "outputs": [],
   "source": [
    "# Returns a randomly selected element from a non-empty sequence.\n",
    "my_list = [1, 2, 3, 4, 5]\n",
    "random_choice = random.choice(my_list)"
   ]
  },
  {
   "cell_type": "code",
   "execution_count": null,
   "id": "dd958ad2-d008-4fc3-bc5c-904c5d6c37cb",
   "metadata": {},
   "outputs": [],
   "source": [
    "my_list = [1, 2, 3, 4, 5]\n",
    "random.shuffle(my_list)"
   ]
  },
  {
   "cell_type": "code",
   "execution_count": null,
   "id": "98c7e570-ec8a-493e-aea0-89233639cca9",
   "metadata": {},
   "outputs": [],
   "source": [
    "my_list = [1, 2, 3, 4, 5]\n",
    "random_sample = random.sample(my_list, 3)  # Select 3 random elements from my_list"
   ]
  },
  {
   "cell_type": "code",
   "execution_count": null,
   "id": "26257fee-8354-4d3b-bce2-3c884eba9471",
   "metadata": {},
   "outputs": [],
   "source": []
  }
 ],
 "metadata": {
  "kernelspec": {
   "display_name": "Python 3 (ipykernel)",
   "language": "python",
   "name": "python3"
  },
  "language_info": {
   "codemirror_mode": {
    "name": "ipython",
    "version": 3
   },
   "file_extension": ".py",
   "mimetype": "text/x-python",
   "name": "python",
   "nbconvert_exporter": "python",
   "pygments_lexer": "ipython3",
   "version": "3.11.3"
  }
 },
 "nbformat": 4,
 "nbformat_minor": 5
}

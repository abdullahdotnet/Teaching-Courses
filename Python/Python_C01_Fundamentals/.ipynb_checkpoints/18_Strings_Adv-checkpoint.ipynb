{
 "cells": [
  {
   "cell_type": "markdown",
   "id": "5302bbb4-30e8-4f25-845d-967f07a39c84",
   "metadata": {},
   "source": [
    "Table of Contents:\n",
    "# Introduction to Strings\n",
    "\n",
    "Definition of strings\n",
    "How to create strings\n",
    "String literals\n",
    "Escape characters\n",
    "# String Operations\n",
    "\n",
    "Concatenation\n",
    "Repetition\n",
    "String formatting\n",
    "# Accessing Characters in a String\n",
    "\n",
    "Indexing\n",
    "Slicing\n",
    "Negative indexing\n",
    "# String Methods\n",
    "\n",
    "len()\n",
    "lower() and upper()\n",
    "capitalize() and title()\n",
    "count()\n",
    "find() and index()\n",
    "replace()\n",
    "startswith() and endswith()\n",
    "strip(), lstrip(), and rstrip()\n",
    "split()\n",
    "join()\n",
    "# String Formatting\n",
    "\n",
    "Old-style formatting\n",
    "format() method\n",
    "f-strings (formatted string literals)\n",
    "# String Escape Sequences\n",
    "\n",
    "Common escape sequences (\\n, \\t, \\, ', \")\n",
    "# String Comparison\n",
    "\n",
    "Equality (==)\n",
    "Inequality (!=)\n",
    "Relational operators (<, >, <=, >=)\n",
    "# String Iteration\n",
    "\n",
    "Using loops to iterate through characters\n",
    "# Immutable Nature of Strings\n",
    "\n",
    "Explanation of why strings are immutable\n",
    "What it means for string operations\n",
    "# Unicode and Strings\n",
    "\n",
    "Explanation of Unicode\n",
    "How Python handles Unicode in strings\n",
    "# Regular Expressions with Strings\n",
    "\n",
    "Introduction to regular expressions\n",
    "Using the re module for pattern matching\n",
    "# String Formatting (Advanced)\n",
    "\n",
    "Alignment and padding\n",
    "Precision and width\n",
    "# String Interpolation\n",
    "\n",
    "Using % for string interpolation\n",
    "Using format() for more advanced interpolation\n",
    "# String Encoding and Decoding\n",
    "\n",
    "Introduction to character encoding\n",
    "Encoding and decoding using encode() and decode()\n",
    "# Working with Raw Strings\n",
    "\n",
    "Introduction to raw strings\n",
    "# String Constants\n",
    "\n",
    "Explanation of string module constants\n",
    "# Common String Patterns and Operations\n",
    "\n",
    "Checking if a string is alphanumeric, numeric, etc.\n",
    "String manipulation and cleaning\n",
    "# String Security\n",
    "\n",
    "Brief discussion on string security and avoiding injection attacks\n",
    "# Best Practices and Tips\n",
    "\n",
    "Efficient string concatenation\n",
    "Choosing the right string method for the task\n",
    "# Exercises and Examples\n",
    "\n",
    "A variety of exercises to practice string manipulation\n",
    "Remember to include plenty of examples and exercises throughout the notebook to reinforce the concepts. This outline covers a broad range of topics related to strings in Python, and you can adjust the depth of coverage based on the level of your students.  \n",
    "https://chat.openai.com/share/6d463429-ba08-4540-a7a8-9ed5d2b905ac"
   ]
  },
  {
   "cell_type": "markdown",
   "id": "f3f307ad-01a4-4c0d-b6c8-c39b6849b6b2",
   "metadata": {},
   "source": [
    "# Strings (Advanced)"
   ]
  },
  {
   "cell_type": "markdown",
   "id": "d8c4eb81-e04d-4a7a-b39b-64f5c041795c",
   "metadata": {},
   "source": [
    "We are familiar with the strings so far. But let's see some advanced things that lie under its umbrella."
   ]
  },
  {
   "cell_type": "markdown",
   "id": "2d9b5e9b-2973-4e78-8e58-7188d23cc6e3",
   "metadata": {},
   "source": [
    "## <span style=\"color:#FF5733\">1. String Creation in Python</span>\n",
    "We can create strings using single, double and triple quotes. All of them have their benefits. For simple use cases, you can use any of them to create strings. They will have the same effects. For example:"
   ]
  },
  {
   "cell_type": "code",
   "execution_count": null,
   "id": "399a1885-c682-47a9-8718-2b72b67f615a",
   "metadata": {},
   "outputs": [],
   "source": [
    "# Single quotes string\n",
    "str_1 = 'Python is Amazing!'\n",
    "# Double quotes string\n",
    "str_2 = \"Python is Amazing!\"\n",
    "# Triple quotes string\n",
    "str_3 = '''Python is Amazing!'''\n",
    "#OR\n",
    "str_4 = \"\"\"Python is Amazing!\"\"\""
   ]
  },
  {
   "cell_type": "code",
   "execution_count": null,
   "id": "7fe90232-c75f-49c8-902b-b1cefe5b8f6c",
   "metadata": {},
   "outputs": [],
   "source": [
    "print(str_1)\n",
    "print(str_2)\n",
    "print(str_3)\n",
    "print(str_4)"
   ]
  },
  {
   "cell_type": "markdown",
   "id": "fda92f7a-d3b1-4a14-aa10-28c1b29284cc",
   "metadata": {},
   "source": [
    "But there is something else. You can use each of them for specific use cases. Let's see them :)"
   ]
  },
  {
   "cell_type": "markdown",
   "id": "3e6b7ded-2e96-4597-9370-6330209399d4",
   "metadata": {},
   "source": [
    "### <span style=\"color:#2CD049\">a) Using Single Quotes</span> \n",
    "If you want to use double quotes inside the string then you should use single quotes for string creation. Otherwise, Python will not know from where the string is starting and where it is ending. See the following examples."
   ]
  },
  {
   "cell_type": "code",
   "execution_count": null,
   "id": "e7e9a8a4-203b-49bc-9b31-bfe59c9fe957",
   "metadata": {},
   "outputs": [],
   "source": [
    "message = 'The teacher said, \"Great work champ!\"'\n",
    "print(message)"
   ]
  },
  {
   "cell_type": "markdown",
   "id": "d5269ac3-d3d0-4f8a-bc18-e2a2f851769c",
   "metadata": {},
   "source": [
    "If you use a double quote for string creation in this case, Python will not be able to understand where the string is ending. This thing will result in an error."
   ]
  },
  {
   "cell_type": "code",
   "execution_count": null,
   "id": "e09ec702-2bdf-4e28-b8d3-36d11675f93d",
   "metadata": {},
   "outputs": [],
   "source": [
    "# This will raise error\n",
    "# message = \"The teacher said, \"Great work champ!\"\"\n",
    "# print(message)"
   ]
  },
  {
   "cell_type": "markdown",
   "id": "23a14739-c6ea-48e1-9176-92e75d76a167",
   "metadata": {},
   "source": [
    "### <span style=\"color:#2CD049\">b) Using Double Quotes</span> \n",
    "Similarly, when you want to use a single quote inside the string, then you should use double quotes for string creation."
   ]
  },
  {
   "cell_type": "markdown",
   "id": "79709cf9-8c8c-4286-8d42-8d058e88836a",
   "metadata": {},
   "source": [
    "notebook = \"This is Zubair's notebook.\"\n",
    "print(notebook)"
   ]
  },
  {
   "cell_type": "code",
   "execution_count": null,
   "id": "285499cd-f68a-4769-9af5-773157ee3efc",
   "metadata": {},
   "outputs": [],
   "source": [
    "# This will raise an error\n",
    "# notebook = 'This is Zubair's notebook.'\n",
    "# print(notebook)"
   ]
  },
  {
   "cell_type": "markdown",
   "id": "4f63f1d9-d9ca-4718-a064-11da2ed16c68",
   "metadata": {},
   "source": [
    "### <span style=\"color:#2CD049\">c) Using Triple Quotes</span> \n",
    "Unlike single and double quote strings, triple quote strings provide you with some extra things.  \n",
    "1. You can use single and double quotes at the same time in triple quote strings  \n",
    "2. Triple quote strings enable multiple line strings but single and double quoted strings do not provide this feature.  \n",
    "3. Mostly you can use triple quote strings as multiline comments. Although that is technically not a comment, it will be a normal string, but we will not be storing it in a variable.  "
   ]
  },
  {
   "cell_type": "code",
   "execution_count": null,
   "id": "a9712a3f-bc5c-4d23-ad15-40d107a0f3f5",
   "metadata": {},
   "outputs": [],
   "source": [
    "sentence_1 = \"\"\"Ahmad said, \"This book is amazing\", because this is Ahmad's book\"\"\"\n",
    "print(sentence_1)"
   ]
  },
  {
   "cell_type": "code",
   "execution_count": null,
   "id": "310a5833-50fe-4e4d-819a-fbe426400d4f",
   "metadata": {},
   "outputs": [],
   "source": [
    "# Triple quote string will have no effect for double or single quotes for its creation\n",
    "sentence_2 = '''Ahmad said, \"This book is amazing\", because this is Ahmad's book'''\n",
    "print(sentence_2)"
   ]
  },
  {
   "cell_type": "code",
   "execution_count": null,
   "id": "9f185b47-e47f-407e-a129-d3133d1ff9c5",
   "metadata": {},
   "outputs": [],
   "source": [
    "rumi_inspiration = \"\"\"\n",
    "Beneath the moon's gentle glow,\n",
    "Whispers of the heart begin to flow.\n",
    "Love's dance, a timeless show.\n",
    "\"\"\"\n",
    "print(rumi_inspiration)"
   ]
  },
  {
   "cell_type": "markdown",
   "id": "54d03752-b45d-4235-8323-83196f90d426",
   "metadata": {},
   "source": [
    "If you try to write multiline string using single or double quote, it will give you error."
   ]
  },
  {
   "cell_type": "code",
   "execution_count": null,
   "id": "927ff51e-4306-43cd-8410-a5aa96a843e5",
   "metadata": {},
   "outputs": [],
   "source": [
    "# This will raise an error\n",
    "# rumi_inspiration = \"\n",
    "# Beneath the moon's gentle glow,\n",
    "# Whispers of the heart begin to flow.\n",
    "# Love's dance, a timeless show.\n",
    "# \"\n",
    "# print(rumi_inspiration)"
   ]
  },
  {
   "cell_type": "markdown",
   "id": "13685ade-aae3-47d4-bbf1-934f8c22a333",
   "metadata": {},
   "source": [
    "We use triple quotes for multiline comments as well."
   ]
  },
  {
   "cell_type": "code",
   "execution_count": null,
   "id": "c9db3720-a1dc-4bfc-8060-4ec39a9cc7db",
   "metadata": {},
   "outputs": [],
   "source": [
    "\"\"\"This is a big comment.\n",
    "Placed in \n",
    "multiple lines\n",
    "and you are reading it now\n",
    ":) :) :) :)\"\"\"\n",
    "x = 23\n",
    "y = 123\n",
    "print(x+y)"
   ]
  },
  {
   "cell_type": "code",
   "execution_count": null,
   "id": "0a2a4201-5faf-4ffd-bb49-144ebdc7fabf",
   "metadata": {},
   "outputs": [],
   "source": []
  },
  {
   "cell_type": "markdown",
   "id": "c476d352-1601-4264-be3e-4898974204cc",
   "metadata": {},
   "source": [
    "## <span style=\"color:#FF5733\">3. String methods and functions</span>\n",
    "Following are some common string methods and functions in Python.  \n",
    "i) `len(my_str)` gives no of characters inside the string  \n",
    "ii) `ord(char)` gives the ASCII value of a single character in a string.  \n",
    "iii) `chr(val)` gives a character for the corresponding ASCII value.  \n",
    "iv) `my_str.upper()` Converts the string into all uppercase characters.  \n",
    "v) `my_str.lower()` Converts the string into all lowercase characters.  \n",
    "vi) `my_str.split()` Splits the string at the specified separator, and returns a list.  \n",
    "vii) `my_str.rstrip()` Removes extra spaces and special characters at the right side of the string.  \n",
    "viii) `my_str.find(string)` Searches the string for a specified value and returns the starting position of where it was found. If the position is not found then it returns -1.  \n",
    "ix) `my_str.index(string)` It works in the same way just like find() but if the value is not found, it gives error.  \n",
    "x) `my_str.join(iterable)` Converts the elements of an iterable into a string.  \n",
    "**Note:** All string methods return new values. They do not change the original string because strings are immutable.  \n",
    "For further methods and examples, you can visit this link: https://www.w3schools.com/python/python_ref_string.asp"
   ]
  },
  {
   "cell_type": "code",
   "execution_count": null,
   "id": "1280bf19-f70e-4f5c-b0b9-848db814bced",
   "metadata": {},
   "outputs": [],
   "source": [
    "# i) len(my_str) gives no of characters inside the string\n",
    "str1 = \"This is first string with 39 characters\"\n",
    "print(len(str1))"
   ]
  },
  {
   "cell_type": "markdown",
   "id": "06424470-303d-471a-9393-2ad22f240193",
   "metadata": {},
   "source": [
    "For the ASCII values, you can visit this chart: https://python-reference.readthedocs.io/en/latest/docs/str/ASCII.html"
   ]
  },
  {
   "cell_type": "code",
   "execution_count": null,
   "id": "d7f9706d-d130-4603-bb4e-7642826a740b",
   "metadata": {},
   "outputs": [],
   "source": [
    "# ii) ord(char) gives the ASCII value of a single character in a string.\n",
    "print(ord(\"A\"))\n",
    "print(ord(\"B\"))\n",
    "print(ord(\"a\"))"
   ]
  },
  {
   "cell_type": "code",
   "execution_count": null,
   "id": "6e36f011-6806-4322-8d30-86c7345c06d1",
   "metadata": {},
   "outputs": [],
   "source": [
    "# iii) chr(val) gives a character for the corresponding ASCII value.\n",
    "print(chr(67))\n",
    "print(chr(100))\n",
    "print(chr(52))\n",
    "print(chr(64))"
   ]
  },
  {
   "cell_type": "code",
   "execution_count": null,
   "id": "f17da900-e519-4cbf-9851-da57b69c5e50",
   "metadata": {},
   "outputs": [],
   "source": [
    "# iv) my_str.upper() Converts the string into all uppercase characters.\n",
    "str2 = \"THIS is A BOOk\"\n",
    "str3 = str2.upper() \n",
    "print(str3)\n",
    "print(str2)    # Original string remains the same. These methods return modified strings"
   ]
  },
  {
   "cell_type": "code",
   "execution_count": null,
   "id": "075be202-20ca-49b2-bb13-a2e8c778397d",
   "metadata": {},
   "outputs": [],
   "source": [
    "# v) my_str.lower() Converts the string into all lowercase characters.\n",
    "str2 = \"THIS is A BOOk\"\n",
    "str3 = str2.lower() \n",
    "print(str3)\n",
    "print(str2)    # Original string remains the same."
   ]
  },
  {
   "cell_type": "code",
   "execution_count": null,
   "id": "c478cd5d-ca45-4a05-a0a1-aa9c1efcc8d3",
   "metadata": {},
   "outputs": [],
   "source": [
    "# vi) my_str.split() Splits the string at the specified separator and returns a list. By default,\n",
    "# the separator is 'space'\n",
    "str5 = \"These are some words. And, here are some more.\"\n",
    "list_words = str5.split()   # Whenever a space comes, it splits the elements.\n",
    "print(list_words)\n",
    "dot_list = str5.split('.')\n",
    "print(dot_list)"
   ]
  },
  {
   "cell_type": "code",
   "execution_count": null,
   "id": "a2ee3de8-5faf-49c7-97eb-e5bfaf1ca998",
   "metadata": {},
   "outputs": [],
   "source": [
    "# my_str.rstrip() Removes extra spaces and special characters at the right side of the string.\n",
    "str7 = \"   Here is a     useful    string     \\n   \"\n",
    "print(len(str7),'Characters')\n",
    "print(str7)\n",
    "str8 = str7.rstrip()\n",
    "print(len(str8),'Characters')\n",
    "print(str8)\n",
    "# my_str.strip() removes from left and right both while, my_str.lstrip() removes from left. You can test them on \n",
    "# your own"
   ]
  },
  {
   "cell_type": "code",
   "execution_count": null,
   "id": "543f07b9-7685-4cf0-a317-c4406d31b63c",
   "metadata": {},
   "outputs": [],
   "source": [
    "# viii) my_str.find(string) Searches the string for a specified value and returns the starting position of where \n",
    "# it was found. If the position is not found then it returns -1.\n",
    "str9 = \"This is just another string\"\n",
    "print(str9.find('ano'))\n",
    "print(str9.find('abcd'))"
   ]
  },
  {
   "cell_type": "code",
   "execution_count": null,
   "id": "cc65bd39-7157-4b34-997f-ac390fb121a0",
   "metadata": {},
   "outputs": [],
   "source": [
    "# ix) my_str.index(string) It works in the same way as find() but if the value is not found, it gives error.\n",
    "str10 = \"This is just another string\"\n",
    "print(str9.index('ano'))\n",
    "print(str9.index('abcd'))   # This raises error `substring not found`"
   ]
  },
  {
   "cell_type": "code",
   "execution_count": null,
   "id": "cdf529fa-45ed-45af-a0af-f9ce47c1eec5",
   "metadata": {},
   "outputs": [],
   "source": [
    "# x) my_str.join(iterable) Converts the elements of an iterable into a string.\n",
    "fruits = (\"apple\",\"mango\",\"banana\",\"grapes\",\"orange\")\n",
    "str11 = \"$$ \".join(fruits)\n",
    "print(str11)"
   ]
  },
  {
   "cell_type": "code",
   "execution_count": null,
   "id": "79081201-7385-4f40-8ff5-3c4dc1cc3039",
   "metadata": {},
   "outputs": [],
   "source": []
  }
 ],
 "metadata": {
  "kernelspec": {
   "display_name": "Python 3 (ipykernel)",
   "language": "python",
   "name": "python3"
  },
  "language_info": {
   "codemirror_mode": {
    "name": "ipython",
    "version": 3
   },
   "file_extension": ".py",
   "mimetype": "text/x-python",
   "name": "python",
   "nbconvert_exporter": "python",
   "pygments_lexer": "ipython3",
   "version": "3.11.3"
  }
 },
 "nbformat": 4,
 "nbformat_minor": 5
}

{
 "cells": [
  {
   "cell_type": "markdown",
   "id": "6207931d-d197-4b70-bd0b-f83f08c1a3a4",
   "metadata": {},
   "source": [
    "# 1. Map, filter, and reduce functions"
   ]
  },
  {
   "cell_type": "markdown",
   "id": "9840ba55-9562-4285-842d-c20a38ecff5a",
   "metadata": {},
   "source": [
    "In Python, `map`, `filter`, and `reduce` are built-in functions that provide a concise and efficient way to perform operations on sequences like lists, tuples, dictionaries or other iterable objects."
   ]
  },
  {
   "cell_type": "markdown",
   "id": "07032170-d56b-42e6-a572-e39e4a185819",
   "metadata": {},
   "source": [
    "## a. `map` Function:  \n",
    "The map function applies a specified function to all items in an input iterable (e.g., a list) and returns an iterator of the results. If we print the iterator, it looks strange and weird but we can convert that iterator to an actual list.  \n",
    "**Use Case**: It is useful when you want to perform the same operation on each element of a collection."
   ]
  },
  {
   "cell_type": "code",
   "execution_count": 2,
   "id": "bd8eb334-f46b-4c3f-a2ab-a23e2f9d69db",
   "metadata": {},
   "outputs": [
    {
     "name": "stdout",
     "output_type": "stream",
     "text": [
      "[1, 4, 9, 16, 25]\n"
     ]
    }
   ],
   "source": [
    "# Simple ways\n",
    "numbers = [1, 2, 3, 4, 5]\n",
    "squared_numbers = []\n",
    "for num in numbers:\n",
    "    squared_numbers.append(num**2)\n",
    "print(squared_numbers)"
   ]
  },
  {
   "cell_type": "code",
   "execution_count": 3,
   "id": "042cd1f3-bb05-4334-a839-3ce5c8ee91ee",
   "metadata": {},
   "outputs": [
    {
     "name": "stdout",
     "output_type": "stream",
     "text": [
      "['ALFRED', 'TABITHA', 'WILLIAM', 'ARLA']\n"
     ]
    }
   ],
   "source": [
    "my_pets = ['alfred', 'tabitha', 'william', 'arla']\n",
    "uppered_pets = []\n",
    "for pet in my_pets:\n",
    "    pet_ = pet.upper()\n",
    "    uppered_pets.append(pet_)\n",
    "print(uppered_pets)"
   ]
  },
  {
   "cell_type": "code",
   "execution_count": 10,
   "id": "ead2da7b-2531-4231-a191-eb131c22add0",
   "metadata": {},
   "outputs": [
    {
     "name": "stdout",
     "output_type": "stream",
     "text": [
      "<map object at 0x000001DCFE1BAD40>\n",
      "[1, 4, 9, 16, 25]\n"
     ]
    }
   ],
   "source": [
    "# Using map function\n",
    "numbers = [1, 2, 3, 4, 5]\n",
    "def square(x):\n",
    "    return x**2\n",
    "squared_numbers = map(square, numbers)\n",
    "print(squared_numbers)\n",
    "# convert to list\n",
    "squared_list = list(squared_numbers)\n",
    "print(squared_list)"
   ]
  },
  {
   "cell_type": "code",
   "execution_count": 15,
   "id": "aa24115f-d07c-4986-aaa9-60986391f989",
   "metadata": {},
   "outputs": [
    {
     "name": "stdout",
     "output_type": "stream",
     "text": [
      "['ALFRED', 'TABITHA', 'WILLIAM', 'ARLA']\n"
     ]
    }
   ],
   "source": [
    "my_pets = ['alfred', 'tabitha', 'william', 'arla']\n",
    "def upper(x):\n",
    "    return x.upper()\n",
    "uppered_pets = list(map(upper, my_pets))\n",
    "print(uppered_pets)"
   ]
  },
  {
   "cell_type": "code",
   "execution_count": 18,
   "id": "a4fcb865-3dac-4103-835e-758a83da1143",
   "metadata": {},
   "outputs": [
    {
     "name": "stdout",
     "output_type": "stream",
     "text": [
      "[1, 2, 3, 4]\n"
     ]
    }
   ],
   "source": [
    "strings = ['1','2','3','4']\n",
    "numbers = list(map(int,strings))    # int() is default function so we can directly use it.\n",
    "print(numbers)"
   ]
  },
  {
   "cell_type": "markdown",
   "id": "6f9b874a-42fd-47ea-930d-cf2ca087b677",
   "metadata": {},
   "source": [
    "## b. `filter` Function: \n",
    "The filter function constructs a new iterable from elements of the input iterable for which a function returns true.  \n",
    "**Use Case**: It is useful when you want to selectively include elements based on a certain condition."
   ]
  },
  {
   "cell_type": "code",
   "execution_count": 19,
   "id": "b5248815-b74c-4627-bc0f-619bb6d39c8c",
   "metadata": {},
   "outputs": [
    {
     "name": "stdout",
     "output_type": "stream",
     "text": [
      "[0, 2, 4, 6, 8, 10, 12, 14, 16, 18]\n"
     ]
    }
   ],
   "source": [
    "numbers = [x for x in range(20)]\n",
    "def is_even(x):\n",
    "    if x % 2 == 0: \n",
    "        return True\n",
    "    return False\n",
    "evens = list(filter(is_even,numbers))\n",
    "print(evens)"
   ]
  },
  {
   "cell_type": "code",
   "execution_count": 21,
   "id": "09ccf6aa-6c21-4b25-adc8-0e6ec29d4f76",
   "metadata": {},
   "outputs": [
    {
     "name": "stdout",
     "output_type": "stream",
     "text": [
      "[90, 76, 88, 81]\n"
     ]
    }
   ],
   "source": [
    "scores = [66, 90, 68, 59, 76, 60, 88, 74, 81, 65]\n",
    "def over_75(score):\n",
    "    return score > 75\n",
    "\n",
    "good_students = list(filter(over_75,scores))\n",
    "print(good_students)"
   ]
  },
  {
   "cell_type": "markdown",
   "id": "8f56d222-a1ee-44b9-9f3c-f38a1cc05ee1",
   "metadata": {},
   "source": [
    "## c. `reduce` Function: \n",
    "The reduce function from the functools module continually applies a function to the items of an iterable, reducing it to a single cumulative value.  \n",
    "**Use Case**: It is useful when you want to cumulatively perform an operation on the elements of a collection."
   ]
  },
  {
   "cell_type": "code",
   "execution_count": 22,
   "id": "9145f574-63d7-4304-aeb8-21b576533f94",
   "metadata": {},
   "outputs": [
    {
     "name": "stdout",
     "output_type": "stream",
     "text": [
      "120\n"
     ]
    }
   ],
   "source": [
    "numbers = [1, 2, 3, 4, 5]\n",
    "product = 1\n",
    "for num in numbers:\n",
    "    product *= num\n",
    "print(product)"
   ]
  },
  {
   "cell_type": "code",
   "execution_count": 24,
   "id": "cc47bad5-bf97-41a2-bcb5-8f1a5eb04f3a",
   "metadata": {},
   "outputs": [
    {
     "name": "stdout",
     "output_type": "stream",
     "text": [
      "120\n"
     ]
    }
   ],
   "source": [
    "from functools import reduce\n",
    "numbers = [1, 2, 3, 4, 5]\n",
    "def multiply(x,y):\n",
    "    return x*y\n",
    "product = reduce(multiply, numbers)\n",
    "print(product)"
   ]
  },
  {
   "cell_type": "markdown",
   "id": "87bfbb70-b9e4-4cec-894e-4460f9175120",
   "metadata": {},
   "source": [
    "# 2. Lambda Function\n",
    "A lambda function in Python is a small, anonymous function defined using the `lambda` keyword. Lambda functions are often used for short-lived operations where a full function definition seems unnecessary. They are inline functions and are particularly handy in situations where you need a simple function for a short period.  \n",
    "**Syntax:**  \n",
    "`lambda arguments: expression`\n"
   ]
  },
  {
   "cell_type": "code",
   "execution_count": 25,
   "id": "f98bf45f-56fe-448e-9476-b3fc5d886e51",
   "metadata": {},
   "outputs": [
    {
     "name": "stdout",
     "output_type": "stream",
     "text": [
      "15\n"
     ]
    }
   ],
   "source": [
    "# Add 10 to argument a, and return the result\n",
    "x = lambda a : a + 10\n",
    "print(x(5))"
   ]
  },
  {
   "cell_type": "code",
   "execution_count": 26,
   "id": "96760d40-271b-401b-9d3a-7ad2d0a34f6e",
   "metadata": {},
   "outputs": [
    {
     "name": "stdout",
     "output_type": "stream",
     "text": [
      "30\n"
     ]
    }
   ],
   "source": [
    "# Multiply argument a with argument b and return the result\n",
    "x = lambda a, b : a * b\n",
    "print(x(5, 6))"
   ]
  },
  {
   "cell_type": "code",
   "execution_count": 27,
   "id": "c9a7b238-9926-4c6b-abcc-39d142152874",
   "metadata": {},
   "outputs": [
    {
     "name": "stdout",
     "output_type": "stream",
     "text": [
      "13\n"
     ]
    }
   ],
   "source": [
    "# Can use any number of arguments\n",
    "x = lambda a, b, c : a + b + c\n",
    "print(x(5, 6, 2))"
   ]
  },
  {
   "cell_type": "code",
   "execution_count": 32,
   "id": "1a1e595a-b2b9-4369-a2ed-0720f21b5a4e",
   "metadata": {},
   "outputs": [
    {
     "name": "stdout",
     "output_type": "stream",
     "text": [
      "[0, 2, 4, 6, 8, 10, 12, 14, 16, 18]\n"
     ]
    }
   ],
   "source": [
    "numbers = [x for x in range(20)]\n",
    "even_numbers = list(filter(lambda x: x % 2 == 0, numbers))\n",
    "print(even_numbers)"
   ]
  },
  {
   "cell_type": "code",
   "execution_count": 33,
   "id": "e36f6b41-588d-4d37-96b0-c95722dc9f2b",
   "metadata": {},
   "outputs": [
    {
     "name": "stdout",
     "output_type": "stream",
     "text": [
      "[1, 4, 9, 16, 25]\n"
     ]
    }
   ],
   "source": [
    "numbers = [1, 2, 3, 4, 5]\n",
    "squared_numbers = list(map(lambda x: x**2, numbers))\n",
    "print(squared_numbers)"
   ]
  },
  {
   "cell_type": "markdown",
   "id": "f3e84cae-c93c-479e-9767-52510df28650",
   "metadata": {},
   "source": [
    "# 3. `*args` and `**kwargs`\n",
    "In Python, `args` and `kwargs` are used to pass a variable number of arguments to a function.  \n",
    "1. *args (Non Keyword Arguments)  \n",
    "2. **kwargs (Keyword Arguments)\n",
    "\n",
    "We use *args and **kwargs as an argument when we are unsure about the number of arguments to pass in the functions."
   ]
  },
  {
   "cell_type": "markdown",
   "id": "1b629ef0-0ddc-4c1d-aebc-da987b14392d",
   "metadata": {},
   "source": [
    "## a. `*args`\n",
    "Python has `*args` which allow us to pass the variable number of __non keyword__ arguments to function. In the function, we should use an asterisk * before the parameter name to pass variable length arguments.The arguments are passed as a **tuple** and these passed arguments make tuple inside the function with same name as the parameter excluding asterisk *"
   ]
  },
  {
   "cell_type": "code",
   "execution_count": 35,
   "id": "73432eb3-2d2b-4986-afe8-64b631e591d5",
   "metadata": {},
   "outputs": [
    {
     "name": "stdout",
     "output_type": "stream",
     "text": [
      "Arguments = (1, 2, 3, 4, 5)\n",
      "15\n"
     ]
    }
   ],
   "source": [
    "def sum_all(*args):\n",
    "    print(\"Arguments =\",args)\n",
    "    return sum(args)\n",
    "\n",
    "result = sum_all(1, 2, 3, 4, 5)\n",
    "print(result)"
   ]
  },
  {
   "cell_type": "code",
   "execution_count": 36,
   "id": "b25bb111-899a-427b-9ab5-ea85f46cb02f",
   "metadata": {},
   "outputs": [
    {
     "name": "stdout",
     "output_type": "stream",
     "text": [
      "Arguments = (67, 234, 12, 312, 1)\n",
      "626\n"
     ]
    }
   ],
   "source": [
    "print(sum_all(67,234,12,312,1))"
   ]
  },
  {
   "cell_type": "markdown",
   "id": "122f87ae-2890-4721-969f-8d53c19a1ae7",
   "metadata": {},
   "source": [
    "## b. `**kwargs`\n",
    "Python passes variable length non keyword argument to function using *args but we cannot use this to pass keyword argument. For this problem Python has got a solution called `**kwargs`, it allows us to pass the variable length of **keyword arguments** to the function.\n",
    "\r\n",
    "In the function, we use the double asterisk ** before the parameter name to denote this type of argument. The arguments are passed as **a dictiona**ry and these arguments make a dictionary inside function with name same as the parameter excluding double asterisk **."
   ]
  },
  {
   "cell_type": "code",
   "execution_count": 38,
   "id": "1d719bfc-9e58-4102-92b1-b289c37e246b",
   "metadata": {},
   "outputs": [
    {
     "name": "stdout",
     "output_type": "stream",
     "text": [
      "RealPythonIsGreat!\n"
     ]
    }
   ],
   "source": [
    "def concatenate(**words):\n",
    "    result = \"\"\n",
    "    for val in words.values():\n",
    "        result += val\n",
    "    return result\n",
    "\n",
    "print(concatenate(a=\"Real\", b=\"Python\", c=\"Is\", d=\"Great\", e=\"!\"))"
   ]
  },
  {
   "cell_type": "code",
   "execution_count": 41,
   "id": "bba06389-20fb-483a-83ee-be892c9ded8b",
   "metadata": {},
   "outputs": [
    {
     "name": "stdout",
     "output_type": "stream",
     "text": [
      "['Google uses Angular', 'Facebook uses react', 'Microsoft uses .NET']\n"
     ]
    }
   ],
   "source": [
    "def whatTechTheyUse(**kwargs):\n",
    "    result = []\n",
    "    for key, value in kwargs.items():\n",
    "        result.append(f\"{key} uses {value}\")\n",
    "    return result\n",
    " \n",
    "print(whatTechTheyUse(Google='Angular', Facebook='react', Microsoft='.NET'))\n"
   ]
  },
  {
   "cell_type": "code",
   "execution_count": null,
   "id": "16f2acd9-e2ff-42d2-ac91-8b99099485f6",
   "metadata": {},
   "outputs": [],
   "source": []
  }
 ],
 "metadata": {
  "kernelspec": {
   "display_name": "Python 3 (ipykernel)",
   "language": "python",
   "name": "python3"
  },
  "language_info": {
   "codemirror_mode": {
    "name": "ipython",
    "version": 3
   },
   "file_extension": ".py",
   "mimetype": "text/x-python",
   "name": "python",
   "nbconvert_exporter": "python",
   "pygments_lexer": "ipython3",
   "version": "3.11.3"
  }
 },
 "nbformat": 4,
 "nbformat_minor": 5
}

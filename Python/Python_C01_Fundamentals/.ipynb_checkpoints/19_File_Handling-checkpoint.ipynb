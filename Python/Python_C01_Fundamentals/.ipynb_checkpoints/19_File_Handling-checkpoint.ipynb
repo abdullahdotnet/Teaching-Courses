{
 "cells": [
  {
   "cell_type": "markdown",
   "id": "e988c6f5-c99d-4f25-95f2-feedd5b7f303",
   "metadata": {},
   "source": [
    "# File Handling\n",
    "File handling means reading and writing data using files. We use files to store data. One reason is that once we close our program, all of the data is lost and when we re-run the program, it starts from the beginning. But we can use files to store data even after the program is closed. We can also manipulate the files using programs. We will be seeing how we can do that using Python. There are many types of file but we can categories them in 2 categories just for our simplicity.\n",
    "1. Text files\n",
    "2. Binary file\n",
    "\n",
    "These types includes many other types of files. But for now, we will only see `Text Files`. File handling also depends on the structure of the file. There are many types of files. You may have seen extensions after the file names like `.xlsx` in Excel files, `.txt` in text files and many more types exist. In our course, we will be covering 2 types of text files:  \n",
    "1. Text Files  \n",
    "2. Comma Separated Values (CSV)\n",
    "\n",
    "Let's see how the file handling works :)"
   ]
  },
  {
   "cell_type": "markdown",
   "id": "c7a7d44c-5170-4461-b732-4b5420e89584",
   "metadata": {},
   "source": [
    "### Working with files\n",
    "To use the file either for reading or writing, we need to open the file in different **`modes`**. For reading, we will open it in the reading mode and for writing, we will use writing mode. Some other modes also exist but we may see it later. After doing our work with the file, it is a good practice to <u>close</u> the file as well so the file can be used for normal functioning. To open a file, we use the `open()` function. The first argument is the file name and the second argument is the file mode in which we want to open it. By default, if we don't mention the mode, it will open in `read` mode. While opening the file, you will also write a variable. We will be using that variable for doing anything with the file. That will be a <u>pointer</u> for the file.  \n",
    "`file_pointer = open('file_name.txt',mode)`  \n",
    "In the above syntax shows how we open the file for reading and writing. `file_pointer` is just a variable. You can write any variable name here but we will be using that variable for all of the operations on that file. Then there is file name as a string. After that there is `mode`. Instead of it, you will write `'r'` for read mode and `'w'` for write mode. There are other modes as well, we may see them later.  \n",
    "After doing your working with files, you should close the file as well.  \n",
    "`file_pointer.close()`  \n",
    "**Important Note:** Whether you read or write data inside the file, you will deal with only **strings**.  \n",
    "Let's see the action!!!!!!"
   ]
  },
  {
   "cell_type": "markdown",
   "id": "e2b83f9f-40e5-48c9-9094-b54f23184cec",
   "metadata": {},
   "source": [
    "### Reading data from file\n",
    "You will use `read()` method for reading data from file. When you freshly opens a file, its pointer is at the start. When you read all the data, your pointer reaches at the end by reading characters one by one. So if you try to after that, it will have no data after that and it will return an empty string."
   ]
  },
  {
   "cell_type": "code",
   "execution_count": 25,
   "id": "d57849a0-ff51-4629-9f85-1e6da937ad5e",
   "metadata": {},
   "outputs": [
    {
     "name": "stdout",
     "output_type": "stream",
     "text": [
      "You have done a great progress so far.\n",
      "Keep on working hard. Well done!!\n"
     ]
    }
   ],
   "source": [
    "file = open('19_file01.txt','r')     # Opening the file in read mode\n",
    "data = file.read()     # Reading all the file\n",
    "print(data)"
   ]
  },
  {
   "cell_type": "code",
   "execution_count": 26,
   "id": "2a407bc3-e22d-40bf-a9b6-3b19fd6d31ce",
   "metadata": {},
   "outputs": [
    {
     "name": "stdout",
     "output_type": "stream",
     "text": [
      "\n",
      "<class 'str'>\n"
     ]
    }
   ],
   "source": [
    "data0 = file.read()\n",
    "print(data0)\n",
    "print(type(data0))"
   ]
  },
  {
   "cell_type": "code",
   "execution_count": 27,
   "id": "3b6f9890-bead-43ee-8ca1-53d618c6aab1",
   "metadata": {},
   "outputs": [],
   "source": [
    "file.close()"
   ]
  },
  {
   "cell_type": "code",
   "execution_count": 28,
   "id": "bd8fd384-6864-426c-a7ca-ebb7663b4e35",
   "metadata": {},
   "outputs": [
    {
     "name": "stdout",
     "output_type": "stream",
     "text": [
      "You have d\n",
      "one a great p\n"
     ]
    }
   ],
   "source": [
    "file = open('19_file01.txt')     # Opening the file in read mode, read mode is the default mode\n",
    "data2 = file.read(10)     # Reading 10 characters\n",
    "print(data2)\n",
    "data3 = file.read(13)     # Reading next 13 characters because our pointer is at 10th character due to previous read\n",
    "print(data3)\n",
    "file.close()"
   ]
  },
  {
   "cell_type": "markdown",
   "id": "f5f938ff-8442-4454-a048-beed8f7fa24c",
   "metadata": {},
   "source": [
    "For reading file, file must be present inide the directory or folder otherwise, it will raise an error."
   ]
  },
  {
   "cell_type": "code",
   "execution_count": 42,
   "id": "e6ecfff6-d7e3-45db-9aaa-67cef726eaea",
   "metadata": {},
   "outputs": [],
   "source": [
    "# This will raise error\n",
    "# file01 = open(\"just_a_random.txt\",'r')"
   ]
  },
  {
   "cell_type": "markdown",
   "id": "0049fbdc-1c56-4369-b3c7-d5cd946686f8",
   "metadata": {},
   "source": [
    "### Writing inside the file\n",
    "We use `write()` method for writing data inside the file. When you open the file in the write mode, it first removes all the data and then write the new data. If your file is not created yet, it will create the file with th specified name. Otherwise, it simply clears all the data and writes the new content into it."
   ]
  },
  {
   "cell_type": "code",
   "execution_count": 40,
   "id": "ff0581b4-d443-4033-a9c3-f5edad9d9a87",
   "metadata": {},
   "outputs": [
    {
     "data": {
      "text/plain": [
       "15"
      ]
     },
     "execution_count": 40,
     "metadata": {},
     "output_type": "execute_result"
    }
   ],
   "source": [
    "file_w = open(\"19_Welcome.txt\",\"w\")\n",
    "file_w.write(\"Welcome to file handling topic.\\n\")    # \\n is just for adding a new line.\n",
    "file_w.write(\"This is really usfell. You have to focus on it.\\n\")\n",
    "file_w.write(\"Keep smiling :)\")"
   ]
  },
  {
   "cell_type": "code",
   "execution_count": 41,
   "id": "8b172442-17d0-4966-b951-da9f257ffeed",
   "metadata": {},
   "outputs": [],
   "source": [
    "file_w.close()"
   ]
  },
  {
   "cell_type": "code",
   "execution_count": 59,
   "id": "0de5e8b7-92d2-43b9-84ac-f6baf784aa5c",
   "metadata": {},
   "outputs": [],
   "source": [
    "# import random\n",
    "from random import randint    # Just another way\n",
    "fw = open(\"19_numbers.txt\",'w')\n",
    "fw.write(\"Following are random numbers.\\n\")\n",
    "for i in range(1000):\n",
    "    fw.write(str(randint(10,10000))+'\\n')\n",
    "# Close the file as well to see the results"
   ]
  },
  {
   "cell_type": "code",
   "execution_count": 60,
   "id": "aab34114-a8d4-4702-bae2-1df0a60e9cd5",
   "metadata": {},
   "outputs": [],
   "source": [
    "fw.close()"
   ]
  },
  {
   "cell_type": "code",
   "execution_count": null,
   "id": "54836ae2-5f57-4f06-b30b-584e72ec6e5d",
   "metadata": {},
   "outputs": [],
   "source": []
  }
 ],
 "metadata": {
  "kernelspec": {
   "display_name": "Python 3 (ipykernel)",
   "language": "python",
   "name": "python3"
  },
  "language_info": {
   "codemirror_mode": {
    "name": "ipython",
    "version": 3
   },
   "file_extension": ".py",
   "mimetype": "text/x-python",
   "name": "python",
   "nbconvert_exporter": "python",
   "pygments_lexer": "ipython3",
   "version": "3.11.3"
  }
 },
 "nbformat": 4,
 "nbformat_minor": 5
}

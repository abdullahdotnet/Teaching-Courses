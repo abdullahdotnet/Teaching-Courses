{
 "cells": [
  {
   "cell_type": "markdown",
   "id": "55e5dd58-3d4b-4fba-b0f3-fcefd03319cc",
   "metadata": {},
   "source": [
    "# Type Casting in sequence data types"
   ]
  },
  {
   "cell_type": "markdown",
   "id": "759a2173-20c0-4b11-94fc-76a739e7cd48",
   "metadata": {},
   "source": [
    "Just like we converted simple data types to other data types, similarly, we can convert sequence data types to each other as well like converting a `list` to a `tuple` or `set` etc. We saw earlier that we cannot convert every data type to another, similar is the case for these type casting as well. We cannot converter every sequence to the other. To implement type casting, we use the following functions.  \n",
    "1. `list()`\n",
    "2. `tuple()`\n",
    "3. `set()`\n",
    "4. `dict()`"
   ]
  },
  {
   "cell_type": "markdown",
   "id": "8e26fc45-8f71-4fd6-8823-0cffe65bffb1",
   "metadata": {},
   "source": [
    "1. Take input of 10 numbers from user and create a tuple of the data."
   ]
  },
  {
   "cell_type": "code",
   "execution_count": 3,
   "id": "b71ea65e-a52e-4f79-a789-a320a708917e",
   "metadata": {},
   "outputs": [
    {
     "name": "stdout",
     "output_type": "stream",
     "text": [
      " 4\n",
      " 9\n",
      " 7\n",
      " 8\n",
      " 5\n"
     ]
    },
    {
     "name": "stdout",
     "output_type": "stream",
     "text": [
      "(4, 9, 7, 8, 5)\n"
     ]
    }
   ],
   "source": [
    "data = []\n",
    "for i in range(5):\n",
    "    num = int(input())\n",
    "    data.append(num)\n",
    "tup = tuple(data)\n",
    "print(tup)"
   ]
  },
  {
   "cell_type": "markdown",
   "id": "da92e4a1-08f6-4578-88be-5e02e703327c",
   "metadata": {},
   "source": [
    "2. We have a list of numbers, and we want to remove duplicates from it."
   ]
  },
  {
   "cell_type": "code",
   "execution_count": 4,
   "id": "dc186741-e185-45c0-9b63-415ae3938197",
   "metadata": {},
   "outputs": [
    {
     "name": "stdout",
     "output_type": "stream",
     "text": [
      "[1, 2, 3, 4, 6, 7, 8, 9]\n"
     ]
    }
   ],
   "source": [
    "list_data = [1,2,1,4,6,4,7,8,9,9,2,3]\n",
    "s = set(list_data)\n",
    "list_data = list(s)\n",
    "print(list_data)"
   ]
  },
  {
   "cell_type": "markdown",
   "id": "202bef2a-e2c9-4ce7-9ddc-abfde86cfe37",
   "metadata": {},
   "source": [
    "3. Similarly you can convert tuple to list and set to list as well"
   ]
  },
  {
   "cell_type": "code",
   "execution_count": 2,
   "id": "f0c4d3ce-8da9-4d3a-b6e5-10789f76cd33",
   "metadata": {},
   "outputs": [
    {
     "name": "stdout",
     "output_type": "stream",
     "text": [
      "('apple', 'banannnna', 'orange', 'mango', 'grapes')\n",
      "('apple', 'banana', 'orange', 'mango', 'grapes')\n"
     ]
    }
   ],
   "source": [
    "tup = (\"apple\",\"banannnna\",\"orange\",\"mango\",\"grapes\")\n",
    "print(tup)\n",
    "# modify tuple\n",
    "list_data = list(tup)\n",
    "list_data[1] = \"banana\"\n",
    "tup = tuple(list_data)\n",
    "print(tup)"
   ]
  },
  {
   "cell_type": "code",
   "execution_count": null,
   "id": "ed28a31f",
   "metadata": {},
   "outputs": [],
   "source": [
    "# Similarly if we want to show elements of a set in an order\n",
    "set1 = \n"
   ]
  },
  {
   "cell_type": "code",
   "execution_count": 5,
   "id": "a1bd3fff-cc30-4778-91a3-0edc1a7177ee",
   "metadata": {},
   "outputs": [
    {
     "name": "stdout",
     "output_type": "stream",
     "text": [
      "{'a': 1, 'b': 2, 'c': 3}\n"
     ]
    }
   ],
   "source": [
    "# Using a list of tuples to create a dictionary\n",
    "list_of_tuples = [('a', 1), ('b', 2), ('c', 3)]\n",
    "my_dict = dict(list_of_tuples)\n",
    "print(my_dict)"
   ]
  },
  {
   "cell_type": "code",
   "execution_count": null,
   "id": "18887740-92e9-43ec-b8da-aa7ed70d2e91",
   "metadata": {},
   "outputs": [],
   "source": []
  }
 ],
 "metadata": {
  "kernelspec": {
   "display_name": "Python 3 (ipykernel)",
   "language": "python",
   "name": "python3"
  },
  "language_info": {
   "codemirror_mode": {
    "name": "ipython",
    "version": 3
   },
   "file_extension": ".py",
   "mimetype": "text/x-python",
   "name": "python",
   "nbconvert_exporter": "python",
   "pygments_lexer": "ipython3",
   "version": "3.11.3"
  }
 },
 "nbformat": 4,
 "nbformat_minor": 5
}

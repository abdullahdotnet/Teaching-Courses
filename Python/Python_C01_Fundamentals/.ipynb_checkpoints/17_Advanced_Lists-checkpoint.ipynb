{
 "cells": [
  {
   "cell_type": "markdown",
   "id": "da8c1fcc-3b37-4c61-8402-c8a8636ba56a",
   "metadata": {},
   "source": [
    "# Nested List\n",
    "Nested list mean lists, inside the list. Nested lists are also really useful. You just need to stick to the fundamentals and everything will work smoothly. There can be multi-dimensional lists like 2D lists, 3D or 4D. Let's see how nested lists works."
   ]
  },
  {
   "cell_type": "code",
   "execution_count": 2,
   "id": "a365e1d0-e16c-49c2-82d0-95c7a6e01d18",
   "metadata": {},
   "outputs": [
    {
     "name": "stdout",
     "output_type": "stream",
     "text": [
      "[1, 4, 6, 9, 2, 4]\n"
     ]
    }
   ],
   "source": [
    "# Simple list.\n",
    "number_list = [1,4,6,9,2,4]\n",
    "print(number_list)"
   ]
  },
  {
   "cell_type": "code",
   "execution_count": 3,
   "id": "932e81cd-936c-45e0-9da9-eb39870d8702",
   "metadata": {},
   "outputs": [
    {
     "name": "stdout",
     "output_type": "stream",
     "text": [
      "[[3, 4, 5], [1, 5, 9], [2, 7, 2]]\n"
     ]
    }
   ],
   "source": [
    "# 2D list\n",
    "matrix = [[3,4,5],[1,5,9],[2,7,2]]\n",
    "print(matrix)"
   ]
  },
  {
   "cell_type": "markdown",
   "id": "2f1d1b1f-47ad-4907-a91c-0e4a04c48e0d",
   "metadata": {},
   "source": [
    "### 1. Accessing elements in multidimentional lists\n",
    "Just like we access the elements in the simple lists, accessing elements in the multi-dimentinal lists is the same. `number_list[0]` will give you the first element of that list. If you run this command on the multidimentional list, it will also give you the first element as well but in case of multi-dimentional lists, that first element will also be a list. Let's see it."
   ]
  },
  {
   "cell_type": "code",
   "execution_count": 4,
   "id": "1146f56f-7f79-45fe-a9f3-79398086f391",
   "metadata": {},
   "outputs": [
    {
     "name": "stdout",
     "output_type": "stream",
     "text": [
      "1\n",
      "[3, 4, 5]\n"
     ]
    }
   ],
   "source": [
    "print(number_list[0])\n",
    "print(matrix[0])"
   ]
  },
  {
   "cell_type": "markdown",
   "id": "a63e7b61-7677-491e-a7b9-13ae3e6605b2",
   "metadata": {},
   "source": [
    "So if you want to access the element of the nested list you will again write another index to access the further elements. Like `matrix[0][1]` will give you the 2nd element of the first list inside the matrix."
   ]
  },
  {
   "cell_type": "code",
   "execution_count": 5,
   "id": "92f84387-8f3f-43af-9639-208c1eb7757a",
   "metadata": {},
   "outputs": [
    {
     "name": "stdout",
     "output_type": "stream",
     "text": [
      "4\n"
     ]
    }
   ],
   "source": [
    "print(matrix[0][1])"
   ]
  },
  {
   "cell_type": "markdown",
   "id": "f39a04e6-1629-4d97-bb2e-2061d9a30077",
   "metadata": {},
   "source": [
    "Similarly for a 3D list, you will write three indexes to get the elements."
   ]
  },
  {
   "cell_type": "code",
   "execution_count": 6,
   "id": "c1c8c376-0f61-41dd-9b49-fc5d4c0883cd",
   "metadata": {},
   "outputs": [
    {
     "name": "stdout",
     "output_type": "stream",
     "text": [
      "['a', 4, 6, ['bv', 98, 5]]\n"
     ]
    }
   ],
   "source": [
    "# 3D list\n",
    "list_3 = [[2,4,5],['a',4,6,['bv',98,5]]]\n",
    "print(list_3[1])"
   ]
  },
  {
   "cell_type": "code",
   "execution_count": 7,
   "id": "271a1b99-2781-451d-848c-7c4b35de01b7",
   "metadata": {},
   "outputs": [
    {
     "name": "stdout",
     "output_type": "stream",
     "text": [
      "['bv', 98, 5]\n"
     ]
    }
   ],
   "source": [
    "print(list_3[1][3])"
   ]
  },
  {
   "cell_type": "code",
   "execution_count": 8,
   "id": "4c046c02-e425-4114-9580-3208da9c8616",
   "metadata": {},
   "outputs": [
    {
     "name": "stdout",
     "output_type": "stream",
     "text": [
      "98\n"
     ]
    }
   ],
   "source": [
    "print(list_3[1][3][1])"
   ]
  },
  {
   "cell_type": "code",
   "execution_count": null,
   "id": "b10a25cb-b230-4b95-8941-b6ef019087d5",
   "metadata": {},
   "outputs": [],
   "source": []
  }
 ],
 "metadata": {
  "kernelspec": {
   "display_name": "Python 3 (ipykernel)",
   "language": "python",
   "name": "python3"
  },
  "language_info": {
   "codemirror_mode": {
    "name": "ipython",
    "version": 3
   },
   "file_extension": ".py",
   "mimetype": "text/x-python",
   "name": "python",
   "nbconvert_exporter": "python",
   "pygments_lexer": "ipython3",
   "version": "3.11.3"
  }
 },
 "nbformat": 4,
 "nbformat_minor": 5
}

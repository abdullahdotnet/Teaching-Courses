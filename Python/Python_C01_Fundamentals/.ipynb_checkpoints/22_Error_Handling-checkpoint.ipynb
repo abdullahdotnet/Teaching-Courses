{
 "cells": [
  {
   "cell_type": "markdown",
   "id": "86d64b35-ac86-4e59-9f5b-a12613b09489",
   "metadata": {},
   "source": [
    "# Error Handling in Python\n",
    "Error handling is a crucial aspect of programming, ensuring your program continues to run smoothly even when unexpected issues arise. In Python, exceptions are used to handle errors, allowing you to control the program's behavior and provide informative messages for debugging."
   ]
  },
  {
   "cell_type": "markdown",
   "id": "d49b9386-18e7-450d-ac2a-446e635d0041",
   "metadata": {},
   "source": [
    "## 1. Types of Errors:\n",
    "**a) Syntax errors**: These occur when you violate the grammatical rules of Python. They are detected while the code is being parsed and prevent the program from even running.  \n",
    "**b) Exceptions**: These are runtime errors that occur during program execution. They can be caused by various factors, including invalid data, missing files, or network problems.  \n",
    "**Note:** While error handling, we can handle only exceptions. We cannot handle syntax errors."
   ]
  },
  {
   "cell_type": "markdown",
   "id": "ca5ffb1f-9916-4c44-afe6-fb3543abae7a",
   "metadata": {},
   "source": [
    "## 2. Exception Handling Keywords:\n",
    "`try`: This block contains the code you want to monitor for potential errors.  \n",
    "`except`: This block defines how to handle specific exceptions. You can specify which exceptions to catch and provide appropriate responses.  \n",
    "`else`: This clause must be present after all the except clauses. The code enters the else block only if the try clause does not raise an exception.  \n",
    "`finally`: This block is executed regardless of whether an exception occurs or not. It's typically used to clean up resources or close files or connections."
   ]
  },
  {
   "cell_type": "raw",
   "id": "9767ae3a-cf37-4cf6-af5d-7fa177dac3e5",
   "metadata": {},
   "source": [
    "try:\n",
    "    # Some Code.... \n",
    "\n",
    "except:\n",
    "    # optional block\n",
    "    # Handling of exception (if required)\n",
    "\n",
    "else:\n",
    "    # execute if no exception\n",
    "\n",
    "finally:\n",
    "    # Some code .....(always executed)"
   ]
  },
  {
   "cell_type": "markdown",
   "id": "daab913e-980a-4f0c-8487-483a83cefe4f",
   "metadata": {},
   "source": [
    "### Examples"
   ]
  },
  {
   "cell_type": "code",
   "execution_count": null,
   "id": "93f3d4eb-f0c5-466f-a121-0e4e734276fe",
   "metadata": {},
   "outputs": [],
   "source": [
    "print(x)"
   ]
  },
  {
   "cell_type": "code",
   "execution_count": null,
   "id": "0be6a3dc-d5b7-4090-b7fb-50f0810d5929",
   "metadata": {},
   "outputs": [],
   "source": [
    "try:\n",
    "    print(x)\n",
    "except:\n",
    "    print(\"Something is missing. Check your code again\")"
   ]
  },
  {
   "cell_type": "code",
   "execution_count": 2,
   "id": "b4e697d4-8ea2-4d8b-9d5c-fd890a031ff4",
   "metadata": {},
   "outputs": [
    {
     "name": "stdout",
     "output_type": "stream",
     "text": [
      "this is \n"
     ]
    }
   ],
   "source": [
    "# Syntax errors cannot be handled\n",
    "try:\n",
    "    print \"this is \")\n",
    "except:\n",
    "    print(\"syntax error\")"
   ]
  },
  {
   "cell_type": "code",
   "execution_count": 3,
   "id": "9923a3bf-fe73-4cc7-8c38-f4de92d3290c",
   "metadata": {},
   "outputs": [
    {
     "name": "stdin",
     "output_type": "stream",
     "text": [
      "Enter your age:  56\n"
     ]
    },
    {
     "name": "stdout",
     "output_type": "stream",
     "text": [
      "You are 56 years old.\n"
     ]
    }
   ],
   "source": [
    "try:\n",
    "  # Code that might raise an exception\n",
    "  age = int(input(\"Enter your age: \"))\n",
    "except ValueError:\n",
    "  print(\"Invalid input. Please enter a number.\")\n",
    "else:\n",
    "  print(f\"You are {age} years old.\")\n",
    "finally:\n",
    "  # Clean up resources\n",
    "  pass\n"
   ]
  },
  {
   "cell_type": "markdown",
   "id": "45827458-ab49-494e-ac60-c3be3ef51e93",
   "metadata": {},
   "source": [
    "### Many Exceptions\r\n",
    "You can define as many exception blocks as you want, e.g. if you want to execute a special block of code for a special kind of error:"
   ]
  },
  {
   "cell_type": "code",
   "execution_count": null,
   "id": "faec3415-2f24-4948-b942-9d99684d482a",
   "metadata": {},
   "outputs": [],
   "source": [
    "try:\n",
    "  print(x)\n",
    "except NameError:\n",
    "  print(\"Variable x is not defined\")\n",
    "except:\n",
    "  print(\"Something else went wrong\")"
   ]
  },
  {
   "cell_type": "code",
   "execution_count": null,
   "id": "f718f256-bb1c-4661-bc07-59a5858190ab",
   "metadata": {},
   "outputs": [],
   "source": [
    "# Try to open and write to a file that is not writable\n",
    "try:\n",
    "  f = open(\"22_demofile.txt\")\n",
    "  try:\n",
    "    f.write(\"Lorum Ipsum\")\n",
    "  except:\n",
    "    print(\"Something went wrong when writing to the file\")\n",
    "  finally:\n",
    "    f.close()\n",
    "except:\n",
    "  print(\"Something went wrong when opening the file\")"
   ]
  },
  {
   "cell_type": "code",
   "execution_count": null,
   "id": "1dec8322-9527-480f-9875-cf631695cd63",
   "metadata": {},
   "outputs": [],
   "source": [
    "while True:\n",
    "    try:\n",
    "        x = int(input(\"Please enter a number: \"))\n",
    "        break\n",
    "    except ValueError:\n",
    "        print(\"Oops!  That was no valid number.  Try again...\")"
   ]
  },
  {
   "cell_type": "markdown",
   "id": "af629754-3c34-4fa3-963c-db0cc1115bbc",
   "metadata": {},
   "source": [
    "If you dont know which error occured and you also want to show the error as well then you can use the following code:"
   ]
  },
  {
   "cell_type": "code",
   "execution_count": 1,
   "id": "f4caea43-6f55-44ef-b622-79d3801bfd9a",
   "metadata": {},
   "outputs": [
    {
     "name": "stdout",
     "output_type": "stream",
     "text": [
      "Error occured: division by zero\n"
     ]
    }
   ],
   "source": [
    "try:\n",
    "    ans = 10/0\n",
    "    print(ans)\n",
    "except Exception as e:\n",
    "    print(\"Error occured:\",e)"
   ]
  },
  {
   "cell_type": "markdown",
   "id": "3280e20c-6ff4-47ac-a491-56296a1f860f",
   "metadata": {},
   "source": [
    "## Raise an exception\n",
    "As a Python developer you can choose to throw an exception if a condition occurs.  \n",
    "\r\n",
    "To throw (or raise) an exception, use the raise keyword."
   ]
  },
  {
   "cell_type": "code",
   "execution_count": null,
   "id": "7e4fd400-e1a9-40a6-9e1a-640675134b55",
   "metadata": {},
   "outputs": [],
   "source": [
    "# Raise an error and stop the program if x is lower than 0:\n",
    "x = -1\n",
    "\n",
    "if x < 0:\n",
    "  raise Exception(\"Sorry, no numbers below zero\")"
   ]
  },
  {
   "cell_type": "code",
   "execution_count": null,
   "id": "8150f19c-f3b0-4de8-a688-215902160559",
   "metadata": {},
   "outputs": [],
   "source": []
  }
 ],
 "metadata": {
  "kernelspec": {
   "display_name": "Python 3 (ipykernel)",
   "language": "python",
   "name": "python3"
  },
  "language_info": {
   "codemirror_mode": {
    "name": "ipython",
    "version": 3
   },
   "file_extension": ".py",
   "mimetype": "text/x-python",
   "name": "python",
   "nbconvert_exporter": "python",
   "pygments_lexer": "ipython3",
   "version": "3.11.3"
  }
 },
 "nbformat": 4,
 "nbformat_minor": 5
}

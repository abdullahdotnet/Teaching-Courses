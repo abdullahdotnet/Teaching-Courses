{
 "cells": [
  {
   "cell_type": "markdown",
   "id": "f36af9aa-29a7-42ce-8a56-78ff3368c9d2",
   "metadata": {},
   "source": [
    "# Nested Sequences"
   ]
  },
  {
   "cell_type": "markdown",
   "id": "da8c1fcc-3b37-4c61-8402-c8a8636ba56a",
   "metadata": {},
   "source": [
    "## 1. Nested List\n",
    "Nested list mean lists, inside the list. Nested lists are also really useful. You just need to stick to the fundamentals and everything will work smoothly. There can be multi-dimensional lists like 2D lists, 3D or 4D. Let's see how nested lists works."
   ]
  },
  {
   "cell_type": "code",
   "execution_count": null,
   "id": "a365e1d0-e16c-49c2-82d0-95c7a6e01d18",
   "metadata": {},
   "outputs": [],
   "source": [
    "# Simple list.\n",
    "number_list = [1,4,6,9,2,4]\n",
    "print(number_list)"
   ]
  },
  {
   "cell_type": "code",
   "execution_count": null,
   "id": "932e81cd-936c-45e0-9da9-eb39870d8702",
   "metadata": {},
   "outputs": [],
   "source": [
    "# 2D list\n",
    "matrix = [[3,4,5],[1,5,9],[2,7,2]]\n",
    "print(matrix)"
   ]
  },
  {
   "cell_type": "markdown",
   "id": "2f1d1b1f-47ad-4907-a91c-0e4a04c48e0d",
   "metadata": {},
   "source": [
    "### i) Accessing elements in multidimentional lists\n",
    "Just like we access the elements in the simple lists, accessing elements in the multi-dimentinal lists is the same. `number_list[0]` will give you the first element of that list. If you run this command on the multidimentional list, it will also give you the first element as well but in case of multi-dimentional lists, that first element will also be a list. Let's see it."
   ]
  },
  {
   "cell_type": "code",
   "execution_count": null,
   "id": "1146f56f-7f79-45fe-a9f3-79398086f391",
   "metadata": {},
   "outputs": [],
   "source": [
    "print(number_list[3])\n",
    "print(matrix[0])"
   ]
  },
  {
   "cell_type": "markdown",
   "id": "a63e7b61-7677-491e-a7b9-13ae3e6605b2",
   "metadata": {},
   "source": [
    "So if you want to access the element of the nested list you will again write another index to access the further elements. Like `matrix[0][1]` will give you the 2nd element of the first list inside the matrix."
   ]
  },
  {
   "cell_type": "code",
   "execution_count": null,
   "id": "92f84387-8f3f-43af-9639-208c1eb7757a",
   "metadata": {},
   "outputs": [],
   "source": [
    "print(matrix[0][1])"
   ]
  },
  {
   "cell_type": "markdown",
   "id": "f39a04e6-1629-4d97-bb2e-2061d9a30077",
   "metadata": {},
   "source": [
    "Similarly for a 3D list, you will write three indexes to get the elements."
   ]
  },
  {
   "cell_type": "code",
   "execution_count": null,
   "id": "c1c8c376-0f61-41dd-9b49-fc5d4c0883cd",
   "metadata": {},
   "outputs": [],
   "source": [
    "# 3D list\n",
    "list_3 = [[2,4,5],['a',4,6,['bv',98,5]]]\n",
    "print(list_3[1])"
   ]
  },
  {
   "cell_type": "code",
   "execution_count": null,
   "id": "271a1b99-2781-451d-848c-7c4b35de01b7",
   "metadata": {},
   "outputs": [],
   "source": [
    "print(list_3[1][3])"
   ]
  },
  {
   "cell_type": "code",
   "execution_count": null,
   "id": "4c046c02-e425-4114-9580-3208da9c8616",
   "metadata": {},
   "outputs": [],
   "source": [
    "print(list_3[1][3][1])"
   ]
  },
  {
   "cell_type": "markdown",
   "id": "26671b6f-eb54-46ec-9942-ffb083f84f50",
   "metadata": {},
   "source": [
    "### ii) Iterating Over nested lists"
   ]
  },
  {
   "cell_type": "code",
   "execution_count": null,
   "id": "d6661e7c-d99f-4d5a-940e-f31df7fddaf0",
   "metadata": {},
   "outputs": [],
   "source": [
    "matrix = [[3,4,5],[1,5,9],[2,7,2]]\n",
    "for i in matrix:\n",
    "    for j in i:\n",
    "        print(j)\n",
    "\n",
    "# for i in range(len(matrix)):\n",
    "#     for j in range(len(matrix[1])):\n",
    "#         print(matrix[i][j])"
   ]
  },
  {
   "cell_type": "markdown",
   "id": "d6a7f15c-db5e-41a3-a650-19284341381e",
   "metadata": {},
   "source": [
    "## 2. Some other nested sequences"
   ]
  },
  {
   "cell_type": "markdown",
   "id": "c6d2d2a2-3bfd-4731-9255-a4f0c881cc27",
   "metadata": {},
   "source": [
    "Tuple inside a list"
   ]
  },
  {
   "cell_type": "code",
   "execution_count": null,
   "id": "76bf7977-e6c5-4547-843d-6cbf6dfb6501",
   "metadata": {},
   "outputs": [],
   "source": [
    "list_1 = [(2,3),(45,6),(\"abg\",\"%$#\")]\n",
    "print(list_1)"
   ]
  },
  {
   "cell_type": "code",
   "execution_count": null,
   "id": "76c05df8-1449-4945-81de-2170af07307c",
   "metadata": {},
   "outputs": [],
   "source": [
    "print(list_1[2])"
   ]
  },
  {
   "cell_type": "code",
   "execution_count": null,
   "id": "f8aa6e3b-2fd7-465e-87b3-697c07716e86",
   "metadata": {},
   "outputs": [],
   "source": [
    "print(list_1[2][1])"
   ]
  },
  {
   "cell_type": "markdown",
   "id": "af5437c4-28f1-415c-aea3-dff3a18c2173",
   "metadata": {},
   "source": [
    "Tuple, set and dictionary inside a list"
   ]
  },
  {
   "cell_type": "code",
   "execution_count": null,
   "id": "e28d48e0-295f-4bd0-99cd-b80fef5f6a1a",
   "metadata": {},
   "outputs": [],
   "source": [
    "list_2 = [(4,5,6,7),{3,8,9,5},{\"a\":1,'b':2,\"c\":3}]\n",
    "print(list_2)"
   ]
  },
  {
   "cell_type": "markdown",
   "id": "c0f7402d-3559-4b82-9ff0-8d7e92ba2e8b",
   "metadata": {},
   "source": [
    "Once you have accessed the element, you can use its methods and all of the other stuff that you learned earlier.  \n",
    "For example you have accessed the set, now you can use properties of set."
   ]
  },
  {
   "cell_type": "code",
   "execution_count": null,
   "id": "c88192ef-b856-4086-8562-a18db60a0b8a",
   "metadata": {},
   "outputs": [],
   "source": [
    "list_2[1].add(4)\n",
    "print(list_2)"
   ]
  },
  {
   "cell_type": "markdown",
   "id": "5bcbe4d6-6666-48d6-898e-c627db31617a",
   "metadata": {},
   "source": [
    "Similarly, after accessing the dictionary, you can use its features or properties"
   ]
  },
  {
   "cell_type": "code",
   "execution_count": null,
   "id": "343c628d-206b-44c6-a2de-eae879565649",
   "metadata": {},
   "outputs": [],
   "source": [
    "print(list_2[2]['b'])"
   ]
  },
  {
   "cell_type": "markdown",
   "id": "efb68a8a-d502-41fd-8976-ae1f6d2c8286",
   "metadata": {},
   "source": [
    "#### List inside a tuple"
   ]
  },
  {
   "cell_type": "code",
   "execution_count": null,
   "id": "1479e38e-0130-4a17-be15-f5218979b200",
   "metadata": {},
   "outputs": [],
   "source": [
    "tup = (2,4,[\"a\",\"gf\",\"c\"],(2,4,\"A\"))\n",
    "print(tup)"
   ]
  },
  {
   "cell_type": "markdown",
   "id": "b448b325-18a8-44bd-827d-05274f9e67b2",
   "metadata": {},
   "source": [
    "Until here, we know that tuples are immutable and we cannot change their elements. Let's modify this:  \n",
    "*The immutability of a tuple means the tuple itself cannot be changed, but it does not extend to the objects it contains if those objects are mutable. The key concept here is that the identity of the tuple (the memory location it occupies) cannot be changed, but the state of mutable objects inside the tuple can be modified.*\n",
    "It means if a tuple contains a mutable object or element, then we can change that element but we cannot change the overall structure of the tuple."
   ]
  },
  {
   "cell_type": "code",
   "execution_count": null,
   "id": "d325e74a-088c-42d9-9885-fd11e8c01fe3",
   "metadata": {},
   "outputs": [],
   "source": [
    "# This will work because we are changing elements inside the list.\n",
    "tup[2][1] = \"b\"\n",
    "print(tup)"
   ]
  },
  {
   "cell_type": "markdown",
   "id": "3aafb1cf-fa69-421a-80bd-426a3a6897a0",
   "metadata": {},
   "source": [
    "But the following lines will raise errors because you are not allowed to change direct elements of a tuple"
   ]
  },
  {
   "cell_type": "code",
   "execution_count": null,
   "id": "4ec03a2b-41d5-4ac3-af46-5cb4a524f0fd",
   "metadata": {},
   "outputs": [],
   "source": [
    "# tup[2] = \"trying\"\n",
    "# tup[2] = ['a', 'b', 'c']"
   ]
  },
  {
   "cell_type": "code",
   "execution_count": null,
   "id": "e00bb27a-c151-454f-a0b9-f8fe03c20c63",
   "metadata": {},
   "outputs": [],
   "source": []
  }
 ],
 "metadata": {
  "kernelspec": {
   "display_name": "Python 3 (ipykernel)",
   "language": "python",
   "name": "python3"
  },
  "language_info": {
   "codemirror_mode": {
    "name": "ipython",
    "version": 3
   },
   "file_extension": ".py",
   "mimetype": "text/x-python",
   "name": "python",
   "nbconvert_exporter": "python",
   "pygments_lexer": "ipython3",
   "version": "3.11.3"
  }
 },
 "nbformat": 4,
 "nbformat_minor": 5
}

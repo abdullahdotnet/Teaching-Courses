{
 "cells": [
  {
   "cell_type": "markdown",
   "id": "dbc10907-6a9b-42e5-91c7-162390d36429",
   "metadata": {},
   "source": [
    "# Tuple\n",
    "A tuple is an ordered and immutable collection of elements. Immutable means once a tuple is created, you cannot change its values.  \n",
    "**Use Cases:**  Tuples are useful for representing fixed collections of items.  \n",
    "In function returns where multiple values need to be returned.    \n",
    "Following is the **syntax** for tuple creation. "
   ]
  },
  {
   "cell_type": "code",
   "execution_count": null,
   "id": "c8fa1274-7868-4e9c-90ce-457a913d876f",
   "metadata": {},
   "outputs": [],
   "source": [
    "fruits = ('mango', 'apple', 'banana', 'cherry', 'date', 'orange')\n",
    "print(fruits)\n",
    "print(type(fruits))"
   ]
  },
  {
   "cell_type": "markdown",
   "id": "cbdecc14-c4db-4af2-83bb-8ad0f644707f",
   "metadata": {},
   "source": [
    "### 1. Accessing elements from tuple"
   ]
  },
  {
   "cell_type": "code",
   "execution_count": null,
   "id": "95371982-dd74-47c8-b87c-13d8a4d4413d",
   "metadata": {},
   "outputs": [],
   "source": [
    "print(fruits[0])\n",
    "print(fruits[3])\n",
    "print(fruits[4])\n",
    "print(fruits[5])\n",
    "print(fruits[-1])    # Can access elements from reverse order"
   ]
  },
  {
   "cell_type": "markdown",
   "id": "de7a0dd4-0fad-4c0b-84af-5d4046bb6bbb",
   "metadata": {},
   "source": [
    "### 2. Immutable/Non-changeable: We cannot change elements of a tuple after its creation"
   ]
  },
  {
   "cell_type": "code",
   "execution_count": null,
   "id": "0743b65f-4cab-43a7-814b-094ad261d48a",
   "metadata": {},
   "outputs": [],
   "source": [
    "#fruit[4] = \"grape\"    # Gives you error because you can't change the items in a tuple\n",
    "#print(fruit)"
   ]
  },
  {
   "cell_type": "markdown",
   "id": "c54ed5ce-8933-4b51-bb00-dfd9fb20b275",
   "metadata": {},
   "source": [
    "### 3. Useful functions  \n",
    "   i. len(my_tuple)  \n",
    "   ii. sum(my_tuple)  \n",
    "   iii. my_tuple.index(element)  \n",
    "   iv. my_tuple.count(element)"
   ]
  },
  {
   "cell_type": "code",
   "execution_count": null,
   "id": "83b55d8a-6261-46bc-b520-2928e72a4481",
   "metadata": {},
   "outputs": [],
   "source": [
    "# i. len(my_tuple)\n"
   ]
  },
  {
   "cell_type": "code",
   "execution_count": null,
   "id": "598f857b-e6a8-4d40-bd3f-8091988f5b86",
   "metadata": {},
   "outputs": [],
   "source": [
    "# ii. sum(my_tuple)\n",
    "numbers = (34,23,56,89,45,67)\n"
   ]
  },
  {
   "cell_type": "code",
   "execution_count": null,
   "id": "0e9fa995-ac20-4ae5-87fd-339b0ff78283",
   "metadata": {},
   "outputs": [],
   "source": [
    "# iii. my_tuple.index(element)      \n",
    "print(numbers.index(56))"
   ]
  },
  {
   "cell_type": "markdown",
   "id": "a5525304-463e-4a7b-bfc3-f13c16e4c082",
   "metadata": {},
   "source": [
    "### 4. Iterating over lists"
   ]
  },
  {
   "cell_type": "code",
   "execution_count": null,
   "id": "7770a30a-19ea-4278-af3b-1f95efee214e",
   "metadata": {},
   "outputs": [],
   "source": [
    "# Using while loop\n"
   ]
  },
  {
   "cell_type": "code",
   "execution_count": null,
   "id": "4ba3ffa3-a8e7-4fec-b07e-88e109ce669f",
   "metadata": {},
   "outputs": [],
   "source": [
    "# using range function and simple iteration\n"
   ]
  },
  {
   "cell_type": "markdown",
   "id": "b0a95a86-a10f-4b85-a3e5-72fd00adbce5",
   "metadata": {},
   "source": [
    "### 5. Tuple slicing\n",
    "Here is the syntax for slicing:  \n",
    "sliced_list = my_tuple[start_index:end_index:step]\n",
    "If we dont give start_index and end_index, by default the values are as follows:  \n",
    "start_index = 0 <br>\n",
    "end_index = len(my_list) upto end <br>\n",
    "step = 1  \n",
    "**Note:** Slicing does not slice the original sequence. It creates a new sequence either it is tuple or list. If you print the original sequence, it will be the same. That's why slicing is possible in case of tuple as well because we are not changing the original tuple."
   ]
  },
  {
   "cell_type": "code",
   "execution_count": null,
   "id": "da28df30-4aa3-40e5-b8c5-701e4edffaae",
   "metadata": {},
   "outputs": [],
   "source": [
    "my_tup = ['a', 'b', 'c', 'd', 'e', 'f', 'g', 'h', 'i', 'j']\n",
    "# sliced_list = my_list[start_index:end_index:step]\n",
    "new_tup = my_tup[1:2] \n",
    "print(new_tup)"
   ]
  },
  {
   "cell_type": "code",
   "execution_count": null,
   "id": "d08007cb-2bb9-4f7c-90ff-35c07b6fa665",
   "metadata": {},
   "outputs": [],
   "source": [
    "print(my_tup[6:8:3])"
   ]
  },
  {
   "cell_type": "code",
   "execution_count": null,
   "id": "e6b5df7d",
   "metadata": {},
   "outputs": [],
   "source": [
    "print(my_tup[::-1])    # can be used to reverse the list"
   ]
  },
  {
   "cell_type": "code",
   "execution_count": null,
   "id": "27e9ecb9",
   "metadata": {},
   "outputs": [],
   "source": [
    "print(my_tup[8:3:-2])    # in case of -ve steps, it will work in opposite way"
   ]
  },
  {
   "cell_type": "markdown",
   "id": "8607e807-efa6-4832-8362-84c9c8371595",
   "metadata": {},
   "source": [
    "### Packing and unpacking\n",
    "**Packing:** Packing is the process of putting values into a tuple. This is done by creating a tuple and assigning values to it."
   ]
  },
  {
   "cell_type": "code",
   "execution_count": null,
   "id": "e7a3740a-f373-4364-9405-35f40e5ae0cb",
   "metadata": {},
   "outputs": [],
   "source": [
    "# Another way of packing values into tuple\n",
    "tup1 = 30,40,76,98\n",
    "print(tup1)"
   ]
  },
  {
   "cell_type": "markdown",
   "id": "acceb8c2-8724-444f-acd0-959e9702c8d1",
   "metadata": {},
   "source": [
    "Similarly when you return multiple values directly from a function, they are also return in the form of tuple automatically like in the following example."
   ]
  },
  {
   "cell_type": "code",
   "execution_count": null,
   "id": "a0e2feac-88c4-4109-be4b-78ec3afbe723",
   "metadata": {},
   "outputs": [],
   "source": [
    "def add_and_multiply(x, y):\n",
    "    sum_result = x + y\n",
    "    product_result = x * y\n",
    "    # Return a tuple containing both results\n",
    "    return sum_result, product_result\n",
    "\n",
    "result = add_and_multiply(4,9)\n",
    "print(result)\n",
    "# If you want separate sum and product then you can access them like simple way we done above.\n",
    "total = result[0]\n",
    "prod = result[1]"
   ]
  },
  {
   "cell_type": "markdown",
   "id": "bd48e895-bba8-4d94-be46-3e250734f8cd",
   "metadata": {},
   "source": [
    "**Unpacking:** Unpacking is the process of extracting values from a tuple. This is done by assigning the values of a tuple to variables. The number of variables on the left side of the assignment must match the number of elements in the tuple."
   ]
  },
  {
   "cell_type": "code",
   "execution_count": null,
   "id": "e7c300cb-023d-4dee-b9cb-8e2309b5477c",
   "metadata": {},
   "outputs": [],
   "source": [
    "a,b,c,d = tup1\n",
    "print(a, b, c, d)"
   ]
  },
  {
   "cell_type": "code",
   "execution_count": null,
   "id": "4effedb6-066c-43b6-b66c-e8c98898b1df",
   "metadata": {},
   "outputs": [],
   "source": [
    "total,prod = add_and_multiply(4,9)\n",
    "print(total,prod)"
   ]
  },
  {
   "cell_type": "code",
   "execution_count": null,
   "id": "4fa8a425-76fa-452f-a341-2c96cf6c926f",
   "metadata": {},
   "outputs": [],
   "source": [
    "data = (1, 2, 3, 4, 5, 6, 7)\n",
    "x, y, z, *rest = data\n",
    "print(x,y,z,rest)"
   ]
  },
  {
   "cell_type": "code",
   "execution_count": null,
   "id": "e2cffe18-434b-4f6b-b9bf-7e3d679dc8ec",
   "metadata": {},
   "outputs": [],
   "source": []
  }
 ],
 "metadata": {
  "kernelspec": {
   "display_name": "Python 3 (ipykernel)",
   "language": "python",
   "name": "python3"
  },
  "language_info": {
   "codemirror_mode": {
    "name": "ipython",
    "version": 3
   },
   "file_extension": ".py",
   "mimetype": "text/x-python",
   "name": "python",
   "nbconvert_exporter": "python",
   "pygments_lexer": "ipython3",
   "version": "3.11.3"
  }
 },
 "nbformat": 4,
 "nbformat_minor": 5
}

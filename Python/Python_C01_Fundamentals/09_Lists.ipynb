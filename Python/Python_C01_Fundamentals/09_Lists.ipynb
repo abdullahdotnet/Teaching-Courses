{
 "cells": [
  {
   "cell_type": "markdown",
   "id": "60b3b91b-50d8-4fb6-852e-e5d58939fc6d",
   "metadata": {},
   "source": [
    "# Lists\n",
    "Lists in Python are collections of indexed items, mutable and capable of holding elements of different data types. In other programming languages, arrays are used instead of lists but both are mostly similar.\n",
    "\n",
    "**Syntax:**\n",
    "```python\n",
    "list_name = [item1, item2, item3, ...]\n",
    "print(type(list_name))    # <class 'list'>\n",
    "```"
   ]
  },
  {
   "cell_type": "code",
   "execution_count": null,
   "id": "c8fa1274-7868-4e9c-90ce-457a913d876f",
   "metadata": {},
   "outputs": [],
   "source": [
    "fruits = ['mango', 'apple', 'banana', 'cherry', 'date', 'orange']\n",
    "print(fruits)"
   ]
  },
  {
   "cell_type": "markdown",
   "id": "cbdecc14-c4db-4af2-83bb-8ad0f644707f",
   "metadata": {},
   "source": [
    "## 1. Accessing elements from lists"
   ]
  },
  {
   "cell_type": "code",
   "execution_count": null,
   "id": "84c6ab70",
   "metadata": {},
   "outputs": [],
   "source": []
  },
  {
   "cell_type": "markdown",
   "id": "80a20e05",
   "metadata": {},
   "source": [
    "1.1 Accessing from reverse order"
   ]
  },
  {
   "cell_type": "code",
   "execution_count": null,
   "id": "95371982-dd74-47c8-b87c-13d8a4d4413d",
   "metadata": {},
   "outputs": [],
   "source": []
  },
  {
   "cell_type": "markdown",
   "id": "de7a0dd4-0fad-4c0b-84af-5d4046bb6bbb",
   "metadata": {},
   "source": [
    "## 2. Mutable OR Changeable\n",
    "We can change elements of a list. For example changing a fruit to \"grape\""
   ]
  },
  {
   "cell_type": "code",
   "execution_count": null,
   "id": "977c957b-78c1-4ae0-9b0c-47538b5e8435",
   "metadata": {},
   "outputs": [],
   "source": []
  },
  {
   "cell_type": "markdown",
   "id": "c54ed5ce-8933-4b51-bb00-dfd9fb20b275",
   "metadata": {},
   "source": [
    "#### 3. Useful functions  \n",
    "   i. len(my_list)  \n",
    "   ii. sum(my_list)  \n",
    "   iii. my_list.append(val)  \n",
    "   iv. my_list.sort()  \n",
    "   v. my_list.pop(index)  \n",
    "   vi. my_list.insert(index, element)  \n",
    "   vii. my_list.index(element)  \n",
    "For further reference, you can visit this link:\n",
    "https://docs.python.org/3.11/tutorial/datastructures.html"
   ]
  },
  {
   "cell_type": "code",
   "execution_count": null,
   "id": "83b55d8a-6261-46bc-b520-2928e72a4481",
   "metadata": {},
   "outputs": [],
   "source": [
    "# i. len(my_list)\n"
   ]
  },
  {
   "cell_type": "code",
   "execution_count": null,
   "id": "598f857b-e6a8-4d40-bd3f-8091988f5b86",
   "metadata": {},
   "outputs": [],
   "source": [
    "# ii. sum(my_list)\n",
    "numbers = [34,23,56,89,45,67]\n"
   ]
  },
  {
   "cell_type": "code",
   "execution_count": null,
   "id": "b92e8ad7-0e3b-4392-aa9c-4a3e623de0d9",
   "metadata": {},
   "outputs": [],
   "source": [
    "# iii. my_list.append(val)    # Adds another element at the end of the list\n"
   ]
  },
  {
   "cell_type": "code",
   "execution_count": null,
   "id": "1b9ee6f5-0882-421d-a668-a4656ef69f89",
   "metadata": {},
   "outputs": [],
   "source": [
    "# iv. my_list.sort()\n"
   ]
  },
  {
   "cell_type": "code",
   "execution_count": null,
   "id": "f1781b77-6244-4e30-9760-ef7d5b3a9b97",
   "metadata": {},
   "outputs": [],
   "source": [
    "# v. my_list.pop(index)\n"
   ]
  },
  {
   "cell_type": "code",
   "execution_count": null,
   "id": "7d4aa0c8-87d8-4e76-a605-255bc45562dc",
   "metadata": {},
   "outputs": [],
   "source": [
    "# vi. my_list.insert(index, element)\n"
   ]
  },
  {
   "cell_type": "code",
   "execution_count": null,
   "id": "0e9fa995-ac20-4ae5-87fd-339b0ff78283",
   "metadata": {},
   "outputs": [],
   "source": [
    "# vii. my_list.index(element)      \n",
    "\n"
   ]
  },
  {
   "cell_type": "markdown",
   "id": "a5525304-463e-4a7b-bfc3-f13c16e4c082",
   "metadata": {},
   "source": [
    "#### 4. Iterating over lists"
   ]
  },
  {
   "cell_type": "code",
   "execution_count": null,
   "id": "7770a30a-19ea-4278-af3b-1f95efee214e",
   "metadata": {},
   "outputs": [],
   "source": [
    "# Using while loop\n",
    "\n"
   ]
  },
  {
   "cell_type": "code",
   "execution_count": null,
   "id": "4ba3ffa3-a8e7-4fec-b07e-88e109ce669f",
   "metadata": {},
   "outputs": [],
   "source": [
    "# For loop using range function\n"
   ]
  },
  {
   "cell_type": "code",
   "execution_count": null,
   "id": "c49796b5",
   "metadata": {},
   "outputs": [],
   "source": [
    "# For loop using simple iteration\n"
   ]
  },
  {
   "cell_type": "markdown",
   "id": "b0a95a86-a10f-4b85-a3e5-72fd00adbce5",
   "metadata": {},
   "source": [
    "#### 5. List slicing\n",
    "**Syntax:** \n",
    "```python \n",
    "sliced_list = my_list[start_index:end_index:step]  \n",
    "```  \n",
    "\n",
    "If we dont give start_index and end_index, their default the values are as follows:\n",
    "start_index = 0 <br>\n",
    "end_index = len(my_list)   #upto end <br>\n",
    "step = 1"
   ]
  },
  {
   "cell_type": "code",
   "execution_count": 1,
   "id": "da28df30-4aa3-40e5-b8c5-701e4edffaae",
   "metadata": {},
   "outputs": [
    {
     "name": "stdout",
     "output_type": "stream",
     "text": [
      "['b']\n"
     ]
    }
   ],
   "source": [
    "my_list = ['a', 'b', 'c', 'd', 'e', 'f', 'g', 'h', 'i', 'j']\n",
    "# sliced_list = my_list[start_index:end_index:step]\n",
    "new_list = my_list[1:2] \n",
    "print(new_list)"
   ]
  },
  {
   "cell_type": "code",
   "execution_count": null,
   "id": "d08007cb-2bb9-4f7c-90ff-35c07b6fa665",
   "metadata": {},
   "outputs": [],
   "source": [
    "print(my_list[6:8:3])"
   ]
  },
  {
   "cell_type": "code",
   "execution_count": null,
   "id": "53759ca4",
   "metadata": {},
   "outputs": [],
   "source": [
    "print(my_list[::-1])    # can be used to reverse the list"
   ]
  },
  {
   "cell_type": "markdown",
   "id": "407f414f",
   "metadata": {},
   "source": [
    "In case of -ve steps, it will work in opposite way"
   ]
  },
  {
   "cell_type": "code",
   "execution_count": 2,
   "id": "174a3b79",
   "metadata": {},
   "outputs": [
    {
     "name": "stdout",
     "output_type": "stream",
     "text": [
      "['i', 'g', 'e']\n"
     ]
    }
   ],
   "source": [
    "print(my_list[8:3:-2])   "
   ]
  },
  {
   "cell_type": "code",
   "execution_count": null,
   "id": "e70f4012-2bcf-4d5b-9725-5369d8eb89d8",
   "metadata": {},
   "outputs": [],
   "source": [
    "# skipping 2-d lists for now\n",
    "# my_list = [[1,2,3], [4,5,6], [7,8,9]]\n",
    "# print(my_list)"
   ]
  }
 ],
 "metadata": {
  "kernelspec": {
   "display_name": "Python 3 (ipykernel)",
   "language": "python",
   "name": "python3"
  },
  "language_info": {
   "codemirror_mode": {
    "name": "ipython",
    "version": 3
   },
   "file_extension": ".py",
   "mimetype": "text/x-python",
   "name": "python",
   "nbconvert_exporter": "python",
   "pygments_lexer": "ipython3",
   "version": "3.11.3"
  }
 },
 "nbformat": 4,
 "nbformat_minor": 5
}

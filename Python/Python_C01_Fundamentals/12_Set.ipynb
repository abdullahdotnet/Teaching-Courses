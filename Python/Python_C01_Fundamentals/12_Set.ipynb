{
 "cells": [
  {
   "cell_type": "markdown",
   "id": "dbc10907-6a9b-42e5-91c7-162390d36429",
   "metadata": {},
   "source": [
    "# Set\n",
    "A set is an unordered collection of unique elements.  \n",
    "**Use Cases:** Sets are useful when dealing with unique elements or checking membership.    \n",
    "Following is the **syntax** for set creation. "
   ]
  },
  {
   "cell_type": "code",
   "execution_count": 2,
   "id": "c8fa1274-7868-4e9c-90ce-457a913d876f",
   "metadata": {},
   "outputs": [
    {
     "name": "stdout",
     "output_type": "stream",
     "text": [
      "{'apple', 'cherry', 'mango', 'date', 'banana', 'orange'}\n",
      "<class 'set'>\n"
     ]
    }
   ],
   "source": [
    "fruits = {'mango', 'apple', 'banana', 'cherry', 'date', 'orange'}\n",
    "print(fruits)\n",
    "print(type(fruits))"
   ]
  },
  {
   "cell_type": "markdown",
   "id": "cbdecc14-c4db-4af2-83bb-8ad0f644707f",
   "metadata": {},
   "source": [
    "##### 1. Accessing elements from set is not possible\n",
    "You cannot access elements from set because sets are unordered collections and they are not indexed. So we cannot access its elements through indexing."
   ]
  },
  {
   "cell_type": "code",
   "execution_count": 4,
   "id": "95371982-dd74-47c8-b87c-13d8a4d4413d",
   "metadata": {},
   "outputs": [],
   "source": [
    "# print(fruits[0])   # This will raise an error"
   ]
  },
  {
   "cell_type": "markdown",
   "id": "de7a0dd4-0fad-4c0b-84af-5d4046bb6bbb",
   "metadata": {},
   "source": [
    "### 2. Mutable/Changeable: We can add or remove elements from set"
   ]
  },
  {
   "cell_type": "code",
   "execution_count": 6,
   "id": "0743b65f-4cab-43a7-814b-094ad261d48a",
   "metadata": {},
   "outputs": [
    {
     "name": "stdout",
     "output_type": "stream",
     "text": [
      "{'grape', 'apple', 'cherry', 'mango', 'date', 'banana', 'orange'}\n",
      "{'grape', 'apple', 'cherry', 'mango', 'date', 'orange'}\n"
     ]
    }
   ],
   "source": [
    "fruits.add(\"grape\")\n",
    "print(fruits)\n",
    "fruits.remove(\"banana\")\n",
    "print(fruits)"
   ]
  },
  {
   "cell_type": "markdown",
   "id": "c54ed5ce-8933-4b51-bb00-dfd9fb20b275",
   "metadata": {},
   "source": [
    "### 3. Useful functions  \n",
    "   i. len(my_set)  \n",
    "   ii. sum(my_set)  \n",
    "   iii. my_set.add(element)  \n",
    "   iv. my_set.remove(element)  \n",
    "   v. Union and intersection  \n",
    "There are many other functions/methods for sets. You can visit the link to see their examples and use cases.  \n",
    "*Link:* https://www.w3schools.com/python/python_ref_set.asp"
   ]
  },
  {
   "cell_type": "code",
   "execution_count": 8,
   "id": "83b55d8a-6261-46bc-b520-2928e72a4481",
   "metadata": {},
   "outputs": [
    {
     "name": "stdout",
     "output_type": "stream",
     "text": [
      "6\n"
     ]
    }
   ],
   "source": [
    "# i. len(my_set)\n",
    "print(len(fruits))"
   ]
  },
  {
   "cell_type": "code",
   "execution_count": 9,
   "id": "598f857b-e6a8-4d40-bd3f-8091988f5b86",
   "metadata": {},
   "outputs": [
    {
     "name": "stdout",
     "output_type": "stream",
     "text": [
      "314\n"
     ]
    }
   ],
   "source": [
    "# ii. sum(my_set)\n",
    "numbers = {34,23,56,89,45,67}\n",
    "print(sum(numbers))"
   ]
  },
  {
   "cell_type": "code",
   "execution_count": null,
   "id": "0e9fa995-ac20-4ae5-87fd-339b0ff78283",
   "metadata": {},
   "outputs": [],
   "source": [
    "# iii. my_set.add(element)\n",
    "fruits.add(\"banana\")\n",
    "print(fruits)"
   ]
  },
  {
   "cell_type": "code",
   "execution_count": null,
   "id": "ad02ce2b-d81f-45a3-8a27-0b593d26239e",
   "metadata": {},
   "outputs": [],
   "source": [
    "# iv. my_set.remove(element)\n",
    "fruits.remove(\"grape\")\n",
    "print(fruits)"
   ]
  },
  {
   "cell_type": "code",
   "execution_count": null,
   "id": "1aa793b3-93d5-48b0-9869-4a6ee9245605",
   "metadata": {},
   "outputs": [],
   "source": [
    "# v. Union and intersection\n",
    "set1 = {1, 2, 3}\n",
    "set2 = {3, 4, 5}\n",
    "union_set = set1.union(set2)\n",
    "intersection_set = set1.intersection(set2)\n",
    "print(union_set)\n",
    "print(intersection_set)"
   ]
  },
  {
   "cell_type": "code",
   "execution_count": null,
   "id": "4e6c43ea-74dc-40f8-872a-dea7c6e577da",
   "metadata": {},
   "outputs": [],
   "source": []
  },
  {
   "cell_type": "markdown",
   "id": "a5525304-463e-4a7b-bfc3-f13c16e4c082",
   "metadata": {},
   "source": [
    "##### 4. Iterating over sets is not possible as they are not indexed"
   ]
  },
  {
   "cell_type": "markdown",
   "id": "b0a95a86-a10f-4b85-a3e5-72fd00adbce5",
   "metadata": {},
   "source": [
    "##### 5. Set slicing is also not possible"
   ]
  }
 ],
 "metadata": {
  "kernelspec": {
   "display_name": "Python 3 (ipykernel)",
   "language": "python",
   "name": "python3"
  },
  "language_info": {
   "codemirror_mode": {
    "name": "ipython",
    "version": 3
   },
   "file_extension": ".py",
   "mimetype": "text/x-python",
   "name": "python",
   "nbconvert_exporter": "python",
   "pygments_lexer": "ipython3",
   "version": "3.11.3"
  }
 },
 "nbformat": 4,
 "nbformat_minor": 5
}

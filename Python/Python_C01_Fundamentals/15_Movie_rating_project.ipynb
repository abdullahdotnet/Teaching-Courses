{
 "cells": [
  {
   "cell_type": "markdown",
   "id": "9fe48b31-3c74-4352-a4ca-50bf5d7aa67e",
   "metadata": {},
   "source": [
    "## Movie Ratings Project\n",
    "Design a program that keeps track of movie ratings. Create a dictionary where the keys are movie titles, and the values are lists of ratings. Implement the following functions:  \n",
    "i) **add_rating(movie_title, rating)**: Add a new rating for a movie.  \n",
    "ii) **get_average_rating(movie_title)**: Calculate and return the average rating for a movie.  \n",
    "iii) **top_rated_movie()**: Return the title of the movie with the highest average rating. "
   ]
  },
  {
   "cell_type": "code",
   "execution_count": null,
   "id": "69cade1e-6c85-4d40-9e93-f030172073b2",
   "metadata": {},
   "outputs": [],
   "source": []
  }
 ],
 "metadata": {
  "kernelspec": {
   "display_name": "Python 3 (ipykernel)",
   "language": "python",
   "name": "python3"
  },
  "language_info": {
   "codemirror_mode": {
    "name": "ipython",
    "version": 3
   },
   "file_extension": ".py",
   "mimetype": "text/x-python",
   "name": "python",
   "nbconvert_exporter": "python",
   "pygments_lexer": "ipython3",
   "version": "3.12.4"
  }
 },
 "nbformat": 4,
 "nbformat_minor": 5
}

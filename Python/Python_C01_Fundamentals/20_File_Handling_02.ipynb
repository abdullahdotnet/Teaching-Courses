{
 "cells": [
  {
   "cell_type": "markdown",
   "id": "1a38c607-7370-4a2a-ab56-95ea8f13fc59",
   "metadata": {},
   "source": [
    "# File Handline (Part 02)\n",
    "1. `readline()` and `readlines()` functions\n",
    "2. Better way to open files\n",
    "3. `tell()` function\n",
    "4. `seek()` function\n",
    "5. Some other file-handling modes"
   ]
  },
  {
   "cell_type": "markdown",
   "id": "64a148d2-fabe-4532-9302-8257d5b7eb31",
   "metadata": {},
   "source": [
    "## 1. `readline()` and `readlines()` functions"
   ]
  },
  {
   "cell_type": "code",
   "execution_count": 2,
   "id": "ad626592-fc63-41f0-aa20-7070c08839b6",
   "metadata": {},
   "outputs": [],
   "source": [
    "file = open(\"20_My_Rumi_Garden.txt\",'w')\n",
    "file.write(\"\"\"I eagerly await your whispers,\n",
    "Sentences of Rumi's soul,\n",
    "In scattered fragments of light,\n",
    "A tapestry I'll make them whole.\n",
    "\n",
    "From dawn's embrace to fields unseen,\n",
    "Beyond right, beyond wrong,\n",
    "Where love's true essence brightly gleams,\n",
    "A siren's call, a whispered song.\n",
    "\n",
    "Each word a brushstroke on my heart,\n",
    "Painting landscapes of the divine,\n",
    "Where wounds become portals to grace,\n",
    "And every goodbye intertwines.\n",
    "\n",
    "So send them forth, these feathered seeds,\n",
    "On wings of longing, let them fly,\n",
    "And in their union, I will find\n",
    "A universe in a single sigh.\"\"\")\n",
    "file.close()"
   ]
  },
  {
   "cell_type": "markdown",
   "id": "2c687bea-bcfa-45eb-aa22-23b23179bb30",
   "metadata": {},
   "source": [
    "`readline()` will just read that line where your cursor pointer is. You can also pass the number of characters in a line to read."
   ]
  },
  {
   "cell_type": "code",
   "execution_count": 3,
   "id": "4985c44e-453e-4c65-8787-01a226ff1fcb",
   "metadata": {},
   "outputs": [
    {
     "name": "stdout",
     "output_type": "stream",
     "text": [
      "I eagerly await your whispers,\n",
      "Sentences of Ru\n"
     ]
    }
   ],
   "source": [
    "file = open(\"20_My_Rumi_Garden.txt\")\n",
    "data1 = file.readline()\n",
    "print(data1, end='')\n",
    "data2 = file.readline(15)\n",
    "print(data2)\n",
    "file.close()"
   ]
  },
  {
   "cell_type": "markdown",
   "id": "e0ac39ce-fbdf-40bf-baa8-7fd602816ef4",
   "metadata": {},
   "source": [
    "`readlines()` function reads multiple lines and return those lines in the form of a list. Each element of the list will be a separate line."
   ]
  },
  {
   "cell_type": "code",
   "execution_count": 4,
   "id": "3ff5d198-8188-45c6-ba23-b2becc23cfc3",
   "metadata": {},
   "outputs": [
    {
     "name": "stdout",
     "output_type": "stream",
     "text": [
      "['I eagerly await your whispers,\\n', \"Sentences of Rumi's soul,\\n\", 'In scattered fragments of light,\\n', \"A tapestry I'll make them whole.\\n\", '\\n', \"From dawn's embrace to fields unseen,\\n\", 'Beyond right, beyond wrong,\\n', \"Where love's true essence brightly gleams,\\n\", \"A siren's call, a whispered song.\\n\", '\\n', 'Each word a brushstroke on my heart,\\n', 'Painting landscapes of the divine,\\n', 'Where wounds become portals to grace,\\n', 'And every goodbye intertwines.\\n', '\\n', 'So send them forth, these feathered seeds,\\n', 'On wings of longing, let them fly,\\n', 'And in their union, I will find\\n', 'A universe in a single sigh.']\n"
     ]
    }
   ],
   "source": [
    "file = open(\"20_My_Rumi_Garden.txt\")\n",
    "data2 = file.readlines()\n",
    "print(data2)\n",
    "file.close()"
   ]
  },
  {
   "cell_type": "markdown",
   "id": "8b285c86-a867-4a3d-8e81-2e174eb66ac6",
   "metadata": {},
   "source": [
    "Similarly `readlines()` can also take the number of characters as argument. Lets say the first line contains 30 characters, so if you pass 30 or less than 30 as argument, then it fill only store first line. If you pass 31 then it will store second line as well. It will go in the similar way."
   ]
  },
  {
   "cell_type": "code",
   "execution_count": 5,
   "id": "58a71b18-1c55-4850-b979-1158ca25af51",
   "metadata": {},
   "outputs": [
    {
     "name": "stdout",
     "output_type": "stream",
     "text": [
      "['I eagerly await your whispers,\\n']\n"
     ]
    }
   ],
   "source": [
    "file = open(\"20_My_Rumi_Garden.txt\")\n",
    "data2 = file.readlines(30)\n",
    "print(data2)\n",
    "file.close()"
   ]
  },
  {
   "cell_type": "code",
   "execution_count": 6,
   "id": "9a20dd20-a37d-42f0-a4e3-34d34a25af1b",
   "metadata": {},
   "outputs": [
    {
     "name": "stdout",
     "output_type": "stream",
     "text": [
      "['I eagerly await your whispers,\\n', \"Sentences of Rumi's soul,\\n\", 'In scattered fragments of light,\\n', \"A tapestry I'll make them whole.\\n\"]\n"
     ]
    }
   ],
   "source": [
    "file = open(\"20_My_Rumi_Garden.txt\")\n",
    "data2 = file.readlines(100)\n",
    "print(data2)\n",
    "file.close()"
   ]
  },
  {
   "cell_type": "markdown",
   "id": "c8369409-cf3c-4f3d-8812-aeba34823c3a",
   "metadata": {},
   "source": [
    "## 2. Another way of opening and closing files.\n",
    "We can also open and close files using `with` statement. This is a better way to open and close files. It will automatically close the file after the block of code is executed."
   ]
  },
  {
   "cell_type": "code",
   "execution_count": 7,
   "id": "d418145a-1094-40f8-bec4-9b7dec8bc9e6",
   "metadata": {},
   "outputs": [
    {
     "name": "stdout",
     "output_type": "stream",
     "text": [
      "I eagerly await your whispers,\n",
      "Sentences of Rumi's soul,\n",
      "In scattered fragments of light,\n",
      "A tapestry I'll make them whole.\n",
      "\n",
      "From dawn's embrace to fields unseen,\n",
      "Beyond right, beyond wrong,\n",
      "Where love's true essence brightly gleams,\n",
      "A siren's ca\n"
     ]
    }
   ],
   "source": [
    "# 'file' is the pointer or variable. Using 'with' you don't need to close the file manually.\n",
    "with open('20_My_Rumi_Garden.txt', 'r') as file:\n",
    "    print(file.read(245))"
   ]
  },
  {
   "cell_type": "markdown",
   "id": "db98de33-fce1-42f9-8d13-8af4554259ec",
   "metadata": {},
   "source": [
    "## 3. `tell()` Function\n",
    "The `tell()` method is used with file objects in Python to determine the current position of the file cursor (pointer) in terms of the number of `bytes` from the beginning of the file. It does not get any argument."
   ]
  },
  {
   "cell_type": "code",
   "execution_count": 8,
   "id": "d7c56856-37f2-4187-8249-8e121bf5f1a7",
   "metadata": {},
   "outputs": [
    {
     "name": "stdout",
     "output_type": "stream",
     "text": [
      "Starting offset: 0\n",
      "Current offset: 253\n"
     ]
    }
   ],
   "source": [
    "with open('20_My_Rumi_Garden.txt', 'r') as file:\n",
    "    print(\"Starting offset:\",file.tell())\n",
    "    file.read(245)\n",
    "    print(\"Current offset:\",file.tell())"
   ]
  },
  {
   "cell_type": "markdown",
   "id": "8187233d-d113-44bf-acb8-f960089ad886",
   "metadata": {},
   "source": [
    "The difference between tell and read is that in Windows, `\\n` is considered as one character but basically it is stored in 2 bytes. That is why the difference comes because `tell()` gives us offset in bytes not as characters"
   ]
  },
  {
   "cell_type": "markdown",
   "id": "ec447083-8a76-4edc-a097-4a9fc65a327b",
   "metadata": {},
   "source": [
    "## 4. `seek()` Function\n",
    "In Python, `seek()` function is used to change the position of the File Handle to a given specific position. File handle is like a cursor, which defines from where the data has to be read or written in the file.  \n",
    "**_Syntax_**: f.seek(offset, from_what), where f is file pointer  \n",
    "**_Parameters_**:  \n",
    "1. *Offset*: Number of positions to move forward   \n",
    "2. *from_what*: It defines point of reference.\n",
    "\n",
    "**_Returns_**: Return the new absolute position.  \n",
    "The reference point is selected by the from_what argument. It accepts three values:  \n",
    "0: (default) sets the reference point at the beginning of the file  \n",
    "1: sets the reference point at the current file position  \n",
    "2: sets the reference point at the end of the file  \n",
    "Note: Reference point at current position / end of file cannot be set in text mode except when offset is equal to 0. Another thing is `seek()` function also deals with bytes."
   ]
  },
  {
   "cell_type": "code",
   "execution_count": 14,
   "id": "4473eba1-fd8e-4c2c-b875-933f436741b8",
   "metadata": {},
   "outputs": [
    {
     "name": "stdout",
     "output_type": "stream",
     "text": [
      "566\n",
      "Content at the end: ngle sigh.\n"
     ]
    }
   ],
   "source": [
    "with open('20_My_Rumi_Garden.txt', 'r') as file:\n",
    "    # # Example 1: Move to the beginning of the file (offset 0)\n",
    "    # file.seek(0)\n",
    "    # content_at_beginning = file.read(100)  # Read the first 100 bytes\n",
    "    # print(\"Content at the beginning:\", content_at_beginning)\n",
    "    # print(\"-------------------------------------------\")\n",
    "    # print()   # prints an empty line\n",
    "    \n",
    "    # # Example 2: Move to the 200th byte from the beginning\n",
    "    # file.seek(200)\n",
    "    # content_at_position_200 = file.read(100)\n",
    "    # print(\"Content at position 200:\", content_at_position_200)\n",
    "    # print(\"-------------------------------------------\")\n",
    "    # print()\n",
    "    \n",
    "    # # Example 3: Move 50 bytes backwards from the current position\n",
    "    # current_position = file.tell()  # Get the current file position\n",
    "    # file.seek(current_position - 50)\n",
    "    # content_50_bytes_backward = file.read(100)\n",
    "    # print(\"Content 50 bytes backward:\", content_50_bytes_backward)\n",
    "    # print(\"-------------------------------------------\")\n",
    "    # print()\n",
    "\n",
    "    # # current_position = file.tell()  # Get the current file position\n",
    "    # file.seek(0,1)\n",
    "    # content_50_bytes_backward = file.read(100)\n",
    "    # print(\"Content 50 bytes backward:\", content_50_bytes_backward)\n",
    "    # print(\"-------------------------------------------\")\n",
    "    # print()\n",
    "    \n",
    "    # Example 4: Move to the end of the file\n",
    "    file_size = file.seek(0, 2)  # Set whence to 2 to indicate moving from the end. This will take the cursor to the end.\n",
    "    print(file_size)\n",
    "    file.seek(file_size - 10)    # Taking cursor 10 bytes backwards from last\n",
    "    content_at_end = file.read(10)\n",
    "    print(\"Content at the end:\",content_at_end)"
   ]
  },
  {
   "cell_type": "code",
   "execution_count": null,
   "id": "9762ad1f",
   "metadata": {},
   "outputs": [],
   "source": []
  }
 ],
 "metadata": {
  "kernelspec": {
   "display_name": "mlenv",
   "language": "python",
   "name": "mlenv"
  },
  "language_info": {
   "codemirror_mode": {
    "name": "ipython",
    "version": 3
   },
   "file_extension": ".py",
   "mimetype": "text/x-python",
   "name": "python",
   "nbconvert_exporter": "python",
   "pygments_lexer": "ipython3",
   "version": "3.11.3"
  }
 },
 "nbformat": 4,
 "nbformat_minor": 5
}

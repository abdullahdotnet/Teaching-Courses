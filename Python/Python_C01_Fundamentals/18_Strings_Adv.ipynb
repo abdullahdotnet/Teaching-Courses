{
 "cells": [
  {
   "cell_type": "markdown",
   "id": "f3f307ad-01a4-4c0d-b6c8-c39b6849b6b2",
   "metadata": {},
   "source": [
    "# Strings (Advanced)"
   ]
  },
  {
   "cell_type": "markdown",
   "id": "d8c4eb81-e04d-4a7a-b39b-64f5c041795c",
   "metadata": {},
   "source": [
    "We are familiar with the strings so far. But let's see some advanced things that lie under its umbrella."
   ]
  },
  {
   "cell_type": "markdown",
   "id": "2d9b5e9b-2973-4e78-8e58-7188d23cc6e3",
   "metadata": {},
   "source": [
    "## <span style=\"color:#FF5733\">1. String Creation in Python</span>\n",
    "We can create strings using single, double and triple quotes. All of them have their benefits. For simple use cases, you can use any of them to create strings. They will have the same effects. For example:"
   ]
  },
  {
   "cell_type": "code",
   "execution_count": 1,
   "id": "399a1885-c682-47a9-8718-2b72b67f615a",
   "metadata": {},
   "outputs": [],
   "source": [
    "# Single quotes string\n",
    "str_1 = 'Python is Amazing!'\n",
    "# Double quotes string\n",
    "str_2 = \"Python is Amazing!\"\n",
    "# Triple quotes string\n",
    "str_3 = '''Python is Amazing!'''\n",
    "#OR\n",
    "str_4 = \"\"\"Python is Amazing!\"\"\""
   ]
  },
  {
   "cell_type": "code",
   "execution_count": 2,
   "id": "7fe90232-c75f-49c8-902b-b1cefe5b8f6c",
   "metadata": {},
   "outputs": [
    {
     "name": "stdout",
     "output_type": "stream",
     "text": [
      "Python is Amazing!\n",
      "Python is Amazing!\n",
      "Python is Amazing!\n",
      "Python is Amazing!\n"
     ]
    }
   ],
   "source": [
    "print(str_1)\n",
    "print(str_2)\n",
    "print(str_3)\n",
    "print(str_4)"
   ]
  },
  {
   "cell_type": "markdown",
   "id": "fda92f7a-d3b1-4a14-aa10-28c1b29284cc",
   "metadata": {},
   "source": [
    "But there is something else. You can use each of them for specific use cases. Let's see them :)"
   ]
  },
  {
   "cell_type": "markdown",
   "id": "3e6b7ded-2e96-4597-9370-6330209399d4",
   "metadata": {},
   "source": [
    "### <span style=\"color:#2CD049\">a) Using Single Quotes</span> \n",
    "If you want to use double quotes inside the string then you should use single quotes for string creation. Otherwise, Python will not know from where the string is starting and where it is ending. See the following examples."
   ]
  },
  {
   "cell_type": "code",
   "execution_count": 4,
   "id": "e7e9a8a4-203b-49bc-9b31-bfe59c9fe957",
   "metadata": {},
   "outputs": [
    {
     "name": "stdout",
     "output_type": "stream",
     "text": [
      "The teacher said, \"Great work champ!\"\n"
     ]
    }
   ],
   "source": [
    "message = 'The teacher said, \"Great work champ!\"'\n",
    "print(message)"
   ]
  },
  {
   "cell_type": "markdown",
   "id": "d5269ac3-d3d0-4f8a-bc18-e2a2f851769c",
   "metadata": {},
   "source": [
    "If you use a double quote for string creation in this case, Python will not be able to understand where the string is ending. This thing will result in an error."
   ]
  },
  {
   "cell_type": "code",
   "execution_count": null,
   "id": "e09ec702-2bdf-4e28-b8d3-36d11675f93d",
   "metadata": {},
   "outputs": [],
   "source": [
    "# This will raise error\n",
    "# message = \"The teacher said, \"Great work champ!\"\"\n",
    "# print(message)"
   ]
  },
  {
   "cell_type": "markdown",
   "id": "23a14739-c6ea-48e1-9176-92e75d76a167",
   "metadata": {},
   "source": [
    "### <span style=\"color:#2CD049\">b) Using Double Quotes</span> \n",
    "Similarly, when you want to use a single quote inside the string, then you should use double quotes for string creation."
   ]
  },
  {
   "cell_type": "markdown",
   "id": "79709cf9-8c8c-4286-8d42-8d058e88836a",
   "metadata": {},
   "source": [
    "notebook = \"This is Zubair's notebook.\"\n",
    "print(notebook)"
   ]
  },
  {
   "cell_type": "code",
   "execution_count": 8,
   "id": "285499cd-f68a-4769-9af5-773157ee3efc",
   "metadata": {},
   "outputs": [
    {
     "name": "stdout",
     "output_type": "stream",
     "text": [
      "This is Zubair's notebook.\n"
     ]
    }
   ],
   "source": [
    "# This will raise an error\n",
    "notebook = \"This is Zubair's notebook.\"\n",
    "print(notebook)"
   ]
  },
  {
   "cell_type": "markdown",
   "id": "4f63f1d9-d9ca-4718-a064-11da2ed16c68",
   "metadata": {},
   "source": [
    "### <span style=\"color:#2CD049\">c) Using Triple Quotes</span> \n",
    "Unlike single and double quote strings, triple quote strings provide you with some extra things.  \n",
    "1. You can use single and double quotes at the same time in triple quote strings  \n",
    "2. Triple quote strings enable multiple line strings but single and double quoted strings do not provide this feature.  \n",
    "3. Mostly you can use triple quote strings as multiline comments. Although that is technically not a comment, it will be a normal string, but we will not be storing it in a variable.  "
   ]
  },
  {
   "cell_type": "code",
   "execution_count": 9,
   "id": "a9712a3f-bc5c-4d23-ad15-40d107a0f3f5",
   "metadata": {},
   "outputs": [
    {
     "name": "stdout",
     "output_type": "stream",
     "text": [
      "Ahmad said, \"This book is amazing\", because this is Ahmad's book\n"
     ]
    }
   ],
   "source": [
    "sentence_1 = \"\"\"Ahmad said, \"This book is amazing\", because this is Ahmad's book\"\"\"\n",
    "print(sentence_1)"
   ]
  },
  {
   "cell_type": "code",
   "execution_count": 10,
   "id": "310a5833-50fe-4e4d-819a-fbe426400d4f",
   "metadata": {},
   "outputs": [
    {
     "name": "stdout",
     "output_type": "stream",
     "text": [
      "Ahmad said, \"This book is amazing\", because this is Ahmad's book\n"
     ]
    }
   ],
   "source": [
    "# Triple quote string will have no effect for double or single quotes for its creation\n",
    "sentence_2 = '''Ahmad said, \"This book is amazing\", because this is Ahmad's book'''\n",
    "print(sentence_2)"
   ]
  },
  {
   "cell_type": "code",
   "execution_count": 12,
   "id": "9f185b47-e47f-407e-a129-d3133d1ff9c5",
   "metadata": {},
   "outputs": [
    {
     "name": "stdout",
     "output_type": "stream",
     "text": [
      "\n",
      "Beneath the moon's gentle glow,\n",
      "Whispers of the heart begin to flow.\n",
      "Love's dance, a timeless show.\n",
      "\n"
     ]
    }
   ],
   "source": [
    "rumi_inspiration = \"\"\"\n",
    "Beneath the moon's gentle glow,\n",
    "Whispers of the heart begin to flow.\n",
    "Love's dance, a timeless show.\n",
    "\"\"\"\n",
    "print(rumi_inspiration)"
   ]
  },
  {
   "cell_type": "markdown",
   "id": "54d03752-b45d-4235-8323-83196f90d426",
   "metadata": {},
   "source": [
    "If you try to write multiline string using single or double quote, it will give you error."
   ]
  },
  {
   "cell_type": "code",
   "execution_count": null,
   "id": "927ff51e-4306-43cd-8410-a5aa96a843e5",
   "metadata": {},
   "outputs": [],
   "source": [
    "# This will raise an error\n",
    "# rumi_inspiration = \"\n",
    "# Beneath the moon's gentle glow,\n",
    "# Whispers of the heart begin to flow.\n",
    "# Love's dance, a timeless show.\n",
    "# \"\n",
    "# print(rumi_inspiration)"
   ]
  },
  {
   "cell_type": "markdown",
   "id": "13685ade-aae3-47d4-bbf1-934f8c22a333",
   "metadata": {},
   "source": [
    "We use triple quotes for multiline comments as well."
   ]
  },
  {
   "cell_type": "code",
   "execution_count": null,
   "id": "c9db3720-a1dc-4bfc-8060-4ec39a9cc7db",
   "metadata": {},
   "outputs": [],
   "source": [
    "\"\"\"This is a big comment.\n",
    "Placed in \n",
    "multiple lines\n",
    "and you are reading it now\n",
    ":) :) :) :)\"\"\"\n",
    "x = 23\n",
    "y = 123\n",
    "print(x+y)"
   ]
  },
  {
   "cell_type": "markdown",
   "id": "c476d352-1601-4264-be3e-4898974204cc",
   "metadata": {},
   "source": [
    "## <span style=\"color:#FF5733\">2. String methods and functions</span>\n",
    "Following are some common string methods and functions in Python.  \n",
    "i) `len(my_str)` gives no of characters inside the string  \n",
    "ii) `ord(char)` gives the ASCII value of a single character in a string.  \n",
    "iii) `chr(val)` gives a character for the corresponding ASCII value.  \n",
    "iv) `my_str.upper()` Converts the string into all uppercase characters.  \n",
    "v) `my_str.lower()` Converts the string into all lowercase characters.  \n",
    "vi) `my_str.split()` Splits the string at the specified separator, and returns a list.  \n",
    "vii) `my_str.rstrip()` Removes extra spaces and special characters at the right side of the string.  \n",
    "viii) `my_str.find(string)` Searches the string for a specified value and returns the starting position of where it was found. If the position is not found then it returns -1.  \n",
    "ix) `my_str.index(string)` It works in the same way just like find() but if the value is not found, it gives error.  \n",
    "x) `my_str.join(iterable)` Converts the elements of an iterable into a string.  \n",
    "**Note:** All string methods return new values. They do not change the original string because strings are immutable.  \n",
    "For further methods and examples, you can visit this link: https://www.w3schools.com/python/python_ref_string.asp"
   ]
  },
  {
   "cell_type": "code",
   "execution_count": null,
   "id": "1280bf19-f70e-4f5c-b0b9-848db814bced",
   "metadata": {},
   "outputs": [],
   "source": [
    "# i) len(my_str) gives no of characters inside the string\n",
    "str1 = \"This is first string with 39 characters\"\n",
    "print(len(str1))"
   ]
  },
  {
   "cell_type": "markdown",
   "id": "06424470-303d-471a-9393-2ad22f240193",
   "metadata": {},
   "source": [
    "For the ASCII values, you can visit this chart: https://python-reference.readthedocs.io/en/latest/docs/str/ASCII.html"
   ]
  },
  {
   "cell_type": "code",
   "execution_count": null,
   "id": "d7f9706d-d130-4603-bb4e-7642826a740b",
   "metadata": {},
   "outputs": [],
   "source": [
    "# ii) ord(char) gives the ASCII value of a single character in a string.\n",
    "print(ord(\"A\"))\n",
    "print(ord(\"B\"))\n",
    "print(ord(\"a\"))"
   ]
  },
  {
   "cell_type": "code",
   "execution_count": null,
   "id": "6e36f011-6806-4322-8d30-86c7345c06d1",
   "metadata": {},
   "outputs": [],
   "source": [
    "# iii) chr(val) gives a character for the corresponding ASCII value.\n",
    "print(chr(67))\n",
    "print(chr(100))\n",
    "print(chr(52))\n",
    "print(chr(64))"
   ]
  },
  {
   "cell_type": "code",
   "execution_count": null,
   "id": "f17da900-e519-4cbf-9851-da57b69c5e50",
   "metadata": {},
   "outputs": [],
   "source": [
    "# iv) my_str.upper() Converts the string into all uppercase characters.\n",
    "str2 = \"THIS is A BOOk\"\n",
    "str3 = str2.upper() \n",
    "print(str3)\n",
    "print(str2)    # Original string remains the same. These methods return modified strings"
   ]
  },
  {
   "cell_type": "code",
   "execution_count": null,
   "id": "075be202-20ca-49b2-bb13-a2e8c778397d",
   "metadata": {},
   "outputs": [],
   "source": [
    "# v) my_str.lower() Converts the string into all lowercase characters.\n",
    "str2 = \"THIS is A BOOk\"\n",
    "str3 = str2.lower() \n",
    "print(str3)\n",
    "print(str2)    # Original string remains the same."
   ]
  },
  {
   "cell_type": "code",
   "execution_count": null,
   "id": "c478cd5d-ca45-4a05-a0a1-aa9c1efcc8d3",
   "metadata": {},
   "outputs": [],
   "source": [
    "# vi) my_str.split() Splits the string at the specified separator and returns a list. By default,\n",
    "# the separator is 'space'\n",
    "str5 = \"These are some words. And, here are some more.\"\n",
    "list_words = str5.split()   # Whenever a space comes, it splits the elements.\n",
    "print(list_words)\n",
    "dot_list = str5.split('.')\n",
    "print(dot_list)"
   ]
  },
  {
   "cell_type": "code",
   "execution_count": null,
   "id": "a2ee3de8-5faf-49c7-97eb-e5bfaf1ca998",
   "metadata": {},
   "outputs": [],
   "source": [
    "# my_str.rstrip() Removes extra spaces and special characters at the right side of the string.\n",
    "str7 = \"   Here is a     useful    string     \\n   \"\n",
    "print(len(str7),'Characters')\n",
    "print(str7)\n",
    "str8 = str7.rstrip()\n",
    "print(len(str8),'Characters')\n",
    "print(str8)\n",
    "# my_str.strip() removes from left and right both while, my_str.lstrip() removes from left. You can test them on \n",
    "# your own"
   ]
  },
  {
   "cell_type": "code",
   "execution_count": null,
   "id": "543f07b9-7685-4cf0-a317-c4406d31b63c",
   "metadata": {},
   "outputs": [],
   "source": [
    "# viii) my_str.find(string) Searches the string for a specified value and returns the starting position of where \n",
    "# it was found. If the position is not found then it returns -1.\n",
    "str9 = \"This is just another string\"\n",
    "print(str9.find('ano'))\n",
    "print(str9.find('abcd'))"
   ]
  },
  {
   "cell_type": "code",
   "execution_count": null,
   "id": "cc65bd39-7157-4b34-997f-ac390fb121a0",
   "metadata": {},
   "outputs": [],
   "source": [
    "# ix) my_str.index(string) It works in the same way as find() but if the value is not found, it gives error.\n",
    "str10 = \"This is just another string\"\n",
    "print(str9.index('ano'))\n",
    "print(str9.index('abcd'))   # This raises error `substring not found`"
   ]
  },
  {
   "cell_type": "code",
   "execution_count": null,
   "id": "cdf529fa-45ed-45af-a0af-f9ce47c1eec5",
   "metadata": {},
   "outputs": [],
   "source": [
    "# x) my_str.join(iterable) Converts the elements of an iterable into a string.\n",
    "fruits = (\"apple\",\"mango\",\"banana\",\"grapes\",\"orange\")\n",
    "str11 = \"$$ \".join(fruits)\n",
    "print(str11)"
   ]
  },
  {
   "cell_type": "markdown",
   "id": "da4f3667",
   "metadata": {},
   "source": [
    "# 3. String Operations\n",
    "### 1. Concatenation\n",
    "String concatenation in Python is the process of combining two or more strings into a single string."
   ]
  },
  {
   "cell_type": "code",
   "execution_count": 2,
   "id": "7f93f63c",
   "metadata": {},
   "outputs": [
    {
     "name": "stdout",
     "output_type": "stream",
     "text": [
      "I am learning Python. It is a great language.\n"
     ]
    }
   ],
   "source": [
    "# examples of concatenation\n",
    "str12 = \"I am learning Python.\"\n",
    "str13 = \"It is a great language.\"\n",
    "str14 = str12 + \" \" + str13\n",
    "print(str14)"
   ]
  },
  {
   "cell_type": "markdown",
   "id": "1a837d44",
   "metadata": {},
   "source": [
    "### 2. Repetition\n",
    "String repetition in Python involves duplicating a string a specified number of times to create a repeated sequence."
   ]
  },
  {
   "cell_type": "code",
   "execution_count": 3,
   "id": "a68f87db",
   "metadata": {},
   "outputs": [
    {
     "name": "stdout",
     "output_type": "stream",
     "text": [
      "Python is amazing! Python is amazing! Python is amazing! Python is amazing! Python is amazing! \n"
     ]
    }
   ],
   "source": [
    "# examples of repetition\n",
    "str15 = \"Python is amazing! \"\n",
    "str16 = str15 * 5\n",
    "print(str16)"
   ]
  },
  {
   "cell_type": "markdown",
   "id": "c9b46bec",
   "metadata": {},
   "source": [
    "# 4. Accessing Characters in a String\n",
    "### 1. Indexing\n",
    "Indexing in Python strings is used to access individual characters in a string by their position."
   ]
  },
  {
   "cell_type": "code",
   "execution_count": 4,
   "id": "d06dfc75",
   "metadata": {},
   "outputs": [
    {
     "name": "stdout",
     "output_type": "stream",
     "text": [
      "T\n",
      "i\n",
      "n\n",
      "n\n"
     ]
    }
   ],
   "source": [
    "str17 = \"This is an amazing world of Python.\"\n",
    "print(str17[0])\n",
    "print(str17[5])\n",
    "print(str17[9])\n",
    "print(str17[-2])"
   ]
  },
  {
   "cell_type": "markdown",
   "id": "5b66f801",
   "metadata": {},
   "source": [
    "### 2. Slicing\n",
    "Slicing in Python strings is used to extract a subsequence of characters from a string."
   ]
  },
  {
   "cell_type": "code",
   "execution_count": 6,
   "id": "416a86fc",
   "metadata": {},
   "outputs": [
    {
     "name": "stdout",
     "output_type": "stream",
     "text": [
      "This\n",
      "i n\n",
      "\n"
     ]
    }
   ],
   "source": [
    "str17 = \"This is an amazing world of Python.\"\n",
    "print(str17[0:4])\n",
    "print(str17[5:10:2])\n",
    "print(str17[9:13:-1])\n"
   ]
  },
  {
   "cell_type": "markdown",
   "id": "97f4595b",
   "metadata": {},
   "source": [
    "# 5. String Formatting\n",
    "String formatting in Python is the process of creating a formatted string using placeholders and replacement fields.\n",
    "#### 1. Old-style formatting\n",
    "#### 2. format() method"
   ]
  },
  {
   "cell_type": "code",
   "execution_count": 7,
   "id": "1e530e8f",
   "metadata": {},
   "outputs": [
    {
     "name": "stdout",
     "output_type": "stream",
     "text": [
      "My name is Zubair and I am 23 years old.\n"
     ]
    }
   ],
   "source": [
    "# Old-style formatting\n",
    "name = \"Zubair\"\n",
    "age = 32\n",
    "print(\"My name is %s and I am %d years old.\" % (name, age))"
   ]
  },
  {
   "cell_type": "code",
   "execution_count": 8,
   "id": "20de56f2",
   "metadata": {},
   "outputs": [
    {
     "name": "stdout",
     "output_type": "stream",
     "text": [
      "My name is Zubair and I am 23 years old.\n"
     ]
    }
   ],
   "source": [
    "# using .formate() method in old-style formatting\n",
    "name = \"Zubair\"\n",
    "age = 32\n",
    "print(\"My name is {} and I am {} years old.\".format(name, age))"
   ]
  },
  {
   "cell_type": "code",
   "execution_count": 9,
   "id": "7c61311a",
   "metadata": {},
   "outputs": [
    {
     "name": "stdout",
     "output_type": "stream",
     "text": [
      "My name is Zubair and I am 23 years old.\n"
     ]
    }
   ],
   "source": [
    "# New-style formatting\n",
    "name = \"Zubair\"\n",
    "age = 32\n",
    "print(f\"My name is {name} and I am {age} years old.\")\n",
    "# this method is called f-string method and we mostly use this method for string formatting."
   ]
  },
  {
   "cell_type": "markdown",
   "id": "b36ca84e",
   "metadata": {},
   "source": [
    "# 6. String Escape Sequences\n",
    "String escape sequences in Python are special sequences of characters that represent non-printable or special characters within a string. They are used to represent characters that are difficult or impossible to type directly. \n",
    "To insert characters that are illegal in a string, use an escape character.\n",
    "An escape character is a backslash \\ followed by the character you want to insert.These are:\n",
    "1. `\\n` Newline  \n",
    "2. `\\t` Tab  \n",
    "3. `\\b` Backspace  \n",
    "4. `\\\\` Backslash  \n",
    "5. `\\'` Single Quote\n",
    "6. `\\\"` Double Quote\n",
    "\n",
    "Link: https://www.w3schools.com/python/gloss_python_escape_characters.asp"
   ]
  },
  {
   "cell_type": "code",
   "execution_count": 11,
   "id": "bf48a616",
   "metadata": {},
   "outputs": [
    {
     "name": "stdout",
     "output_type": "stream",
     "text": [
      "This is a line with a\n",
      "newline.\n",
      "This is a line with a\ttab.\n",
      "A backslash looks like this: \\\n",
      "He's a Python enthusiast.\n",
      "She said, \"Hello!\"\n"
     ]
    }
   ],
   "source": [
    "# Examples of escape characters\n",
    "print(\"This is a line with a\\nnewline.\")\n",
    "print(\"This is a line with a\\ttab.\")\n",
    "print(\"A backslash looks like this: \\\\\")\n",
    "print('He\\'s a Python enthusiast.')\n",
    "print(\"She said, \\\"Hello!\\\"\")"
   ]
  },
  {
   "cell_type": "markdown",
   "id": "5ef01838",
   "metadata": {},
   "source": [
    "### Raw Strings\n",
    "A raw string in Python is a string that is prefixed with an r or R, which tells Python to ignore all escape characters within the string and treat it as a raw string. This is useful when file paths that contain backslashes."
   ]
  },
  {
   "cell_type": "code",
   "execution_count": 13,
   "id": "7f2e6a30",
   "metadata": {},
   "outputs": [
    {
     "name": "stdout",
     "output_type": "stream",
     "text": [
      "This is a raw string. It won't interpret \\n as a newline.\n",
      "C:\\Users\\Zubair\\Documents\\Python\\Scripts\n"
     ]
    }
   ],
   "source": [
    "print(r\"This is a raw string. It won't interpret \\n as a newline.\")\n",
    "print(r\"C:\\Users\\Zubair\\Documents\\Python\\Scripts\")\n",
    "# If we remove r from the above string, it will raise an error because of the backslashes.\n"
   ]
  },
  {
   "cell_type": "markdown",
   "id": "ed054c69",
   "metadata": {},
   "source": [
    "# 7. String Comparison\n",
    "String comparison in Python is the process of comparing two strings to determine if they are equal or which comes first in lexicographical order.  \n",
    "(Lexicographical order refers to the arrangement of elements based on the order of their characters, following the standard dictionary or alphabetical order.)"
   ]
  },
  {
   "cell_type": "code",
   "execution_count": 14,
   "id": "3497c021",
   "metadata": {},
   "outputs": [
    {
     "name": "stdout",
     "output_type": "stream",
     "text": [
      "False\n",
      "True\n",
      "True\n",
      "False\n",
      "True\n",
      "False\n"
     ]
    }
   ],
   "source": [
    "# String Comparison\n",
    "str1 = \"apple\"\n",
    "str2 = \"banana\"\n",
    "print(str1 == str2)\n",
    "print(str1 != str2)\n",
    "print(str1 < str2)\n",
    "print(str1 > str2)\n",
    "print(str1 <= str2)\n",
    "print(str1 >= str2)\n"
   ]
  },
  {
   "cell_type": "markdown",
   "id": "ecf5c5d8",
   "metadata": {},
   "source": [
    "# 8. String Iteration\n",
    "String iteration in Python is the process of iterating through the characters of a string using a loop."
   ]
  },
  {
   "cell_type": "code",
   "execution_count": 17,
   "id": "f0402b40",
   "metadata": {},
   "outputs": [
    {
     "name": "stdout",
     "output_type": "stream",
     "text": [
      "a\n",
      "p\n",
      "p\n",
      "l\n",
      "e\n",
      "Second loop\n",
      "a\n",
      "p\n",
      "p\n",
      "l\n",
      "e\n"
     ]
    }
   ],
   "source": [
    "str1 = \"apple\"\n",
    "for i in str1:\n",
    "    print(i)\n",
    "print(\"Second loop\")\n",
    "for i in range(len(str1)):\n",
    "    print(str1[i])\n",
    "\n"
   ]
  },
  {
   "cell_type": "markdown",
   "id": "e8953a4c",
   "metadata": {},
   "source": [
    "# 9. Immutable Nature of Strings\n",
    "Strings in Python are immutable, meaning they cannot be changed after they are created. This means that any operation that modifies a string will create a new string object rather than modifying the original string."
   ]
  },
  {
   "cell_type": "code",
   "execution_count": 18,
   "id": "09036cdf",
   "metadata": {},
   "outputs": [
    {
     "ename": "TypeError",
     "evalue": "'str' object does not support item assignment",
     "output_type": "error",
     "traceback": [
      "\u001b[1;31m---------------------------------------------------------------------------\u001b[0m",
      "\u001b[1;31mTypeError\u001b[0m                                 Traceback (most recent call last)",
      "Cell \u001b[1;32mIn[18], line 2\u001b[0m\n\u001b[0;32m      1\u001b[0m str1 \u001b[38;5;241m=\u001b[39m \u001b[38;5;124m\"\u001b[39m\u001b[38;5;124mapple\u001b[39m\u001b[38;5;124m\"\u001b[39m\n\u001b[1;32m----> 2\u001b[0m \u001b[43mstr1\u001b[49m\u001b[43m[\u001b[49m\u001b[38;5;241;43m2\u001b[39;49m\u001b[43m]\u001b[49m \u001b[38;5;241m=\u001b[39m \u001b[38;5;124m\"\u001b[39m\u001b[38;5;124mt\u001b[39m\u001b[38;5;124m\"\u001b[39m  \u001b[38;5;66;03m# This will raise an error because strings are immutable in Python.\u001b[39;00m\n",
      "\u001b[1;31mTypeError\u001b[0m: 'str' object does not support item assignment"
     ]
    }
   ],
   "source": [
    "str1 = \"apple\"\n",
    "str1[2] = \"t\"  # This will raise an error because strings are immutable in Python."
   ]
  },
  {
   "cell_type": "code",
   "execution_count": null,
   "id": "40251cbd",
   "metadata": {},
   "outputs": [],
   "source": []
  }
 ],
 "metadata": {
  "kernelspec": {
   "display_name": "Python 3 (ipykernel)",
   "language": "python",
   "name": "python3"
  },
  "language_info": {
   "codemirror_mode": {
    "name": "ipython",
    "version": 3
   },
   "file_extension": ".py",
   "mimetype": "text/x-python",
   "name": "python",
   "nbconvert_exporter": "python",
   "pygments_lexer": "ipython3",
   "version": "3.11.3"
  }
 },
 "nbformat": 4,
 "nbformat_minor": 5
}

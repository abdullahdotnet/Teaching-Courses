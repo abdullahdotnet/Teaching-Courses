{
 "cells": [
  {
   "cell_type": "markdown",
   "id": "3aa5c316-6dee-4ad3-8b6b-cb599aa519d9",
   "metadata": {},
   "source": [
    "# For loop\n",
    "`for` loop is quite similar to `while` loop. If we want to iterate some things in a simple fasion, it will be more easy to use `for` loop instead of `while` loop. But `while` has its own benifits. It allows you to repeat your code based on simple or complex conditions. You will see in advanced classes, how `while` can handle complex logic. But for simple itertaions, that are easy, we can use `for` loop. Following is the **syntax** for simple `for` loop.\n",
    "#### Syntax of `for` loop"
   ]
  },
  {
   "cell_type": "raw",
   "id": "2294fd34-6258-4ace-8c39-8cceff8cbf77",
   "metadata": {},
   "source": [
    "for var in range(start,end):\n",
    "    statement 1\n",
    "    statement 2\n",
    "    statement 3"
   ]
  },
  {
   "cell_type": "markdown",
   "id": "a2af6bcf-ae0a-43b3-8516-acb22d088d57",
   "metadata": {},
   "source": [
    "Here, `for` is the keyword and you have to write it as it is. Then there will com a variable name, its name can be anything you want. In the above syntax, I have written `var` here. Then `in` is also a keyword and it will come as it is. Then there will come an iterable (a collection that has multiple elements and we can access its elements one by one). Here, I have used `range(start,end)` as iterable but there can be some other iterables as well. We will see them in the coming lessons. Here, we have to write `range()` as it is, and inside the round brackets, we will write the starting number and enditng number as shown in the following examples. Variable `var` that I used for the above syntax will automatically change in each iteration inside the range and we don't have to manually increment it."
   ]
  },
  {
   "cell_type": "code",
   "execution_count": null,
   "id": "4a24265c-7680-4963-8fbd-72433469e32c",
   "metadata": {},
   "outputs": [],
   "source": [
    "for j in range(1,11):\n",
    "    print(j)"
   ]
  },
  {
   "cell_type": "code",
   "execution_count": null,
   "id": "5bc61f2d-e70a-400a-80e9-ba6a2e324fbf",
   "metadata": {},
   "outputs": [],
   "source": [
    "for xyz in range(87,100):\n",
    "    print(xyz)"
   ]
  },
  {
   "cell_type": "markdown",
   "id": "172789bd-01c0-4613-b023-f65b08fc0d55",
   "metadata": {},
   "source": [
    "If you run the above code, you will see that, 100 will not print. It will print upto 99 even though we have written 100 inside the `range` function. The range function runs as it is. It excludes the last number that you mentioned inside the range. If you want to print numbers upto 100 then you have to write 101 instead of 100 inside the `range` function. You can try it on your own."
   ]
  },
  {
   "cell_type": "code",
   "execution_count": null,
   "id": "facbbfd8-9451-4bc1-b115-74c6582740e2",
   "metadata": {},
   "outputs": [],
   "source": []
  }
 ],
 "metadata": {
  "kernelspec": {
   "display_name": "Python 3 (ipykernel)",
   "language": "python",
   "name": "python3"
  },
  "language_info": {
   "codemirror_mode": {
    "name": "ipython",
    "version": 3
   },
   "file_extension": ".py",
   "mimetype": "text/x-python",
   "name": "python",
   "nbconvert_exporter": "python",
   "pygments_lexer": "ipython3",
   "version": "3.11.3"
  }
 },
 "nbformat": 4,
 "nbformat_minor": 5
}

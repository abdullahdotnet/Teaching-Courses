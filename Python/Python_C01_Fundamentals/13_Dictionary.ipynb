{
 "cells": [
  {
   "cell_type": "markdown",
   "id": "767bb170-cd34-4df4-b1a7-f1dd99f12a90",
   "metadata": {},
   "source": [
    "# Dictionary\n",
    "Dictionaries are used to store data values in key:value pairs. A dictionary is a collection which is ordered, changeable and do not allow duplicates. Keys are usually strings or numbers but can be any <u>**immutable**</u> type. Values can be of any type, including other dictionaries.  \n",
    "Following is the **syntax** for set creation. "
   ]
  },
  {
   "cell_type": "code",
   "execution_count": 1,
   "id": "c8fa1274-7868-4e9c-90ce-457a913d876f",
   "metadata": {},
   "outputs": [
    {
     "name": "stdout",
     "output_type": "stream",
     "text": [
      "{'Isaac Newton': 'Law of Universal Gravitation', 'Ibn al-Haytham': 'Optics and the Camera Obscura', 'Ibn Sina': 'The Canon of Medicine', 'Al-Razi': 'Alcohol Distillation and Sulfuric Acid', 'Marie Curie': 'Radium and Polonium', 'Albert Einstein': 'Theory of Relativity', 'Galileo Galilei': 'Telescopic Observations', 'Alexander Fleming': 'Penicillin', 'Niels Bohr': 'Quantum Model of the Atom', 'Ibn Battuta': 'Extensive Travels and Journeys', 'James Watt': 'Steam Engine'}\n",
      "<class 'dict'>\n"
     ]
    }
   ],
   "source": [
    "scientists_discoveries = {\n",
    "    'Isaac Newton': 'Law of Universal Gravitation',\n",
    "    'Ibn al-Haytham': 'Optics and the Camera Obscura',\n",
    "    'Ibn Sina': 'The Canon of Medicine',\n",
    "    'Al-Razi': 'Alcohol Distillation and Sulfuric Acid',\n",
    "    'Marie Curie': 'Radium and Polonium',\n",
    "    'Albert Einstein': 'Theory of Relativity',\n",
    "    'Galileo Galilei': 'Telescopic Observations',\n",
    "    'Alexander Fleming': 'Penicillin',\n",
    "    'Niels Bohr': 'Quantum Model of the Atom',\n",
    "    'Ibn Battuta': 'Extensive Travels and Journeys',\n",
    "    'James Watt': 'Steam Engine'\n",
    "}\n",
    "print(scientists_discoveries)\n",
    "print(type(scientists_discoveries))"
   ]
  },
  {
   "cell_type": "code",
   "execution_count": 2,
   "id": "22b0a8c3-7ed8-46c8-8124-c2013ec79a66",
   "metadata": {},
   "outputs": [
    {
     "name": "stdout",
     "output_type": "stream",
     "text": [
      "{1: 'Hello', (1, 2): 'Hello Hi', 3: [1, 2, 3]}\n"
     ]
    }
   ],
   "source": [
    "# Valid dictionary\n",
    "my_dict1 = {\n",
    "  1: \"Hello\", \n",
    "  (1, 2): \"Hello Hi\", \n",
    "  3: [1, 2, 3]\n",
    "}\n",
    "print(my_dict1)"
   ]
  },
  {
   "cell_type": "code",
   "execution_count": null,
   "id": "65aa6786-72dd-47a3-ac39-35d36f5f80c8",
   "metadata": {},
   "outputs": [],
   "source": [
    "# Invalid dictionary\n",
    "\"\"\"Error: using a list as a key is not allowed because we can only use immutable \n",
    "types as keys. Because lists are mutable so we cannot use them as keys. We can use\n",
    "tuple as keys because tuple are immutable.\"\"\"\n",
    "\n",
    "# my_dict = {\n",
    "#   1: \"Hello\", \n",
    "#   [1, 2]: \"Hello Hi\", \n",
    "# }\n",
    "# print(my_dict)"
   ]
  },
  {
   "cell_type": "markdown",
   "id": "cbdecc14-c4db-4af2-83bb-8ad0f644707f",
   "metadata": {},
   "source": [
    "### 1. Accessing elements from Dictionary\n",
    "You can access elements from a dictionary using the following simple syntax."
   ]
  },
  {
   "cell_type": "code",
   "execution_count": 4,
   "id": "95371982-dd74-47c8-b87c-13d8a4d4413d",
   "metadata": {},
   "outputs": [
    {
     "name": "stdout",
     "output_type": "stream",
     "text": [
      "Islamabad Tokyo Vienna Abu Dhabi\n"
     ]
    }
   ],
   "source": [
    "country_capitals = {\n",
    "    'Pakistan': 'Islamabad',\n",
    "    'Japan': 'Tokyo',\n",
    "    'Austria': 'Vienna',\n",
    "    'UAE': 'Abu Dhabi',\n",
    "    'Australia': 'Canberra',\n",
    "    'Germany': 'Berlin',\n",
    "    'India': 'New Delhi'\n",
    "}\n",
    "\n",
    "# dict[key] will give you the value of that key\n",
    "capital_01 =  country_capitals[\"Pakistan\"]\n",
    "capital_02 =  country_capitals[\"Japan\"]\n",
    "capital_03 =  country_capitals[\"Austria\"]\n",
    "capital_04 =  country_capitals[\"UAE\"]\n",
    "\n",
    "print(capital_01, capital_02, capital_03, capital_04)"
   ]
  },
  {
   "cell_type": "markdown",
   "id": "e6a9feca-292f-4e44-9764-86384fd7fde3",
   "metadata": {},
   "source": [
    "**Another way:** An advanced way of accessing elements in a dictionary is through the `get()` method or function of the dictionary. The difference between accessing in the simple way and through the `get()` method appears when the key is not present in the dictionary. Using the simple method, if the key is not present, it will give you a `KeyError`. But using the `get()` method will return a `None` value. You can also give a default value in the `get()` method if a key is not found in the dictionary."
   ]
  },
  {
   "cell_type": "code",
   "execution_count": 5,
   "id": "cc4e1e43-31d7-4255-a848-c4b6c10bc0a0",
   "metadata": {
    "scrolled": true
   },
   "outputs": [],
   "source": [
    "# Accessing an invalid key inside the dictionary using the simple method\n",
    "# capt = country_capitals[\"Scotland\"]    # This will give raise error\n",
    "# print(capt)"
   ]
  },
  {
   "cell_type": "code",
   "execution_count": 6,
   "id": "2d6804eb-2fb1-490e-8b6b-71d1b19cdb43",
   "metadata": {},
   "outputs": [
    {
     "name": "stdout",
     "output_type": "stream",
     "text": [
      "None\n",
      "Don't know\n"
     ]
    }
   ],
   "source": [
    "# Using get() method\n",
    "capt = country_capitals.get(\"Scotland\")\n",
    "print(capt)\n",
    "capt = country_capitals.get(\"Scotland\", \"Don't know\")\n",
    "print(capt)"
   ]
  },
  {
   "cell_type": "markdown",
   "id": "de7a0dd4-0fad-4c0b-84af-5d4046bb6bbb",
   "metadata": {},
   "source": [
    "### 2. Mutable\n",
    "Dictionaries are mutable and we can modify their elements. We can also add or remove elements from them."
   ]
  },
  {
   "cell_type": "code",
   "execution_count": 19,
   "id": "0743b65f-4cab-43a7-814b-094ad261d48a",
   "metadata": {},
   "outputs": [],
   "source": [
    "student = {\n",
    "    'student_id': 'S123456',\n",
    "    'first_name': 'Omar',\n",
    "    'last_name': 'Ahmad',\n",
    "    'age': 20,\n",
    "    'gender': 'Male',\n",
    "    'city': 'Anytown',\n",
    "    'email': 'omar.ahmad@example.com',\n",
    "    'phone': '+92 31234567890',\n",
    "    'courses': ['Mathematics', 'Biology', 'History'],\n",
    "    'is_graduating': True\n",
    "}"
   ]
  },
  {
   "cell_type": "code",
   "execution_count": 20,
   "id": "54cfe510-e8ff-4f98-881b-a60550dd1a84",
   "metadata": {},
   "outputs": [
    {
     "name": "stdout",
     "output_type": "stream",
     "text": [
      "{'student_id': 'S123456', 'first_name': 'Omar', 'last_name': 'Ahmad', 'age': 20, 'gender': 'Male', 'city': 'Lahore', 'email': 'omar.ahmad@example.com', 'phone': '+92 31234567890', 'courses': ['Mathematics', 'Biology', 'History', 'Programming'], 'is_graduating': True}\n"
     ]
    }
   ],
   "source": [
    "# Modifying existing elements\n",
    "student['city'] = \"Lahore\"\n",
    "student['courses'].append(\"Programming\")\n",
    "print(student)"
   ]
  },
  {
   "cell_type": "code",
   "execution_count": 21,
   "id": "5b0dfa6d-13de-4052-810f-95cbc9001b33",
   "metadata": {},
   "outputs": [
    {
     "name": "stdout",
     "output_type": "stream",
     "text": [
      "True\n",
      "{'student_id': 'S123456', 'first_name': 'Omar', 'last_name': 'Ahmad', 'age': 20, 'gender': 'Male', 'city': 'Lahore', 'email': 'omar.ahmad@example.com', 'phone': '+92 31234567890', 'courses': ['Mathematics', 'Biology', 'History', 'Programming'], 'marks': 78, 'grad': 'B+'}\n"
     ]
    }
   ],
   "source": [
    "# when you use 'pop()' function on any iterable, it also gives you the removed element and you\n",
    "# can store it as well if you want. In case of dictionary, when you remove an element, it \n",
    "# will give you its value.\n",
    "extra = student.pop(\"is_graduating\")\n",
    "print(extra)\n",
    "\n",
    "# Creating new fields\n",
    "student[\"marks\"] = 78\n",
    "student[\"grad\"] = \"B+\"\n",
    "print(student)"
   ]
  },
  {
   "cell_type": "markdown",
   "id": "c54ed5ce-8933-4b51-bb00-dfd9fb20b275",
   "metadata": {},
   "source": [
    "### 3. Useful functions  \n",
    "   i. len(my_dict)  \n",
    "   ii. my_dict.pop(key)  \n",
    "   iii. my_dict.get(key)  \n",
    "   iv. my_dict.items()  \n",
    "   v. my_dict.keys()  \n",
    "   vi. my_dict.values()  \n",
    "There are many other functions/methods for dictionaries. You can visit the link to see their examples and use cases.  \n",
    "*Link:* https://www.w3schools.com/python/python_ref_dictionary.asp"
   ]
  },
  {
   "cell_type": "code",
   "execution_count": 22,
   "id": "83b55d8a-6261-46bc-b520-2928e72a4481",
   "metadata": {},
   "outputs": [
    {
     "name": "stdout",
     "output_type": "stream",
     "text": [
      "11\n"
     ]
    }
   ],
   "source": [
    "# i. len(my_dict)    # This will give us the number of key-value pairs inside the dictionary.\n",
    "print(len(student))"
   ]
  },
  {
   "cell_type": "code",
   "execution_count": 25,
   "id": "598f857b-e6a8-4d40-bd3f-8091988f5b86",
   "metadata": {},
   "outputs": [
    {
     "name": "stdout",
     "output_type": "stream",
     "text": [
      "{'Math': 90, 'English': 85, 'Science': 88}\n"
     ]
    }
   ],
   "source": [
    "# ii. my_dict.pop(key)\n",
    "grades = {'Math': 90, 'English': 85, 'History': 92, 'Science': 88}\n",
    "grades.pop(\"History\")\n",
    "print(grades)"
   ]
  },
  {
   "cell_type": "code",
   "execution_count": 27,
   "id": "4e6c43ea-74dc-40f8-872a-dea7c6e577da",
   "metadata": {},
   "outputs": [
    {
     "name": "stdout",
     "output_type": "stream",
     "text": [
      "90\n"
     ]
    }
   ],
   "source": [
    "# iii. my_dict.get(key)\n",
    "value = grades.get(\"Math\")\n",
    "print(value)"
   ]
  },
  {
   "cell_type": "code",
   "execution_count": null,
   "id": "6e4dc229-dc95-46ca-b34c-7b1f3be5df4f",
   "metadata": {},
   "outputs": [],
   "source": [
    "# iv. my_dict.items()   # items() method gives you list of all key-values in tuple forms\n",
    "result = student.items()    \n",
    "print(result)"
   ]
  },
  {
   "cell_type": "code",
   "execution_count": 35,
   "id": "db624cf1-7cdc-4469-9225-8a0df4883111",
   "metadata": {},
   "outputs": [
    {
     "name": "stdout",
     "output_type": "stream",
     "text": [
      "dict_keys(['student_id', 'first_name', 'last_name', 'age', 'gender', 'city', 'email', 'phone', 'courses', 'marks', 'grad'])\n"
     ]
    }
   ],
   "source": [
    "# v. my_dict.keys()   # keys() method gives you list of all keys\n",
    "result = student.keys()    \n",
    "print(result)"
   ]
  },
  {
   "cell_type": "code",
   "execution_count": 36,
   "id": "b3ddd4ca-95ab-46e2-be56-3d8775853f21",
   "metadata": {},
   "outputs": [
    {
     "name": "stdout",
     "output_type": "stream",
     "text": [
      "dict_values(['S123456', 'Omar', 'Ahmad', 20, 'Male', 'Lahore', 'omar.ahmad@example.com', '+92 31234567890', ['Mathematics', 'Biology', 'History', 'Programming'], 78, 'B+'])\n"
     ]
    }
   ],
   "source": [
    "# v. my_dict.values()   # values() method gives you list of all values\n",
    "result = student.values()    \n",
    "print(result)"
   ]
  },
  {
   "cell_type": "markdown",
   "id": "a5525304-463e-4a7b-bfc3-f13c16e4c082",
   "metadata": {},
   "source": [
    "### 4. Iterating over dictionaries"
   ]
  },
  {
   "cell_type": "code",
   "execution_count": 37,
   "id": "82629bed-6bd5-44aa-8a0f-06904b058a35",
   "metadata": {},
   "outputs": [
    {
     "name": "stdout",
     "output_type": "stream",
     "text": [
      "student_id  -->  S123456\n",
      "first_name  -->  Omar\n",
      "last_name  -->  Ahmad\n",
      "age  -->  20\n",
      "gender  -->  Male\n",
      "city  -->  Lahore\n",
      "email  -->  omar.ahmad@example.com\n",
      "phone  -->  +92 31234567890\n",
      "courses  -->  ['Mathematics', 'Biology', 'History', 'Programming']\n",
      "marks  -->  78\n",
      "grad  -->  B+\n"
     ]
    }
   ],
   "source": [
    "# This will give you only keys by default. You can use keys to access elements also\n",
    "for i in student:\n",
    "    print(i, \" --> \", student[i])"
   ]
  },
  {
   "cell_type": "code",
   "execution_count": 34,
   "id": "ae8d8d96-8d5d-4220-9d4a-a9a32b95a8f1",
   "metadata": {},
   "outputs": [
    {
     "name": "stdout",
     "output_type": "stream",
     "text": [
      "student_id  -->  S123456\n",
      "first_name  -->  Omar\n",
      "last_name  -->  Ahmad\n",
      "age  -->  20\n",
      "gender  -->  Male\n",
      "city  -->  Lahore\n",
      "email  -->  omar.ahmad@example.com\n",
      "phone  -->  +92 31234567890\n",
      "courses  -->  ['Mathematics', 'Biology', 'History', 'Programming']\n",
      "marks  -->  78\n",
      "grad  -->  B+\n"
     ]
    }
   ],
   "source": [
    "# Because items() method gives you list of tuples, so in each iteration it will give you tuple\n",
    "# and you can unpack it into keys and values\n",
    "for i,j in student.items():\n",
    "    print(i,\" --> \",j)"
   ]
  },
  {
   "cell_type": "markdown",
   "id": "b0a95a86-a10f-4b85-a3e5-72fd00adbce5",
   "metadata": {},
   "source": [
    "##### 5. Dictionary slicing is also not possible "
   ]
  }
 ],
 "metadata": {
  "kernelspec": {
   "display_name": "Python 3 (ipykernel)",
   "language": "python",
   "name": "python3"
  },
  "language_info": {
   "codemirror_mode": {
    "name": "ipython",
    "version": 3
   },
   "file_extension": ".py",
   "mimetype": "text/x-python",
   "name": "python",
   "nbconvert_exporter": "python",
   "pygments_lexer": "ipython3",
   "version": "3.11.3"
  }
 },
 "nbformat": 4,
 "nbformat_minor": 5
}

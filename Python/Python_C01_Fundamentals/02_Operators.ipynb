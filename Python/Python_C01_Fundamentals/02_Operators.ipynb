{
 "cells": [
  {
   "cell_type": "markdown",
   "id": "0afb77fb-2251-46a2-9650-93bf7d2d63ac",
   "metadata": {},
   "source": [
    "## 1. Operators"
   ]
  },
  {
   "cell_type": "markdown",
   "id": "8157d027-a7e9-480d-bfbf-c5707f1a8f68",
   "metadata": {},
   "source": [
    "Operators allow you to perform calculations on your data or variables. Following are some of the categories of operators inside Python.\n",
    "1. Arithmetic Operators\n",
    "2. Comparison Operators (Relational Operators)\n",
    "3. Logical Operators\n",
    "4. Assignment Operators\n",
    "5. Identity Operators\n",
    "6. Membership Operators\n",
    "7. Bitwise Operators (optional)\n",
    "8. Ternary Conditional Operator (optional)"
   ]
  },
  {
   "cell_type": "markdown",
   "id": "73c9a108-2015-4b45-9b45-739cf771a51f",
   "metadata": {},
   "source": [
    "#### i) Arithmetic Operators"
   ]
  },
  {
   "cell_type": "raw",
   "id": "317ba975-1813-4cb5-9180-38ef013c9190",
   "metadata": {
    "vscode": {
     "languageId": "raw"
    }
   },
   "source": [
    "Addition (+)\n",
    "Subtraction (-)\n",
    "Multiplication (*)\n",
    "Division (/)\n",
    "Floor Division (//)\n",
    "Modulus (%)     (Remainder)\n",
    "Exponentiation (**)     (Power)"
   ]
  },
  {
   "cell_type": "code",
   "execution_count": 3,
   "id": "eeab1877-da87-430f-99e0-eca49c8984ad",
   "metadata": {
    "scrolled": true
   },
   "outputs": [
    {
     "name": "stdout",
     "output_type": "stream",
     "text": [
      "64\n"
     ]
    }
   ],
   "source": [
    "# var = 4 + 80\n",
    "# print(var)\n",
    "# print(56 - 89)\n",
    "# print(4*10)\n",
    "# print(65/10)\n",
    "\n",
    "# print(69//10)   # Floor division\n",
    "\n",
    "\n",
    "# print(41 % 2)   # Modulus\n",
    "print(8 ** 2)    # Exponent or power"
   ]
  },
  {
   "cell_type": "markdown",
   "id": "28761382-607a-4e7a-bd89-f17d6a53e94f",
   "metadata": {},
   "source": [
    "#### ii) Comparison Operators"
   ]
  },
  {
   "cell_type": "raw",
   "id": "2d43e992-2004-4fda-a958-cbd28f775734",
   "metadata": {},
   "source": [
    "Equal to (==)\n",
    "Not equal to (!=)\n",
    "Greater than (>)\n",
    "Less than (<)\n",
    "Greater than or equal to (>=)\n",
    "Less than or equal to (<=)"
   ]
  },
  {
   "cell_type": "code",
   "execution_count": 14,
   "id": "63e42035-cc52-419d-aee6-73ea6db2ecc6",
   "metadata": {},
   "outputs": [
    {
     "name": "stdout",
     "output_type": "stream",
     "text": [
      "True\n",
      "False\n",
      "True\n"
     ]
    }
   ],
   "source": [
    "a = 17\n",
    "b = 23\n",
    "\n",
    "# print(3 == 4)\n",
    "# print(a == b)\n",
    "# print( a != b)\n",
    "# print(a > b)\n",
    "print(a < b)\n",
    "print(a >= b)\n",
    "print(a <= b)\n",
    "\n",
    "# print(a==30)"
   ]
  },
  {
   "cell_type": "markdown",
   "id": "aab3a22f-b9ae-44a8-b327-5e487fb185f2",
   "metadata": {},
   "source": [
    "#### iii) Logical Operators"
   ]
  },
  {
   "cell_type": "raw",
   "id": "92f7efcb-0da9-4371-a8db-876a39f8392e",
   "metadata": {},
   "source": [
    "Logical AND\n",
    "Logical OR\n",
    "Logical NOT"
   ]
  },
  {
   "cell_type": "code",
   "execution_count": 18,
   "id": "fcc3eab3-20e9-4350-9044-975c4eca8651",
   "metadata": {},
   "outputs": [
    {
     "name": "stdout",
     "output_type": "stream",
     "text": [
      "True\n",
      "False\n"
     ]
    }
   ],
   "source": [
    "x = 100\n",
    "y = 70\n",
    "z = 80\n",
    "print(x < y and z > y)      # short circuiting\n",
    "print(z > y or x < y)\n",
    "print(not z > y)"
   ]
  },
  {
   "cell_type": "markdown",
   "id": "29363ef1-aff3-4b67-9dd4-e90ae84bcf2c",
   "metadata": {},
   "source": [
    "#### iv) Asignment Operators"
   ]
  },
  {
   "cell_type": "raw",
   "id": "02681202-b16b-49a8-addc-5363b603dda8",
   "metadata": {},
   "source": [
    "Assignment (=)\n",
    "Addition Assignment (+=)\n",
    "Subtraction Assignment (-=)\n",
    "Multiplication Assignment (*=)\n",
    "Division Assignment (/=)\n",
    "Floor Division Assignment (//=)\n",
    "Modulus Assignment (%=)  (Remainder)\n",
    "Exponentiation Assignment (**=)   (Power)"
   ]
  },
  {
   "cell_type": "code",
   "execution_count": 34,
   "id": "2897477b-1959-454c-ace2-65cc3c1250d5",
   "metadata": {},
   "outputs": [
    {
     "name": "stdout",
     "output_type": "stream",
     "text": [
      "27\n"
     ]
    }
   ],
   "source": [
    "# country = \"Japan\"\n",
    "# print(country)\n",
    "\n",
    "id = 6\n",
    "# id = id + 2\n",
    "# print(id)\n",
    "\n",
    "# id += 9    # id = id + 2\n",
    "# print(id)\n",
    "\n",
    "# id -= 4\n",
    "# print(id)\n",
    "\n",
    "# id *= 3\n",
    "\n",
    "# id /= 10\n",
    "# id //= 10\n",
    "# print(id)\n",
    "\n",
    "a = 3\n",
    "# a %= 10\n",
    "# print(a)\n",
    "a **= 3\n",
    "print(a)"
   ]
  },
  {
   "cell_type": "markdown",
   "id": "e89386aa-487b-4e40-850a-17df26084f7b",
   "metadata": {},
   "source": [
    "#### v) Identity Operators"
   ]
  },
  {
   "cell_type": "raw",
   "id": "5073d525-7033-4113-a11d-7ebd04ff571b",
   "metadata": {},
   "source": [
    "is\n",
    "is not"
   ]
  },
  {
   "cell_type": "code",
   "execution_count": 36,
   "id": "8dcd787c-ce13-4ef1-bb00-7c63ddca8ccc",
   "metadata": {},
   "outputs": [
    {
     "name": "stdout",
     "output_type": "stream",
     "text": [
      "True\n",
      "False\n",
      "True\n"
     ]
    }
   ],
   "source": [
    "m = 30\n",
    "n = 50\n",
    "p = 30\n",
    "print(m is p)\n",
    "print(p is n)\n",
    "print(p is not n)"
   ]
  },
  {
   "cell_type": "markdown",
   "id": "5ea1b3d6-7714-41f1-8db9-fe155f78f387",
   "metadata": {},
   "source": [
    "#### vi) Membership Operators"
   ]
  },
  {
   "cell_type": "raw",
   "id": "a9d2a937-e50b-425f-bcff-6c298603f4f5",
   "metadata": {},
   "source": [
    "in\n",
    "not in"
   ]
  },
  {
   "cell_type": "code",
   "execution_count": 41,
   "id": "30ce48cd-f2a2-4285-8433-057335049f2e",
   "metadata": {},
   "outputs": [
    {
     "name": "stdout",
     "output_type": "stream",
     "text": [
      "False\n"
     ]
    }
   ],
   "source": [
    "first_sentence = 'We are inside the amazing world of Python that will blow up your mind.'\n",
    "# print('python' in first_sentence)\n",
    "# print(\"JavaScript\" in first_sentence)\n",
    "\n",
    "second_sentence = \"My favorite fruits are apples, bananas, and oranges.\"\n",
    "print('t' not in second_sentence)"
   ]
  },
  {
   "cell_type": "code",
   "execution_count": 42,
   "id": "e52a18a8",
   "metadata": {},
   "outputs": [
    {
     "data": {
      "text/plain": [
       "'MY FAVORITE FRUITS ARE APPLES, BANANAS, AND ORANGES.'"
      ]
     },
     "execution_count": 42,
     "metadata": {},
     "output_type": "execute_result"
    }
   ],
   "source": []
  },
  {
   "cell_type": "code",
   "execution_count": null,
   "id": "503b8002",
   "metadata": {},
   "outputs": [],
   "source": []
  }
 ],
 "metadata": {
  "kernelspec": {
   "display_name": "Python 3 (ipykernel)",
   "language": "python",
   "name": "python3"
  },
  "language_info": {
   "codemirror_mode": {
    "name": "ipython",
    "version": 3
   },
   "file_extension": ".py",
   "mimetype": "text/x-python",
   "name": "python",
   "nbconvert_exporter": "python",
   "pygments_lexer": "ipython3",
   "version": "3.12.2"
  }
 },
 "nbformat": 4,
 "nbformat_minor": 5
}

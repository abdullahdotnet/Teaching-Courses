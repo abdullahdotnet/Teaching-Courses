{
 "cells": [
  {
   "cell_type": "code",
   "execution_count": 1,
   "id": "e27676ee-6fca-42a2-acd5-c5909ed3fe6d",
   "metadata": {},
   "outputs": [],
   "source": [
    "import random"
   ]
  },
  {
   "cell_type": "code",
   "execution_count": 18,
   "id": "dff99de5-30cb-4c98-9dc0-c12ef3604b9a",
   "metadata": {},
   "outputs": [
    {
     "ename": "SyntaxError",
     "evalue": "expected ':' (2389550305.py, line 14)",
     "output_type": "error",
     "traceback": [
      "\u001b[1;36m  Cell \u001b[1;32mIn[18], line 14\u001b[1;36m\u001b[0m\n\u001b[1;33m    elif (user_choice == \"rock\" and computer_choice == \"scissors\")\u001b[0m\n\u001b[1;37m                                                                  ^\u001b[0m\n\u001b[1;31mSyntaxError\u001b[0m\u001b[1;31m:\u001b[0m expected ':'\n"
     ]
    }
   ],
   "source": [
    "def rock_paper_scissors():\n",
    "    print(\"Let's play Rock, Paper, Scissors!\")\n",
    "    options = [\"rock\", \"paper\", \"scissors\"]\n",
    "    computer_choice = random.choice(options)\n",
    "    user_choice = input(\"Enter your choice (rock, paper, scissors): \").lower()\n",
    "\n",
    "    if user_choice not in options:\n",
    "        print(\"Invalid choice. Please select either rock, paper, or scissors.\")\n",
    "        return\n",
    "\n",
    "    print(f\"Computer chose: {computer_choice}\")\n",
    "    if user_choice == computer_choice:\n",
    "        print(\"It's a tie!\")\n",
    "    elif (user_choice == \"rock\" and computer_choice == \"scissors\")\n",
    "         (user_choice == \"scissors\" and computer_choice == \"paper\")\n",
    "         (user_choice == \"paper\" and computer_choice == \"rock\"):\n",
    "             print(\"You win!\")\n",
    "    else:\n",
    "        print(\"You lose!\")"
   ]
  },
  {
   "cell_type": "code",
   "execution_count": 19,
   "id": "6452e89c-ac3d-4956-bb87-4a1e0e742613",
   "metadata": {},
   "outputs": [
    {
     "ename": "NameError",
     "evalue": "name 'rock_paper_scissors' is not defined",
     "output_type": "error",
     "traceback": [
      "\u001b[1;31m---------------------------------------------------------------------------\u001b[0m",
      "\u001b[1;31mNameError\u001b[0m                                 Traceback (most recent call last)",
      "Cell \u001b[1;32mIn[19], line 1\u001b[0m\n\u001b[1;32m----> 1\u001b[0m \u001b[43mrock_paper_scissors\u001b[49m()\n",
      "\u001b[1;31mNameError\u001b[0m: name 'rock_paper_scissors' is not defined"
     ]
    }
   ],
   "source": [
    "rock_paper_scissors()"
   ]
  },
  {
   "cell_type": "code",
   "execution_count": null,
   "id": "b527ab28-e7fe-4384-82ff-c7eeb6159719",
   "metadata": {},
   "outputs": [],
   "source": []
  }
 ],
 "metadata": {
  "kernelspec": {
   "display_name": "Python 3 (ipykernel)",
   "language": "python",
   "name": "python3"
  },
  "language_info": {
   "codemirror_mode": {
    "name": "ipython",
    "version": 3
   },
   "file_extension": ".py",
   "mimetype": "text/x-python",
   "name": "python",
   "nbconvert_exporter": "python",
   "pygments_lexer": "ipython3",
   "version": "3.12.4"
  }
 },
 "nbformat": 4,
 "nbformat_minor": 5
}

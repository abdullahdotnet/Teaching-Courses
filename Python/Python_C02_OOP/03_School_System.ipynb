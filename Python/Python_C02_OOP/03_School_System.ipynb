{
 "cells": [
  {
   "cell_type": "code",
   "execution_count": 4,
   "id": "89045061-b8e9-4285-8e32-eebee173a998",
   "metadata": {},
   "outputs": [],
   "source": [
    "class Student:\n",
    "    def __init__(self, student_id, name):\n",
    "        self.student_id = student_id\n",
    "        self.name = name\n",
    "        self.courses = []\n",
    "\n",
    "    def enroll_course(self, course):\n",
    "        self.courses.append(course)\n",
    "\n",
    "    def __str__(self):\n",
    "        return f\"Student ID: {self.student_id}, Name: {self.name}\"\n",
    "\n",
    "\n",
    "class Teacher:\n",
    "    def __init__(self, teacher_id, name):\n",
    "        self.teacher_id = teacher_id\n",
    "        self.name = name\n",
    "        self.courses_teaching = []\n",
    "\n",
    "    def assign_course(self, course):\n",
    "        self.courses_taught.append(course)\n",
    "\n",
    "    def __str__(self):\n",
    "        return f\"Teacher ID: {self.teacher_id}, Name: {self.name}\"\n",
    "\n",
    "\n",
    "class Course:\n",
    "    # have course id as global\n",
    "    \n",
    "    def __init__(self, course_code, course_name):\n",
    "        self.course_code = course_code\n",
    "        self.course_name = course_name\n",
    "        self.teacher = None\n",
    "\n",
    "    def assign_teacher(self, teacher):\n",
    "        self.teacher = teacher\n",
    "        # add course in teacher as well.\n",
    "\n",
    "    def add_student(self, student):\n",
    "        self.students.append(student)\n",
    "        # add course in student as well\n",
    "\n",
    "    def __str__(self):\n",
    "        return f\"Course Code: {self.course_code}, Course Name: {self.course_name}, Teacher: {self.teacher}\"\n",
    "\n"
   ]
  },
  {
   "cell_type": "code",
   "execution_count": 5,
   "id": "d63cc810-7ca7-4696-b4a4-2489edae0801",
   "metadata": {},
   "outputs": [
    {
     "ename": "AttributeError",
     "evalue": "'Teacher' object has no attribute 'courses_taught'",
     "output_type": "error",
     "traceback": [
      "\u001b[1;31m---------------------------------------------------------------------------\u001b[0m",
      "\u001b[1;31mAttributeError\u001b[0m                            Traceback (most recent call last)",
      "Cell \u001b[1;32mIn[5], line 15\u001b[0m\n\u001b[0;32m     12\u001b[0m course2 \u001b[38;5;241m=\u001b[39m Course(\u001b[38;5;124m\"\u001b[39m\u001b[38;5;124mCS201\u001b[39m\u001b[38;5;124m\"\u001b[39m, \u001b[38;5;124m\"\u001b[39m\u001b[38;5;124mData Structures\u001b[39m\u001b[38;5;124m\"\u001b[39m)\n\u001b[0;32m     14\u001b[0m \u001b[38;5;66;03m# Assign teacher to courses\u001b[39;00m\n\u001b[1;32m---> 15\u001b[0m \u001b[43mteacher\u001b[49m\u001b[38;5;241;43m.\u001b[39;49m\u001b[43massign_course\u001b[49m\u001b[43m(\u001b[49m\u001b[43mcourse1\u001b[49m\u001b[43m)\u001b[49m\n\u001b[0;32m     16\u001b[0m teacher\u001b[38;5;241m.\u001b[39massign_course(course2)\n\u001b[0;32m     18\u001b[0m \u001b[38;5;66;03m# Enroll students in courses\u001b[39;00m\n",
      "Cell \u001b[1;32mIn[4], line 21\u001b[0m, in \u001b[0;36mTeacher.assign_course\u001b[1;34m(self, course)\u001b[0m\n\u001b[0;32m     20\u001b[0m \u001b[38;5;28;01mdef\u001b[39;00m \u001b[38;5;21massign_course\u001b[39m(\u001b[38;5;28mself\u001b[39m, course):\n\u001b[1;32m---> 21\u001b[0m     \u001b[38;5;28;43mself\u001b[39;49m\u001b[38;5;241;43m.\u001b[39;49m\u001b[43mcourses_taught\u001b[49m\u001b[38;5;241m.\u001b[39mappend(course)\n",
      "\u001b[1;31mAttributeError\u001b[0m: 'Teacher' object has no attribute 'courses_taught'"
     ]
    }
   ],
   "source": [
    "# Example usage:\n",
    "\n",
    "# Create students\n",
    "student1 = Student(1, \"John Doe\")\n",
    "student2 = Student(2, \"Jane Smith\")\n",
    "\n",
    "# Create teacher\n",
    "teacher = Teacher(101, \"Professor Johnson\")\n",
    "\n",
    "# Create courses\n",
    "course1 = Course(\"CS101\", \"Introduction to Programming\")\n",
    "course2 = Course(\"CS201\", \"Data Structures\")\n",
    "\n",
    "# Assign teacher to courses\n",
    "teacher.assign_course(course1)\n",
    "teacher.assign_course(course2)\n",
    "\n",
    "# Enroll students in courses\n",
    "student1.enroll_course(course1)\n",
    "student2.enroll_course(course2)\n",
    "\n",
    "# Print information\n",
    "print(student1)\n",
    "print(student2)\n",
    "print(teacher)\n",
    "print(course1)\n",
    "print(course2)\n"
   ]
  },
  {
   "cell_type": "code",
   "execution_count": null,
   "id": "c6ea1da8-92dc-4680-93ae-4a4c164ac2c7",
   "metadata": {},
   "outputs": [],
   "source": []
  }
 ],
 "metadata": {
  "kernelspec": {
   "display_name": "Python 3 (ipykernel)",
   "language": "python",
   "name": "python3"
  },
  "language_info": {
   "codemirror_mode": {
    "name": "ipython",
    "version": 3
   },
   "file_extension": ".py",
   "mimetype": "text/x-python",
   "name": "python",
   "nbconvert_exporter": "python",
   "pygments_lexer": "ipython3",
   "version": "3.11.3"
  }
 },
 "nbformat": 4,
 "nbformat_minor": 5
}

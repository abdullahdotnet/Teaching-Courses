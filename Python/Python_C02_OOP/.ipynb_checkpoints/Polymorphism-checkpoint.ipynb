{
 "cells": [
  {
   "cell_type": "markdown",
   "id": "6093556e-2b57-4bc5-9256-c631ef787340",
   "metadata": {},
   "source": [
    "# Polymorphism\n",
    "The word *polymorphism* means having many forms. In simple words, we can define polymorphism as the ability of a message to be displayed in more than one form. A real-life example of polymorphism is a person who at the same time can have different characteristics. A man at the same time is a father, a husband, and an employee. So the same person exhibits different behavior in different situations. This is called polymorphism.  \n",
    "Let's see how polymorphism looks like in Python.  \n",
    "1. Consider the example of `len()` function"
   ]
  },
  {
   "cell_type": "code",
   "execution_count": 1,
   "id": "897dff57-b2ee-4ce0-b466-aa4a1dcaf6c7",
   "metadata": {},
   "outputs": [
    {
     "name": "stdout",
     "output_type": "stream",
     "text": [
      "6\n"
     ]
    }
   ],
   "source": [
    "x= \"Python\"\n",
    "print(len(x))    # Counts number of characters in case of strings"
   ]
  },
  {
   "cell_type": "code",
   "execution_count": 2,
   "id": "b9386a61-e4af-4def-ba30-01fbd700e2e3",
   "metadata": {},
   "outputs": [
    {
     "name": "stdout",
     "output_type": "stream",
     "text": [
      "10\n"
     ]
    }
   ],
   "source": [
    "numbers = [23,12,3,435,34,5,1,68,456,1]\n",
    "print(len(numbers))   # Counts number of elements in case of list, tuple and set"
   ]
  },
  {
   "cell_type": "code",
   "execution_count": null,
   "id": "669a7dd8-b455-4248-a2e9-1809cdf810b1",
   "metadata": {},
   "outputs": [],
   "source": [
    "car = {\"brand\": \"Ford\", \"model\": \"Mustang\", \"year\": 1964}\n",
    "print(len(car))    # Counts number of key-value pairs"
   ]
  },
  {
   "cell_type": "markdown",
   "id": "f81902e7-2242-4215-b8d9-7e04e47e79f3",
   "metadata": {},
   "source": [
    "2. The `+` operator"
   ]
  },
  {
   "cell_type": "code",
   "execution_count": 3,
   "id": "0dc06ce0-69a7-4cff-ae9d-15d1197c2e55",
   "metadata": {},
   "outputs": [
    {
     "name": "stdout",
     "output_type": "stream",
     "text": [
      "46\n"
     ]
    }
   ],
   "source": [
    "x, y = 12,34\n",
    "print(x + y)    # adds the two numbers in case of integers and floats"
   ]
  },
  {
   "cell_type": "code",
   "execution_count": 4,
   "id": "0b05a699-ce88-428d-b7c6-3a6e34ab662f",
   "metadata": {},
   "outputs": [
    {
     "name": "stdout",
     "output_type": "stream",
     "text": [
      "Python is amazing\n"
     ]
    }
   ],
   "source": [
    "a = \"Python is \"\n",
    "b = \"amazing\"\n",
    "print(a + b)    # combines (concatenates) the two strings, lists or tuples"
   ]
  },
  {
   "cell_type": "markdown",
   "id": "15396db6-92a5-44a1-9641-7e37b7891505",
   "metadata": {},
   "source": [
    "## Polymorphism in Classes\n",
    "In the following example, function names are same but they will act differently for different type or Objects."
   ]
  },
  {
   "cell_type": "code",
   "execution_count": 6,
   "id": "ec005ea1-b0fa-456b-8f06-1cf50fcb9c17",
   "metadata": {},
   "outputs": [
    {
     "name": "stdout",
     "output_type": "stream",
     "text": [
      "Islamabad is the capital of Pakistan.\n",
      "Urdu is the most widely spoken language of Pakistan.\n",
      "Pakistan is a developing country.\n",
      "Washington, D.C. is the capital of USA.\n",
      "English is the primary language of USA.\n",
      "USA is a developed country.\n"
     ]
    }
   ],
   "source": [
    "class India():\n",
    "    def capital(self):\n",
    "        print(\"New Delhi is the capital of India.\")\n",
    " \n",
    "    def language(self):\n",
    "        print(\"Hindi is the most widely spoken language of India.\")\n",
    " \n",
    "    def type(self):\n",
    "        print(\"India is a developing country.\")\n",
    "\n",
    "class USA():\n",
    "\tdef capital(self):\n",
    "\t\tprint(\"Washington, D.C. is the capital of USA.\")\n",
    "\n",
    "\tdef language(self):\n",
    "\t\tprint(\"English is the primary language of USA.\")\n",
    "\n",
    "\tdef type(self):\n",
    "\t\tprint(\"USA is a developed country.\")\n",
    "\n",
    "obj_ind = India()\n",
    "obj_usa = USA()\n",
    "countries = (obj_ind, obj_usa)\n",
    "for country in countries:\n",
    "\tcountry.capital()     # Methods names are the same but different methods will run for different objects\n",
    "\tcountry.language()\n",
    "\tcountry.type()\n"
   ]
  },
  {
   "cell_type": "markdown",
   "id": "361a9924-c4c2-4704-993a-210337d6a481",
   "metadata": {},
   "source": [
    "## Polymorphism and Inheritance\n",
    "Like in other programming languages, the child classes in Python also inherit methods and attributes from the parent class. We can redefine certain methods and attributes specifically to fit the child class, which is known as **Method Overriding**.  \n",
    "Polymorphism allows us to access these overridden methods and attributes that have the same name as the parent class."
   ]
  },
  {
   "cell_type": "code",
   "execution_count": 8,
   "id": "da1162f3-0356-43b6-b067-545bfd5b16a8",
   "metadata": {},
   "outputs": [
    {
     "name": "stdout",
     "output_type": "stream",
     "text": [
      "Circle\n",
      "I am a two-dimensional shape.\n",
      "Squares have each angle equal to 90 degrees.\n",
      "153.86\n",
      "16\n"
     ]
    }
   ],
   "source": [
    "class Shape:\n",
    "    def __init__(self, name):\n",
    "        self.name = name\n",
    "\n",
    "    def area(self):\n",
    "        pass\n",
    "\n",
    "    def fact(self):\n",
    "        return \"I am a two-dimensional shape.\"\n",
    "\n",
    "    def __str__(self):\n",
    "        return self.name\n",
    "\n",
    "\n",
    "class Square(Shape):\n",
    "    def __init__(self, length):\n",
    "        super().__init__(\"Square\")\n",
    "        self.length = length\n",
    "\n",
    "    def area(self):\n",
    "        return self.length**2\n",
    "\n",
    "    def fact(self):\n",
    "        return \"Squares have each angle equal to 90 degrees.\"\n",
    "\n",
    "\n",
    "class Circle(Shape):\n",
    "    def __init__(self, radius):\n",
    "        super().__init__(\"Circle\")\n",
    "        self.radius = radius\n",
    "\n",
    "    def area(self):\n",
    "        return 3.14*self.radius**2\n",
    "\n",
    "\n",
    "a = Square(4)\n",
    "b = Circle(7)\n",
    "print(b)\n",
    "print(b.fact())\n",
    "print(a.fact())\n",
    "print(b.area())\n",
    "print(a.area())"
   ]
  },
  {
   "cell_type": "markdown",
   "id": "8fda1b86-649c-4819-9ea7-2bf8a6b4d66b",
   "metadata": {},
   "source": [
    "<img src=\"https://cdn.programiz.com/sites/tutorial2program/files/python-polymorphism.png\">"
   ]
  },
  {
   "cell_type": "markdown",
   "id": "f2f0fae5-008c-4850-b725-f18856b26cd5",
   "metadata": {},
   "source": [
    "## Decorators\n",
    "Decorators in Python are a powerful and flexible feature that allows you to modify or extend the behavior of functions or methods without altering their actual code. They essentially wrap a function, providing a convenient way to add functionality before or after the execution of the original function.   \n",
    "Decorators are applied using the `@decorator` syntax above a function definition."
   ]
  },
  {
   "cell_type": "code",
   "execution_count": 1,
   "id": "13150561-3e95-4021-88fe-b89ae325e082",
   "metadata": {},
   "outputs": [
    {
     "name": "stdout",
     "output_type": "stream",
     "text": [
      "Calling add with args: (2, 3), kwargs: {}\n",
      "add returned: 5\n",
      "Calling multiply with args: (4, 7, 8), kwargs: {}\n",
      "multiply returned: 224\n"
     ]
    },
    {
     "data": {
      "text/plain": [
       "224"
      ]
     },
     "execution_count": 1,
     "metadata": {},
     "output_type": "execute_result"
    }
   ],
   "source": [
    "def log_function_call(func):\n",
    "    def wrapper(*args, **kwargs):\n",
    "        print(f\"Calling {func.__name__} with args: {args}, kwargs: {kwargs}\")\n",
    "        result = func(*args, **kwargs)\n",
    "        print(f\"{func.__name__} returned: {result}\")\n",
    "        return result\n",
    "    return wrapper\n",
    "\n",
    "@log_function_call\n",
    "def add(a, b):\n",
    "    return a + b\n",
    "@log_function_call\n",
    "def multiply(a,b,c):\n",
    "    return a*b*c\n",
    "add(2,3)\n",
    "multiply(4,7,8)"
   ]
  },
  {
   "cell_type": "code",
   "execution_count": 3,
   "id": "f8a30ce9-ffd9-4b83-93b1-20bf41f9915f",
   "metadata": {},
   "outputs": [
    {
     "name": "stdout",
     "output_type": "stream",
     "text": [
      "add took 0.0 seconds\n",
      "multiply took 0.0 seconds\n",
      "Function executed!\n",
      "slow_function took 2.0010344982147217 seconds\n"
     ]
    }
   ],
   "source": [
    "import time\n",
    "\n",
    "def measure_time(func):\n",
    "    def wrapper(*args, **kwargs):\n",
    "        start_time = time.time()\n",
    "        result = func(*args, **kwargs)\n",
    "        end_time = time.time()\n",
    "        print(f\"{func.__name__} took {end_time - start_time} seconds\")\n",
    "        return result\n",
    "    return wrapper\n",
    "\n",
    "@measure_time\n",
    "def add(a, b):\n",
    "    return a + b\n",
    "@measure_time\n",
    "def multiply(a,b,c):\n",
    "    return a*b*c\n",
    "@measure_time\n",
    "def slow_function():\n",
    "    time.sleep(2)\n",
    "    print(\"Function executed!\")\n",
    "\n",
    "add(2,3)\n",
    "multiply(4,7,8)\n",
    "slow_function()\n",
    "\n"
   ]
  },
  {
   "cell_type": "code",
   "execution_count": null,
   "id": "94d9acb0-48a0-434c-bc15-d50577bd6bfe",
   "metadata": {},
   "outputs": [],
   "source": []
  }
 ],
 "metadata": {
  "kernelspec": {
   "display_name": "Python 3 (ipykernel)",
   "language": "python",
   "name": "python3"
  },
  "language_info": {
   "codemirror_mode": {
    "name": "ipython",
    "version": 3
   },
   "file_extension": ".py",
   "mimetype": "text/x-python",
   "name": "python",
   "nbconvert_exporter": "python",
   "pygments_lexer": "ipython3",
   "version": "3.11.3"
  }
 },
 "nbformat": 4,
 "nbformat_minor": 5
}

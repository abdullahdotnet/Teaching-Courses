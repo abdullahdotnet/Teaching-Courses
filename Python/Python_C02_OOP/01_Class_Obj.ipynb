{
 "cells": [
  {
   "cell_type": "markdown",
   "id": "f107d747-c72e-4fdf-aa7e-5e578a41cd83",
   "metadata": {},
   "source": [
    "# Object Oriented Programming\n",
    "Welcome to our second course of **Python: Object Oriented Programming**\n",
    "In this introductory session, we'll explore the basics of this popular programming paradigm and understand why it's crucial for software development.\n",
    "\n",
    "## What is OOP?\n",
    "Object-oriented programming (OOP) is a way of organizing code into classes and objects. The objects represent real-world entities (like cars, people, or accounts) and we enclose both data (the attributes) and behavior (the methods) associated with them into a class.\n",
    "\n",
    "## Why OOP is useful?\n",
    "We were using Procedueral Programming till now. Procedural programming is about writing procedures or functions that perform operations on the data, while object-oriented programming is about creating objects that contain both data and methods/functions.\n",
    "\n",
    "Object-oriented programming has several advantages over procedural programming:\n",
    "\n",
    "<li>OOP is faster and easier to execute</li>  \n",
    "<li>OOP provides a clear structure for the programs</li>  \n",
    "<li>OOP helps to keep the Java code DRY \"Don't Repeat Yourself\", and makes the code easier to maintain, modify and debug</li>  \n",
    "<li>OOP makes it possible to create full reusable applications with less code and shorter development time</li>  "
   ]
  },
  {
   "cell_type": "markdown",
   "id": "6e852d38",
   "metadata": {},
   "source": [
    "## Class and Objects\n",
    "#### Class:\n",
    "A class contains the blueprints or the prototype from which the objects are being created. It is a logical entity that contains some attributes and methods.   \n",
    "\n",
    "#### Object:\n",
    "An object is any entity that has attributes and behaviors. For example, a `car` is an object. It has  \n",
    "**attributes** - make, model, color, etc.  \n",
    "**behavior** - start, stop, etc.  "
   ]
  },
  {
   "cell_type": "markdown",
   "id": "0b0e0719",
   "metadata": {},
   "source": [
    "## Structure of a Class"
   ]
  },
  {
   "cell_type": "raw",
   "id": "ffc389d2-3681-48b5-bb41-2308d5b8ebe6",
   "metadata": {},
   "source": [
    "class ClassName:\n",
    "   # Statement-1\n",
    "   .\n",
    "   .\n",
    "   .\n",
    "   # Statement-N"
   ]
  },
  {
   "cell_type": "markdown",
   "id": "ac221959-7c5b-4c36-a2aa-e1b6a491606e",
   "metadata": {},
   "source": [
    "Let's create a class now. There is a special method `__init__()` (initialization method), it creates the starting fields of an object. Imagine you're building a robot. The `init` method is like the robot's instructions manual. It tells the robot what to do when it's first built, like setting its name, color, and special features. This way, each robot starts out with the right settings and is ready to action!  \n",
    "`init` method is automatically called when object is created. We can call this a magic method that automatically calls. There are some other magic methods and we will see them later on.  \n",
    "## **Note:** \n",
    "1. Functions inside a class are called `methods`.  \n",
    "2. We use another term for objects that is `instance`.  \n",
    "3. For now, almost in all methods, we will write an extra parameter, `self`. It will be the object that we are using to call that method.  "
   ]
  },
  {
   "cell_type": "code",
   "execution_count": 1,
   "id": "89844931-eec7-4304-912e-d2d11c04321d",
   "metadata": {},
   "outputs": [
    {
     "name": "stdout",
     "output_type": "stream",
     "text": [
      "<__main__.Car object at 0x00000262482B8F90>\n"
     ]
    }
   ],
   "source": [
    "class Car:\n",
    "    def __init__(self, make, model, color, year):\n",
    "        self.make = make\n",
    "        self.model = model\n",
    "        self.year = year\n",
    "        self.color = color\n",
    "\n",
    "my_car = Car(\"Toyota\",\"Camry\",\"Blue\",2022)\n",
    "print(my_car)"
   ]
  },
  {
   "cell_type": "markdown",
   "id": "7faf0776-149d-419d-84a7-c1b72fdfbe05",
   "metadata": {},
   "source": [
    "There is a special method of `__str__()` that returns a string of object. When print function is called, this method returs a string and the object is printed in proper format just like some other builtin objects of types like lists and dicts etc."
   ]
  },
  {
   "cell_type": "code",
   "execution_count": 7,
   "id": "75c151c6-d431-4156-8653-4adec30676ea",
   "metadata": {},
   "outputs": [
    {
     "name": "stdout",
     "output_type": "stream",
     "text": [
      "2022 Blue Toyota Camry\n",
      "2022 Blue Toyota Camry\n"
     ]
    }
   ],
   "source": [
    "class Car:\n",
    "    def __init__(self, make, model, color, year):\n",
    "        self.make = make\n",
    "        self.model = model\n",
    "        self.year = year\n",
    "        self.color = color\n",
    "\n",
    "    def __str__(self):\n",
    "        return f\"{self.year} {self.color} {self.make} {self.model}\"\n",
    "\n",
    "\n",
    "my_car = Car(\"Toyota\",\"Camry\",\"Blue\",2022)\n",
    "print(my_car)\n",
    "# print(my_car.__str__())"
   ]
  },
  {
   "cell_type": "code",
   "execution_count": 3,
   "id": "6a431230-091b-447c-a43b-9950ff34d40b",
   "metadata": {},
   "outputs": [
    {
     "name": "stdout",
     "output_type": "stream",
     "text": [
      "[1, 2, 4, 6]\n"
     ]
    }
   ],
   "source": [
    "list1 = [1,2,4,6]\n",
    "print(list1.__str__())    # Even for builtin types, __str__() function is automatically called even if you don't write it."
   ]
  },
  {
   "cell_type": "code",
   "execution_count": 4,
   "id": "9500031d-a199-416d-a752-c1569f6c9afb",
   "metadata": {},
   "outputs": [
    {
     "name": "stdout",
     "output_type": "stream",
     "text": [
      "{'a': 1, 'b': 2, 'c': 3}\n"
     ]
    }
   ],
   "source": [
    "dic1 = {'a':1,'b':2,'c':3}\n",
    "print(dic1.__str__())    # Everything in Python is an object of a class"
   ]
  },
  {
   "cell_type": "code",
   "execution_count": 8,
   "id": "b4a6d03d-bd60-4be8-8a95-9cddcf4315be",
   "metadata": {},
   "outputs": [],
   "source": [
    "class Employee:\n",
    "    def __init__(self, name, employee_id, position, salary):\n",
    "        self.name = name\n",
    "        self.employee_id = employee_id\n",
    "        self.position = position\n",
    "        self.salary = salary\n",
    "\n",
    "    def calculate_bonus(self, percentage):\n",
    "        bonus = (percentage / 100) * self.salary\n",
    "        return bonus\n",
    "\n",
    "    def promote(self, new_position, salary_increase):\n",
    "        self.position = new_position\n",
    "        self.salary += salary_increase\n",
    "        print(f\"{self.name} has been promoted to {new_position}. New salary: ${self.salary}\")\n",
    "\n",
    "    def __str__(self):\n",
    "        return f\"Employee: {self.name}, ID: {self.employee_id}, Position: {self.position}, Salary: ${self.salary}\""
   ]
  },
  {
   "cell_type": "code",
   "execution_count": 9,
   "id": "d85dd51e-d70e-470e-b4a4-3c18582b5f53",
   "metadata": {},
   "outputs": [
    {
     "name": "stdout",
     "output_type": "stream",
     "text": [
      "Employee: John Doe, ID: E12345, Position: Software Engineer, Salary: $75000\n",
      "Bonus for John Doe: $7500.0\n",
      "John Doe has been promoted to Senior Software Engineer. New salary: $84000\n",
      "Employee: John Doe, ID: E12345, Position: Senior Software Engineer, Salary: $84000\n"
     ]
    }
   ],
   "source": [
    "employee1 = Employee(\"John Doe\", \"E12345\", \"Software Engineer\", 75000)\n",
    "print(employee1)\n",
    "\n",
    "# Calculating and displaying a bonus for the employee\n",
    "bonus_amount = employee1.calculate_bonus(10)\n",
    "print(f\"Bonus for {employee1.name}: ${bonus_amount}\")\n",
    "\n",
    "# Promoting the employee and displaying updated information\n",
    "employee1.promote(\"Senior Software Engineer\", 9000)\n",
    "print(employee1)"
   ]
  },
  {
   "cell_type": "code",
   "execution_count": 10,
   "id": "4bad9cbc-fdd9-4eae-af57-36d622f6b40b",
   "metadata": {},
   "outputs": [
    {
     "name": "stdout",
     "output_type": "stream",
     "text": [
      "Employee: John Doe, ID: E12345, Position: Software Engineer, Salary: $75000\n",
      "Employee: Jane Smith, ID: E54321, Position: Product Manager, Salary: $90000\n",
      "Employee: Bob Johnson, ID: E98765, Position: Data Scientist, Salary: $85000\n",
      "Employee: Alice Williams, ID: E13579, Position: UX Designer, Salary: $80000\n",
      "Bonus for John Doe: $6000.0\n",
      "Bonus for Jane Smith: $7200.0\n",
      "Bonus for Bob Johnson: $6800.0\n",
      "Bonus for Alice Williams: $6400.0\n",
      "Jane Smith has been promoted to Senior Product Manager. New salary: $102000\n",
      "Employee: Jane Smith, ID: E54321, Position: Senior Product Manager, Salary: $102000\n"
     ]
    }
   ],
   "source": [
    "# Creating instances of the Employee class\n",
    "employee1 = Employee(\"John Doe\", \"E12345\", \"Software Engineer\", 75000)\n",
    "employee2 = Employee(\"Jane Smith\", \"E54321\", \"Product Manager\", 90000)\n",
    "employee3 = Employee(\"Bob Johnson\", \"E98765\", \"Data Scientist\", 85000)\n",
    "employee4 = Employee(\"Alice Williams\", \"E13579\", \"UX Designer\", 80000)\n",
    "\n",
    "# Displaying information about the employees using the __str__ method\n",
    "print(employee1)\n",
    "print(employee2)\n",
    "print(employee3)\n",
    "print(employee4)\n",
    "\n",
    "# Calculating and displaying bonuses for the employees\n",
    "employees_list = [employee1, employee2, employee3, employee4]\n",
    "bonus_percentage = 8\n",
    "for employee in [employee1, employee2, employee3, employee4]:\n",
    "    bonus_amount = employee.calculate_bonus(bonus_percentage)\n",
    "    print(f\"Bonus for {employee.name}: ${bonus_amount}\")\n",
    "\n",
    "# Promoting an employee and displaying updated information\n",
    "employee2.promote(\"Senior Product Manager\", 12000)\n",
    "print(employee2)"
   ]
  },
  {
   "cell_type": "code",
   "execution_count": null,
   "id": "c48e55a7-0a1a-417a-81b1-9ebba6656e90",
   "metadata": {},
   "outputs": [],
   "source": []
  }
 ],
 "metadata": {
  "kernelspec": {
   "display_name": "Python 3 (ipykernel)",
   "language": "python",
   "name": "python3"
  },
  "language_info": {
   "codemirror_mode": {
    "name": "ipython",
    "version": 3
   },
   "file_extension": ".py",
   "mimetype": "text/x-python",
   "name": "python",
   "nbconvert_exporter": "python",
   "pygments_lexer": "ipython3",
   "version": "3.11.3"
  }
 },
 "nbformat": 4,
 "nbformat_minor": 5
}

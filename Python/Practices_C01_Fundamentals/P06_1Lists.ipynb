{
 "cells": [
  {
   "cell_type": "markdown",
   "metadata": {},
   "source": [
    "# Lists Problems"
   ]
  },
  {
   "cell_type": "markdown",
   "metadata": {},
   "source": [
    "## Task 01\n",
    "Write a program that asks the user for 5 numbers and stores them in a list. Then, multiply all the numbers in the list and print the result.  \n",
    "**Sample Run:**"
   ]
  },
  {
   "cell_type": "raw",
   "metadata": {
    "vscode": {
     "languageId": "raw"
    }
   },
   "source": [
    "Enter number: 5\n",
    "Enter number: 6\n",
    "Enter number: 2\n",
    "Enter number: 10\n",
    "Enter number: 3\n",
    "Product of the numbers is 1800"
   ]
  },
  {
   "cell_type": "code",
   "execution_count": null,
   "metadata": {},
   "outputs": [],
   "source": []
  },
  {
   "cell_type": "markdown",
   "metadata": {},
   "source": [
    "## Task 02\n",
    "Take a list of at least 10 elements, say for example this one:  \n",
    "a = [1, 1, 2, 3, 5, 8, 13, 21, 34, 55, 89]  \n",
    "and find out the maximum and minimum number in the list.  \n",
    "**Sample Run:**"
   ]
  },
  {
   "cell_type": "raw",
   "metadata": {
    "vscode": {
     "languageId": "raw"
    }
   },
   "source": [
    "Minimum number is 1\n",
    "Maximum number is 89"
   ]
  },
  {
   "cell_type": "raw",
   "metadata": {},
   "source": []
  },
  {
   "cell_type": "markdown",
   "metadata": {},
   "source": [
    "## Task 03\n",
    "Take a list of at least 10 elements, say for example this one:  \n",
    "a = [1, 1, 2, 3, 5, 8, 13, 21, 34, 55, 89]  \n",
    "and create a new list containing only numbers bigger than 20.  \n",
    "**Sample Run:**"
   ]
  },
  {
   "cell_type": "raw",
   "metadata": {
    "vscode": {
     "languageId": "raw"
    }
   },
   "source": [
    "[21, 34, 55, 89]"
   ]
  },
  {
   "cell_type": "raw",
   "metadata": {},
   "source": []
  },
  {
   "cell_type": "markdown",
   "metadata": {},
   "source": [
    "## Task 04\n",
    "Create a list of numbers. Then ask from the user a number and check if the number is in the list.  \n",
    "**Sample Run:**"
   ]
  },
  {
   "cell_type": "raw",
   "metadata": {
    "vscode": {
     "languageId": "raw"
    }
   },
   "source": [
    "my_numbers = [45, 34, 1, 23, 89, 21, 55, 2, 10, 3, 5, 6]\n",
    "Enter number: 56\n",
    "Your number 56 is not in the list"
   ]
  },
  {
   "cell_type": "raw",
   "metadata": {},
   "source": []
  }
 ],
 "metadata": {
  "language_info": {
   "name": "python"
  }
 },
 "nbformat": 4,
 "nbformat_minor": 2
}

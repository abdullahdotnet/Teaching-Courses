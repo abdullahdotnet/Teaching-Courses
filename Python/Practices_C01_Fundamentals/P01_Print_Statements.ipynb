{
 "cells": [
  {
   "cell_type": "markdown",
   "id": "044ea807-7974-419e-83a2-8de05f26dd5e",
   "metadata": {},
   "source": [
    "# Practice 01 – Print Statements"
   ]
  },
  {
   "cell_type": "markdown",
   "id": "47ed679b-6153-494d-8c8c-0ea17599f69a",
   "metadata": {},
   "source": [
    "#### Task 01\n",
    "Print 3 lines about yourself. (Use multiple print() statements for each line)"
   ]
  },
  {
   "cell_type": "code",
   "execution_count": null,
   "id": "e559b18f-6e72-440b-9051-c6b084483920",
   "metadata": {},
   "outputs": [],
   "source": []
  },
  {
   "cell_type": "markdown",
   "id": "f24b9a57-b1ba-4727-b712-554c7b86effe",
   "metadata": {},
   "source": [
    "#### Task 02\n",
    "Write a program that prints the following line:  \r\n",
    "I am studying Python and I have taken my first lesson\r\n"
   ]
  },
  {
   "cell_type": "markdown",
   "id": "606fcfd2-a404-44a3-8cd0-b597524bd27a",
   "metadata": {},
   "source": [
    "#### Task 03\n",
    "Write a program that print the following pattern:"
   ]
  },
  {
   "cell_type": "raw",
   "id": "ebe088ac-a358-495a-8323-2e93a9c5b26d",
   "metadata": {},
   "source": [
    "1\n",
    "23\n",
    "456\n",
    "7891"
   ]
  },
  {
   "cell_type": "code",
   "execution_count": null,
   "id": "77f7e899-3da2-4f98-907c-8cf32c61456d",
   "metadata": {},
   "outputs": [],
   "source": []
  },
  {
   "cell_type": "markdown",
   "id": "217b1697-5a3a-4afd-a1da-16724bfb60d6",
   "metadata": {},
   "source": [
    "#### Task 04\n",
    "Print the following pattern:"
   ]
  },
  {
   "cell_type": "raw",
   "id": "2e0ad824-6fca-4bc4-8e51-fd4f94accce6",
   "metadata": {},
   "source": [
    "*\n",
    "* *\n",
    "* * *\n",
    "* * * *\n",
    "* * * * *"
   ]
  },
  {
   "cell_type": "code",
   "execution_count": null,
   "id": "7324250d-ae98-42f8-b0da-6db9cd5d5cba",
   "metadata": {},
   "outputs": [],
   "source": []
  },
  {
   "cell_type": "markdown",
   "id": "16a9937f-157e-4754-8394-a1364178aad8",
   "metadata": {},
   "source": [
    "#### Task 05\n",
    "Print the following pattern:"
   ]
  },
  {
   "cell_type": "raw",
   "id": "ee9160b2-7b44-43dd-a305-1c20ac73aeba",
   "metadata": {},
   "source": [
    "* * * * * * *\n",
    "      *\n",
    "      *\n",
    "      *\n",
    "      *\n",
    "* * * * * * * "
   ]
  },
  {
   "cell_type": "code",
   "execution_count": null,
   "id": "acd77b0e-bb1a-42af-a323-ab8d471e6054",
   "metadata": {},
   "outputs": [],
   "source": []
  },
  {
   "cell_type": "markdown",
   "id": "a30c6879-36f5-4d2c-aced-7f0c7d5902a9",
   "metadata": {},
   "source": [
    "#### Task 06\n",
    "Print the following menu and get input after displaying the menu:"
   ]
  },
  {
   "cell_type": "raw",
   "id": "4c670af2-b15f-4e1c-9313-579229da1135",
   "metadata": {},
   "source": [
    "Here is today’s menu\n",
    "1. Pizza\n",
    "2. Burger\n",
    "3. Sandwich\n",
    "4. Pasta  \n",
    "5. Salad"
   ]
  },
  {
   "cell_type": "markdown",
   "id": "a071c703-0f72-4a53-96ac-0952810f634a",
   "metadata": {},
   "source": [
    "After printing the above menu, take an input with the message displaying:  \n",
    "`Choose your option number from above menu (1-5): `"
   ]
  },
  {
   "cell_type": "code",
   "execution_count": null,
   "id": "2e91cf2b-bdfd-4c71-b33e-5dd06aee70f6",
   "metadata": {},
   "outputs": [],
   "source": []
  }
 ],
 "metadata": {
  "kernelspec": {
   "display_name": "Python 3 (ipykernel)",
   "language": "python",
   "name": "python3"
  },
  "language_info": {
   "codemirror_mode": {
    "name": "ipython",
    "version": 3
   },
   "file_extension": ".py",
   "mimetype": "text/x-python",
   "name": "python",
   "nbconvert_exporter": "python",
   "pygments_lexer": "ipython3",
   "version": "3.11.3"
  }
 },
 "nbformat": 4,
 "nbformat_minor": 5
}

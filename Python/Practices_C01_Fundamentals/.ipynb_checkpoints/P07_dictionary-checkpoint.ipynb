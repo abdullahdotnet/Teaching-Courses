{
 "cells": [
  {
   "cell_type": "markdown",
   "id": "e0312043-0e2a-48df-927d-8b7c54bb329a",
   "metadata": {},
   "source": [
    "# Practice 07 Dictionary"
   ]
  },
  {
   "cell_type": "markdown",
   "id": "6f766eed-2a1e-4390-8ba4-40c9a2cf3dab",
   "metadata": {},
   "source": [
    "#### Task 01\n",
    "Write a program that uses the following `word_list` and tells the number of unique words in the list. Also show how many times each number is present in the list."
   ]
  },
  {
   "cell_type": "code",
   "execution_count": null,
   "id": "6048e929-c8f6-4796-9b70-ff72fd6e186c",
   "metadata": {},
   "outputs": [],
   "source": [
    "word_list = ['catalysts', 'the', 'potential', 'their', 'shape', 'classroom', 'of', 'a', 'setbacks', 'life', 'continuous', 'students', 'personal', 'and', 'identities', 'academic', 'for', 'are', 'They', 'individuals', 'phase', 'driving', 'learning', 'subjects', 'embodying', 'also', 'individuals', 'thinking', 'passions', 'of', 'merely', \n",
    "             'in', 'engaging', 'knowledge', 'tomorrow', 'not', 'academia', 'of', 'that', 'change', 'complexities', 'navigate', 'are', 'world', 'pursuit', 'students', 'professional', 'will', 'transformative', 'adaptability', 'and', 'but', 'and', 'friendships', 'determination', 'of', 'contributing', 'as', 'recipients', 'our', 'the', \n",
    "             'of', 'viewed', 'for', 'and', 'of', 'wellrounded', 'that', 'equipped', 'needed', 'met', 'information', 'the', 'active', 'challenges', 'not', 'development', 'Students', 'academia', 'torchbearers', 'in', 'with', 'perspectives', 'their', 'array', 'with', 'resilience', 'where', 'into', 'This', 'the', 'As', 'and', 'but', \n",
    "             'with', 'time', 'lifelong', 'and', 'are', 'society', 'fresh', 'Students', 'of', 'a', 'of', 'is', 'of', 'promise', 'to', 'skills', 'diverse', 'architects', 'they', 'vibrant', 'journey', 'and', 'are', 'students', 'growth', 'awaits', 'the', 'where', 'for', 'a', 'the', 'of', 'only', 'the', 'the', 'skill', 'own', 'critical',\n",
    "             'opportunities', 'discover', 'prowess', 'of', 'a', 'progress', 'education', 'evolve', 'resilience', 'In', 'them', 'the', 'navigate', 'exploration', 'the', 'participants', 'everchanging', 'dynamic', 'innovation', 'are', 'landscape', 'process', 'hone', 'forge', 'future', 'Beyond', 'embodying']\n",
    "print(\"Total words =\",len(word_list))\n",
    "print(word_list)"
   ]
  },
  {
   "cell_type": "code",
   "execution_count": null,
   "id": "6a0616b3-da74-41bd-a11d-3e66559f8e6c",
   "metadata": {},
   "outputs": [],
   "source": []
  },
  {
   "cell_type": "markdown",
   "id": "624e66d8-4e9e-40ae-9022-ca079c629383",
   "metadata": {},
   "source": [
    "#### Task 02\n",
    "Use the above code and print only those words of the list which are present multiple times in the list. Also print their counts as well."
   ]
  },
  {
   "cell_type": "code",
   "execution_count": null,
   "id": "ccdd2b09-609a-41d9-8682-bbb5adbf3d64",
   "metadata": {},
   "outputs": [],
   "source": []
  }
 ],
 "metadata": {
  "kernelspec": {
   "display_name": "Python 3 (ipykernel)",
   "language": "python",
   "name": "python3"
  },
  "language_info": {
   "codemirror_mode": {
    "name": "ipython",
    "version": 3
   },
   "file_extension": ".py",
   "mimetype": "text/x-python",
   "name": "python",
   "nbconvert_exporter": "python",
   "pygments_lexer": "ipython3",
   "version": "3.11.3"
  }
 },
 "nbformat": 4,
 "nbformat_minor": 5
}

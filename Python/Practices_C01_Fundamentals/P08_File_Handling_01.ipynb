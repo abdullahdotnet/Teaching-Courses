{
 "cells": [
  {
   "cell_type": "markdown",
   "metadata": {},
   "source": [
    "# File Handling 01"
   ]
  },
  {
   "cell_type": "markdown",
   "metadata": {},
   "source": [
    "## Task 01\n",
    "You have to write 3 lines at least in a file named `bio.txt`. You have to mention these things in the lines:\n",
    "1. Your name and country.\n",
    "2. Your hobbies.\n",
    "3. Your goals, aim or dreams.\n",
    "\n",
    "**Hint:** You can use `\\n` to write in a new line. See the concept of escape sequences from the advanced strings notebook."
   ]
  },
  {
   "cell_type": "code",
   "execution_count": null,
   "metadata": {},
   "outputs": [],
   "source": []
  },
  {
   "cell_type": "markdown",
   "metadata": {},
   "source": [
    "## Task 02\n",
    "You have to read the file `bio.txt` and print the content of the file."
   ]
  },
  {
   "cell_type": "markdown",
   "metadata": {},
   "source": []
  },
  {
   "cell_type": "markdown",
   "metadata": {},
   "source": [
    "## Task 03\n",
    "Create a new file named as `random_numbers.txt` and write 10 random numbers in the file using `randint` function of random module. Then read the numbers and find out the average of these numbers.\n",
    "\n",
    "**Hint:** When you will read the numbers, they will be in the form of strings, so you have to convert them into integers to apply mathematical operations on them."
   ]
  },
  {
   "cell_type": "markdown",
   "metadata": {},
   "source": []
  },
  {
   "cell_type": "markdown",
   "metadata": {},
   "source": [
    "# Task 04\n",
    "1. Create a new file named as `story.txt`. Write the following content in the file:\n",
    "``` raw\n",
    "There is a playground.\n",
    "An airplane is in the sky.\n",
    "The sky is pink.\n",
    "The airplane is white.\n",
    "Boys are playing in the playground.\n",
    "```\n",
    "\n",
    "\n",
    "Write a function in python to count the number of lines from a text file `story.txt` which is not starting with an alphabet \"T\". "
   ]
  },
  {
   "cell_type": "code",
   "execution_count": null,
   "metadata": {},
   "outputs": [],
   "source": []
  }
 ],
 "metadata": {
  "language_info": {
   "name": "python"
  }
 },
 "nbformat": 4,
 "nbformat_minor": 2
}

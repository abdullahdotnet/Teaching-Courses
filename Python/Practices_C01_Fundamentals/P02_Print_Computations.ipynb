{
 "cells": [
  {
   "cell_type": "markdown",
   "id": "fac0acf6-1979-4206-8415-9b11d0e56b7d",
   "metadata": {},
   "source": [
    "### Task 01\n",
    "create the following pattern using the `print()` function and spaces.  "
   ]
  },
  {
   "cell_type": "raw",
   "id": "7cadfde5-baf4-404f-ac4a-e42d774fa15f",
   "metadata": {},
   "source": [
    "1         1  \n",
    " 2       2  \n",
    "  3     3  \n",
    "   4   4  \n",
    "    5 5  "
   ]
  },
  {
   "cell_type": "code",
   "execution_count": null,
   "id": "59634213-0a75-415f-be7a-bad708aab2fd",
   "metadata": {},
   "outputs": [],
   "source": []
  },
  {
   "cell_type": "markdown",
   "id": "e36dab3a-1ecd-4d98-b75a-d44685011995",
   "metadata": {},
   "source": [
    "### Task 02\n",
    "Take any 3 numbers as input, print their total, product, average and substraction of 1st and 2nd number"
   ]
  },
  {
   "cell_type": "code",
   "execution_count": null,
   "id": "ed99766d-e94d-4388-9c6f-5d25c238a427",
   "metadata": {
    "scrolled": true
   },
   "outputs": [],
   "source": []
  },
  {
   "cell_type": "markdown",
   "id": "5f28b464-cbc4-4159-8516-c7688e03e1c1",
   "metadata": {},
   "source": [
    "### Task 03\n",
    "Input the age of the user and check if it is less than 40 then print `\"You are young\"` else print `\"You are a senior citizen!\"`.  \n",
    "Hint: Don't forget to type cast age into int."
   ]
  },
  {
   "cell_type": "code",
   "execution_count": null,
   "id": "94ae825d-1a0e-4443-82f1-de860f1ac753",
   "metadata": {},
   "outputs": [],
   "source": []
  }
 ],
 "metadata": {
  "kernelspec": {
   "display_name": "Python 3 (ipykernel)",
   "language": "python",
   "name": "python3"
  },
  "language_info": {
   "codemirror_mode": {
    "name": "ipython",
    "version": 3
   },
   "file_extension": ".py",
   "mimetype": "text/x-python",
   "name": "python",
   "nbconvert_exporter": "python",
   "pygments_lexer": "ipython3",
   "version": "3.11.3"
  }
 },
 "nbformat": 4,
 "nbformat_minor": 5
}

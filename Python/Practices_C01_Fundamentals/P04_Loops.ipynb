{
 "cells": [
  {
   "cell_type": "markdown",
   "id": "993b6688",
   "metadata": {},
   "source": [
    "# LOOPS"
   ]
  },
  {
   "cell_type": "markdown",
   "id": "d88c8888-5d91-4988-9ffd-8dd5ac5a89f2",
   "metadata": {},
   "source": [
    "### Task 01.\n",
    "Write even numbers less than 100 in a single line like in the following."
   ]
  },
  {
   "cell_type": "raw",
   "id": "eb68c881",
   "metadata": {
    "vscode": {
     "languageId": "raw"
    }
   },
   "source": [
    "0 2 4 6 8 10 12 14 16 18 20 22 24 26 28 30 32 34 36 38 40 42 44 46 48 50 52 54 56 58 60 62 64 66 68 70 72 74 76 78 80 82 84 86 88 90 92 94 96 98"
   ]
  },
  {
   "cell_type": "raw",
   "id": "57d1367f",
   "metadata": {},
   "source": []
  },
  {
   "cell_type": "markdown",
   "id": "1813ee57-b291-45aa-b4fa-4a93614225f9",
   "metadata": {},
   "source": [
    "### Task 02.\n",
    "Input starting and ending number from user. Print numbers between them.  \n",
    "__Sample Runs__:"
   ]
  },
  {
   "cell_type": "raw",
   "id": "e11d0ead-0ac7-4f4a-acbc-dc7c6de09267",
   "metadata": {},
   "source": [
    "Starting Number: 2\n",
    "Ending Number: 6\n",
    "2 3 4 5 6"
   ]
  },
  {
   "cell_type": "code",
   "execution_count": null,
   "id": "1ec6bfdb-6d34-4a3d-9871-a7c99cf3da03",
   "metadata": {},
   "outputs": [],
   "source": []
  },
  {
   "cell_type": "markdown",
   "id": "fc11365c-2494-4fe6-83be-0d99978a9913",
   "metadata": {},
   "source": [
    "### Task 3. \n",
    "Input 5 numbers from user and print maximum number. (Use loop to get input) \n",
    "__Sample Runs__:"
   ]
  },
  {
   "cell_type": "raw",
   "id": "4187505d-eedf-4032-8010-6d67c9174275",
   "metadata": {},
   "source": [
    "Enter number: 2\n",
    "Enter number: 3\n",
    "Enter number: 1\n",
    "Enter number: 6\n",
    "Enter number: 5\n",
    "Max number: 6"
   ]
  },
  {
   "cell_type": "code",
   "execution_count": null,
   "id": "8cac1ab1-d591-4c5c-81ae-4413832f386f",
   "metadata": {},
   "outputs": [],
   "source": []
  },
  {
   "cell_type": "markdown",
   "id": "b1314036",
   "metadata": {},
   "source": [
    "## Task 04.\n",
    "Write a program that prompts the user to input a positive integer. It should then print the multiplication table of that number up to 10.  \n",
    "__Sample Runs__:"
   ]
  },
  {
   "cell_type": "raw",
   "id": "487b4701",
   "metadata": {
    "vscode": {
     "languageId": "raw"
    }
   },
   "source": [
    "Enter the positive number: 7\n",
    "7 x 1 = 7\n",
    "7 x 2 = 14\n",
    "7 x 3 = 21\n",
    "7 x 4 = 28\n",
    "7 x 5 = 35\n",
    "7 x 6 = 42\n",
    "7 x 7 = 49\n",
    "7 x 8 = 56\n",
    "7 x 9 = 63\n",
    "7 x 10 = 70"
   ]
  },
  {
   "cell_type": "raw",
   "id": "986f65cf",
   "metadata": {},
   "source": []
  }
 ],
 "metadata": {
  "kernelspec": {
   "display_name": "Python 3 (ipykernel)",
   "language": "python",
   "name": "python3"
  },
  "language_info": {
   "codemirror_mode": {
    "name": "ipython",
    "version": 3
   },
   "file_extension": ".py",
   "mimetype": "text/x-python",
   "name": "python",
   "nbconvert_exporter": "python",
   "pygments_lexer": "ipython3",
   "version": "3.12.2"
  }
 },
 "nbformat": 4,
 "nbformat_minor": 5
}

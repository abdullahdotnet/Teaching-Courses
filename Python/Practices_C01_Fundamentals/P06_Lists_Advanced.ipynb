{
 "cells": [
  {
   "cell_type": "markdown",
   "id": "e0312043-0e2a-48df-927d-8b7c54bb329a",
   "metadata": {},
   "source": [
    "# Lists Advance"
   ]
  },
  {
   "cell_type": "markdown",
   "id": "6f766eed-2a1e-4390-8ba4-40c9a2cf3dab",
   "metadata": {},
   "source": [
    "#### Task 01\n",
    "Declare a list of 30 elements to store marks of 30 students of a class. Initialize elements at random in range 1-100. The management is interested to divide students in three categories i.e. failures, above average and below average. For this purpose, calculate average of passed students only.  \n",
    "**Hint:** Run different loop for each step.  \n",
    "\n",
    "In the following sample run, the first line contains the marks of all 30 students. Then the average of only the passed students not including the marks of fail students. Then in the next line, marks of fail students (student with marks less than 50 out of 100). After that, marks of above average students (students having marks greater than average). At the last line, marks of below average students (students having marks less than average).  \n",
    "**Sample Run:**"
   ]
  },
  {
   "cell_type": "raw",
   "id": "72dbfdd1-f2ba-41a6-bb0e-eb442283da48",
   "metadata": {
    "vscode": {
     "languageId": "raw"
    }
   },
   "source": [
    "[80, 66, 97, 69, 90, 77, 92, 45, 14, 50, 5, 79, 73, 94, 62, 91, 18, 89, 63, 35, 11, 10, 49, 1, 46, 52, 82, 41, 35, 99]\n",
    "Average: 78.06\n",
    "45 14 5 18 35 11 10 49 1 46 41 35\n",
    "80 97 90 92 79 94 91 89 82 99\n",
    "66 69 77 45 14 50 5 73 62 18 63 35 11 10 49 1 46 52 41 35"
   ]
  },
  {
   "cell_type": "code",
   "execution_count": null,
   "id": "6048e929-c8f6-4796-9b70-ff72fd6e186c",
   "metadata": {},
   "outputs": [],
   "source": []
  },
  {
   "cell_type": "markdown",
   "id": "624e66d8-4e9e-40ae-9022-ca079c629383",
   "metadata": {},
   "source": [
    "#### Task 02\n",
    "Declare a list of 12 elements to store monthly sales of XYZ Company. Initialize elements at random (range 1000 to 2000) and print in single line. Company want to do different analysis. For example, difference of sale in first half of the year and second half of the year. Difference of sales in each quarter.  \n",
    "A year has two halves. First half has first six month and second half has next six month. Print total sales in first & second half.  \n",
    "There are four quarters of three months in a year. Like first quarter has January, February & March. The second quarter has April, May & June. Print sales of each quarter. (By adding sales of consecutive three months).  \n",
    "**Note:** Run different loop for each step.  \n",
    "The first line contains the sales in 12 months. Then you have to calculate the total sales in each half of the year. Similarly, You have to show the total sales in each quarter as well.  \n",
    "**Sample Run:**"
   ]
  },
  {
   "cell_type": "raw",
   "id": "3040ab4c-3b81-463a-9adb-9b6982939e80",
   "metadata": {},
   "source": [
    "1081 1380 1789 1037 1865 1703 1549 1694 1526 1768 1557 1746\n",
    "Sale in Two Halves\n",
    "First Half: 8855\n",
    "Second Half: 9840\n",
    "Quarter Wise Sale\n",
    "Sale in Quarter 1: 4250\n",
    "Sale in Quarter 2: 4605\n",
    "Sale in Quarter 3: 4769\n",
    "Sale in Quarter 4: 5071"
   ]
  },
  {
   "cell_type": "code",
   "execution_count": null,
   "id": "ccdd2b09-609a-41d9-8682-bbb5adbf3d64",
   "metadata": {},
   "outputs": [],
   "source": []
  },
  {
   "cell_type": "markdown",
   "id": "466313e7-4d56-42ac-b927-fbe895d65185",
   "metadata": {},
   "source": [
    "#### Task 03\n",
    "Create two lists of same size with random numbers. Compare corresponding elements of \n",
    "both lists and for each pair print largereelement  \n",
    "**Sample Run:**."
   ]
  },
  {
   "cell_type": "raw",
   "id": "2030797c-9162-46f0-ac60-5967923b99e1",
   "metadata": {},
   "source": [
    "List 1: 23 45 18 17 36\n",
    "List 2: 41 14 11 37 46\n",
    "41 45 18 37 46"
   ]
  },
  {
   "cell_type": "code",
   "execution_count": null,
   "id": "d1f9dd29-8ce9-403a-a330-30ba25065e3b",
   "metadata": {},
   "outputs": [],
   "source": []
  },
  {
   "cell_type": "markdown",
   "id": "2c66c361-207d-4b7c-823f-2d2b353c455b",
   "metadata": {},
   "source": [
    "#### Task 04\n",
    "Extend previous task. Compare corresponding elements of both lists and put smaller element \n",
    "in list 1 and larger elements in list 2 and print both lists again   \n",
    "**Sample Run:**"
   ]
  },
  {
   "cell_type": "raw",
   "id": "28d1a720-119b-40e2-9fb7-18929a659028",
   "metadata": {},
   "source": [
    "List 1: 23 45 18 17 36\n",
    "List 2: 41 14 11 37 46\n",
    "Smaller: 23 14 11 17 36\n",
    "Larger: 41 45 18 37 46"
   ]
  },
  {
   "cell_type": "code",
   "execution_count": null,
   "id": "a2807379-b48a-4415-9f4f-73f9f32d1e1e",
   "metadata": {},
   "outputs": [],
   "source": []
  }
 ],
 "metadata": {
  "kernelspec": {
   "display_name": "Python 3 (ipykernel)",
   "language": "python",
   "name": "python3"
  },
  "language_info": {
   "codemirror_mode": {
    "name": "ipython",
    "version": 3
   },
   "file_extension": ".py",
   "mimetype": "text/x-python",
   "name": "python",
   "nbconvert_exporter": "python",
   "pygments_lexer": "ipython3",
   "version": "3.11.3"
  }
 },
 "nbformat": 4,
 "nbformat_minor": 5
}

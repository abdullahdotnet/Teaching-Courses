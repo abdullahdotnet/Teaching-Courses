{
 "cells": [
  {
   "cell_type": "markdown",
   "id": "b852f57e-b035-4414-8fa4-9248cc3d108e",
   "metadata": {},
   "source": [
    "### Task 01\n",
    "Using the `print()` function, display a greetings message saying `Welcome to Python World!`"
   ]
  },
  {
   "cell_type": "code",
   "execution_count": null,
   "id": "99051074-2fc3-4ad5-852d-58efc030e586",
   "metadata": {},
   "outputs": [],
   "source": []
  },
  {
   "cell_type": "markdown",
   "id": "f9abf04d-a51d-46e0-b6a7-0cb1d6f53948",
   "metadata": {},
   "source": [
    "### Task 02\n",
    "Ask user for its age using `input()` function and store it in the `age` variable."
   ]
  },
  {
   "cell_type": "code",
   "execution_count": null,
   "id": "95fe7b94-a18e-43db-ba32-3c8f7c3241fe",
   "metadata": {},
   "outputs": [],
   "source": []
  },
  {
   "cell_type": "markdown",
   "id": "5ad1316c-3113-4808-a7c4-524e2ae7e3a5",
   "metadata": {},
   "source": [
    "### Task 03\n",
    "After storing the age of the user, use `print()` to display it with the message You are doing good at `age`"
   ]
  },
  {
   "cell_type": "code",
   "execution_count": null,
   "id": "dcc064ca-19ce-487e-a6ed-638720ef6ad1",
   "metadata": {},
   "outputs": [],
   "source": []
  },
  {
   "cell_type": "markdown",
   "id": "6294e632-59e4-4783-9eee-a847d8385e64",
   "metadata": {},
   "source": [
    "### Task 04\n",
    "Create 4 different variables of different data types and print their values."
   ]
  },
  {
   "cell_type": "code",
   "execution_count": null,
   "id": "5b046c12-0976-445b-bfea-fa0a3dc03d27",
   "metadata": {},
   "outputs": [],
   "source": []
  }
 ],
 "metadata": {
  "kernelspec": {
   "display_name": "Python 3 (ipykernel)",
   "language": "python",
   "name": "python3"
  },
  "language_info": {
   "codemirror_mode": {
    "name": "ipython",
    "version": 3
   },
   "file_extension": ".py",
   "mimetype": "text/x-python",
   "name": "python",
   "nbconvert_exporter": "python",
   "pygments_lexer": "ipython3",
   "version": "3.11.3"
  }
 },
 "nbformat": 4,
 "nbformat_minor": 5
}

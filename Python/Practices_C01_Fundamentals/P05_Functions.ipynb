{
 "cells": [
  {
   "cell_type": "markdown",
   "id": "16796505-bba5-4bd6-872d-7c01975e9384",
   "metadata": {},
   "source": [
    "# Task 01\n",
    "Write a function named `celsius_to_fahrenheit(C)` that takes Celsius temperature as an argument and returns the Fahrenheit temperature.  \n",
    "**Sample Run:**  "
   ]
  },
  {
   "cell_type": "raw",
   "id": "f6dea7cd",
   "metadata": {
    "vscode": {
     "languageId": "raw"
    }
   },
   "source": [
    "celsius_to_fahrenheit(37)   # Output: 98.60"
   ]
  },
  {
   "cell_type": "code",
   "execution_count": null,
   "id": "c2bf9015-f7ad-46c8-af9f-0da55e87e58b",
   "metadata": {},
   "outputs": [],
   "source": []
  },
  {
   "cell_type": "markdown",
   "id": "1ac23883-e374-4ebf-8387-ef00162ba388",
   "metadata": {},
   "source": [
    "# Task 02\n",
    "Write a function named `is_even` takes a number as input and determines whether it is even or not. It should return `True` if the number is even, and `False` otherwise."
   ]
  },
  {
   "cell_type": "code",
   "execution_count": null,
   "id": "16ba5cb9-82cb-4d62-8067-276adc457642",
   "metadata": {},
   "outputs": [],
   "source": []
  },
  {
   "cell_type": "markdown",
   "id": "538cb5f9-1e26-4e92-85a1-08e0ae8907f1",
   "metadata": {},
   "source": [
    "# Task 03\n",
    "Write a function `counting(n, d)` to print counting of first n integers with distance (or step) d in a single line. The default value of d should be 1. But user can provide any value for d if he/she wants.  \n",
    "**Sample Run:**  "
   ]
  },
  {
   "cell_type": "raw",
   "id": "ca8a4d3d",
   "metadata": {
    "vscode": {
     "languageId": "raw"
    }
   },
   "source": [
    "counting(10) # Output: 1 2 3 4 5 6 7 8 9 10\n",
    "counting(10, 2) # Output: 1 3 5 7 9"
   ]
  },
  {
   "cell_type": "code",
   "execution_count": null,
   "id": "c6e859f8-86ff-414a-a431-ca47dff17fa6",
   "metadata": {},
   "outputs": [],
   "source": []
  },
  {
   "cell_type": "markdown",
   "id": "c4d58dd5",
   "metadata": {},
   "source": [
    "# Extra Task\n",
    "Modify the above function such that now it will take 3 arguments `counting2(n, d, s)`. Where s is the starting point of the counting. The default value of s should be 1. But user can provide any value for s if he/she wants.  \n",
    "\n",
    "In the third example below, the counting starts from 3 with a step of 2 and goes up to 10.  \n",
    "**Sample Run:**"
   ]
  },
  {
   "cell_type": "raw",
   "id": "d2a87a07",
   "metadata": {
    "vscode": {
     "languageId": "raw"
    }
   },
   "source": [
    "counting2(10) # Output: 1 2 3 4 5 6 7 8 9 10\n",
    "counting2(10, 2) # Output: 1 3 5 7 9\n",
    "counting2(10, 2, 3) # Output: 3 5 7 9"
   ]
  },
  {
   "cell_type": "raw",
   "id": "8706a759",
   "metadata": {},
   "source": []
  },
  {
   "cell_type": "markdown",
   "id": "bc159b9e-a5f9-46be-a944-3ad4b168e813",
   "metadata": {},
   "source": [
    "# Task 04\n",
    "Create a function that takes two numbers and an operator as input and performs the corresponding arithmetic operation (addition, subtraction, multiplication, division).  \n",
    "**Sample Run:**\n"
   ]
  },
  {
   "cell_type": "raw",
   "id": "aff7e008",
   "metadata": {
    "vscode": {
     "languageId": "raw"
    }
   },
   "source": [
    "Number 1:  90\n",
    "Number 2:  80\n",
    "Operator:  -\n",
    "10"
   ]
  },
  {
   "cell_type": "code",
   "execution_count": 1,
   "id": "645208cc-d75e-49c4-8bac-3e64e1f01505",
   "metadata": {},
   "outputs": [],
   "source": [
    "def operation(val1, val2, sign):\n",
    "    pass\n"
   ]
  },
  {
   "cell_type": "markdown",
   "id": "16ac4194-36a0-4d38-b74c-a715cf3b46c6",
   "metadata": {},
   "source": [
    "# Task 05\n",
    "Create a function that takes two numbers as input and calculates the first number raised to the power of the second number.  \n",
    "**Sample Run:**"
   ]
  },
  {
   "cell_type": "raw",
   "id": "a99ff21e",
   "metadata": {
    "vscode": {
     "languageId": "raw"
    }
   },
   "source": [
    "Number 1:  8\n",
    "Number 2:  3\n",
    "512"
   ]
  },
  {
   "cell_type": "code",
   "execution_count": 2,
   "id": "dbae1bd6-a669-491e-95c5-189eeb6f5d52",
   "metadata": {},
   "outputs": [],
   "source": [
    "def power(n1,n2):\n",
    "    pass"
   ]
  },
  {
   "cell_type": "markdown",
   "id": "b7c9d380-6be7-417f-8176-b0dd5bdacfa1",
   "metadata": {},
   "source": [
    "# Task 06\n",
    "Develop a function that takes a number as input and determines whether it is even or odd.  \n",
    "**Sample Run:**"
   ]
  },
  {
   "cell_type": "raw",
   "id": "c0405545",
   "metadata": {
    "vscode": {
     "languageId": "raw"
    }
   },
   "source": [
    "even_odd(45)  # Output: Odd\n",
    "even_odd(34)  # Output: Even"
   ]
  },
  {
   "cell_type": "code",
   "execution_count": 3,
   "id": "2c619d18-06c6-442b-8880-81da07eece45",
   "metadata": {},
   "outputs": [],
   "source": [
    "def even_odd(number):\n",
    "    pass"
   ]
  },
  {
   "cell_type": "markdown",
   "id": "3399e361-1af2-46b5-9531-8dec3409a64c",
   "metadata": {},
   "source": [
    "# Task 07\n",
    "Write a function that takes a person's weight and height as input and returns their Body Mass Index (BMI).  You can calculate BMI as follows:\n",
    "$$BMI = \\frac{weight}{height^2}$$  \n",
    "**Sample Run:**"
   ]
  },
  {
   "cell_type": "raw",
   "id": "3274c91f",
   "metadata": {
    "vscode": {
     "languageId": "raw"
    }
   },
   "source": [
    "BMI(80, 6)  # Output: 2.22"
   ]
  },
  {
   "cell_type": "code",
   "execution_count": 4,
   "id": "cb51c1c8-debc-4f66-9b24-8421ccb48b44",
   "metadata": {},
   "outputs": [],
   "source": [
    "def BMI(weight,height):\n",
    "    pass"
   ]
  },
  {
   "cell_type": "markdown",
   "id": "9a65970c-eed1-4add-b52e-b1adff578ac8",
   "metadata": {},
   "source": [
    "# Task 08\n",
    "Write a function to find and return the sum of first n integers using a loop.  \n",
    "**Sample Run:**"
   ]
  },
  {
   "cell_type": "raw",
   "id": "d06a2c80",
   "metadata": {
    "vscode": {
     "languageId": "raw"
    }
   },
   "source": [
    "sum_ints(10)  # Output: 55\n",
    "sum_ints(100)  # Output: 5050"
   ]
  },
  {
   "cell_type": "code",
   "execution_count": 14,
   "id": "d7fbc2dd-c56c-48eb-a3c5-481937ccd1ea",
   "metadata": {},
   "outputs": [
    {
     "name": "stdout",
     "output_type": "stream",
     "text": [
      "499780524090\n"
     ]
    }
   ],
   "source": [
    "def sum_ints(number):\n",
    "    pass"
   ]
  },
  {
   "cell_type": "code",
   "execution_count": null,
   "id": "c7a3e824-b9af-4d35-a5bd-d7bae4ad5b8f",
   "metadata": {},
   "outputs": [],
   "source": []
  }
 ],
 "metadata": {
  "kernelspec": {
   "display_name": "Python 3 (ipykernel)",
   "language": "python",
   "name": "python3"
  },
  "language_info": {
   "codemirror_mode": {
    "name": "ipython",
    "version": 3
   },
   "file_extension": ".py",
   "mimetype": "text/x-python",
   "name": "python",
   "nbconvert_exporter": "python",
   "pygments_lexer": "ipython3",
   "version": "3.12.2"
  }
 },
 "nbformat": 4,
 "nbformat_minor": 5
}

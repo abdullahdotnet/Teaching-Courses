{
 "cells": [
  {
   "cell_type": "markdown",
   "id": "fbb5a271-fe98-44ee-aedb-94fe320f24a1",
   "metadata": {},
   "source": [
    "# Section 7"
   ]
  },
  {
   "cell_type": "markdown",
   "id": "f0749177-20ea-4ab6-8986-5aff1f61b669",
   "metadata": {},
   "source": [
    "### Task1 : User Information"
   ]
  },
  {
   "cell_type": "markdown",
   "id": "79c9052f-b660-4a53-9e21-291aa801699a",
   "metadata": {},
   "source": [
    "Write a Python script that prompts the user for their name, age, and city, then prints a message using this information. Use variables and comments to make the code more readable.\n",
    "Hint: Use separate variable for each attribute"
   ]
  },
  {
   "cell_type": "code",
   "execution_count": null,
   "id": "768df5e8-2e5a-4350-a77b-3ec2d9f0ff84",
   "metadata": {},
   "outputs": [],
   "source": [
    "# Your code starts here\n",
    "\n",
    "\n",
    "\n",
    "\n",
    "# your code ends here"
   ]
  },
  {
   "cell_type": "markdown",
   "id": "d051df87-6eee-414b-b5f6-ba61801d46c6",
   "metadata": {},
   "source": [
    "### Task 2: String Manipulation"
   ]
  },
  {
   "cell_type": "markdown",
   "id": "84efd96e-350d-4a22-a918-56aa7fac5dae",
   "metadata": {},
   "source": [
    "##### Create a Python program that takes a sentence as input and performs the following operations:ence."
   ]
  },
  {
   "cell_type": "markdown",
   "id": "3260962e-e77e-4918-9165-4b0490a51e37",
   "metadata": {},
   "source": [
    "Print the length of the sentence.\n",
    "Print the sentence in uppercase.\n",
    "Print the sentence in lowercase.\n",
    "Print the first and last characters of the sentence."
   ]
  },
  {
   "cell_type": "markdown",
   "id": "0923584e-e52f-4b11-8c87-e05e393fc570",
   "metadata": {},
   "source": [
    "hint: Use built functions provided by python"
   ]
  },
  {
   "cell_type": "code",
   "execution_count": null,
   "id": "36f36952-2bfc-4abd-a8ba-c2ba19b0c543",
   "metadata": {},
   "outputs": [],
   "source": [
    "# Your code starts here\n",
    "\n",
    "\n",
    "\n",
    "\n",
    "# your code ends here"
   ]
  },
  {
   "cell_type": "markdown",
   "id": "1c364a78-e954-4592-b18b-4515a895fd93",
   "metadata": {},
   "source": [
    "### Task3:  Concatenation and Formatting"
   ]
  },
  {
   "cell_type": "markdown",
   "id": "e78d08b2-175c-4b56-ae3f-40581711cbb0",
   "metadata": {},
   "source": [
    "Write a Python script that prompts the user for their first name, last name, and birth year. Then, create a string that contains their full name and age. Use string concatenation and formatting."
   ]
  },
  {
   "cell_type": "code",
   "execution_count": null,
   "id": "cb003a4e-6def-48b3-b994-7c012b0e2293",
   "metadata": {},
   "outputs": [],
   "source": [
    "# Your code starts here\n",
    "\n",
    "\n",
    "\n",
    "\n",
    "# your code ends here"
   ]
  },
  {
   "cell_type": "markdown",
   "id": "001bb529-24d7-4fcf-bc36-48b3e9758f39",
   "metadata": {},
   "source": [
    "### Task 4: String Slicing and Replacement"
   ]
  },
  {
   "cell_type": "markdown",
   "id": "faafdc22-0b84-4589-9980-6cd8eaf7f572",
   "metadata": {},
   "source": [
    "Create a Python program that takes a sentence as input, then:"
   ]
  },
  {
   "cell_type": "markdown",
   "id": "98a8db74-d01a-4de2-a85e-880ee35b9dbd",
   "metadata": {},
   "source": [
    "Print the first half of the sentence.\r\n",
    "Replace a specific word in the sentence with another word."
   ]
  },
  {
   "cell_type": "code",
   "execution_count": null,
   "id": "5d275a82-747b-403d-b620-205adb167c44",
   "metadata": {},
   "outputs": [],
   "source": [
    "# Your code starts here\n",
    "\n",
    "\n",
    "\n",
    "\n",
    "# your code ends here"
   ]
  },
  {
   "cell_type": "markdown",
   "id": "9c9eb3be-6697-46c1-92e1-af033d249d0e",
   "metadata": {},
   "source": [
    "### Task 5: Password validator"
   ]
  },
  {
   "cell_type": "markdown",
   "id": "a2f5c19d-6185-4dee-997c-87d098f9ad03",
   "metadata": {},
   "source": [
    "Design a program that checks if a user's input password meets certain criteria (minimum length should be 8,last character should be a one of the following special characters  !@#."
   ]
  },
  {
   "cell_type": "code",
   "execution_count": null,
   "id": "9b56d9d3-c988-4eb2-a550-c855c354ae2c",
   "metadata": {},
   "outputs": [],
   "source": [
    "# Your code starts here\n",
    "\n",
    "\n",
    "\n",
    "\n",
    "# your code ends here"
   ]
  }
 ],
 "metadata": {
  "kernelspec": {
   "display_name": "Python 3 (ipykernel)",
   "language": "python",
   "name": "python3"
  },
  "language_info": {
   "codemirror_mode": {
    "name": "ipython",
    "version": 3
   },
   "file_extension": ".py",
   "mimetype": "text/x-python",
   "name": "python",
   "nbconvert_exporter": "python",
   "pygments_lexer": "ipython3",
   "version": "3.10.1"
  }
 },
 "nbformat": 4,
 "nbformat_minor": 5
}

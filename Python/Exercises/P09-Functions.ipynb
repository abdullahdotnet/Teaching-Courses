{
  "nbformat": 4,
  "nbformat_minor": 0,
  "metadata": {
    "colab": {
      "provenance": []
    },
    "kernelspec": {
      "name": "python3",
      "display_name": "Python 3"
    },
    "language_info": {
      "name": "python"
    }
  },
  "cells": [
    {
      "cell_type": "markdown",
      "source": [
        "### Task 1: Greeting Based on Time of Day"
      ],
      "metadata": {
        "id": "HySLItuC9s5b"
      }
    },
    {
      "cell_type": "markdown",
      "source": [
        "Write a function named greet_based_on_time that takes name and hour as parameters.\n",
        "*  If hour is between 0 and 11, return a greeting like \"Good morning, [name]!\"\n",
        "*  If hour is between 12 and 17, return \"Good afternoon, [name]!\"\n",
        "*  Otherwise, return \"Good evening, [name]!\"\n",
        "*  check this function with different hours to see the various greetings.\n",
        "\n"
      ],
      "metadata": {
        "id": "xB6QQbvc9vYL"
      }
    },
    {
      "cell_type": "code",
      "execution_count": null,
      "metadata": {
        "id": "0ufyR4O9sI9h"
      },
      "outputs": [],
      "source": []
    },
    {
      "cell_type": "markdown",
      "source": [
        "### Task 2: Simple Tip Calculator"
      ],
      "metadata": {
        "id": "OldAYAZR-xwu"
      }
    },
    {
      "cell_type": "markdown",
      "source": [
        "Create a function named calculate_tip that takes the total bill amount and a tip percentage.\\\n",
        "* Return the total amount to be paid, including the tip.\n",
        "* Example: If the bill is 50 and the tip is 10%, the function should return $55.\n",
        "* Test the function with different bill amounts and tip percentages."
      ],
      "metadata": {
        "id": "VCjEI4Vu-zEf"
      }
    },
    {
      "cell_type": "code",
      "source": [],
      "metadata": {
        "id": "bmJ-JWZL-yeP"
      },
      "execution_count": null,
      "outputs": []
    },
    {
      "cell_type": "markdown",
      "source": [
        "Task 3: Temperature Converter"
      ],
      "metadata": {
        "id": "M2j9dcLv_K-H"
      }
    },
    {
      "cell_type": "markdown",
      "source": [
        "Write a function named convert_temperature that takes a temperature in Celsius and returns the temperature in Fahrenheit."
      ],
      "metadata": {
        "id": "K3ww9VS-_GVZ"
      }
    },
    {
      "cell_type": "code",
      "source": [],
      "metadata": {
        "id": "6_uWDzXt_KVA"
      },
      "execution_count": null,
      "outputs": []
    },
    {
      "cell_type": "markdown",
      "source": [
        "### Task 4: Simple BMI Calculator"
      ],
      "metadata": {
        "id": "Mo8w-NLd_NUD"
      }
    },
    {
      "cell_type": "markdown",
      "source": [
        "Create a function named calculate_bmi that takes weight (in kilograms) and height (in meters) as parameters and returns the BMI value."
      ],
      "metadata": {
        "id": "MhiqbGsu_SpU"
      }
    },
    {
      "cell_type": "code",
      "source": [],
      "metadata": {
        "id": "pPnKK2wC_SAb"
      },
      "execution_count": null,
      "outputs": []
    },
    {
      "cell_type": "markdown",
      "source": [
        "### Task 5: Movie Ticket Price Calculator"
      ],
      "metadata": {
        "id": "oLHn64F-_a4I"
      }
    },
    {
      "cell_type": "markdown",
      "source": [
        "Create a function named movie_ticket_price that takes age as a parameter and returns the ticket price based on the following criteria:\n",
        "* Children (age < 12): 10 usd\n",
        "* Adults (12 <= age < 60): 15 usd\n",
        "* Seniors (age >= 60): 12 usd\n",
        "* check this function with different ages to ensure it calculates the correct price."
      ],
      "metadata": {
        "id": "xod4gz0o_gPt"
      }
    },
    {
      "cell_type": "code",
      "source": [],
      "metadata": {
        "id": "gXrxsPCS_ddQ"
      },
      "execution_count": null,
      "outputs": []
    },
    {
      "cell_type": "markdown",
      "source": [
        "### Task 6: Even number"
      ],
      "metadata": {
        "id": "9UxNhliOAScq"
      }
    },
    {
      "cell_type": "markdown",
      "source": [
        "Write a function named is_even that takes an integer as a parameter and returns True if the number is even, otherwise False."
      ],
      "metadata": {
        "id": "31l-ns6ZARbK"
      }
    },
    {
      "cell_type": "code",
      "source": [],
      "metadata": {
        "id": "BhJQH8J8ARxC"
      },
      "execution_count": null,
      "outputs": []
    }
  ]
}
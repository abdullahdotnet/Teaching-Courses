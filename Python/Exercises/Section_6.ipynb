{
 "cells": [
  {
   "cell_type": "markdown",
   "id": "60aa85f8-c5c4-465c-b555-961fbc429215",
   "metadata": {},
   "source": [
    "# Exercise for Section 6"
   ]
  },
  {
   "cell_type": "markdown",
   "id": "71fb8712-36f9-4bd3-b088-0c65f9d54369",
   "metadata": {},
   "source": [
    "### Task 1: Calculate Area of Rectangle"
   ]
  },
  {
   "cell_type": "markdown",
   "id": "c1b1dfaa-b1cf-4736-b72e-f628aee9d011",
   "metadata": {},
   "source": [
    "Write a Python script that calculates the area of a rectangle. The script should take user input for the length and width of the rectangle and then print the calculated area. Use appropriate comments to explain each step.\r\n"
   ]
  },
  {
   "cell_type": "code",
   "execution_count": null,
   "id": "d4f04624-a7ac-45d7-a5b2-48fd9af7cddf",
   "metadata": {},
   "outputs": [],
   "source": [
    "# Your code starts here\n",
    "\n",
    "\n",
    "\n",
    "\n",
    "# your code ends here"
   ]
  },
  {
   "cell_type": "markdown",
   "id": "2e1fff80-f2d7-46d9-8548-16c09f9e91c1",
   "metadata": {},
   "source": [
    "### Task 2: Compound Interest Calculation"
   ]
  },
  {
   "cell_type": "markdown",
   "id": "ddb4ff4f-b265-4551-bcd7-390b2767c3db",
   "metadata": {},
   "source": [
    "Create a Python program that calculates the compound interest. Prompt the user for the principal amount, interest rate (as a decimal), and the number of years. Print the final amount after interest. Use comments to explain the purpose of each variable and calculation."
   ]
  },
  {
   "cell_type": "code",
   "execution_count": null,
   "id": "ba692f88-249f-4ad0-8796-40bb4d70b2f3",
   "metadata": {},
   "outputs": [],
   "source": [
    "# Your code starts here\n",
    "\n",
    "\n",
    "\n",
    "\n",
    "# your code ends here"
   ]
  },
  {
   "cell_type": "markdown",
   "id": "7de13ac2-eac8-4e6b-af51-db31248a4e59",
   "metadata": {},
   "source": [
    "### Task 3: Temperature Conversion"
   ]
  },
  {
   "cell_type": "markdown",
   "id": "aa988880-9bb2-4ff1-8da9-edc4b939417f",
   "metadata": {},
   "source": [
    "Write a Python script that converts temperatures between Celsius and Fahrenheit. Prompt the user for the temperature and the unit (Celsius or Fahrenheit), then perform the conversion and print the result. Use comments to explain the conversion formula."
   ]
  },
  {
   "cell_type": "code",
   "execution_count": null,
   "id": "337d20ab-47b1-4442-af48-26502bb51526",
   "metadata": {},
   "outputs": [],
   "source": [
    "# Your code starts here\n",
    "\n",
    "\n",
    "\n",
    "\n",
    "# your code ends here"
   ]
  },
  {
   "cell_type": "markdown",
   "id": "fa982707-0b1a-47a9-94ba-7e03e206a1f4",
   "metadata": {},
   "source": [
    "### Task 4: Simple Calculator"
   ]
  },
  {
   "cell_type": "markdown",
   "id": "4df3fba1-e2aa-4235-9ccd-152c700dfa12",
   "metadata": {},
   "source": [
    "Create a basic calculator that performs addition, subtraction, multiplication, and division. Prompt the user for two numbers and the operation they want to perform. Use comments to explain each part of the calculator."
   ]
  },
  {
   "cell_type": "code",
   "execution_count": 3,
   "id": "4405dec5-4659-4605-931a-ee6406f4c921",
   "metadata": {},
   "outputs": [],
   "source": [
    "# Your code starts here\n",
    "\n",
    "\n",
    "\n",
    "\n",
    "# your code ends here"
   ]
  },
  {
   "cell_type": "markdown",
   "id": "bc0c2db8-064c-4899-85bb-46595834444b",
   "metadata": {},
   "source": [
    "### Task 5: Time Converter"
   ]
  },
  {
   "cell_type": "markdown",
   "id": "aa486ede-13b0-4d09-a07e-5d604a375396",
   "metadata": {},
   "source": [
    "Create a Python program that converts seconds into hours, minutes, and remaining seconds. Prompt the user for the total seconds and use comments to explain the conversion process."
   ]
  },
  {
   "cell_type": "code",
   "execution_count": 1,
   "id": "2da27c78-825d-4363-88ec-5599d6bb239e",
   "metadata": {},
   "outputs": [],
   "source": [
    "# Your code starts here\n",
    "\n",
    "\n",
    "\n",
    "\n",
    "# your code ends here"
   ]
  },
  {
   "cell_type": "markdown",
   "id": "7b68115d-80a5-448d-8540-981b38f6d876",
   "metadata": {},
   "source": [
    "# Task 6: Calculate Budget"
   ]
  },
  {
   "cell_type": "markdown",
   "id": "2d06d419-0715-43cc-80f5-227431cd8ae0",
   "metadata": {},
   "source": [
    "Task 04: Input previous month budget of an organization for entertainment, which includes cost of milk, tea, \r\n",
    "sugar and biscuits. Given there is 20% increase in prices. Calculate and print current month budget."
   ]
  },
  {
   "cell_type": "markdown",
   "id": "c46526f7-c403-4478-8380-24a9f6f7e881",
   "metadata": {},
   "source": [
    "Sample run\n",
    "\n",
    "Previous month budget:\n",
    "Milk: 2000\n",
    "Sugar: 500\n",
    "Tea: 1000\n",
    "Biscuits: 2000\n",
    "\n",
    "Next Month Budget:\n",
    "Milk : 2400\n",
    "Sugar: 600\n",
    "Tea: 1200\n",
    "Biscuits: 2400\n"
   ]
  },
  {
   "cell_type": "code",
   "execution_count": 1,
   "id": "d259a167-e974-4d0b-b2d4-ce51f7e682a6",
   "metadata": {},
   "outputs": [],
   "source": [
    "# Your code starts here\n",
    "\n",
    "\n",
    "\n",
    "\n",
    "# your code ends here"
   ]
  },
  {
   "cell_type": "markdown",
   "id": "0975af3e-1df0-4883-ad84-4461eff6a342",
   "metadata": {},
   "source": [
    "### Task 07: Find distance"
   ]
  },
  {
   "cell_type": "markdown",
   "id": "9011858e-402f-4b50-8e50-a4b0900db688",
   "metadata": {},
   "source": [
    "Input x1, x2, y1, y2 and find distance using formula: √(𝑥2 − 𝑥1\n",
    ")\r\n",
    "2 + (𝑦2 − 𝑦1\r\n",
    ")\r\n",
    "2\r"
   ]
  },
  {
   "cell_type": "code",
   "execution_count": 2,
   "id": "e8abf575-ba99-4839-9270-eb72a5b4b874",
   "metadata": {},
   "outputs": [],
   "source": [
    "# Your code starts here\n",
    "\n",
    "\n",
    "\n",
    "\n",
    "# your code ends here"
   ]
  },
  {
   "cell_type": "code",
   "execution_count": null,
   "id": "a9c38491-af96-4243-b80b-333d14441819",
   "metadata": {},
   "outputs": [],
   "source": []
  }
 ],
 "metadata": {
  "kernelspec": {
   "display_name": "Python 3 (ipykernel)",
   "language": "python",
   "name": "python3"
  },
  "language_info": {
   "codemirror_mode": {
    "name": "ipython",
    "version": 3
   },
   "file_extension": ".py",
   "mimetype": "text/x-python",
   "name": "python",
   "nbconvert_exporter": "python",
   "pygments_lexer": "ipython3",
   "version": "3.10.1"
  }
 },
 "nbformat": 4,
 "nbformat_minor": 5
}

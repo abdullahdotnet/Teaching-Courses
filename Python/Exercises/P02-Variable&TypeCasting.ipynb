{
 "cells": [
  {
   "cell_type": "markdown",
   "metadata": {},
   "source": [
    "# Lesson 1 Homework"
   ]
  },
  {
   "cell_type": "markdown",
   "metadata": {
    "id": "APfwKcy0srGf"
   },
   "source": [
    "### Task 1"
   ]
  },
  {
   "cell_type": "markdown",
   "metadata": {
    "id": "baQxXPMtsymj"
   },
   "source": [
    "Try to convert string \"23\" and string \"twentythree\" into integer and see which one possible"
   ]
  },
  {
   "cell_type": "code",
   "execution_count": null,
   "metadata": {
    "colab": {
     "base_uri": "https://localhost:8080/",
     "height": 263
    },
    "executionInfo": {
     "elapsed": 207,
     "status": "error",
     "timestamp": 1723223909753,
     "user": {
      "displayName": "Olga Orlova",
      "userId": "03765104327656842829"
     },
     "user_tz": 420
    },
    "id": "1rRjl6tKsV-G",
    "outputId": "679f1452-7460-4b4e-fd9b-1abd75630679"
   },
   "outputs": [],
   "source": []
  },
  {
   "cell_type": "markdown",
   "metadata": {
    "id": "W1JuiQBSujwM"
   },
   "source": [
    "### Task 2"
   ]
  },
  {
   "cell_type": "markdown",
   "metadata": {
    "id": "wK4jV5UxunkL"
   },
   "source": [
    "Asks the user for their name.\\\n",
    "Asks the user for their age.\\\n",
    "Prints a greeting message that includes their name and age."
   ]
  },
  {
   "cell_type": "code",
   "execution_count": null,
   "metadata": {
    "colab": {
     "base_uri": "https://localhost:8080/"
    },
    "executionInfo": {
     "elapsed": 6843,
     "status": "ok",
     "timestamp": 1723224035979,
     "user": {
      "displayName": "Olga Orlova",
      "userId": "03765104327656842829"
     },
     "user_tz": 420
    },
    "id": "JWSENzNnul7t",
    "outputId": "edb7c80c-8fd2-431d-8bbd-7f521bd1f8eb"
   },
   "outputs": [],
   "source": []
  },
  {
   "cell_type": "markdown",
   "metadata": {
    "id": "JG1Pvvw9vfsM"
   },
   "source": [
    "Creates a variable name and assigns it your name.\\\n",
    "Creates a variable age and assigns it your age.\\\n",
    "Creates a variable is_student and assigns it a boolean value indicating whether you are a student.\\\n",
    "Prints the values of these variables along with their data types."
   ]
  },
  {
   "cell_type": "code",
   "execution_count": null,
   "metadata": {
    "colab": {
     "base_uri": "https://localhost:8080/"
    },
    "executionInfo": {
     "elapsed": 183,
     "status": "ok",
     "timestamp": 1723224215836,
     "user": {
      "displayName": "Olga Orlova",
      "userId": "03765104327656842829"
     },
     "user_tz": 420
    },
    "id": "sjbnwgFEvmn9",
    "outputId": "31473cf6-f42d-4202-c88a-bda518eb8596"
   },
   "outputs": [],
   "source": []
  },
  {
   "cell_type": "markdown",
   "metadata": {
    "id": "hPEh4qMWwJfh"
   },
   "source": [
    "### Task 3"
   ]
  },
  {
   "cell_type": "markdown",
   "metadata": {
    "id": "s61LnzPfwUUC"
   },
   "source": [
    "Asks the user for their height in centimeters.\\\n",
    "Converts the height from centimeters to meters.\\\n",
    "Prints the height in both centimeters and meters."
   ]
  },
  {
   "cell_type": "code",
   "execution_count": null,
   "metadata": {
    "colab": {
     "base_uri": "https://localhost:8080/"
    },
    "executionInfo": {
     "elapsed": 6079,
     "status": "ok",
     "timestamp": 1723224287336,
     "user": {
      "displayName": "Olga Orlova",
      "userId": "03765104327656842829"
     },
     "user_tz": 420
    },
    "id": "Z_QCnY8iwR9t",
    "outputId": "c32e3f82-fbcd-4f6b-9280-41736f22efb7"
   },
   "outputs": [],
   "source": []
  }
 ],
 "metadata": {
  "colab": {
   "provenance": []
  },
  "kernelspec": {
   "display_name": "Python 3 (ipykernel)",
   "language": "python",
   "name": "python3"
  },
  "language_info": {
   "codemirror_mode": {
    "name": "ipython",
    "version": 3
   },
   "file_extension": ".py",
   "mimetype": "text/x-python",
   "name": "python",
   "nbconvert_exporter": "python",
   "pygments_lexer": "ipython3",
   "version": "3.12.4"
  }
 },
 "nbformat": 4,
 "nbformat_minor": 4
}

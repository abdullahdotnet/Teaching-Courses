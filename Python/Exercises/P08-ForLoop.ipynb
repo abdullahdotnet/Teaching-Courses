{
 "cells": [
  {
   "cell_type": "markdown",
   "id": "f4a6e59d-63b1-4a70-9b6f-877386bc1fab",
   "metadata": {
    "id": "f4a6e59d-63b1-4a70-9b6f-877386bc1fab"
   },
   "source": [
    "# Solve each task with both While Loop and For Loop"
   ]
  },
  {
   "cell_type": "markdown",
   "id": "86e9a431-1afb-45b3-b437-61a413d1f974",
   "metadata": {
    "id": "86e9a431-1afb-45b3-b437-61a413d1f974"
   },
   "source": [
    "### Task 1: Print Max"
   ]
  },
  {
   "cell_type": "markdown",
   "id": "82a23097-7219-4382-8233-b441f7a7d246",
   "metadata": {
    "id": "82a23097-7219-4382-8233-b441f7a7d246"
   },
   "source": [
    "Input 5 numbers from user and print maximum number"
   ]
  },
  {
   "cell_type": "code",
   "execution_count": null,
   "id": "169384ea-117f-46f2-9f41-39125af71e83",
   "metadata": {
    "id": "169384ea-117f-46f2-9f41-39125af71e83"
   },
   "outputs": [],
   "source": [
    "# your code starts here\n",
    "\n",
    "\n",
    "\n",
    "#your code ends here"
   ]
  },
  {
   "cell_type": "markdown",
   "id": "a46029f3-c4f3-4e8f-b83d-664a9145f489",
   "metadata": {
    "id": "a46029f3-c4f3-4e8f-b83d-664a9145f489"
   },
   "source": [
    "### Task 2"
   ]
  },
  {
   "cell_type": "markdown",
   "id": "3cdfbf68-3ed0-49e2-a4f5-e59a277bb377",
   "metadata": {
    "id": "3cdfbf68-3ed0-49e2-a4f5-e59a277bb377"
   },
   "source": [
    "Write a program to print integers 1 to 100 divisible by 3 & 5 but not by both. The output will be:\n",
    "3 5 6 9 10 12 18 20 21 24 25 27 33...\\\n",
    "hint: use logical operators"
   ]
  },
  {
   "cell_type": "code",
   "execution_count": null,
   "id": "84d74372-c4f1-45d2-8872-ce01990b819f",
   "metadata": {
    "id": "84d74372-c4f1-45d2-8872-ce01990b819f"
   },
   "outputs": [],
   "source": [
    "# your code starts here\n",
    "\n",
    "\n",
    "\n",
    "#your code ends here"
   ]
  },
  {
   "cell_type": "markdown",
   "id": "b8ac903c-8370-4476-8a8a-7978c6d137ca",
   "metadata": {
    "id": "b8ac903c-8370-4476-8a8a-7978c6d137ca"
   },
   "source": [
    "### Task 3"
   ]
  },
  {
   "cell_type": "markdown",
   "id": "c8eb2b61-4086-4516-a9c5-495b39f83138",
   "metadata": {
    "id": "c8eb2b61-4086-4516-a9c5-495b39f83138"
   },
   "source": [
    "Write a program to print integers 1 to 100. Write 5 integers in a line. Like:\\\n",
    "1 2 3 4 5\\\n",
    "6 7 8 9 10\\\n",
    "11 12 13 14 15"
   ]
  },
  {
   "cell_type": "code",
   "execution_count": null,
   "id": "76b3ada8-164c-4b09-ac8e-abb685608acf",
   "metadata": {
    "id": "76b3ada8-164c-4b09-ac8e-abb685608acf"
   },
   "outputs": [],
   "source": [
    "# your code starts here\n",
    "\n",
    "\n",
    "\n",
    "#your code ends here"
   ]
  },
  {
   "cell_type": "markdown",
   "id": "25b5b763-95d6-43cc-8fc5-898c7c8a2299",
   "metadata": {
    "id": "25b5b763-95d6-43cc-8fc5-898c7c8a2299"
   },
   "source": [
    "### Task 4"
   ]
  },
  {
   "cell_type": "markdown",
   "id": "188209ad-7649-4f95-b110-6d40439205d8",
   "metadata": {
    "id": "188209ad-7649-4f95-b110-6d40439205d8"
   },
   "source": [
    "Write a program to print capital alphabets. Write vowels in a single line. Like:\\\n",
    "A\\\n",
    "B C D\\\n",
    "E\\\n",
    "F G H\\\n",
    "I\\\n",
    "J K L M N\\\n",
    "O\\\n",
    "P Q R S T\\\n",
    "U\\\n",
    "V W X Y Z"
   ]
  },
  {
   "cell_type": "code",
   "execution_count": null,
   "id": "6dc594a0-d167-49d3-a1a0-9a075f1e4bfd",
   "metadata": {
    "id": "6dc594a0-d167-49d3-a1a0-9a075f1e4bfd",
    "jp-MarkdownHeadingCollapsed": true
   },
   "outputs": [],
   "source": [
    "# your code starts here\n",
    "\n",
    "\n",
    "\n",
    "#your code ends here"
   ]
  },
  {
   "cell_type": "markdown",
   "id": "7af6769f-3f13-4704-beaf-72eaf6b1f175",
   "metadata": {
    "id": "7af6769f-3f13-4704-beaf-72eaf6b1f175"
   },
   "source": [
    "### Task 5"
   ]
  },
  {
   "cell_type": "markdown",
   "id": "t9CLbINfwhf6",
   "metadata": {
    "id": "t9CLbINfwhf6"
   },
   "source": [
    "Write code to take number of rows as input and generate the output which looks like following!"
   ]
  },
  {
   "cell_type": "raw",
   "id": "3a0affa4-6665-4b31-b268-e509d4d70eae",
   "metadata": {
    "id": "3a0affa4-6665-4b31-b268-e509d4d70eae"
   },
   "source": [
    "![Screenshot 2024-09-09 172753.png](data:image/png;base64,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)\n"
   ]
  },
  {
   "cell_type": "code",
   "execution_count": 2,
   "id": "969e23cb-b4f1-463e-bc28-34032303d7ba",
   "metadata": {
    "id": "969e23cb-b4f1-463e-bc28-34032303d7ba"
   },
   "outputs": [],
   "source": [
    "# your code starts here\n",
    "\n",
    "\n",
    "\n",
    "#your code ends here"
   ]
  },
  {
   "cell_type": "markdown",
   "id": "h5mSRQuxvIS3",
   "metadata": {
    "id": "h5mSRQuxvIS3"
   },
   "source": [
    "Task 6"
   ]
  },
  {
   "cell_type": "markdown",
   "id": "Jbimny7LuBZP",
   "metadata": {
    "id": "Jbimny7LuBZP"
   },
   "source": [
    "Write code to take number of rows as input and generate the output which looks like following"
   ]
  },
  {
   "cell_type": "markdown",
   "id": "LuPD8QwmwpLf",
   "metadata": {
    "id": "LuPD8QwmwpLf"
   },
   "source": [
    "![Screenshot 2024-09-09 172944.png](data:image/png;base64,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)"
   ]
  },
  {
   "cell_type": "code",
   "execution_count": null,
   "id": "_5WLBX8bxU47",
   "metadata": {
    "id": "_5WLBX8bxU47"
   },
   "outputs": [],
   "source": []
  }
 ],
 "metadata": {
  "colab": {
   "provenance": []
  },
  "kernelspec": {
   "display_name": "Python 3 (ipykernel)",
   "language": "python",
   "name": "python3"
  },
  "language_info": {
   "codemirror_mode": {
    "name": "ipython",
    "version": 3
   },
   "file_extension": ".py",
   "mimetype": "text/x-python",
   "name": "python",
   "nbconvert_exporter": "python",
   "pygments_lexer": "ipython3",
   "version": "3.12.4"
  }
 },
 "nbformat": 4,
 "nbformat_minor": 5
}

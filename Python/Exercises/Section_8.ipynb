{
 "cells": [
  {
   "cell_type": "markdown",
   "id": "f5f13d80-8359-431c-8696-b2aab8a76673",
   "metadata": {},
   "source": [
    "# Section 8"
   ]
  },
  {
   "cell_type": "markdown",
   "id": "fbd77810-5a5e-4a24-aede-e07db29e7574",
   "metadata": {},
   "source": [
    "### Task 1: Discount Calculator"
   ]
  },
  {
   "cell_type": "markdown",
   "id": "1cc7a395-4c08-47e5-ba7a-e91505081356",
   "metadata": {},
   "source": [
    "Build a program that calculates a discount based on the purchase amount and applies it if certain conditions are met (e.g., minimum purchase value)."
   ]
  },
  {
   "cell_type": "code",
   "execution_count": 8,
   "id": "db8cd61c-2d69-4f90-84ae-8474f84eca48",
   "metadata": {},
   "outputs": [],
   "source": [
    "# your code starts here\n",
    "\n",
    "\n",
    "\n",
    "#your code ends here"
   ]
  },
  {
   "cell_type": "markdown",
   "id": "416b4e38-acea-43e8-ae3f-5c3015c66f9a",
   "metadata": {},
   "source": [
    "### Task 2: Age Verification"
   ]
  },
  {
   "cell_type": "markdown",
   "id": "0dd544a7-72d0-430a-8bde-cb25020a00cd",
   "metadata": {},
   "source": [
    "Write a Python script that not only checks if a person is eligible to vote but also provides additional information based on their age:\r\n",
    "\r\n",
    "If the age is less than 13, print a message that they are too young for most social media platforms.\r\n",
    "If the age is between 13 and 17 (inclusive), print a message about parental consent for social media usage.\r\n",
    "If the age is 18 or older, print a message about voting eligibility"
   ]
  },
  {
   "cell_type": "code",
   "execution_count": null,
   "id": "aefb46b0-9e45-4792-8020-5bc3f4e3460a",
   "metadata": {},
   "outputs": [],
   "source": [
    "# your code starts here\n",
    "\n",
    "\n",
    "\n",
    "#your code ends here"
   ]
  },
  {
   "cell_type": "markdown",
   "id": "41c6872e-ead7-4d51-a986-7f69a6182b3a",
   "metadata": {},
   "source": [
    "### Task 3: Temperature Classifier"
   ]
  },
  {
   "cell_type": "markdown",
   "id": "c1cc5402-ccda-4aa3-b33c-f4feac8f1002",
   "metadata": {},
   "source": [
    "Create a Python program that classifies temperatures into different categories:\r\n",
    "\r\n",
    "Below freezing (less than 0 degrees Celsius)\r\n",
    "Mild (between 0 and 20 degrees Celsius)\r\n",
    "Warm (between 20 and 30 degrees Celsius)\r\n",
    "Hot (above 30 degrees Celsius)\r\n",
    "Prompt the user for the temperature and print the corresponding classification."
   ]
  },
  {
   "cell_type": "code",
   "execution_count": null,
   "id": "84ea8458-cbe0-4b7a-b806-44eabb2a45e8",
   "metadata": {},
   "outputs": [],
   "source": [
    "# your code starts here\n",
    "\n",
    "\n",
    "\n",
    "#your code ends here"
   ]
  },
  {
   "cell_type": "markdown",
   "id": "124a83ef-5971-4f8a-bf58-85a282763dd4",
   "metadata": {},
   "source": [
    "### Task 4: Find Packs "
   ]
  },
  {
   "cell_type": "markdown",
   "id": "e1aeef1c-a549-4470-91fb-109359d6b9d3",
   "metadata": {},
   "source": [
    "A shopkeeper has pack of 6 eggs and he sells eggs in packs, customer has to purchase number \n",
    "of packs according to their requirements. Write a program to input the number of eggs and print the \n",
    "minimum number of packs required by the customer."
   ]
  },
  {
   "cell_type": "markdown",
   "id": "c30014c2-3d07-45f6-bf95-959e7023e3f8",
   "metadata": {},
   "source": [
    "Sample run:\n",
    "\n",
    "Eggs = 15\n",
    "\n",
    "packs = 3"
   ]
  },
  {
   "cell_type": "code",
   "execution_count": 1,
   "id": "7749f312-fdbe-4a37-b5a9-dedbebd5f451",
   "metadata": {},
   "outputs": [],
   "source": [
    "# your code starts here\n",
    "\n",
    "\n",
    "\n",
    "#your code ends here"
   ]
  },
  {
   "cell_type": "code",
   "execution_count": null,
   "id": "3aa02793-5d6d-4fdc-b5d4-57acac3e331b",
   "metadata": {},
   "outputs": [],
   "source": []
  }
 ],
 "metadata": {
  "kernelspec": {
   "display_name": "Python 3 (ipykernel)",
   "language": "python",
   "name": "python3"
  },
  "language_info": {
   "codemirror_mode": {
    "name": "ipython",
    "version": 3
   },
   "file_extension": ".py",
   "mimetype": "text/x-python",
   "name": "python",
   "nbconvert_exporter": "python",
   "pygments_lexer": "ipython3",
   "version": "3.10.1"
  }
 },
 "nbformat": 4,
 "nbformat_minor": 5
}

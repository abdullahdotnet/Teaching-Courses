{
 "cells": [
  {
   "cell_type": "markdown",
   "id": "f4a6e59d-63b1-4a70-9b6f-877386bc1fab",
   "metadata": {
    "id": "f4a6e59d-63b1-4a70-9b6f-877386bc1fab"
   },
   "source": [
    "# While Loop"
   ]
  },
  {
   "cell_type": "markdown",
   "id": "381900d0-202e-45fd-b94e-87dd2fc3297d",
   "metadata": {
    "id": "381900d0-202e-45fd-b94e-87dd2fc3297d"
   },
   "source": [
    "### Task 1: Print Even numbers"
   ]
  },
  {
   "cell_type": "markdown",
   "id": "294f9532-ee14-42f3-9445-40901e1d4add",
   "metadata": {
    "id": "294f9532-ee14-42f3-9445-40901e1d4add"
   },
   "source": [
    "Write even numbers less than 100 in a single liner."
   ]
  },
  {
   "cell_type": "code",
   "execution_count": null,
   "id": "3c6ad3b9-4ab8-4bff-9dae-b175c124ae2c",
   "metadata": {
    "id": "3c6ad3b9-4ab8-4bff-9dae-b175c124ae2c"
   },
   "outputs": [],
   "source": [
    "# your code starts here\n",
    "\n",
    "\n",
    "\n",
    "#your code ends here"
   ]
  },
  {
   "cell_type": "markdown",
   "id": "71e44bbf-4fcf-4b7f-ba75-69acb0c05648",
   "metadata": {
    "id": "71e44bbf-4fcf-4b7f-ba75-69acb0c05648"
   },
   "source": [
    "### Task 2: Print Numbers in a range"
   ]
  },
  {
   "cell_type": "markdown",
   "id": "bb1faa9b-abef-4605-8f35-dd161889d290",
   "metadata": {
    "id": "bb1faa9b-abef-4605-8f35-dd161889d290"
   },
   "source": [
    "Task 2. Input starting and ending number from user. Print numbers between them"
   ]
  },
  {
   "cell_type": "code",
   "execution_count": null,
   "id": "b1e6b947-9ca8-4c07-bfcf-a255ef1645e9",
   "metadata": {
    "id": "b1e6b947-9ca8-4c07-bfcf-a255ef1645e9"
   },
   "outputs": [],
   "source": [
    "# your code starts here\n",
    "\n",
    "\n",
    "\n",
    "#your code ends here"
   ]
  },
  {
   "cell_type": "markdown",
   "id": "1ba78bc2-d9b6-4368-9d36-fba9e48641ef",
   "metadata": {
    "id": "1ba78bc2-d9b6-4368-9d36-fba9e48641ef"
   },
   "source": [
    "### Task 3: Print Odd"
   ]
  },
  {
   "cell_type": "markdown",
   "id": "75797ece-b31a-4da2-bc79-676238a0fa0e",
   "metadata": {
    "id": "75797ece-b31a-4da2-bc79-676238a0fa0e"
   },
   "source": [
    " Print odd numbers from 49 to 1 in descending order"
   ]
  },
  {
   "cell_type": "code",
   "execution_count": null,
   "id": "16866bc2-e8b7-4ebf-be78-2e897d64fdb6",
   "metadata": {
    "id": "16866bc2-e8b7-4ebf-be78-2e897d64fdb6"
   },
   "outputs": [],
   "source": [
    "# your code starts here\n",
    "\n",
    "\n",
    "\n",
    "#your code ends here"
   ]
  },
  {
   "cell_type": "markdown",
   "id": "5483502e-aa6c-443b-8856-d212996b9434",
   "metadata": {
    "id": "5483502e-aa6c-443b-8856-d212996b9434"
   },
   "source": [
    "### Task 4: Print Sum"
   ]
  },
  {
   "cell_type": "markdown",
   "id": "70107106-e620-4ac0-8e84-7a7a9c23ec4b",
   "metadata": {
    "id": "70107106-e620-4ac0-8e84-7a7a9c23ec4b"
   },
   "source": [
    "Input 5 numbers from user and print their sum.(Related to code that I told you to understand on your own)"
   ]
  },
  {
   "cell_type": "code",
   "execution_count": null,
   "id": "6d51cf06-2735-45d4-9608-e1277c4c5c32",
   "metadata": {
    "id": "6d51cf06-2735-45d4-9608-e1277c4c5c32"
   },
   "outputs": [],
   "source": [
    "# your code starts here\n",
    "\n",
    "\n",
    "\n",
    "#your code ends here"
   ]
  }
 ],
 "metadata": {
  "colab": {
   "provenance": []
  },
  "kernelspec": {
   "display_name": "Python 3 (ipykernel)",
   "language": "python",
   "name": "python3"
  },
  "language_info": {
   "codemirror_mode": {
    "name": "ipython",
    "version": 3
   },
   "file_extension": ".py",
   "mimetype": "text/x-python",
   "name": "python",
   "nbconvert_exporter": "python",
   "pygments_lexer": "ipython3",
   "version": "3.12.4"
  }
 },
 "nbformat": 4,
 "nbformat_minor": 5
}

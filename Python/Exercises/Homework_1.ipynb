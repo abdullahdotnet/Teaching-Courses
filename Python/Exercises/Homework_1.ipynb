{
 "cells": [
  {
   "cell_type": "markdown",
   "metadata": {
    "id": "6Q8xJ3Qh7NNe"
   },
   "source": [
    "## Lesson 1 Homework"
   ]
  },
  {
   "cell_type": "markdown",
   "metadata": {
    "id": "kMCquYrD7WBv"
   },
   "source": [
    "### Task 1: Getting User Input and Displaying it\n",
    "\n",
    "\n"
   ]
  },
  {
   "cell_type": "markdown",
   "metadata": {
    "id": "mrKgOtk87q4f"
   },
   "source": [
    "Write a program that asks the user for their name and their favorite color, then prints a message including this information."
   ]
  },
  {
   "cell_type": "code",
   "execution_count": null,
   "metadata": {
    "id": "JmB3FQuT68ds"
   },
   "outputs": [],
   "source": [
    "# Your code starts here\n",
    "\n",
    "\n",
    "\n",
    "\n",
    "# your code ends here"
   ]
  },
  {
   "cell_type": "markdown",
   "metadata": {
    "id": "JdvkfN8v7ybl"
   },
   "source": [
    "## Task 2: Comments"
   ]
  },
  {
   "cell_type": "markdown",
   "metadata": {
    "id": "TdxhLeHL776d"
   },
   "source": [
    "Add comments to the following code to explain what each line does."
   ]
  },
  {
   "cell_type": "code",
   "execution_count": null,
   "metadata": {
    "id": "vC63BWb276ys"
   },
   "outputs": [],
   "source": [
    "user_age = int(input(\"Enter your age: \"))\n",
    "age_in_5_years = user_age + 5\n",
    "print(\"In 5 years, you will be \" + str(age_in_5_years) + \" years old.\")"
   ]
  },
  {
   "cell_type": "markdown",
   "metadata": {
    "id": "XxjZ69nm8JSj"
   },
   "source": [
    "## Task 3: Variables and Data Types"
   ]
  },
  {
   "cell_type": "markdown",
   "metadata": {
    "id": "cz4F5_v68JVY"
   },
   "source": [
    "Create variables to store appropriate information related to student and display them."
   ]
  },
  {
   "cell_type": "code",
   "execution_count": null,
   "metadata": {
    "id": "vNsUZZle9XRe"
   },
   "outputs": [],
   "source": [
    "# Your code starts here\n",
    "\n",
    "\n",
    "\n",
    "\n",
    "# your code ends here"
   ]
  },
  {
   "cell_type": "markdown",
   "metadata": {
    "id": "83s2NefJ9aSo"
   },
   "source": [
    "## Task 4: Arithmetic Operators"
   ]
  },
  {
   "cell_type": "markdown",
   "metadata": {
    "id": "sLRJLEra-DHa"
   },
   "source": [
    "Write a program that takes two numbers from the user and performs the following operations: addition, subtraction, multiplication, and division. Print the results of each operation."
   ]
  },
  {
   "cell_type": "code",
   "execution_count": null,
   "metadata": {
    "id": "q5SH8tGD9fJV"
   },
   "outputs": [],
   "source": []
  }
 ],
 "metadata": {
  "colab": {
   "provenance": []
  },
  "kernelspec": {
   "display_name": "Python 3 (ipykernel)",
   "language": "python",
   "name": "python3"
  },
  "language_info": {
   "codemirror_mode": {
    "name": "ipython",
    "version": 3
   },
   "file_extension": ".py",
   "mimetype": "text/x-python",
   "name": "python",
   "nbconvert_exporter": "python",
   "pygments_lexer": "ipython3",
   "version": "3.12.4"
  }
 },
 "nbformat": 4,
 "nbformat_minor": 4
}

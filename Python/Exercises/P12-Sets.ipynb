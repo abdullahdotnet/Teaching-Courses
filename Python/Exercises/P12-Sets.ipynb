{
  "nbformat": 4,
  "nbformat_minor": 0,
  "metadata": {
    "colab": {
      "provenance": []
    },
    "kernelspec": {
      "name": "python3",
      "display_name": "Python 3"
    },
    "language_info": {
      "name": "python"
    }
  },
  "cells": [
    {
      "cell_type": "code",
      "execution_count": null,
      "metadata": {
        "id": "lJ4G7a47AjlA"
      },
      "outputs": [],
      "source": []
    },
    {
      "cell_type": "markdown",
      "source": [
        "EXPLORING FUNCTIONS OF SETS IN PYTHON"
      ],
      "metadata": {
        "id": "E-rKbq9CBAoj"
      }
    },
    {
      "cell_type": "markdown",
      "source": [
        "1. add a new state"
      ],
      "metadata": {
        "id": "P4tUdhHDFE9z"
      }
    },
    {
      "cell_type": "code",
      "source": [
        "united_states = {\"Washington\", \"Oregon\", \"Idaho\", \"California\", \"Texas\", \"North Carolina\", \"South Carolina\"}\n",
        "pnw_united_states = {\"Washington\", \"Oregon\", \"California\"}\n",
        "\n",
        "united_states.add(\"Hawaii\")\n",
        "print(united_states)\n"
      ],
      "metadata": {
        "id": "eR6RypwuAxkq"
      },
      "execution_count": null,
      "outputs": []
    },
    {
      "cell_type": "markdown",
      "source": [
        "Why it's not working?"
      ],
      "metadata": {
        "id": "EA1Z917tE_kZ"
      }
    },
    {
      "cell_type": "code",
      "source": [
        "united_states1 = united_states.add(\"Illinois\")\n",
        "print(united_states1)"
      ],
      "metadata": {
        "colab": {
          "base_uri": "https://localhost:8080/"
        },
        "id": "xrwGMlYLEpqh",
        "outputId": "16cf1232-497b-4454-eeb7-efcfabe39f2b"
      },
      "execution_count": null,
      "outputs": [
        {
          "output_type": "stream",
          "name": "stdout",
          "text": [
            "None\n"
          ]
        }
      ]
    },
    {
      "cell_type": "markdown",
      "source": [
        "2. remove all the elements from the set"
      ],
      "metadata": {
        "id": "E1Awxof_FIPh"
      }
    },
    {
      "cell_type": "code",
      "source": [
        "united_states = {\"Washington\", \"Oregon\", \"Idaho\", \"California\", \"Texas\", \"North Carolina\", \"South Carolina\"}\n",
        "pnw_united_states = {\"Washington\", \"Oregon\", \"California\"}\n",
        "\n",
        "pnw_united_states.clear()\n",
        "print(pnw_united_states)\n"
      ],
      "metadata": {
        "colab": {
          "base_uri": "https://localhost:8080/"
        },
        "id": "riZ-CfuDFVoS",
        "outputId": "9ebdc05e-94f2-48bb-dbf4-82bbe64e7ac9"
      },
      "execution_count": null,
      "outputs": [
        {
          "output_type": "stream",
          "name": "stdout",
          "text": [
            "set()\n"
          ]
        }
      ]
    },
    {
      "cell_type": "markdown",
      "source": [
        "3. copy"
      ],
      "metadata": {
        "id": "x8GF7_kCFoAC"
      }
    },
    {
      "cell_type": "code",
      "source": [
        "united_states = {\"Washington\", \"Oregon\", \"Idaho\", \"California\", \"Texas\", \"North Carolina\", \"South Carolina\"}\n",
        "\n",
        "states = united_states.copy()\n",
        "print(states)"
      ],
      "metadata": {
        "colab": {
          "base_uri": "https://localhost:8080/"
        },
        "id": "jVxo6rY0FwbZ",
        "outputId": "7dac51e4-5ef5-4bc0-b26d-b0f40107e1a2"
      },
      "execution_count": null,
      "outputs": [
        {
          "output_type": "stream",
          "name": "stdout",
          "text": [
            "{'North Carolina', 'Washington', 'Oregon', 'Texas', 'California', 'Idaho', 'South Carolina'}\n"
          ]
        }
      ]
    },
    {
      "cell_type": "markdown",
      "source": [
        "4. difference between the 2 sets"
      ],
      "metadata": {
        "id": "eTmV6L1pGWoT"
      }
    },
    {
      "cell_type": "code",
      "source": [
        "united_states = {\"Washington\", \"Oregon\", \"Idaho\", \"California\", \"Texas\", \"North Carolina\", \"South Carolina\"}\n",
        "pnw = {\"Washington\", \"Oregon\", \"California\"}\n",
        "\n",
        "difference = united_states.difference(pnw)\n",
        "print(difference)"
      ],
      "metadata": {
        "colab": {
          "base_uri": "https://localhost:8080/"
        },
        "id": "l-CeS3YTGdtS",
        "outputId": "5dcfb642-d25d-452a-e49f-7442502acfb2"
      },
      "execution_count": null,
      "outputs": [
        {
          "output_type": "stream",
          "name": "stdout",
          "text": [
            "{'North Carolina', 'Idaho', 'Texas', 'South Carolina'}\n"
          ]
        }
      ]
    },
    {
      "cell_type": "markdown",
      "source": [
        "5. discard or remove a specific item from the set"
      ],
      "metadata": {
        "id": "HFKyQL_HHF3z"
      }
    },
    {
      "cell_type": "code",
      "source": [
        "united_states = {\"Washington\", \"Oregon\", \"Idaho\", \"California\", \"Texas\", \"North Carolina\", \"South Carolina\"}\n",
        "united_states.discard(\"Idaho\")\n",
        "print(united_states)"
      ],
      "metadata": {
        "colab": {
          "base_uri": "https://localhost:8080/"
        },
        "id": "TB6TZ5GsHPcR",
        "outputId": "fcbc0fa5-b338-475b-9554-1d2840942138"
      },
      "execution_count": null,
      "outputs": [
        {
          "output_type": "stream",
          "name": "stdout",
          "text": [
            "{'North Carolina', 'Washington', 'Oregon', 'Texas', 'California', 'South Carolina'}\n"
          ]
        }
      ]
    },
    {
      "cell_type": "markdown",
      "source": [
        "6. find intersection of the two sets"
      ],
      "metadata": {
        "id": "IxOjR1A3Hlpd"
      }
    },
    {
      "cell_type": "code",
      "source": [
        "united_states = {\"Washington\", \"Oregon\", \"Idaho\", \"California\", \"Texas\", \"North Carolina\", \"South Carolina\"}\n",
        "pnw = {\"Washington\", \"Oregon\"}\n",
        "\n",
        "intersection = united_states.intersection(pnw)\n",
        "print(intersection)"
      ],
      "metadata": {
        "colab": {
          "base_uri": "https://localhost:8080/"
        },
        "id": "qiHYilFZH4VD",
        "outputId": "3a738b7e-b7bc-4de2-ac69-d013d979dd89"
      },
      "execution_count": null,
      "outputs": [
        {
          "output_type": "stream",
          "name": "stdout",
          "text": [
            "{'Washington', 'Oregon'}\n"
          ]
        }
      ]
    },
    {
      "cell_type": "markdown",
      "source": [
        "7. find out if the sets have an intersection or not"
      ],
      "metadata": {
        "id": "bC31fXsaIS-5"
      }
    },
    {
      "cell_type": "code",
      "source": [
        "united_states = {\"Washington\", \"Oregon\", \"Idaho\", \"California\", \"Texas\", \"North Carolina\", \"South Carolina\"}\n",
        "pnw = {\"Washington\", \"Oregon\"}\n",
        "\n",
        "united_states.isdisjoint(pnw)\n"
      ],
      "metadata": {
        "colab": {
          "base_uri": "https://localhost:8080/"
        },
        "id": "kmq4QoQIIZYi",
        "outputId": "80eb98a9-3bba-4b66-cfd9-286bde71be11"
      },
      "execution_count": null,
      "outputs": [
        {
          "output_type": "execute_result",
          "data": {
            "text/plain": [
              "False"
            ]
          },
          "metadata": {},
          "execution_count": 31
        }
      ]
    },
    {
      "cell_type": "markdown",
      "source": [
        "8. is it a superset?"
      ],
      "metadata": {
        "id": "htgznv8EJVAy"
      }
    },
    {
      "cell_type": "code",
      "source": [
        "united_states = {\"Washington\", \"Oregon\", \"Idaho\", \"California\", \"Texas\", \"North Carolina\", \"South Carolina\"}\n",
        "pnw = {\"Washington\", \"Oregon\"}\n",
        "\n",
        "united_states.issuperset(pnw)"
      ],
      "metadata": {
        "colab": {
          "base_uri": "https://localhost:8080/"
        },
        "id": "mWKlBB8PJbmB",
        "outputId": "4705b92b-af52-49b6-c9ab-c173d803a0f6"
      },
      "execution_count": null,
      "outputs": [
        {
          "output_type": "execute_result",
          "data": {
            "text/plain": [
              "True"
            ]
          },
          "metadata": {},
          "execution_count": 33
        }
      ]
    },
    {
      "cell_type": "markdown",
      "source": [
        "9. is it a subset?"
      ],
      "metadata": {
        "id": "nirDN30nJvXN"
      }
    },
    {
      "cell_type": "code",
      "source": [
        "united_states = {\"Washington\", \"Oregon\", \"Idaho\", \"California\", \"Texas\", \"North Carolina\", \"South Carolina\"}\n",
        "pnw = {\"Washington\", \"Oregon\"}\n",
        "\n",
        "pnw.issubset(united_states)"
      ],
      "metadata": {
        "colab": {
          "base_uri": "https://localhost:8080/"
        },
        "id": "i3aJuXo-JxvK",
        "outputId": "3d06fea0-b402-48aa-be24-e4cf9265be97"
      },
      "execution_count": null,
      "outputs": [
        {
          "output_type": "execute_result",
          "data": {
            "text/plain": [
              "True"
            ]
          },
          "metadata": {},
          "execution_count": 34
        }
      ]
    },
    {
      "cell_type": "markdown",
      "source": [
        "10. remove an element from the set. Why is it OREGON?"
      ],
      "metadata": {
        "id": "AaR9FKVTLHYJ"
      }
    },
    {
      "cell_type": "code",
      "source": [
        "united_states = {\"Washington\", \"Oregon\", \"Idaho\", \"California\", \"Texas\", \"North Carolina\", \"South Carolina\"}\n",
        "pnw = {\"Washington\", \"Oregon\"}\n",
        "\n",
        "pnw.pop()\n",
        "print(pnw)"
      ],
      "metadata": {
        "colab": {
          "base_uri": "https://localhost:8080/"
        },
        "id": "23GiIjTYLMRp",
        "outputId": "dab6f601-5d9b-4b72-8517-5e521671fbfb"
      },
      "execution_count": null,
      "outputs": [
        {
          "output_type": "stream",
          "name": "stdout",
          "text": [
            "{'Oregon'}\n"
          ]
        }
      ]
    },
    {
      "cell_type": "markdown",
      "source": [
        "11. remove the specified element\n"
      ],
      "metadata": {
        "id": "RVOF0EBNLvby"
      }
    },
    {
      "cell_type": "code",
      "source": [
        "united_states = {\"Washington\", \"Oregon\", \"Idaho\", \"California\", \"Texas\", \"North Carolina\", \"South Carolina\"}\n",
        "pnw = {\"Washington\", \"Oregon\"}\n",
        "\n",
        "pnw.remove(\"Washington\")\n",
        "print(pnw)"
      ],
      "metadata": {
        "colab": {
          "base_uri": "https://localhost:8080/"
        },
        "id": "sil7sewgL0ZC",
        "outputId": "ae97240d-8971-42a5-9fe2-49ed950c9bbf"
      },
      "execution_count": null,
      "outputs": [
        {
          "output_type": "stream",
          "name": "stdout",
          "text": [
            "{'Oregon'}\n"
          ]
        }
      ]
    },
    {
      "cell_type": "markdown",
      "source": [
        "12. union of sets. How do I use update method?"
      ],
      "metadata": {
        "id": "GUtvG4r1MQ_b"
      }
    },
    {
      "cell_type": "code",
      "source": [
        "united_states = {\"Washington\", \"Oregon\", \"Idaho\", \"California\", \"Texas\", \"North Carolina\", \"South Carolina\"}\n",
        "pnw = {\"Washington\", \"Oregon\", \"Alaska\"}\n",
        "south = {\"Texas\", \"California\", \"Florida\"}\n",
        "united_states.union(pnw)\n",
        "# united_states.update(south)"
      ],
      "metadata": {
        "colab": {
          "base_uri": "https://localhost:8080/"
        },
        "id": "jfRIh-XUMrPL",
        "outputId": "241f4cb1-e66e-478a-9136-ed250f15b8c5"
      },
      "execution_count": null,
      "outputs": [
        {
          "output_type": "execute_result",
          "data": {
            "text/plain": [
              "{'Alaska',\n",
              " 'California',\n",
              " 'Idaho',\n",
              " 'North Carolina',\n",
              " 'Oregon',\n",
              " 'South Carolina',\n",
              " 'Texas',\n",
              " 'Washington'}"
            ]
          },
          "metadata": {},
          "execution_count": 71
        }
      ]
    }
  ]
}
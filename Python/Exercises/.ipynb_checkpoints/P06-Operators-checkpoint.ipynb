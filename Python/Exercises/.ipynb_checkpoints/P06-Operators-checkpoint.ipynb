{
 "cells": [
  {
   "cell_type": "markdown",
   "metadata": {
    "id": "6fFSpoWjiGTV"
   },
   "source": [
    "### Task 1: Password Strength Checker"
   ]
  },
  {
   "cell_type": "markdown",
   "metadata": {
    "id": "mH6hskyghR1B"
   },
   "source": [
    "Write a program that evaluates the strength of a password based on the following criteria:\n",
    "\n",
    "Length: The password should be at least 8 characters long.\n",
    "\n",
    "Character Types:\\\n",
    "It must contain at least one uppercase letter.\\\n",
    "It must contain at least one lowercase letter.\\\n",
    "It must contain at least one digit.\\\n",
    "It must contain at least one special character (e.g., !, @, #, $, %).\\\n",
    "Strength Categories:\n",
    "\n",
    "Weak: Fails to meet less than 2 of the criteria above.\\\n",
    "Moderate: Meets at least 2 of the criteria above.\\\n",
    "Strong: Meets all of the criteria above."
   ]
  },
  {
   "cell_type": "markdown",
   "metadata": {
    "id": "G-x3BiY4iiZg"
   },
   "source": [
    "Hint: Create a variable count and increment it with each true condition to keep track of criteria."
   ]
  },
  {
   "cell_type": "code",
   "execution_count": null,
   "metadata": {
    "colab": {
     "base_uri": "https://localhost:8080/"
    },
    "executionInfo": {
     "elapsed": 16798,
     "status": "ok",
     "timestamp": 1724787399307,
     "user": {
      "displayName": "Muhammad Abdullah",
      "userId": "07243361612451619246"
     },
     "user_tz": -300
    },
    "id": "kB9Re-lOShho",
    "outputId": "f492b926-7216-4894-cbc7-1a65bd3bbbcb"
   },
   "outputs": [],
   "source": []
  },
  {
   "cell_type": "code",
   "execution_count": null,
   "metadata": {
    "colab": {
     "base_uri": "https://localhost:8080/"
    },
    "executionInfo": {
     "elapsed": 11524,
     "status": "ok",
     "timestamp": 1724786375236,
     "user": {
      "displayName": "Muhammad Abdullah",
      "userId": "07243361612451619246"
     },
     "user_tz": -300
    },
    "id": "SM2gRKCLe-td",
    "outputId": "808f8aec-6751-4eaf-ef26-a7e884c5ad30"
   },
   "outputs": [],
   "source": []
  },
  {
   "cell_type": "markdown",
   "metadata": {
    "id": "BJL3uvg4jw3t"
   },
   "source": [
    "### Task 2: Speeding Ticket"
   ]
  },
  {
   "cell_type": "markdown",
   "metadata": {
    "id": "hHd7GCpUjEr-"
   },
   "source": [
    "Write a program that takes the speed of a vehicle as input and determines if the vehicle is speeding. Assume the speed limit is 60 km/h. If the vehicle is speeding, it should print:\n",
    "\n",
    "Speeding by 0-20 km/h: Warning\\\n",
    "Speeding by 21-40 km/h: Fine\\\n",
    "Speeding by more than 40 km/h: High fine"
   ]
  },
  {
   "cell_type": "code",
   "execution_count": null,
   "metadata": {
    "colab": {
     "base_uri": "https://localhost:8080/"
    },
    "executionInfo": {
     "elapsed": 7164,
     "status": "ok",
     "timestamp": 1724883330649,
     "user": {
      "displayName": "Olga Orlova",
      "userId": "03765104327656842829"
     },
     "user_tz": 420
    },
    "id": "g--tigQfjwOE",
    "outputId": "cd3d802e-4180-49c9-8a78-f9903ce6928d"
   },
   "outputs": [],
   "source": []
  },
  {
   "cell_type": "markdown",
   "metadata": {
    "id": "22EbqDackd7l"
   },
   "source": [
    "**3.** Write a program to calculate and print __gross salary__ and __net salary__. The input is basic salary. The details\n",
    "are as under:  \n",
    "Medical allowance = 10% of basic salary &nbsp;&nbsp;&nbsp;&nbsp;&nbsp;&nbsp;&nbsp;&nbsp;&nbsp;&nbsp;&nbsp;&nbsp;&nbsp;&nbsp;&nbsp;&nbsp; basic salary * 0.1  \n",
    "Conveyance allowance = 15% of basic salary &nbsp;&nbsp;&nbsp;&nbsp;&nbsp;&nbsp;&nbsp;&nbsp;&nbsp; basic salary * 0.15  \n",
    "House rent = 45% of basic salary  \n",
    "Gross Salary = Basic Salary + Medical Allowance + Conveyance allowance + House rent<br>\n",
    "<br>\n",
    "__Tax__:\n",
    "0, if gross salary is less than equal 20000\\\n",
    "10 % of gross salary, if salary is greater than 20000, and less than equal 40000\\\n",
    "15 % of gross salary, if salary is greater than 40000, and less than equal 60000\\\n",
    "20 % of gross salary, if salary is greater than 60000, and less than equal 80000\\\n",
    "25 % of gross salary, if salary is greater than 80000    \\"
   ]
  },
  {
   "cell_type": "code",
   "execution_count": null,
   "metadata": {
    "colab": {
     "base_uri": "https://localhost:8080/"
    },
    "executionInfo": {
     "elapsed": 5067,
     "status": "ok",
     "timestamp": 1725557896779,
     "user": {
      "displayName": "Olga Orlova",
      "userId": "03765104327656842829"
     },
     "user_tz": 420
    },
    "id": "CdlDC2UxkevT",
    "outputId": "0a4912f9-ea40-4359-8af1-4f29d95848b6"
   },
   "outputs": [],
   "source": []
  },
  {
   "cell_type": "markdown",
   "metadata": {
    "id": "De-JXjiUaGXI"
   },
   "source": [
    "print number between a particular range. Take start and ending number as input."
   ]
  },
  {
   "cell_type": "code",
   "execution_count": null,
   "metadata": {
    "colab": {
     "base_uri": "https://localhost:8080/"
    },
    "executionInfo": {
     "elapsed": 7420,
     "status": "ok",
     "timestamp": 1725557450232,
     "user": {
      "displayName": "Olga Orlova",
      "userId": "03765104327656842829"
     },
     "user_tz": 420
    },
    "id": "1R8kRf-LaQNO",
    "outputId": "3d4b400e-9f96-4ff3-e309-c8986faa2bc0"
   },
   "outputs": [],
   "source": []
  }
 ],
 "metadata": {
  "colab": {
   "provenance": []
  },
  "kernelspec": {
   "display_name": "Python 3 (ipykernel)",
   "language": "python",
   "name": "python3"
  },
  "language_info": {
   "codemirror_mode": {
    "name": "ipython",
    "version": 3
   },
   "file_extension": ".py",
   "mimetype": "text/x-python",
   "name": "python",
   "nbconvert_exporter": "python",
   "pygments_lexer": "ipython3",
   "version": "3.12.4"
  }
 },
 "nbformat": 4,
 "nbformat_minor": 4
}

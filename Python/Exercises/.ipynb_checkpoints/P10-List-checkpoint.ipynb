{
  "nbformat": 4,
  "nbformat_minor": 0,
  "metadata": {
    "colab": {
      "provenance": []
    },
    "kernelspec": {
      "name": "python3",
      "display_name": "Python 3"
    },
    "language_info": {
      "name": "python"
    }
  },
  "cells": [
    {
      "cell_type": "markdown",
      "source": [
        "Exercise 1: Write a Python program to find the smallest number in a list."
      ],
      "metadata": {
        "id": "FRCrsmJPp8mJ"
      }
    },
    {
      "cell_type": "code",
      "source": [],
      "metadata": {
        "id": "nZ81k-U6vmNs"
      },
      "execution_count": null,
      "outputs": []
    },
    {
      "cell_type": "markdown",
      "source": [
        "Exercise 2: Write a Python program to count the number of elements in a list within a specified range"
      ],
      "metadata": {
        "id": "FosArWkCp_bF"
      }
    },
    {
      "cell_type": "code",
      "source": [],
      "metadata": {
        "id": "wA3C31SFqBzU"
      },
      "execution_count": null,
      "outputs": []
    },
    {
      "cell_type": "markdown",
      "source": [
        "Exercise 3: Write python program to reverse a list in Python\n",
        "\n",
        "Note: use slicing instead of buit reverse() function"
      ],
      "metadata": {
        "id": "FWq0l7DIqDts"
      }
    },
    {
      "cell_type": "code",
      "source": [],
      "metadata": {
        "id": "LFczrshjqSTN"
      },
      "execution_count": null,
      "outputs": []
    },
    {
      "cell_type": "markdown",
      "source": [
        "Exercise 4: Write python program to concatenate two lists in the following order"
      ],
      "metadata": {
        "id": "Er1Uuy7fqjet"
      }
    },
    {
      "cell_type": "code",
      "source": [
        "list1 = [\"Hello \", \"take \"]\n",
        "list2 = [\"Dear\", \"Sir\"]"
      ],
      "metadata": {
        "id": "1mHAEaZOq78h"
      },
      "execution_count": null,
      "outputs": []
    },
    {
      "cell_type": "markdown",
      "source": [
        "Expected output: ['Hello Dear', 'Hello Sir', 'take Dear', 'take Sir']"
      ],
      "metadata": {
        "id": "MHEblYS-q_cV"
      }
    },
    {
      "cell_type": "markdown",
      "source": [
        "Hint: Use nested loop and create a new list to store concatenated lists"
      ],
      "metadata": {
        "id": "Jz7Q6F6ErMCM"
      }
    },
    {
      "cell_type": "code",
      "source": [],
      "metadata": {
        "id": "S75CHH_arbkt"
      },
      "execution_count": null,
      "outputs": []
    },
    {
      "cell_type": "markdown",
      "source": [
        "Exercise 5: Write a Python program to remove duplicates from a list.\n",
        "hint: use nested loop"
      ],
      "metadata": {
        "id": "LyxDeQDJrnKW"
      }
    },
    {
      "cell_type": "code",
      "source": [],
      "metadata": {
        "id": "Rl3SMmZor829"
      },
      "execution_count": null,
      "outputs": []
    },
    {
      "cell_type": "markdown",
      "source": [
        "Exercises 6: Write a Python program to calculate the difference between the two lists.\n",
        "\n",
        "Difference means subtracting index of one list from coresponding index of other list. Hint: Create a new list to store the updated values"
      ],
      "metadata": {
        "id": "an66y-9XsMzF"
      }
    },
    {
      "cell_type": "code",
      "source": [],
      "metadata": {
        "id": "AB0yQrBRsZZO"
      },
      "execution_count": null,
      "outputs": []
    },
    {
      "cell_type": "markdown",
      "source": [
        "Exercise 7: Write python program to find the largest elements in list."
      ],
      "metadata": {
        "id": "fVfGcutpt92O"
      }
    },
    {
      "cell_type": "code",
      "source": [],
      "metadata": {
        "id": "fZn6Mx-auHWN"
      },
      "execution_count": null,
      "outputs": []
    }
  ]
}
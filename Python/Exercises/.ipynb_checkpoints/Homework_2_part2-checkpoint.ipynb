{
  "nbformat": 4,
  "nbformat_minor": 0,
  "metadata": {
    "colab": {
      "provenance": []
    },
    "kernelspec": {
      "name": "python3",
      "display_name": "Python 3"
    },
    "language_info": {
      "name": "python"
    }
  },
  "cells": [
    {
      "cell_type": "markdown",
      "source": [
        "### Task 1: inches to Feet and Inches Converter:"
      ],
      "metadata": {
        "id": "DhKyq30W2cRF"
      }
    },
    {
      "cell_type": "markdown",
      "source": [
        "Create a Python program that converts a total number of inches into feet and remaining inches. Prompt the user for the total inches and use comments to describe the conversion process."
      ],
      "metadata": {
        "id": "EXo-Xnr-2lGb"
      }
    },
    {
      "cell_type": "code",
      "execution_count": null,
      "metadata": {
        "id": "OJsPt_4N12xO"
      },
      "outputs": [],
      "source": []
    },
    {
      "cell_type": "markdown",
      "source": [
        "### Task 2: Time to Reach a Destination:"
      ],
      "metadata": {
        "id": "6DS40en93KrP"
      }
    },
    {
      "cell_type": "markdown",
      "source": [
        "Write a Python program that prompts the user for the distance to a destination (in kilometers) and their speed (in kilometers per hour). Calculate how long it will take to reach the destination and print the time in hours and minutes. Use arithmetic operators and typecasting to handle the calculations."
      ],
      "metadata": {
        "id": "yEFWAYCf3Mbf"
      }
    },
    {
      "cell_type": "code",
      "source": [],
      "metadata": {
        "id": "VuEy3LWS3RkB"
      },
      "execution_count": null,
      "outputs": []
    },
    {
      "cell_type": "markdown",
      "source": [
        "### Task 3: Total Minutes to Days, Hours, and Minutes Converter:"
      ],
      "metadata": {
        "id": "TOJGXiIk3mSO"
      }
    },
    {
      "cell_type": "markdown",
      "source": [
        "Create a Python program that converts a total number of minutes into days, hours, and remaining minutes. Prompt the user for the total minutes and use comments to explain the conversion process.\n"
      ],
      "metadata": {
        "id": "a53thMTr3SEv"
      }
    },
    {
      "cell_type": "code",
      "source": [],
      "metadata": {
        "id": "y-5aQ5ST3ld6"
      },
      "execution_count": null,
      "outputs": []
    },
    {
      "cell_type": "markdown",
      "source": [
        "### Task 4: BMI Calculator"
      ],
      "metadata": {
        "id": "DieLDIEU3yRk"
      }
    },
    {
      "cell_type": "markdown",
      "source": [
        "Develop a Python program that asks the user for their weight (in kilograms) and height (in meters). Calculate the Body Mass Index (BMI) using the formula \\\n",
        "BMI = Weight/Height**2 \\\n",
        "Print the BMI value and typecast inputs if necessary."
      ],
      "metadata": {
        "id": "wvBrG6Ff33nS"
      }
    },
    {
      "cell_type": "code",
      "source": [],
      "metadata": {
        "id": "QE2TiPBZ3254"
      },
      "execution_count": null,
      "outputs": []
    }
  ]
}
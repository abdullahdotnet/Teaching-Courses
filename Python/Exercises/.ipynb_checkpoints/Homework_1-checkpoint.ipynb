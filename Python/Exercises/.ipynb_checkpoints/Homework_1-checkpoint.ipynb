{
  "nbformat": 4,
  "nbformat_minor": 0,
  "metadata": {
    "colab": {
      "provenance": []
    },
    "kernelspec": {
      "name": "python3",
      "display_name": "Python 3"
    },
    "language_info": {
      "name": "python"
    }
  },
  "cells": [
    {
      "cell_type": "markdown",
      "source": [
        "## Lesson 1 Homework"
      ],
      "metadata": {
        "id": "6Q8xJ3Qh7NNe"
      }
    },
    {
      "cell_type": "markdown",
      "source": [
        "### Task 1: Getting User Input and Displaying it\n",
        "\n",
        "\n"
      ],
      "metadata": {
        "id": "kMCquYrD7WBv"
      }
    },
    {
      "cell_type": "markdown",
      "source": [
        "Write a program that asks the user for their name and their favorite color, then prints a message including this information."
      ],
      "metadata": {
        "id": "mrKgOtk87q4f"
      }
    },
    {
      "cell_type": "code",
      "execution_count": null,
      "metadata": {
        "id": "JmB3FQuT68ds"
      },
      "outputs": [],
      "source": [
        "# Your code starts here\n",
        "\n",
        "\n",
        "\n",
        "\n",
        "# your code ends here"
      ]
    },
    {
      "cell_type": "markdown",
      "source": [
        "## Task 2: Comments"
      ],
      "metadata": {
        "id": "JdvkfN8v7ybl"
      }
    },
    {
      "cell_type": "markdown",
      "source": [
        "Add comments to the following code to explain what each line does."
      ],
      "metadata": {
        "id": "TdxhLeHL776d"
      }
    },
    {
      "cell_type": "code",
      "source": [
        "user_age = int(input(\"Enter your age: \"))\n",
        "age_in_5_years = user_age + 5\n",
        "print(\"In 5 years, you will be \" + str(age_in_5_years) + \" years old.\")"
      ],
      "metadata": {
        "id": "vC63BWb276ys"
      },
      "execution_count": null,
      "outputs": []
    },
    {
      "cell_type": "markdown",
      "source": [
        "## Task 3: Variables and Data Types"
      ],
      "metadata": {
        "id": "XxjZ69nm8JSj"
      }
    },
    {
      "cell_type": "markdown",
      "source": [
        "Create variables to store appropriate information related to student and display them."
      ],
      "metadata": {
        "id": "cz4F5_v68JVY"
      }
    },
    {
      "cell_type": "code",
      "source": [
        "# Your code starts here\n",
        "\n",
        "\n",
        "\n",
        "\n",
        "# your code ends here"
      ],
      "metadata": {
        "id": "vNsUZZle9XRe"
      },
      "execution_count": null,
      "outputs": []
    },
    {
      "cell_type": "markdown",
      "source": [
        "## Task 4: Arithmetic Operators"
      ],
      "metadata": {
        "id": "83s2NefJ9aSo"
      }
    },
    {
      "cell_type": "markdown",
      "source": [
        "Write a program that takes two numbers from the user and performs the following operations: addition, subtraction, multiplication, and division. Print the results of each operation."
      ],
      "metadata": {
        "id": "sLRJLEra-DHa"
      }
    },
    {
      "cell_type": "code",
      "source": [],
      "metadata": {
        "id": "q5SH8tGD9fJV"
      },
      "execution_count": null,
      "outputs": []
    }
  ]
}
{
 "cells": [
  {
   "cell_type": "markdown",
   "metadata": {},
   "source": [
    "# Lesson 2 Homework"
   ]
  },
  {
   "cell_type": "markdown",
   "metadata": {
    "id": "DhKyq30W2cRF"
   },
   "source": [
    "### Task 1: inches to Feet and Inches Converter:"
   ]
  },
  {
   "cell_type": "markdown",
   "metadata": {
    "id": "EXo-Xnr-2lGb"
   },
   "source": [
    "Create a Python program that converts a total number of inches into feet and remaining inches. Prompt the user for the total inches and use comments to describe the conversion process."
   ]
  },
  {
   "cell_type": "code",
   "execution_count": null,
   "metadata": {
    "id": "OJsPt_4N12xO"
   },
   "outputs": [],
   "source": []
  },
  {
   "cell_type": "markdown",
   "metadata": {
    "id": "6DS40en93KrP"
   },
   "source": [
    "### Task 2: Time to Reach a Destination:"
   ]
  },
  {
   "cell_type": "markdown",
   "metadata": {
    "id": "yEFWAYCf3Mbf"
   },
   "source": [
    "Write a Python program that prompts the user for the distance to a destination (in kilometers) and their speed (in kilometers per hour). Calculate how long it will take to reach the destination and print the time in hours and minutes. Use arithmetic operators and typecasting to handle the calculations."
   ]
  },
  {
   "cell_type": "code",
   "execution_count": null,
   "metadata": {
    "id": "VuEy3LWS3RkB"
   },
   "outputs": [],
   "source": []
  },
  {
   "cell_type": "markdown",
   "metadata": {
    "id": "TOJGXiIk3mSO"
   },
   "source": [
    "### Task 3: Total Minutes to Days, Hours, and Minutes Converter:"
   ]
  },
  {
   "cell_type": "markdown",
   "metadata": {
    "id": "a53thMTr3SEv"
   },
   "source": [
    "Create a Python program that converts a total number of minutes into days, hours, and remaining minutes. Prompt the user for the total minutes and use comments to explain the conversion process.\n"
   ]
  },
  {
   "cell_type": "code",
   "execution_count": null,
   "metadata": {
    "id": "y-5aQ5ST3ld6"
   },
   "outputs": [],
   "source": []
  },
  {
   "cell_type": "markdown",
   "metadata": {
    "id": "DieLDIEU3yRk"
   },
   "source": [
    "### Task 4: BMI Calculator"
   ]
  },
  {
   "cell_type": "markdown",
   "metadata": {
    "id": "wvBrG6Ff33nS"
   },
   "source": [
    "Develop a Python program that asks the user for their weight (in kilograms) and height (in meters). Calculate the Body Mass Index (BMI) using the formula \\\n",
    "BMI = Weight/Height**2 \\\n",
    "Print the BMI value and typecast inputs if necessary."
   ]
  },
  {
   "cell_type": "code",
   "execution_count": null,
   "metadata": {
    "id": "QE2TiPBZ3254"
   },
   "outputs": [],
   "source": []
  }
 ],
 "metadata": {
  "colab": {
   "provenance": []
  },
  "kernelspec": {
   "display_name": "Python 3 (ipykernel)",
   "language": "python",
   "name": "python3"
  },
  "language_info": {
   "codemirror_mode": {
    "name": "ipython",
    "version": 3
   },
   "file_extension": ".py",
   "mimetype": "text/x-python",
   "name": "python",
   "nbconvert_exporter": "python",
   "pygments_lexer": "ipython3",
   "version": "3.12.4"
  }
 },
 "nbformat": 4,
 "nbformat_minor": 4
}

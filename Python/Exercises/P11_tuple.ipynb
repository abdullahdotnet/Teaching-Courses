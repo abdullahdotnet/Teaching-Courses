{
  "nbformat": 4,
  "nbformat_minor": 0,
  "metadata": {
    "colab": {
      "provenance": []
    },
    "kernelspec": {
      "name": "python3",
      "display_name": "Python 3"
    },
    "language_info": {
      "name": "python"
    }
  },
  "cells": [
    {
      "cell_type": "markdown",
      "source": [
        "### Task 1: Create a Tuple"
      ],
      "metadata": {
        "id": "-vsEocvvTKcr"
      }
    },
    {
      "cell_type": "markdown",
      "source": [
        "Create a tuple called fruits with at least 5 different fruit names."
      ],
      "metadata": {
        "id": "JHaVhVVNTN_4"
      }
    },
    {
      "cell_type": "code",
      "execution_count": null,
      "metadata": {
        "id": "83127e7lTIkK"
      },
      "outputs": [],
      "source": []
    },
    {
      "cell_type": "markdown",
      "source": [
        "### Task 2: Access Elements in a Tuple"
      ],
      "metadata": {
        "id": "xIv7bNf5TQra"
      }
    },
    {
      "cell_type": "markdown",
      "source": [
        "Access and print the first and last elements from the fruits tuple."
      ],
      "metadata": {
        "id": "cOqI3vMvTT6w"
      }
    },
    {
      "cell_type": "code",
      "source": [],
      "metadata": {
        "id": "j5iaNnZ9TTP-"
      },
      "execution_count": null,
      "outputs": []
    },
    {
      "cell_type": "markdown",
      "source": [
        "### Task 3: Slicing a Tuple"
      ],
      "metadata": {
        "id": "aHfwlc_2TZe_"
      }
    },
    {
      "cell_type": "markdown",
      "source": [
        "Print a slice of the fruits tuple that includes the second, third, and fourth elements."
      ],
      "metadata": {
        "id": "DbBxdsmuTaWc"
      }
    },
    {
      "cell_type": "code",
      "source": [],
      "metadata": {
        "id": "ia_JVdnjTc4H"
      },
      "execution_count": null,
      "outputs": []
    },
    {
      "cell_type": "markdown",
      "source": [
        "### Task 4: Tuple Concatenation"
      ],
      "metadata": {
        "id": "Kr1mz4uJTqnW"
      }
    },
    {
      "cell_type": "markdown",
      "source": [
        "Create another tuple called vegetables with 3 vegetable names, and then concatenate fruits and vegetables into a new tuple called food."
      ],
      "metadata": {
        "id": "l26kIrf0Twwu"
      }
    },
    {
      "cell_type": "code",
      "source": [],
      "metadata": {
        "id": "YbXsc2I_TyRt"
      },
      "execution_count": null,
      "outputs": []
    },
    {
      "cell_type": "markdown",
      "source": [
        "### Task 6: Loop Through a Tuple"
      ],
      "metadata": {
        "id": "bt5aNm7UT3Jo"
      }
    },
    {
      "cell_type": "markdown",
      "source": [
        "Use a for loop to iterate through the fruits tuple and print each fruit on a new line."
      ],
      "metadata": {
        "id": "r6--lVCbT6XA"
      }
    },
    {
      "cell_type": "code",
      "source": [],
      "metadata": {
        "id": "U3GuoxZ4T8SE"
      },
      "execution_count": null,
      "outputs": []
    },
    {
      "cell_type": "markdown",
      "source": [
        "### Task 7: Tuple Unpacking"
      ],
      "metadata": {
        "id": "_GXvvKHLUBhr"
      }
    },
    {
      "cell_type": "markdown",
      "source": [
        "Create a tuple student = (\"John\", 21, \"Computer Science\"). Unpack the tuple into variables name, age, and major. Print each variable."
      ],
      "metadata": {
        "id": "kT2hGyMqUEsc"
      }
    },
    {
      "cell_type": "code",
      "source": [],
      "metadata": {
        "id": "zC7fOxTpUCY5"
      },
      "execution_count": null,
      "outputs": []
    },
    {
      "cell_type": "markdown",
      "source": [
        "### Task 8: Count the Occurrences of an Element"
      ],
      "metadata": {
        "id": "5Om_y4RzUITq"
      }
    },
    {
      "cell_type": "markdown",
      "source": [
        "Create a tuple numbers = (2, 3, 4, 2, 5, 2, 6, 2, 7). Count and print how many times the number 2 appears in the tuple."
      ],
      "metadata": {
        "id": "oad1D2M5UMP6"
      }
    },
    {
      "cell_type": "markdown",
      "source": [
        "Output: \"Number 2 appears 4 times\""
      ],
      "metadata": {
        "id": "2e_E56PzUP-a"
      }
    },
    {
      "cell_type": "markdown",
      "source": [
        "### Task 9: Convert Tuple to List"
      ],
      "metadata": {
        "id": "eWnYnvzhUVNw"
      }
    },
    {
      "cell_type": "markdown",
      "source": [
        "Convert the fruits tuple into a list and append a new fruit \"mango\". Print the updated list."
      ],
      "metadata": {
        "id": "Zs7idbwEUdxp"
      }
    },
    {
      "cell_type": "code",
      "source": [],
      "metadata": {
        "id": "WGiFpQ8cUJ5S"
      },
      "execution_count": null,
      "outputs": []
    }
  ]
}
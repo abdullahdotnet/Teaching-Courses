{
 "cells": [
  {
   "cell_type": "markdown",
   "id": "f4a6e59d-63b1-4a70-9b6f-877386bc1fab",
   "metadata": {},
   "source": [
    "# Section 10"
   ]
  },
  {
   "cell_type": "markdown",
   "id": "a9d4499f-8778-49de-9ba9-48dda0d3459b",
   "metadata": {},
   "source": [
    "## Solve each 4 problems with while and 4 with for loop"
   ]
  },
  {
   "cell_type": "markdown",
   "id": "381900d0-202e-45fd-b94e-87dd2fc3297d",
   "metadata": {},
   "source": [
    "### Task 1: Print Even numbers"
   ]
  },
  {
   "cell_type": "markdown",
   "id": "294f9532-ee14-42f3-9445-40901e1d4add",
   "metadata": {},
   "source": [
    "Write even numbers less than 100 in a single liner."
   ]
  },
  {
   "cell_type": "code",
   "execution_count": 13,
   "id": "3c6ad3b9-4ab8-4bff-9dae-b175c124ae2c",
   "metadata": {},
   "outputs": [],
   "source": [
    "# your code starts here\n",
    "\n",
    "\n",
    "\n",
    "#your code ends here"
   ]
  },
  {
   "cell_type": "markdown",
   "id": "71e44bbf-4fcf-4b7f-ba75-69acb0c05648",
   "metadata": {},
   "source": [
    "### Task 2: Print Numbers in a range"
   ]
  },
  {
   "cell_type": "markdown",
   "id": "bb1faa9b-abef-4605-8f35-dd161889d290",
   "metadata": {},
   "source": [
    "Task 2. Input starting and ending number from user. Print numbers between them"
   ]
  },
  {
   "cell_type": "code",
   "execution_count": 14,
   "id": "b1e6b947-9ca8-4c07-bfcf-a255ef1645e9",
   "metadata": {},
   "outputs": [],
   "source": [
    "# your code starts here\n",
    "\n",
    "\n",
    "\n",
    "#your code ends here"
   ]
  },
  {
   "cell_type": "markdown",
   "id": "5483502e-aa6c-443b-8856-d212996b9434",
   "metadata": {},
   "source": [
    "### Task 3: Print Sum"
   ]
  },
  {
   "cell_type": "markdown",
   "id": "70107106-e620-4ac0-8e84-7a7a9c23ec4b",
   "metadata": {},
   "source": [
    "Input 5 numbers from user and print their sum."
   ]
  },
  {
   "cell_type": "code",
   "execution_count": 15,
   "id": "6d51cf06-2735-45d4-9608-e1277c4c5c32",
   "metadata": {},
   "outputs": [],
   "source": [
    "# your code starts here\n",
    "\n",
    "\n",
    "\n",
    "#your code ends here"
   ]
  },
  {
   "cell_type": "markdown",
   "id": "86e9a431-1afb-45b3-b437-61a413d1f974",
   "metadata": {},
   "source": [
    "### Task 4: Print Max"
   ]
  },
  {
   "cell_type": "markdown",
   "id": "82a23097-7219-4382-8233-b441f7a7d246",
   "metadata": {},
   "source": [
    "Input 5 numbers from user and print maximum number"
   ]
  },
  {
   "cell_type": "code",
   "execution_count": 16,
   "id": "169384ea-117f-46f2-9f41-39125af71e83",
   "metadata": {},
   "outputs": [],
   "source": [
    "# your code starts here\n",
    "\n",
    "\n",
    "\n",
    "#your code ends here"
   ]
  },
  {
   "cell_type": "markdown",
   "id": "1ba78bc2-d9b6-4368-9d36-fba9e48641ef",
   "metadata": {},
   "source": [
    "### Task 5: Print Odd"
   ]
  },
  {
   "cell_type": "markdown",
   "id": "75797ece-b31a-4da2-bc79-676238a0fa0e",
   "metadata": {},
   "source": [
    " Print odd numbers from 49 to 1 in descending order"
   ]
  },
  {
   "cell_type": "code",
   "execution_count": 17,
   "id": "16866bc2-e8b7-4ebf-be78-2e897d64fdb6",
   "metadata": {},
   "outputs": [],
   "source": [
    "# your code starts here\n",
    "\n",
    "\n",
    "\n",
    "#your code ends here"
   ]
  },
  {
   "cell_type": "markdown",
   "id": "a46029f3-c4f3-4e8f-b83d-664a9145f489",
   "metadata": {},
   "source": [
    "### Task 6"
   ]
  },
  {
   "cell_type": "markdown",
   "id": "3cdfbf68-3ed0-49e2-a4f5-e59a277bb377",
   "metadata": {},
   "source": [
    "Write a program to print integers 1 to 100 divisible by 3 & 5 but not by both. The output will be:\n",
    "3 5 6 9 10 12 18 20 21 24 25 27 33..."
   ]
  },
  {
   "cell_type": "code",
   "execution_count": 18,
   "id": "84d74372-c4f1-45d2-8872-ce01990b819f",
   "metadata": {},
   "outputs": [],
   "source": [
    "# your code starts here\n",
    "\n",
    "\n",
    "\n",
    "#your code ends here"
   ]
  },
  {
   "cell_type": "markdown",
   "id": "b8ac903c-8370-4476-8a8a-7978c6d137ca",
   "metadata": {},
   "source": [
    "### Task 7"
   ]
  },
  {
   "cell_type": "markdown",
   "id": "c8eb2b61-4086-4516-a9c5-495b39f83138",
   "metadata": {},
   "source": [
    "Write a program to print integers 1 to 100. Write 5 integers in a line. Like:\\\n",
    "1 2 3 4 5\\\n",
    "6 7 8 9 10\\\n",
    "11 12 13 14 15"
   ]
  },
  {
   "cell_type": "code",
   "execution_count": 19,
   "id": "76b3ada8-164c-4b09-ac8e-abb685608acf",
   "metadata": {},
   "outputs": [],
   "source": [
    "# your code starts here\n",
    "\n",
    "\n",
    "\n",
    "#your code ends here"
   ]
  },
  {
   "cell_type": "markdown",
   "id": "25b5b763-95d6-43cc-8fc5-898c7c8a2299",
   "metadata": {},
   "source": [
    "### Task 8"
   ]
  },
  {
   "cell_type": "markdown",
   "id": "188209ad-7649-4f95-b110-6d40439205d8",
   "metadata": {},
   "source": [
    "Write a program to print capital alphabets. Write vowels in a single line. Like:\\\n",
    "A\\\n",
    "B C D\\\n",
    "E\\\n",
    "F G H\\\n",
    "I\\\n",
    "J K L M N\\\n",
    "O\\\n",
    "P Q R S T\\\n",
    "U\\\n",
    "V W X Y Z"
   ]
  },
  {
   "cell_type": "code",
   "execution_count": 20,
   "id": "6dc594a0-d167-49d3-a1a0-9a075f1e4bfd",
   "metadata": {
    "jp-MarkdownHeadingCollapsed": true
   },
   "outputs": [],
   "source": [
    "# your code starts here\n",
    "\n",
    "\n",
    "\n",
    "#your code ends here"
   ]
  },
  {
   "cell_type": "markdown",
   "id": "4211ec14-a466-4732-b5c6-9b2629935edf",
   "metadata": {},
   "source": [
    "# Nested Loop Tasks"
   ]
  },
  {
   "cell_type": "markdown",
   "id": "7af6769f-3f13-4704-beaf-72eaf6b1f175",
   "metadata": {},
   "source": [
    "### Task 1"
   ]
  },
  {
   "cell_type": "raw",
   "id": "3a0affa4-6665-4b31-b268-e509d4d70eae",
   "metadata": {},
   "source": [
    "Write code to generate the output\n",
    "\n",
    "* * * * *\n",
    "* * * * *\n",
    "* * * * *\n",
    "* * * * *"
   ]
  },
  {
   "cell_type": "code",
   "execution_count": 21,
   "id": "969e23cb-b4f1-463e-bc28-34032303d7ba",
   "metadata": {},
   "outputs": [],
   "source": [
    "# your code starts here\n",
    "\n",
    "\n",
    "\n",
    "#your code ends here"
   ]
  },
  {
   "cell_type": "markdown",
   "id": "48633aeb-4cc1-49ff-b7a2-14886104113a",
   "metadata": {},
   "source": [
    "### Task 2"
   ]
  },
  {
   "cell_type": "markdown",
   "id": "51c6607d-39f5-4abc-b893-40283c3b233d",
   "metadata": {},
   "source": [
    "Write code to input rows & columns and print stars in rows and columns. See sample run:"
   ]
  },
  {
   "cell_type": "raw",
   "id": "f64fed60-08ac-40e1-a314-1291d58860aa",
   "metadata": {},
   "source": [
    "Sample Run:\n",
    "Rows: 4\n",
    "Columns: 5\n",
    "* * * * *\n",
    "* * * * *\n",
    "* * * * *\n",
    "* * * * *"
   ]
  },
  {
   "cell_type": "code",
   "execution_count": 22,
   "id": "914b99b0-7450-4f8f-af09-e0af15ca5eb1",
   "metadata": {},
   "outputs": [],
   "source": [
    "# your code starts here\n",
    "\n",
    "\n",
    "\n",
    "#your code ends here"
   ]
  },
  {
   "cell_type": "markdown",
   "id": "b7c2ddeb-f5d0-46c9-9f42-d6f561982328",
   "metadata": {},
   "source": [
    "### Task 3"
   ]
  },
  {
   "cell_type": "markdown",
   "id": "549e6993-04d4-4daa-bdd9-a708672dfd0e",
   "metadata": {},
   "source": [
    "Write code to input rows print numbers in the pattern: See sample run:"
   ]
  },
  {
   "cell_type": "raw",
   "id": "ec65476a-b82e-4a29-9463-182efcf79149",
   "metadata": {},
   "source": [
    "Sample Run:\n",
    "Rows: 4\n",
    "1 2 3 4 5\n",
    "6 7 8 9 10\n",
    "11 12 13 14 15\n",
    "16 17 18 19 20"
   ]
  },
  {
   "cell_type": "code",
   "execution_count": 23,
   "id": "fe03d896-5d7b-4d47-9105-a8ddffba193c",
   "metadata": {},
   "outputs": [],
   "source": [
    "# your code starts here\n",
    "\n",
    "\n",
    "\n",
    "#your code ends here"
   ]
  }
 ],
 "metadata": {
  "kernelspec": {
   "display_name": "Python 3 (ipykernel)",
   "language": "python",
   "name": "python3"
  },
  "language_info": {
   "codemirror_mode": {
    "name": "ipython",
    "version": 3
   },
   "file_extension": ".py",
   "mimetype": "text/x-python",
   "name": "python",
   "nbconvert_exporter": "python",
   "pygments_lexer": "ipython3",
   "version": "3.10.1"
  }
 },
 "nbformat": 4,
 "nbformat_minor": 5
}

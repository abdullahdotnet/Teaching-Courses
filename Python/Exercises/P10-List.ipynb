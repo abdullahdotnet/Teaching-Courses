{
 "cells": [
  {
   "cell_type": "markdown",
   "metadata": {
    "id": "FRCrsmJPp8mJ"
   },
   "source": [
    "Exercise 1: Write a Python program to find the smallest number in a list."
   ]
  },
  {
   "cell_type": "code",
   "execution_count": null,
   "metadata": {
    "id": "nZ81k-U6vmNs"
   },
   "outputs": [],
   "source": []
  },
  {
   "cell_type": "markdown",
   "metadata": {
    "id": "FosArWkCp_bF"
   },
   "source": [
    "Exercise 2: Write a Python program to count the number of elements in a list within a specified range"
   ]
  },
  {
   "cell_type": "code",
   "execution_count": null,
   "metadata": {
    "id": "wA3C31SFqBzU"
   },
   "outputs": [],
   "source": []
  },
  {
   "cell_type": "markdown",
   "metadata": {
    "id": "FWq0l7DIqDts"
   },
   "source": [
    "Exercise 3: Write python program to reverse a list in Python\n",
    "\n",
    "Note: use slicing instead of buit reverse() function"
   ]
  },
  {
   "cell_type": "code",
   "execution_count": null,
   "metadata": {
    "id": "LFczrshjqSTN"
   },
   "outputs": [],
   "source": []
  },
  {
   "cell_type": "markdown",
   "metadata": {
    "id": "Er1Uuy7fqjet"
   },
   "source": [
    "Exercise 4: Write python program to concatenate two lists in the following order"
   ]
  },
  {
   "cell_type": "code",
   "execution_count": null,
   "metadata": {
    "id": "1mHAEaZOq78h"
   },
   "outputs": [],
   "source": [
    "list1 = [\"Hello \", \"take \"]\n",
    "list2 = [\"Dear\", \"Sir\"]"
   ]
  },
  {
   "cell_type": "markdown",
   "metadata": {
    "id": "MHEblYS-q_cV"
   },
   "source": [
    "Expected output: ['Hello Dear', 'Hello Sir', 'take Dear', 'take Sir']"
   ]
  },
  {
   "cell_type": "markdown",
   "metadata": {
    "id": "Jz7Q6F6ErMCM"
   },
   "source": [
    "Hint: Use nested loop and create a new list to store concatenated lists"
   ]
  },
  {
   "cell_type": "code",
   "execution_count": null,
   "metadata": {
    "id": "S75CHH_arbkt"
   },
   "outputs": [],
   "source": []
  },
  {
   "cell_type": "markdown",
   "metadata": {
    "id": "LyxDeQDJrnKW"
   },
   "source": [
    "Exercise 5: Write a Python program to remove duplicates from a list.\n",
    "hint: use nested loop"
   ]
  },
  {
   "cell_type": "code",
   "execution_count": null,
   "metadata": {
    "id": "Rl3SMmZor829"
   },
   "outputs": [],
   "source": []
  },
  {
   "cell_type": "markdown",
   "metadata": {
    "id": "an66y-9XsMzF"
   },
   "source": [
    "Exercises 6: Write a Python program to calculate the difference between the two lists.\n",
    "\n",
    "Difference means subtracting index of one list from coresponding index of other list. Hint: Create a new list to store the updated values"
   ]
  },
  {
   "cell_type": "code",
   "execution_count": null,
   "metadata": {
    "id": "AB0yQrBRsZZO"
   },
   "outputs": [],
   "source": []
  },
  {
   "cell_type": "markdown",
   "metadata": {
    "id": "fVfGcutpt92O"
   },
   "source": [
    "Exercise 7: Write python program to find the largest elements in list."
   ]
  },
  {
   "cell_type": "code",
   "execution_count": null,
   "metadata": {
    "id": "fZn6Mx-auHWN"
   },
   "outputs": [],
   "source": []
  }
 ],
 "metadata": {
  "colab": {
   "provenance": []
  },
  "kernelspec": {
   "display_name": "Python 3 (ipykernel)",
   "language": "python",
   "name": "python3"
  },
  "language_info": {
   "codemirror_mode": {
    "name": "ipython",
    "version": 3
   },
   "file_extension": ".py",
   "mimetype": "text/x-python",
   "name": "python",
   "nbconvert_exporter": "python",
   "pygments_lexer": "ipython3",
   "version": "3.12.4"
  }
 },
 "nbformat": 4,
 "nbformat_minor": 4
}

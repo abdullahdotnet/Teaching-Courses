{
 "cells": [
  {
   "cell_type": "markdown",
   "id": "a655c596-4121-4e25-b530-95fcd9689f88",
   "metadata": {},
   "source": [
    "<h1 style=\"text-align: center;\">NumPy Methods</h1>"
   ]
  },
  {
   "cell_type": "markdown",
   "id": "2f708fd1-c6bc-4f42-b4c8-85ba5d4dfdf9",
   "metadata": {},
   "source": [
    "### Contents\n",
    "\n",
    "<details>\n",
    "  <summary style=\"cursor: pointer;\">Click Here</summary>\n",
    "    \n",
    "- [np.sort](#np.sort)\n",
    "- [np.append](#np.append)\n",
    "- [np.concatenate](#np.concatenate)\n",
    "- [np.unique](#np.unique)\n",
    "- [np.expand_dims](#np.expand_dims)\n",
    "- [np.where](#np.where)\n",
    "- [np.argmax](#np.argmax)\n",
    "- [np.cumsum](#np.cumsum)\n",
    "- [np.percentile](#np.percentile)\n",
    "- [np.histogram](#np.histogram)\n",
    "- [np.corrcoef](#np.corrcoef)\n",
    "- [np.isin](#np.isin)\n",
    "- [np.flip](#np.flip)\n",
    "- [np.put](#np.put)\n",
    "- [np.delete](#np.delete)\n",
    "- [np.clip](#np.clip)\n",
    "- [Set Functions](#Set-Functions)\n",
    "  - np.union1d\n",
    "  - np.intersect1d\n",
    "  - np.setdiff1d\n",
    "  - np.setxor1d\n",
    "  - np.in1d\n",
    "\n",
    "</details>"
   ]
  },
  {
   "cell_type": "code",
   "execution_count": 1,
   "id": "47d2471f-7407-490e-b461-0d4ed7b9498e",
   "metadata": {},
   "outputs": [],
   "source": [
    "import numpy as np"
   ]
  },
  {
   "cell_type": "markdown",
   "id": "4a2b0290-d837-489d-a9ba-7e8435b792f8",
   "metadata": {},
   "source": [
    "### np.sort"
   ]
  },
  {
   "cell_type": "code",
   "execution_count": 2,
   "id": "d5a7849c-a95c-4490-b4a1-2e7ba6a634e5",
   "metadata": {},
   "outputs": [
    {
     "name": "stdout",
     "output_type": "stream",
     "text": [
      "Array 01: [62 32  7 38 66 67 81 17 58 98 98 69  4 65 42]\n",
      "Array 02:\n",
      "[[46 24 85 56]\n",
      " [13 96 46 99]\n",
      " [74  7 84 64]\n",
      " [30 68 85 84]\n",
      " [89 26 86 85]\n",
      " [ 9 54 66 54]]\n"
     ]
    }
   ],
   "source": [
    "arr1 = np.random.randint(1, 100, 15)\n",
    "arr2 = np.random.randint(1, 100, 24).reshape(6, 4)\n",
    "\n",
    "print(f\"Array 01: {arr1}\")\n",
    "print(f\"Array 02:\\n{arr2}\")"
   ]
  },
  {
   "cell_type": "code",
   "execution_count": 3,
   "id": "70ac1ba9-edcb-4504-a5bc-fe3bb6893340",
   "metadata": {},
   "outputs": [
    {
     "name": "stdout",
     "output_type": "stream",
     "text": [
      "Sorted Array: [ 4  7 17 32 38 42 58 62 65 66 67 69 81 98 98]\n",
      "Reverse Sorted: [98 98 81 69 67 66 65 62 58 42 38 32 17  7  4]\n"
     ]
    }
   ],
   "source": [
    "x1 = np.sort(arr1)\n",
    "x2 = np.sort(arr1)[::-1]\n",
    "\n",
    "print(f\"Sorted Array: {x1}\")\n",
    "print(f\"Reverse Sorted: {x2}\")"
   ]
  },
  {
   "cell_type": "code",
   "execution_count": 4,
   "id": "9d39d92e-d3a4-4bbc-bff4-42fb86a19992",
   "metadata": {},
   "outputs": [
    {
     "name": "stdout",
     "output_type": "stream",
     "text": [
      "Column Sorted:\n",
      "[[ 9  7 46 54]\n",
      " [13 24 66 56]\n",
      " [30 26 84 64]\n",
      " [46 54 85 84]\n",
      " [74 68 85 85]\n",
      " [89 96 86 99]]\n",
      "\n",
      "Row Sorted:\n",
      "[[24 46 56 85]\n",
      " [13 46 96 99]\n",
      " [ 7 64 74 84]\n",
      " [30 68 84 85]\n",
      " [26 85 86 89]\n",
      " [ 9 54 54 66]]\n"
     ]
    }
   ],
   "source": [
    "x1 = np.sort(arr2, axis=0)\n",
    "x2 = np.sort(arr2, axis=1)\n",
    "\n",
    "print(f\"Column Sorted:\\n{x1}\")\n",
    "print(f\"\\nRow Sorted:\\n{x2}\")"
   ]
  },
  {
   "cell_type": "markdown",
   "id": "45f9e3a7-8b04-403e-9789-eaa9016cd77d",
   "metadata": {},
   "source": [
    "### np.append"
   ]
  },
  {
   "cell_type": "code",
   "execution_count": 5,
   "id": "d5a74f0a-493b-4fe6-95ad-cff110200712",
   "metadata": {},
   "outputs": [
    {
     "name": "stdout",
     "output_type": "stream",
     "text": [
      "1D Array:\n",
      "[62 32  7 38 66 67 81 17 58 98 98 69  4 65 42]\n",
      "Append 111 to 1D:\n",
      "[ 62  32   7  38  66  67  81  17  58  98  98  69   4  65  42 111]\n"
     ]
    }
   ],
   "source": [
    "print(f\"1D Array:\\n{arr1}\")\n",
    "print(f\"Append 111 to 1D:\\n{np.append(arr1, 111)}\")"
   ]
  },
  {
   "cell_type": "code",
   "execution_count": 6,
   "id": "6314bd40-df9d-47fb-ae9e-cd0aea152ff3",
   "metadata": {},
   "outputs": [
    {
     "name": "stdout",
     "output_type": "stream",
     "text": [
      "Appending 1 at each last row\n"
     ]
    },
    {
     "data": {
      "text/plain": [
       "array([[46., 24., 85., 56.,  1.],\n",
       "       [13., 96., 46., 99.,  1.],\n",
       "       [74.,  7., 84., 64.,  1.],\n",
       "       [30., 68., 85., 84.,  1.],\n",
       "       [89., 26., 86., 85.,  1.],\n",
       "       [ 9., 54., 66., 54.,  1.]])"
      ]
     },
     "execution_count": 6,
     "metadata": {},
     "output_type": "execute_result"
    }
   ],
   "source": [
    "# axis=0 is column and axis=1 is row\n",
    "print(f\"Appending 1 at each last row\")\n",
    "np.append(\n",
    "    arr2, np.ones(\n",
    "        (arr2.shape[0], 1)\n",
    "    ), axis=1\n",
    ")"
   ]
  },
  {
   "cell_type": "markdown",
   "id": "1d7ec7b5-3caa-42d1-9148-1d0d9eccfffe",
   "metadata": {},
   "source": [
    "### np.concatenate"
   ]
  },
  {
   "cell_type": "code",
   "execution_count": 7,
   "id": "5b880535-7a21-43c1-97ee-31498d4f7242",
   "metadata": {},
   "outputs": [
    {
     "name": "stdout",
     "output_type": "stream",
     "text": [
      "Array 01:\n",
      "[[0 1 2]\n",
      " [3 4 5]]\n",
      "\n",
      "Array 02:\n",
      "[[ 6  7  8]\n",
      " [ 9 10 11]]\n"
     ]
    }
   ],
   "source": [
    "arr3 = np.arange(6).reshape(2, 3)\n",
    "arr4 = np.arange(6, 12).reshape(2, 3)\n",
    "\n",
    "print(f\"Array 01:\\n{arr3}\")\n",
    "print(f\"\\nArray 02:\\n{arr4}\")"
   ]
  },
  {
   "cell_type": "code",
   "execution_count": 8,
   "id": "72f57173-8dd9-4c60-910c-b5950f106be2",
   "metadata": {},
   "outputs": [
    {
     "data": {
      "text/plain": [
       "array([[ 0,  1,  2],\n",
       "       [ 3,  4,  5],\n",
       "       [ 6,  7,  8],\n",
       "       [ 9, 10, 11]])"
      ]
     },
     "execution_count": 8,
     "metadata": {},
     "output_type": "execute_result"
    }
   ],
   "source": [
    "np.concatenate((arr3, arr4), axis=0)"
   ]
  },
  {
   "cell_type": "code",
   "execution_count": 9,
   "id": "56a20051-3906-4f07-a85d-63bc8ee9be2d",
   "metadata": {},
   "outputs": [
    {
     "data": {
      "text/plain": [
       "array([[ 0,  1,  2,  6,  7,  8],\n",
       "       [ 3,  4,  5,  9, 10, 11]])"
      ]
     },
     "execution_count": 9,
     "metadata": {},
     "output_type": "execute_result"
    }
   ],
   "source": [
    "np.concatenate((arr3, arr4), axis=1)"
   ]
  },
  {
   "cell_type": "markdown",
   "id": "67aa7210-6a46-4409-99e2-3e7e7d2f55ac",
   "metadata": {},
   "source": [
    "### np.unique"
   ]
  },
  {
   "cell_type": "code",
   "execution_count": 10,
   "id": "15e07d41-3126-46f0-8fe0-14aec24ac42e",
   "metadata": {},
   "outputs": [
    {
     "data": {
      "text/plain": [
       "array([1, 2, 3, 4, 5, 6])"
      ]
     },
     "execution_count": 10,
     "metadata": {},
     "output_type": "execute_result"
    }
   ],
   "source": [
    "x1 = np.array([1, 1, 2, 2, 3, 3, 4, 4, 5, 5, 6, 6])\n",
    "np.unique(x1)"
   ]
  },
  {
   "cell_type": "markdown",
   "id": "877a1c24-51cb-4dae-9f4d-2bed1d5ae4b7",
   "metadata": {},
   "source": [
    "### np.expand_dims"
   ]
  },
  {
   "cell_type": "code",
   "execution_count": 11,
   "id": "68e20dcf-5e63-4f78-8459-4d08ca798132",
   "metadata": {},
   "outputs": [
    {
     "name": "stdout",
     "output_type": "stream",
     "text": [
      "Shape: (15,)\n",
      "Array: [62 32  7 38 66 67 81 17 58 98 98 69  4 65 42]\n",
      "\n",
      "Shape after expand_dim at axis=0: (1, 15)\n",
      "Array after expand_dim at axis=0: [[62 32  7 38 66 67 81 17 58 98 98 69  4 65 42]]\n",
      "\n",
      "Shape after expand_dim at axis=1: (15, 1)\n",
      "Array after expand_dim at axis=1:\n",
      "[[62]\n",
      " [32]\n",
      " [ 7]\n",
      " [38]\n",
      " [66]\n",
      " [67]\n",
      " [81]\n",
      " [17]\n",
      " [58]\n",
      " [98]\n",
      " [98]\n",
      " [69]\n",
      " [ 4]\n",
      " [65]\n",
      " [42]]\n"
     ]
    }
   ],
   "source": [
    "print(f\"Shape: {arr1.shape}\")\n",
    "print(f\"Array: {arr1}\\n\")\n",
    "\n",
    "x1 = np.expand_dims(arr1, axis=0)\n",
    "print(f\"Shape after expand_dim at axis=0: {x1.shape}\")\n",
    "print(f\"Array after expand_dim at axis=0: {x1}\\n\")\n",
    "\n",
    "x2 = np.expand_dims(arr1, axis=1)\n",
    "print(f\"Shape after expand_dim at axis=1: {x2.shape}\")\n",
    "print(f\"Array after expand_dim at axis=1:\\n{x2}\")"
   ]
  },
  {
   "cell_type": "markdown",
   "id": "6293a33e-6f76-42d0-a596-4b27cb804a6e",
   "metadata": {},
   "source": [
    "### np.where"
   ]
  },
  {
   "cell_type": "code",
   "execution_count": 12,
   "id": "38ac9ea9-4832-49d7-b7a3-bdaedd4b156a",
   "metadata": {},
   "outputs": [
    {
     "name": "stdout",
     "output_type": "stream",
     "text": [
      "Array: [62 32  7 38 66 67 81 17 58 98 98 69  4 65 42]\n",
      "Indicies of Array>50: (array([ 0,  4,  5,  6,  8,  9, 10, 11, 13], dtype=int64),)\n",
      "Replace element>50 with 0: [ 0 32  7 38  0  0  0 17  0  0  0  0  4  0 42]\n",
      "Replace element<50 with 0: [62  0  0  0 66 67 81  0 58 98 98 69  0 65  0]\n",
      "Replace even elements with 0: [ 0  0  7  0  0 67 81 17  0  0  0 69  0 65  0]\n"
     ]
    }
   ],
   "source": [
    "print(f\"Array: {arr1}\")\n",
    "\n",
    "x1 = np.where(arr1>50)\n",
    "print(f\"Indicies of Array>50: {x1}\")\n",
    "\n",
    "# replace all the elements >50 with 0\n",
    "# np.where(condition, true, false)\n",
    "x2 = np.where(arr1>50, 0, arr1)\n",
    "print(f\"Replace element>50 with 0: {x2}\")\n",
    "\n",
    "# replace all the elements <50 with zero\n",
    "x3 = np.where(arr1>50, arr1, 0)\n",
    "print(f\"Replace element<50 with 0: {x3}\")\n",
    "\n",
    "# replace all the even numbers with zero\n",
    "x4 = np.where(arr1%2==0, 0, arr1)\n",
    "print(f\"Replace even elements with 0: {x4}\")"
   ]
  },
  {
   "cell_type": "markdown",
   "id": "e64ce68d-758d-48c0-8e64-e26b864caed1",
   "metadata": {},
   "source": [
    "### np.argmax"
   ]
  },
  {
   "cell_type": "code",
   "execution_count": 13,
   "id": "ae1ba30a-e382-48d0-b90c-935d1edce1e3",
   "metadata": {},
   "outputs": [
    {
     "name": "stdout",
     "output_type": "stream",
     "text": [
      "Array: [62 32  7 38 66 67 81 17 58 98 98 69  4 65 42]\n",
      "Max Element Index: 9\n",
      "Min Element Index: 12\n",
      "\n",
      "Array:\n",
      "[[46 24 85 56]\n",
      " [13 96 46 99]\n",
      " [74  7 84 64]\n",
      " [30 68 85 84]\n",
      " [89 26 86 85]\n",
      " [ 9 54 66 54]]\n",
      "\n",
      "Max Element Index: [4 1 4 1]\n",
      "Max Element Index: [2 3 2 2 0 2]\n"
     ]
    }
   ],
   "source": [
    "print(f\"Array: {arr1}\")\n",
    "\n",
    "x1 = np.argmax(arr1)\n",
    "x2 = np.argmin(arr1)\n",
    "\n",
    "print(f\"Max Element Index: {x1}\")\n",
    "print(f\"Min Element Index: {x2}\")\n",
    "\n",
    "print(f\"\\nArray:\\n{arr2}\\n\")\n",
    "\n",
    "x3 = np.argmax(arr2, axis=0)\n",
    "x4 = np.argmax(arr2, axis=1)\n",
    "\n",
    "print(f\"Max Element Index: {x3}\")\n",
    "print(f\"Max Element Index: {x4}\")"
   ]
  },
  {
   "cell_type": "markdown",
   "id": "d1a9e287-30ca-4bee-b201-5f2792398c43",
   "metadata": {},
   "source": [
    "### np.cumsum"
   ]
  },
  {
   "cell_type": "code",
   "execution_count": 14,
   "id": "a508eb5f-c2a9-4686-a0e8-56c94e60410c",
   "metadata": {},
   "outputs": [
    {
     "name": "stdout",
     "output_type": "stream",
     "text": [
      "Array: [1 2 3 4 5]\n",
      "Cumulative Sum: [ 1  3  6 10 15]\n",
      "Cumulative Product: [  1   2   6  24 120]\n"
     ]
    }
   ],
   "source": [
    "arr = np.array([1, 2, 3, 4, 5])\n",
    "\n",
    "x1 = np.cumsum(arr)\n",
    "x2 = np.cumprod(arr)\n",
    "\n",
    "print(f\"Array: {arr}\")\n",
    "print(f\"Cumulative Sum: {x1}\")\n",
    "print(f\"Cumulative Product: {x2}\")"
   ]
  },
  {
   "cell_type": "code",
   "execution_count": 15,
   "id": "a7435a02-efd7-45bf-8c36-e04b595b8048",
   "metadata": {},
   "outputs": [
    {
     "name": "stdout",
     "output_type": "stream",
     "text": [
      "Array:\n",
      "[[46 24 85 56]\n",
      " [13 96 46 99]\n",
      " [74  7 84 64]\n",
      " [30 68 85 84]\n",
      " [89 26 86 85]\n",
      " [ 9 54 66 54]]\n",
      "\n",
      "Cumulative Sum Axis=0 (Col):\n",
      "[[ 46  24  85  56]\n",
      " [ 59 120 131 155]\n",
      " [133 127 215 219]\n",
      " [163 195 300 303]\n",
      " [252 221 386 388]\n",
      " [261 275 452 442]]\n",
      "\n",
      "Cumulative Sum Axis=1 (Row):\n",
      "[[ 46  70 155 211]\n",
      " [ 13 109 155 254]\n",
      " [ 74  81 165 229]\n",
      " [ 30  98 183 267]\n",
      " [ 89 115 201 286]\n",
      " [  9  63 129 183]]\n"
     ]
    }
   ],
   "source": [
    "print(f\"Array:\\n{arr2}\")\n",
    "\n",
    "x1 = np.cumsum(arr2, axis=0)\n",
    "x2 = np.cumsum(arr2, axis=1)\n",
    "\n",
    "print(f\"\\nCumulative Sum Axis=0 (Col):\\n{x1}\")\n",
    "print(f\"\\nCumulative Sum Axis=1 (Row):\\n{x2}\")"
   ]
  },
  {
   "cell_type": "markdown",
   "id": "b9cb3803-9ab9-4939-8c05-a44ea27640b5",
   "metadata": {},
   "source": [
    "### np.percentile"
   ]
  },
  {
   "cell_type": "code",
   "execution_count": 16,
   "id": "f06c2439-6568-4e1c-8047-050c9b0fd4e9",
   "metadata": {},
   "outputs": [
    {
     "name": "stdout",
     "output_type": "stream",
     "text": [
      "Array: [62 32  7 38 66 67 81 17 58 98 98 69  4 65 42]\n",
      "\n",
      "0 Percentile (Min): 4.0\n",
      "25 Percentile: 35.0\n",
      "50 Percentile (Median): 62.0\n",
      "75 Percentile: 68.0\n",
      "100 Percentile (Max): 98.0\n"
     ]
    }
   ],
   "source": [
    "# Percentile(x) = (Number of values fall under ‘x’/total number of values) × 100\n",
    "# P = (n/N) × 100\n",
    "\n",
    "x1 = np.percentile(arr1, 0)\n",
    "x2 = np.percentile(arr1, 25)\n",
    "x3 = np.percentile(arr1, 50)\n",
    "x4 = np.percentile(arr1, 75)\n",
    "x5 = np.percentile(arr1, 100)\n",
    "\n",
    "print(f\"Array: {arr1}\\n\")\n",
    "print(f\"0 Percentile (Min): {x1}\")\n",
    "print(f\"25 Percentile: {x2}\")\n",
    "print(f\"50 Percentile (Median): {x3}\")\n",
    "print(f\"75 Percentile: {x4}\")\n",
    "print(f\"100 Percentile (Max): {x5}\")"
   ]
  },
  {
   "cell_type": "markdown",
   "id": "79ac19f2-db5f-49e4-8d7e-0e0d5838a8b0",
   "metadata": {},
   "source": [
    "### np.histogram"
   ]
  },
  {
   "cell_type": "code",
   "execution_count": 17,
   "id": "0919242f-92ac-48d3-9cad-e992d5000ff2",
   "metadata": {},
   "outputs": [
    {
     "name": "stdout",
     "output_type": "stream",
     "text": [
      "Array: [62 32  7 38 66 67 81 17 58 98 98 69  4 65 42]\n"
     ]
    },
    {
     "data": {
      "text/plain": [
       "(array([3, 2, 2, 5, 3], dtype=int64), array([  0,  20,  40,  60,  80, 100]))"
      ]
     },
     "execution_count": 17,
     "metadata": {},
     "output_type": "execute_result"
    }
   ],
   "source": [
    "print(f\"Array: {arr1}\")\n",
    "\n",
    "np.histogram(arr1, bins=[0, 20, 40, 60, 80, 100])"
   ]
  },
  {
   "cell_type": "markdown",
   "id": "7b09af96-f667-4f1a-b734-ca95fd88456a",
   "metadata": {},
   "source": [
    "### np.corrcoef"
   ]
  },
  {
   "cell_type": "code",
   "execution_count": 18,
   "id": "a50e7523-c009-4fee-93a4-45ead425baf8",
   "metadata": {},
   "outputs": [
    {
     "name": "stdout",
     "output_type": "stream",
     "text": [
      "Correlation Table:\n",
      "[[1.         0.25344572]\n",
      " [0.25344572 1.        ]]\n",
      "\n",
      "Correlation Value: 0.25344572266626864\n"
     ]
    }
   ],
   "source": [
    "salary = np.array([20000, 40000, 25000, 35000, 60000])\n",
    "experience = np.array([1, 3, 2, 4, 2])\n",
    "\n",
    "x1 = np.corrcoef(salary, experience)\n",
    "\n",
    "print(f\"Correlation Table:\\n{x1}\\n\")\n",
    "print(f\"Correlation Value: {x1[0, 1]}\")"
   ]
  },
  {
   "cell_type": "markdown",
   "id": "2f40a4f4-cc6b-4c54-8a1a-d4d76af111e2",
   "metadata": {},
   "source": [
    "### np.isin"
   ]
  },
  {
   "cell_type": "code",
   "execution_count": 19,
   "id": "1c356b31-d10b-4dce-8981-4f0ab0508d60",
   "metadata": {},
   "outputs": [
    {
     "name": "stdout",
     "output_type": "stream",
     "text": [
      "Array: [62 32  7 38 66 67 81 17 58 98 98 69  4 65 42]\n",
      "Boolean:\n",
      "[False False  True False False False False False False False False False\n",
      "  True False False]\n",
      "Found Element: [7 4]\n"
     ]
    }
   ],
   "source": [
    "items = [0, 1, 2, 3, 4, 5, 6, 7, 8, 9]\n",
    "x1 = np.isin(arr1, items)\n",
    "\n",
    "print(f\"Array: {arr1}\")\n",
    "print(f\"Boolean:\\n{x1}\")\n",
    "print(f\"Found Element: {arr1[x1]}\")"
   ]
  },
  {
   "cell_type": "markdown",
   "id": "84ed5b74-eca1-4f3c-8816-3bf9e58eed03",
   "metadata": {},
   "source": [
    "### np.flip"
   ]
  },
  {
   "cell_type": "code",
   "execution_count": 20,
   "id": "b6e713b8-019e-48c4-8578-b8ae064b5c94",
   "metadata": {},
   "outputs": [
    {
     "name": "stdout",
     "output_type": "stream",
     "text": [
      "Array: [62 32  7 38 66 67 81 17 58 98 98 69  4 65 42]\n",
      "Flip: [42 65  4 69 98 98 58 17 81 67 66 38  7 32 62]\n"
     ]
    }
   ],
   "source": [
    "x1 = np.flip(arr1)\n",
    "\n",
    "print(f\"Array: {arr1}\")\n",
    "print(f\"Flip: {x1}\")"
   ]
  },
  {
   "cell_type": "code",
   "execution_count": 21,
   "id": "a58aeb58-9ac0-4bab-8de2-9ac3c0a6a018",
   "metadata": {},
   "outputs": [
    {
     "name": "stdout",
     "output_type": "stream",
     "text": [
      "Array:\n",
      "[[46 24 85 56]\n",
      " [13 96 46 99]\n",
      " [74  7 84 64]\n",
      " [30 68 85 84]\n",
      " [89 26 86 85]\n",
      " [ 9 54 66 54]]\n",
      "\n",
      "Fliped at axis=0:\n",
      "[[ 9 54 66 54]\n",
      " [89 26 86 85]\n",
      " [30 68 85 84]\n",
      " [74  7 84 64]\n",
      " [13 96 46 99]\n",
      " [46 24 85 56]]\n",
      "\n",
      "Fliped at axis=1:\n",
      "[[56 85 24 46]\n",
      " [99 46 96 13]\n",
      " [64 84  7 74]\n",
      " [84 85 68 30]\n",
      " [85 86 26 89]\n",
      " [54 66 54  9]]\n"
     ]
    }
   ],
   "source": [
    "x1 = np.flip(arr2, axis=0)\n",
    "x2 = np.flip(arr2, axis=1)\n",
    "\n",
    "print(f\"Array:\\n{arr2}\\n\")\n",
    "print(f\"Fliped at axis=0:\\n{x1}\\n\")\n",
    "print(f\"Fliped at axis=1:\\n{x2}\")"
   ]
  },
  {
   "cell_type": "markdown",
   "id": "a867b71d-2302-4a76-a8fd-0a93fbfc8327",
   "metadata": {},
   "source": [
    "### np.put"
   ]
  },
  {
   "cell_type": "code",
   "execution_count": 22,
   "id": "1d9641d8-019c-4086-80c7-5f28d76f413e",
   "metadata": {},
   "outputs": [
    {
     "name": "stdout",
     "output_type": "stream",
     "text": [
      "Array: [62 32  7 38 66 67 81 17 58 98 98 69  4 65 42]\n",
      "Updated: [111 222   7  38  66  67  81  17  58  98  98  69   4  65  42]\n"
     ]
    }
   ],
   "source": [
    "print(f\"Array: {arr1}\")\n",
    "np.put(arr1, [0, 1], [111, 222])\n",
    "print(f\"Updated: {arr1}\")"
   ]
  },
  {
   "cell_type": "markdown",
   "id": "efcd0307-551a-4c8a-bcbd-35c0479d7422",
   "metadata": {},
   "source": [
    "### np.delete"
   ]
  },
  {
   "cell_type": "code",
   "execution_count": 23,
   "id": "8bd1d9e8-37eb-4e1a-b5b1-399b2ee9b9e7",
   "metadata": {},
   "outputs": [
    {
     "name": "stdout",
     "output_type": "stream",
     "text": [
      "Array: [111 222   7  38  66  67  81  17  58  98  98  69   4  65  42]\n",
      "After Deletion: [ 7 38 66 67 81 17 58 98 98 69  4 65 42]\n"
     ]
    }
   ],
   "source": [
    "x1 = np.delete(arr1, [0, 1])\n",
    "\n",
    "print(f\"Array: {arr1}\")\n",
    "print(f\"After Deletion: {x1}\")"
   ]
  },
  {
   "cell_type": "markdown",
   "id": "b07cb65d-82e2-495d-bd6a-2aa85b9083fe",
   "metadata": {},
   "source": [
    "### np.clip"
   ]
  },
  {
   "cell_type": "code",
   "execution_count": 24,
   "id": "89d94b53-c39f-4de5-ad67-ff922d587916",
   "metadata": {},
   "outputs": [
    {
     "name": "stdout",
     "output_type": "stream",
     "text": [
      "Array: [111 222   7  38  66  67  81  17  58  98  98  69   4  65  42]\n"
     ]
    },
    {
     "data": {
      "text/plain": [
       "array([75, 75, 25, 38, 66, 67, 75, 25, 58, 75, 75, 69, 25, 65, 42])"
      ]
     },
     "execution_count": 24,
     "metadata": {},
     "output_type": "execute_result"
    }
   ],
   "source": [
    "print(f\"Array: {arr1}\")\n",
    "\n",
    "np.clip(arr1, a_min=25, a_max=75)"
   ]
  },
  {
   "cell_type": "markdown",
   "id": "d53ecee4-cd42-45e8-a96e-5a1cd8fe7df7",
   "metadata": {},
   "source": [
    "### Set Functions"
   ]
  },
  {
   "cell_type": "code",
   "execution_count": 25,
   "id": "7c309f3a-96d6-49fb-883f-8af6bee8a22f",
   "metadata": {},
   "outputs": [
    {
     "name": "stdout",
     "output_type": "stream",
     "text": [
      "Union: [1 2 3 4 5 6 7]\n",
      "Intersection: [3 4 5]\n",
      "Unique is x1: [1 2]\n",
      "Unique in x2: [6 7]\n",
      "Unique in both: [1 2 6 7]\n",
      "Search 1 in x1: [ True False False False False]\n",
      "Return Search Element: [1]\n"
     ]
    }
   ],
   "source": [
    "x1 = np.array([1, 2, 3, 4, 5])\n",
    "x2 = np.array([3, 4, 5, 6, 7])\n",
    "\n",
    "print(f\"Union: {np.union1d(x1, x2)}\")\n",
    "print(f\"Intersection: {np.intersect1d(x1, x2)}\")\n",
    "print(f\"Unique is x1: {np.setdiff1d(x1, x2)}\")\n",
    "print(f\"Unique in x2: {np.setdiff1d(x2, x1)}\")\n",
    "print(f\"Unique in both: {np.setxor1d(x1, x2)}\")\n",
    "print(f\"Search 1 in x1: {np.in1d(x1, 1)}\")\n",
    "print(f\"Return Search Element: {x1[np.in1d(x1, 1)]}\")"
   ]
  },
  {
   "cell_type": "code",
   "execution_count": null,
   "id": "a6668245-e965-48f7-ac26-bb2e17242720",
   "metadata": {},
   "outputs": [],
   "source": []
  }
 ],
 "metadata": {
  "kernelspec": {
   "display_name": "Python 3 (ipykernel)",
   "language": "python",
   "name": "python3"
  },
  "language_info": {
   "codemirror_mode": {
    "name": "ipython",
    "version": 3
   },
   "file_extension": ".py",
   "mimetype": "text/x-python",
   "name": "python",
   "nbconvert_exporter": "python",
   "pygments_lexer": "ipython3",
   "version": "3.11.1"
  }
 },
 "nbformat": 4,
 "nbformat_minor": 5
}

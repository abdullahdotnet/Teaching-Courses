{
 "cells": [
  {
   "cell_type": "markdown",
   "id": "4b59028f-f9e8-4e43-81df-e39963d79076",
   "metadata": {},
   "source": [
    "<h1 style=\"text-align: center;\">NumPy Fundamentals</h1>"
   ]
  },
  {
   "cell_type": "markdown",
   "id": "1b9fedc7-3bbb-4e2e-af88-726e36c9bb7c",
   "metadata": {},
   "source": [
    "### Contents\n",
    "\n",
    "- [Getting Started with NumPy](https://numpy.org/)\n",
    "- [Installing NumPy](#Installing-NumPy)\n",
    "- [Importing NumPy](#Importing-NumPy)\n",
    "- [Initializing Arrays in NumPy](#Initializing-Arrays-in-NumPy)\n",
    "- [Understanding Array Attributes](#Understanding-Array-Attributes)\n",
    "- [Data Types in NumPy Arrays](#Data-Types-in-NumPy-Arrays)\n",
    "- [Operations on NumPy Arrays](#Operations-on-NumPy-Arrays)\n",
    "- [Array Functions in NumPy](#Array-Functions-in-NumPy)\n",
    "- [Indexing & Slicing in Arrays](#Indexing-&-Slicing-in-Arrays)\n",
    "- [Iterating through Arrays](#Iterating-through-Arrays)\n",
    "- [Reshaping NumPy Arrays](#Reshaping-NumPy-Arrays)\n",
    "- [Stacking & Splitting Arrays](#Stacking-&-Splitting-Arrays)"
   ]
  },
  {
   "cell_type": "markdown",
   "id": "f7cc6ff1-130f-4970-9c4b-8fa5a1505875",
   "metadata": {},
   "source": [
    "### Installing NumPy"
   ]
  },
  {
   "cell_type": "code",
   "execution_count": 1,
   "id": "0561b434-2b8e-463e-ad1f-6f5a1e68dd48",
   "metadata": {},
   "outputs": [
    {
     "name": "stdout",
     "output_type": "stream",
     "text": [
      "Requirement already satisfied: numpy in c:\\users\\track computers\\envs\\data-science\\lib\\site-packages (1.24.3)\n"
     ]
    }
   ],
   "source": [
    "# !pip install numpy"
   ]
  },
  {
   "cell_type": "markdown",
   "id": "28cfa6cd-1d20-4f9c-b405-7c1171a8f18d",
   "metadata": {},
   "source": [
    "### Importing NumPy"
   ]
  },
  {
   "cell_type": "code",
   "execution_count": 2,
   "id": "29910d12-4007-4bb5-ba87-2aeecb97293d",
   "metadata": {},
   "outputs": [],
   "source": [
    "import numpy as np"
   ]
  },
  {
   "cell_type": "markdown",
   "id": "50c5a02b-389d-4d36-90e7-5fa357632ea0",
   "metadata": {},
   "source": [
    "### Initializing Arrays in NumPy"
   ]
  },
  {
   "cell_type": "code",
   "execution_count": 3,
   "id": "2764465f-5ca1-4213-acc7-99615fb97108",
   "metadata": {},
   "outputs": [
    {
     "name": "stdout",
     "output_type": "stream",
     "text": [
      "Type: <class 'numpy.ndarray'>\n",
      "Array: [1 2 3]\n"
     ]
    }
   ],
   "source": [
    "# 1 Dimensional or Vector\n",
    "arr = np.array([1, 2, 3])\n",
    "\n",
    "print(f\"Type: {type(arr)}\\nArray: {arr}\")"
   ]
  },
  {
   "cell_type": "code",
   "execution_count": 4,
   "id": "fe11cc4e-6ad7-4a5b-9dfd-9f5dfd9ad451",
   "metadata": {},
   "outputs": [
    {
     "name": "stdout",
     "output_type": "stream",
     "text": [
      "[[1 2 3]\n",
      " [4 5 6]]\n"
     ]
    }
   ],
   "source": [
    "# 2 Dimensional or Matrix\n",
    "arr = np.array(\n",
    "    [\n",
    "        [1, 2, 3],\n",
    "        [4, 5, 6],\n",
    "    ]\n",
    ")\n",
    "\n",
    "print(arr)"
   ]
  },
  {
   "cell_type": "code",
   "execution_count": 5,
   "id": "85621311-065d-4b70-95d2-b0bf12391c82",
   "metadata": {},
   "outputs": [
    {
     "name": "stdout",
     "output_type": "stream",
     "text": [
      "[[[1 2]\n",
      "  [3 4]]\n",
      "\n",
      " [[5 6]\n",
      "  [7 8]]]\n"
     ]
    }
   ],
   "source": [
    "# 3 Dimensional or Tensor\n",
    "arr = np.array(\n",
    "    [\n",
    "        [[1, 2], [3, 4]],\n",
    "        [[5, 6], [7, 8]],\n",
    "    ]\n",
    ")\n",
    "\n",
    "print(arr)"
   ]
  },
  {
   "cell_type": "code",
   "execution_count": 6,
   "id": "26af4b5e-b8eb-41c3-9242-487a7a34cfae",
   "metadata": {},
   "outputs": [
    {
     "data": {
      "text/plain": [
       "array([1., 2., 3.])"
      ]
     },
     "execution_count": 6,
     "metadata": {},
     "output_type": "execute_result"
    }
   ],
   "source": [
    "# specify the data type as float\n",
    "np.array([1, 2, 3], dtype=float)"
   ]
  },
  {
   "cell_type": "code",
   "execution_count": 8,
   "id": "f8cc6ce5-8b5d-4599-b502-4612e60d912d",
   "metadata": {},
   "outputs": [
    {
     "data": {
      "text/plain": [
       "array([False,  True,  True])"
      ]
     },
     "execution_count": 8,
     "metadata": {},
     "output_type": "execute_result"
    }
   ],
   "source": [
    "# specify the data type as bool\n",
    "np.array([0, 2, 3], dtype=bool)"
   ]
  },
  {
   "cell_type": "code",
   "execution_count": 8,
   "id": "cc79450b-c627-4b13-8b33-25240081fbb8",
   "metadata": {},
   "outputs": [
    {
     "data": {
      "text/plain": [
       "array([1.+0.j, 2.+0.j, 3.+0.j])"
      ]
     },
     "execution_count": 8,
     "metadata": {},
     "output_type": "execute_result"
    }
   ],
   "source": [
    "# specify the data type as complex\n",
    "np.array([1, 2, 3], dtype=complex)"
   ]
  },
  {
   "cell_type": "code",
   "execution_count": 10,
   "id": "d0611a9c-84ee-40d3-bffd-d03f6a284fc0",
   "metadata": {},
   "outputs": [
    {
     "data": {
      "text/plain": [
       "array([[ 1,  3,  5,  7,  9],\n",
       "       [11, 13, 15, 17, 19]])"
      ]
     },
     "execution_count": 10,
     "metadata": {},
     "output_type": "execute_result"
    }
   ],
   "source": [
    "# reshape changes the dimensions of a array\n",
    "arr = np.arange(1, 21, 2)      # arange and range are same\n",
    "\n",
    "arr.reshape(2, 5)"
   ]
  },
  {
   "cell_type": "code",
   "execution_count": 10,
   "id": "603789fe-b5c2-4def-bf04-f1f2cbeea55f",
   "metadata": {},
   "outputs": [
    {
     "data": {
      "text/plain": [
       "array([[[[ 0,  1],\n",
       "         [ 2,  3]],\n",
       "\n",
       "        [[ 4,  5],\n",
       "         [ 6,  7]]],\n",
       "\n",
       "\n",
       "       [[[ 8,  9],\n",
       "         [10, 11]],\n",
       "\n",
       "        [[12, 13],\n",
       "         [14, 15]]]])"
      ]
     },
     "execution_count": 10,
     "metadata": {},
     "output_type": "execute_result"
    }
   ],
   "source": [
    "# converting linear to 4 dimensional array\n",
    "arr = np.arange(16)\n",
    "arr.reshape(2, 2, 2, 2)"
   ]
  },
  {
   "cell_type": "code",
   "execution_count": 11,
   "id": "4c098ee0-b851-4269-a7b4-5b38b1823fc4",
   "metadata": {},
   "outputs": [
    {
     "name": "stdout",
     "output_type": "stream",
     "text": [
      "Array 01: [1.]\n",
      "Array 02: \n",
      "[[1. 1.]\n",
      " [1. 1.]\n",
      " [1. 1.]]\n"
     ]
    }
   ],
   "source": [
    "# generating NumPy arrays filled with ones\n",
    "arr1 = np.ones((1, ))\n",
    "arr2 = np.ones((3, 2))\n",
    "\n",
    "print(f\"Array 01: {arr1}\")\n",
    "print(f\"Array 02: \\n{arr2}\")"
   ]
  },
  {
   "cell_type": "code",
   "execution_count": 12,
   "id": "6c748cb2-b392-42d1-9675-e0061bc2912d",
   "metadata": {},
   "outputs": [
    {
     "name": "stdout",
     "output_type": "stream",
     "text": [
      "Array 01: [0.]\n",
      "Array 02: \n",
      "[[0. 0.]\n",
      " [0. 0.]\n",
      " [0. 0.]]\n"
     ]
    }
   ],
   "source": [
    "# generating NumPy arrays filled with zeros\n",
    "arr1 = np.zeros((1, ))\n",
    "arr2 = np.zeros((3, 2))\n",
    "\n",
    "print(f\"Array 01: {arr1}\")\n",
    "print(f\"Array 02: \\n{arr2}\")"
   ]
  },
  {
   "cell_type": "code",
   "execution_count": 13,
   "id": "f0ad8471-dc29-4b3e-ab36-9ccb9ab2e2bc",
   "metadata": {},
   "outputs": [
    {
     "name": "stdout",
     "output_type": "stream",
     "text": [
      "Random Array 01: [0.58171684]\n",
      "Random Array 02: \n",
      "[[0.24047679 0.20455786]\n",
      " [0.74359467 0.48220214]\n",
      " [0.13158371 0.637919  ]]\n"
     ]
    }
   ],
   "source": [
    "# generating NumPy arrays filled with random values\n",
    "arr1 = np.random.random((1, ))\n",
    "arr2 = np.random.random((3, 2))\n",
    "\n",
    "print(f\"Random Array 01: {arr1}\")\n",
    "print(f\"Random Array 02: \\n{arr2}\")"
   ]
  },
  {
   "cell_type": "code",
   "execution_count": 14,
   "id": "753e5866-4e36-4c62-9e60-de74ba834899",
   "metadata": {},
   "outputs": [
    {
     "data": {
      "text/plain": [
       "array([-10.,  -5.,   0.,   5.,  10.])"
      ]
     },
     "execution_count": 14,
     "metadata": {},
     "output_type": "execute_result"
    }
   ],
   "source": [
    "# linear space\n",
    "# np.linspace(lower_range, upper_range, size)\n",
    "np.linspace(-10, 10, 5)"
   ]
  },
  {
   "cell_type": "code",
   "execution_count": 15,
   "id": "89182d56-00b5-4fab-a27d-6a466661c809",
   "metadata": {},
   "outputs": [
    {
     "data": {
      "text/plain": [
       "array([[1., 0., 0.],\n",
       "       [0., 1., 0.],\n",
       "       [0., 0., 1.]])"
      ]
     },
     "execution_count": 15,
     "metadata": {},
     "output_type": "execute_result"
    }
   ],
   "source": [
    "# generating the identity matrix\n",
    "np.identity(3)"
   ]
  },
  {
   "cell_type": "markdown",
   "id": "32d70091-476b-4203-9e26-cdf8976e7ee0",
   "metadata": {},
   "source": [
    "### Understanding Array Attributes"
   ]
  },
  {
   "cell_type": "code",
   "execution_count": 16,
   "id": "5e29f8b3-bd47-4ae9-bd41-8e9b5d8627a5",
   "metadata": {},
   "outputs": [
    {
     "name": "stdout",
     "output_type": "stream",
     "text": [
      "Array 01: [0 1 2 3 4 5 6 7 8 9]\n",
      "\n",
      "Array 02:\n",
      "[[ 0.  1.  2.  3.]\n",
      " [ 4.  5.  6.  7.]\n",
      " [ 8.  9. 10. 11.]]\n",
      "\n",
      "Array 03:\n",
      "[[[0 1]\n",
      "  [2 3]]\n",
      "\n",
      " [[4 5]\n",
      "  [6 7]]]\n"
     ]
    }
   ],
   "source": [
    "arr1 = np.arange(10)\n",
    "arr2 = np.arange(12, dtype=float).reshape(3, 4)\n",
    "arr3 = np.arange(8).reshape(2, 2, 2)\n",
    "\n",
    "print(f\"Array 01: {arr1}\")\n",
    "print(f\"\\nArray 02:\\n{arr2}\")\n",
    "print(f\"\\nArray 03:\\n{arr3}\")"
   ]
  },
  {
   "cell_type": "code",
   "execution_count": 17,
   "id": "0c88d4e3-12ca-4a00-8f28-354720af5d93",
   "metadata": {},
   "outputs": [
    {
     "name": "stdout",
     "output_type": "stream",
     "text": [
      "Dimension of 1st Array: 1\n",
      "Dimension of 2nd Array: 2\n",
      "Dimension of 3rd Array: 3\n"
     ]
    }
   ],
   "source": [
    "# checking the dimensions of an array\n",
    "\n",
    "print(f\"Dimension of 1st Array: {arr1.ndim}\")\n",
    "print(f\"Dimension of 2nd Array: {arr2.ndim}\")\n",
    "print(f\"Dimension of 3rd Array: {arr3.ndim}\")"
   ]
  },
  {
   "cell_type": "code",
   "execution_count": 18,
   "id": "623b44e3-71a7-4d5f-bda6-8a5f9f14cc7a",
   "metadata": {},
   "outputs": [
    {
     "name": "stdout",
     "output_type": "stream",
     "text": [
      "Shape of 1st Array: (10,)\n",
      "Shape of 2nd Array: (3, 4)\n",
      "Shape of 3rd Array: (2, 2, 2)\n"
     ]
    }
   ],
   "source": [
    "# checking the shape of an array\n",
    "# for 3D (num_of_2D, rows, cols)\n",
    "\n",
    "print(f\"Shape of 1st Array: {arr1.shape}\")\n",
    "print(f\"Shape of 2nd Array: {arr2.shape}\")\n",
    "print(f\"Shape of 3rd Array: {arr3.shape}\")"
   ]
  },
  {
   "cell_type": "code",
   "execution_count": 19,
   "id": "1e828b5d-8919-49bb-bb1a-da9bfc4065fc",
   "metadata": {},
   "outputs": [
    {
     "name": "stdout",
     "output_type": "stream",
     "text": [
      "Size of 1st Array: 10\n",
      "Size of 2nd Array: 12\n",
      "Size of 3rd Array: 8\n"
     ]
    }
   ],
   "source": [
    "# checking the size of an array\n",
    "\n",
    "print(f\"Size of 1st Array: {arr1.size}\")\n",
    "print(f\"Size of 2nd Array: {arr2.size}\")\n",
    "print(f\"Size of 3rd Array: {arr3.size}\")"
   ]
  },
  {
   "cell_type": "code",
   "execution_count": 20,
   "id": "93cb51e8-b171-469e-825a-abb13957fe5d",
   "metadata": {},
   "outputs": [
    {
     "name": "stdout",
     "output_type": "stream",
     "text": [
      "Item Size of 1st Array: 4 bytes per item\n",
      "Item Size of 2nd Array: 8 bytes per item\n",
      "Item Size of 3rd Array: 4 bytes per item\n"
     ]
    }
   ],
   "source": [
    "# checking the item size in memory (bytes)\n",
    "\n",
    "print(f\"Item Size of 1st Array: {arr1.itemsize} bytes per item\")\n",
    "print(f\"Item Size of 2nd Array: {arr2.itemsize} bytes per item\")\n",
    "print(f\"Item Size of 3rd Array: {arr3.itemsize} bytes per item\")"
   ]
  },
  {
   "cell_type": "code",
   "execution_count": 21,
   "id": "d15dc72f-d704-4752-9be5-6c0879978eb3",
   "metadata": {},
   "outputs": [
    {
     "name": "stdout",
     "output_type": "stream",
     "text": [
      "Total Memory occupied by 1st Array: 40 bytes\n",
      "Total Memory occupied by 2nd Array: 96 bytes\n",
      "Total Memory occupied by 3rd Array: 32 bytes\n"
     ]
    }
   ],
   "source": [
    "# checking the total memory occupied by an array\n",
    "\n",
    "print(f\"Total Memory occupied by 1st Array: {arr1.nbytes} bytes\")\n",
    "print(f\"Total Memory occupied by 2nd Array: {arr2.nbytes} bytes\")\n",
    "print(f\"Total Memory occupied by 3rd Array: {arr3.nbytes} bytes\")"
   ]
  },
  {
   "cell_type": "markdown",
   "id": "16fc930a-0252-4158-a805-98ef6fd8bb76",
   "metadata": {},
   "source": [
    "### Data Types in NumPy Arrays"
   ]
  },
  {
   "cell_type": "code",
   "execution_count": 22,
   "id": "b3d4b39f-aca2-4edb-a342-a64c7f8d2156",
   "metadata": {},
   "outputs": [
    {
     "name": "stdout",
     "output_type": "stream",
     "text": [
      "Data Type of 1st Array: int32\n",
      "Data Type of 2nd Array: float64\n",
      "Data Type of 3rd Array: int32\n"
     ]
    }
   ],
   "source": [
    "# checking the data type of an array\n",
    "\n",
    "print(f\"Data Type of 1st Array: {arr1.dtype}\")\n",
    "print(f\"Data Type of 2nd Array: {arr2.dtype}\")\n",
    "print(f\"Data Type of 3rd Array: {arr3.dtype}\")"
   ]
  },
  {
   "cell_type": "code",
   "execution_count": 23,
   "id": "9653452f-66c2-40e5-adb5-a7037031fdc4",
   "metadata": {},
   "outputs": [
    {
     "name": "stdout",
     "output_type": "stream",
     "text": [
      "Data Type of 1st Array: int64\n",
      "Data Type of 2nd Array: float32\n",
      "Data Type of 3rd Array: float64\n",
      "Data Type of 4th Array: bool\n",
      "Data Type of 5th Array: complex128\n"
     ]
    }
   ],
   "source": [
    "# changing the data types of an array\n",
    "# data type of arr1 changes from int32 to int64\n",
    "x1 = arr1.astype(np.int64)\n",
    "# data type of arr2 changes from float64 to float32\n",
    "x2 = arr2.astype(np.float32)\n",
    "# data type of arr3 changes from int32 to float64\n",
    "x3 = arr3.astype(np.float64)\n",
    "# data type of arr1 changes from int32 to bool\n",
    "x4 = arr1.astype(bool)\n",
    "# data type of arr1 changes from int32 to complex\n",
    "x5 = arr1.astype(complex)\n",
    "\n",
    "print(f\"Data Type of 1st Array: {x1.dtype}\")\n",
    "print(f\"Data Type of 2nd Array: {x2.dtype}\")\n",
    "print(f\"Data Type of 3rd Array: {x3.dtype}\")\n",
    "print(f\"Data Type of 4th Array: {x4.dtype}\")\n",
    "print(f\"Data Type of 5th Array: {x5.dtype}\")"
   ]
  },
  {
   "cell_type": "code",
   "execution_count": 24,
   "id": "58a2fac2-7fc8-4faa-b91b-83a2e56bf47c",
   "metadata": {},
   "outputs": [
    {
     "name": "stdout",
     "output_type": "stream",
     "text": [
      "Array 01: [0 1 2 3 4 5 6 7 8 9]\n",
      "Array 04: [False  True  True  True  True  True  True  True  True  True]\n",
      "Array 05: [0.+0.j 1.+0.j 2.+0.j 3.+0.j 4.+0.j 5.+0.j 6.+0.j 7.+0.j 8.+0.j 9.+0.j]\n"
     ]
    }
   ],
   "source": [
    "print(f\"Array 01: {x1}\")\n",
    "print(f\"Array 04: {x4}\")\n",
    "print(f\"Array 05: {x5}\")"
   ]
  },
  {
   "cell_type": "markdown",
   "id": "c4ebfd9a-ad2a-44ae-83bc-ced73c1b3b55",
   "metadata": {},
   "source": [
    "### Operations on NumPy Arrays"
   ]
  },
  {
   "cell_type": "code",
   "execution_count": 12,
   "id": "ec21488d-c357-4fca-b809-8e8d16db1628",
   "metadata": {},
   "outputs": [
    {
     "name": "stdout",
     "output_type": "stream",
     "text": [
      "Array 01:\n",
      "[[ 0  1  2  3]\n",
      " [ 4  5  6  7]\n",
      " [ 8  9 10 11]]\n",
      "\n",
      "Array 02:\n",
      "[[12 13 14 15]\n",
      " [16 17 18 19]\n",
      " [20 21 22 23]]\n"
     ]
    }
   ],
   "source": [
    "arr1 = np.arange(12).reshape(3, 4)\n",
    "arr2 = np.arange(12, 24).reshape(3, 4)\n",
    "\n",
    "print(f\"Array 01:\\n{arr1}\")\n",
    "print(f\"\\nArray 02:\\n{arr2}\")"
   ]
  },
  {
   "cell_type": "code",
   "execution_count": 26,
   "id": "e2a20124-207e-47c7-9d0f-9340f245d38e",
   "metadata": {},
   "outputs": [
    {
     "name": "stdout",
     "output_type": "stream",
     "text": [
      "Array:\n",
      "[[ 0  1  2  3]\n",
      " [ 4  5  6  7]\n",
      " [ 8  9 10 11]]\n",
      "\n",
      "Additon:\n",
      "[[ 2  3  4  5]\n",
      " [ 6  7  8  9]\n",
      " [10 11 12 13]]\n",
      "\n",
      "Subtraction:\n",
      "[[-2 -1  0  1]\n",
      " [ 2  3  4  5]\n",
      " [ 6  7  8  9]]\n",
      "\n",
      "Multiplication:\n",
      "[[ 0  2  4  6]\n",
      " [ 8 10 12 14]\n",
      " [16 18 20 22]]\n",
      "\n",
      "Division:\n",
      "[[0.  0.5 1.  1.5]\n",
      " [2.  2.5 3.  3.5]\n",
      " [4.  4.5 5.  5.5]]\n",
      "\n",
      "Power:\n",
      "[[  0   1   4   9]\n",
      " [ 16  25  36  49]\n",
      " [ 64  81 100 121]]\n"
     ]
    }
   ],
   "source": [
    "# arithmetic operations\n",
    "print(f\"Array:\\n{arr1}\")\n",
    "print(f\"\\nAdditon:\\n{arr1+2}\")\n",
    "print(f\"\\nSubtraction:\\n{arr1-2}\")\n",
    "print(f\"\\nMultiplication:\\n{arr1*2}\")\n",
    "print(f\"\\nDivision:\\n{arr1/2}\")\n",
    "print(f\"\\nPower:\\n{arr1**2}\")"
   ]
  },
  {
   "cell_type": "code",
   "execution_count": 15,
   "id": "2c1d7962-a52f-4b3a-b316-c39fe486adc3",
   "metadata": {},
   "outputs": [
    {
     "name": "stdout",
     "output_type": "stream",
     "text": [
      "[[False False False False]\n",
      " [False  True  True  True]\n",
      " [ True  True  True  True]]\n"
     ]
    },
    {
     "data": {
      "text/plain": [
       "array([10, 11])"
      ]
     },
     "execution_count": 15,
     "metadata": {},
     "output_type": "execute_result"
    }
   ],
   "source": [
    "# relational operations: >, <, >=, <=, == !=\n",
    "print(arr1 >= 5)\n",
    "arr1[arr1 >= 10]\n"
   ]
  },
  {
   "cell_type": "code",
   "execution_count": 28,
   "id": "45cf515e-f3ec-4cf1-9aa0-976ecbe18a42",
   "metadata": {},
   "outputs": [
    {
     "name": "stdout",
     "output_type": "stream",
     "text": [
      "Addition:\n",
      "[[12 14 16 18]\n",
      " [20 22 24 26]\n",
      " [28 30 32 34]]\n",
      "\n",
      "Multiplication:\n",
      "[[  0  13  28  45]\n",
      " [ 64  85 108 133]\n",
      " [160 189 220 253]]\n",
      "\n",
      "Comparsion:\n",
      "[[ True  True  True  True]\n",
      " [ True  True  True  True]\n",
      " [ True  True  True  True]]\n"
     ]
    }
   ],
   "source": [
    "# vector operations\n",
    "\n",
    "print(f\"Addition:\\n{arr1+arr2}\")\n",
    "print(f\"\\nMultiplication:\\n{arr1*arr2}\")\n",
    "print(f\"\\nComparison:\\n{arr1<arr2}\")"
   ]
  },
  {
   "cell_type": "markdown",
   "id": "55cd15b8-3719-472c-86a0-b84e1fa4c07d",
   "metadata": {},
   "source": [
    "### Array Functions in NumPy"
   ]
  },
  {
   "cell_type": "code",
   "execution_count": 18,
   "id": "07a771dc-f85d-454f-a764-3d78d734f55c",
   "metadata": {},
   "outputs": [
    {
     "name": "stdout",
     "output_type": "stream",
     "text": [
      "Array 01:\n",
      "[[33. 31. 79.]\n",
      " [88. 91. 57.]\n",
      " [50. 16. 64.]]\n"
     ]
    }
   ],
   "source": [
    "arr1 = np.random.random((3, 3))\n",
    "arr1 = np.round(arr1*100)\n",
    "\n",
    "print(f\"Array 01:\\n{arr1}\")"
   ]
  },
  {
   "cell_type": "code",
   "execution_count": 30,
   "id": "ac1594ec-b1fb-49cc-8f7d-62482c18a71c",
   "metadata": {},
   "outputs": [
    {
     "name": "stdout",
     "output_type": "stream",
     "text": [
      "Max: 64.0\n",
      "Min: 5.0\n",
      "Sum: 373.0\n",
      "Product: 62563924416000.0\n"
     ]
    }
   ],
   "source": [
    "# max/min/sum/prod\n",
    "print(f\"Max: {np.max(arr1)}\")\n",
    "print(f\"Min: {np.min(arr1)}\")\n",
    "print(f\"Sum: {np.sum(arr1)}\")\n",
    "print(f\"Product: {np.prod(arr1)}\")"
   ]
  },
  {
   "cell_type": "code",
   "execution_count": 31,
   "id": "e80d083e-4350-4b9f-a262-31f8164972cb",
   "metadata": {},
   "outputs": [
    {
     "name": "stdout",
     "output_type": "stream",
     "text": [
      "Max per Row: [64. 58. 50.]\n",
      "Max per Col: [64. 58. 49.]\n"
     ]
    }
   ],
   "source": [
    "# operation on each row, axis=1, columns will be index and operation applied on rows\n",
    "# operation on each col, axis=0\n",
    "\n",
    "print(f\"Max per Row: {np.max(arr1, axis=1)}\")\n",
    "print(f\"Max per Col: {np.max(arr1, axis=0)}\")"
   ]
  },
  {
   "cell_type": "code",
   "execution_count": 32,
   "id": "53b7c710-1b84-465d-86b7-ea99cd58f6ee",
   "metadata": {},
   "outputs": [
    {
     "name": "stdout",
     "output_type": "stream",
     "text": [
      "Mean: 41.44444444444444\n",
      "Median: 47.0\n",
      "Variance: 318.91358024691357\n",
      "Standard Deviation: 17.858151646990613\n"
     ]
    }
   ],
   "source": [
    "# statistical functions\n",
    "print(f\"Mean: {np.mean(arr1)}\")\n",
    "print(f\"Median: {np.median(arr1)}\")\n",
    "print(f\"Variance: {np.var(arr1)}\")\n",
    "print(f\"Standard Deviation: {np.std(arr1)}\")"
   ]
  },
  {
   "cell_type": "code",
   "execution_count": 33,
   "id": "38e32492-67d6-4229-bb89-e06110d88625",
   "metadata": {},
   "outputs": [
    {
     "name": "stdout",
     "output_type": "stream",
     "text": [
      "Calculating Mean per Row: [51.33333333 40.66666667 32.33333333]\n",
      "Calculating Mean per Col: [53.66666667 34.66666667 36.        ]\n"
     ]
    }
   ],
   "source": [
    "print(f\"Calculating Mean per Row: {np.mean(arr1, axis=1)}\")\n",
    "print(f\"Calculating Mean per Col: {np.mean(arr1, axis=0)}\")"
   ]
  },
  {
   "cell_type": "code",
   "execution_count": 34,
   "id": "43ce44cf-34f7-4626-8ee6-4e89622d5e3c",
   "metadata": {},
   "outputs": [
    {
     "name": "stdout",
     "output_type": "stream",
     "text": [
      "Cos:\n",
      "[[ 0.39185723 -0.98733928  0.30059254]\n",
      " [-0.99233547  0.11918014 -0.27516334]\n",
      " [ 0.96496603  0.28366219 -0.39998531]]\n",
      "\n",
      "Sin:\n",
      "[[ 0.92002604 -0.15862267 -0.95375265]\n",
      " [ 0.12357312  0.99287265 -0.96139749]\n",
      " [-0.26237485 -0.95892427 -0.91652155]]\n",
      "\n",
      "Tan:\n",
      "[[ 2.34786031  0.1606567  -3.17290855]\n",
      " [-0.12452757  8.33085685  3.49391565]\n",
      " [-0.27190061 -3.38051501  2.29138799]]\n"
     ]
    }
   ],
   "source": [
    "# trigonometric functions\n",
    "\n",
    "print(f\"Cos:\\n{np.cos(arr1)}\")\n",
    "print(f\"\\nSin:\\n{np.sin(arr1)}\")\n",
    "print(f\"\\nTan:\\n{np.tan(arr1)}\")"
   ]
  },
  {
   "cell_type": "code",
   "execution_count": 35,
   "id": "9a6a211f-d567-4aae-8345-9e4b53a69593",
   "metadata": {},
   "outputs": [
    {
     "name": "stdout",
     "output_type": "stream",
     "text": [
      "Dot Product:\n",
      "[[114 120 126]\n",
      " [378 400 422]\n",
      " [642 680 718]]\n"
     ]
    }
   ],
   "source": [
    "# dot product\n",
    "x1 = np.arange(12).reshape(3, 4)\n",
    "x2 = np.arange(12, 24).reshape(4, 3)\n",
    "\n",
    "print(f\"Dot Product:\\n{np.dot(x1, x2)}\")"
   ]
  },
  {
   "cell_type": "code",
   "execution_count": 36,
   "id": "8391f283-fe0d-4d43-ad69-d3527949eb50",
   "metadata": {},
   "outputs": [
    {
     "name": "stdout",
     "output_type": "stream",
     "text": [
      "Log:\n",
      "[[2.48490665 2.56494936 2.63905733]\n",
      " [2.7080502  2.77258872 2.83321334]\n",
      " [2.89037176 2.94443898 2.99573227]\n",
      " [3.04452244 3.09104245 3.13549422]]\n",
      "\n",
      "Exponent:\n",
      "[[1.62754791e+05 4.42413392e+05 1.20260428e+06]\n",
      " [3.26901737e+06 8.88611052e+06 2.41549528e+07]\n",
      " [6.56599691e+07 1.78482301e+08 4.85165195e+08]\n",
      " [1.31881573e+09 3.58491285e+09 9.74480345e+09]]\n"
     ]
    }
   ],
   "source": [
    "# log and exponent\n",
    "print(f\"Log:\\n{np.log(x2)}\")\n",
    "print(f\"\\nExponent:\\n{np.exp(x2)}\")"
   ]
  },
  {
   "cell_type": "code",
   "execution_count": 37,
   "id": "6f4ec049-32ee-4421-8955-b6ebd575ef13",
   "metadata": {},
   "outputs": [
    {
     "name": "stdout",
     "output_type": "stream",
     "text": [
      "Array:\n",
      "[[94.45172454 33.92483145 26.31946118]\n",
      " [81.79124133 87.96341085 49.98209588]]\n",
      "\n",
      "Round:\n",
      "[[94. 34. 26.]\n",
      " [82. 88. 50.]]\n",
      "\n",
      "Floor:\n",
      "[[94. 33. 26.]\n",
      " [81. 87. 49.]]\n",
      "\n",
      "Ceil:\n",
      "[[95. 34. 27.]\n",
      " [82. 88. 50.]]\n"
     ]
    }
   ],
   "source": [
    "arr = np.random.random((2, 3))*100\n",
    "\n",
    "print(f\"Array:\\n{arr}\")\n",
    "print(f\"\\nRound:\\n{np.round(arr)}\")\n",
    "print(f\"\\nFloor:\\n{np.floor(arr)}\")\n",
    "print(f\"\\nCeil:\\n{np.ceil(arr)}\")"
   ]
  },
  {
   "cell_type": "markdown",
   "id": "39be95da-7ecf-4836-a251-6029c2682b1f",
   "metadata": {},
   "source": [
    "### Indexing & Slicing in Arrays"
   ]
  },
  {
   "cell_type": "code",
   "execution_count": 38,
   "id": "90921cc6-98d7-49a1-805b-46063ad912fe",
   "metadata": {},
   "outputs": [],
   "source": [
    "arr1 = np.arange(10)\n",
    "arr2 = np.arange(12).reshape(3, 4)\n",
    "arr3 = np.arange(8).reshape(2, 2, 2)"
   ]
  },
  {
   "cell_type": "code",
   "execution_count": 39,
   "id": "3508a721-2cf8-4194-9a10-608645baa7be",
   "metadata": {},
   "outputs": [
    {
     "name": "stdout",
     "output_type": "stream",
     "text": [
      "array = [0 1 2 3 4 5 6 7 8 9]\n",
      "\n",
      "array[0] = 0\n",
      "array[-1] = 9\n",
      "\n",
      "array[1:5] = [1 2 3 4]\n",
      "array[::2] = [0 2 4 6 8]\n",
      "\n",
      "array[:] = [0 1 2 3 4 5 6 7 8 9]\n",
      "array[::-1] = [9 8 7 6 5 4 3 2 1 0]\n"
     ]
    }
   ],
   "source": [
    "print(f\"array = {arr1}\\n\")\n",
    "\n",
    "print(f\"array[0] = {arr1[0]}\")\n",
    "print(f\"array[-1] = {arr1[-1]}\\n\")\n",
    "\n",
    "print(f\"array[1:5] = {arr1[1:5]}\")\n",
    "print(f\"array[::2] = {arr1[::2]}\\n\")\n",
    "\n",
    "print(f\"array[:] = {arr1[:]}\")\n",
    "print(f\"array[::-1] = {arr1[::-1]}\")"
   ]
  },
  {
   "cell_type": "code",
   "execution_count": 40,
   "id": "9eed23d4-2c98-45a0-b7bf-9765539645ad",
   "metadata": {},
   "outputs": [
    {
     "name": "stdout",
     "output_type": "stream",
     "text": [
      "array =\n",
      "[[ 0  1  2  3]\n",
      " [ 4  5  6  7]\n",
      " [ 8  9 10 11]]\n",
      "\n",
      "array[2, 1] = 9\n",
      "array[1, 3] = 7\n",
      "\n",
      "array[-1, -3] = 9\n",
      "array[-3, -2] = 2\n",
      "\n",
      "array[0, :] = [0 1 2 3]\n",
      "array[:, 2] = [ 2  6 10]\n",
      "\n",
      "array[1, 1:3] = [5 6]\n",
      "array[2, 2:4] = [10 11]\n",
      "\n",
      "array[:2, 1::2] =\n",
      "[[1 3]\n",
      " [5 7]]\n",
      "\n",
      "array[0:2, 1:3] =\n",
      "[[1 2]\n",
      " [5 6]]\n",
      "\n",
      "array[::2, :] =\n",
      "[[ 0  1  2  3]\n",
      " [ 8  9 10 11]]\n",
      "\n",
      "array[::2, ::3] =\n",
      "[[ 0  3]\n",
      " [ 8 11]]\n",
      "\n",
      "array[::2, ::2] =\n",
      "[[ 0  2]\n",
      " [ 8 10]]\n",
      "\n"
     ]
    }
   ],
   "source": [
    "print(f\"array =\\n{arr2}\\n\")\n",
    "\n",
    "print(f\"array[2, 1] = {arr2[2, 1]}\")\n",
    "print(f\"array[1, 3] = {arr2[1, 3]}\\n\")\n",
    "\n",
    "print(f\"array[-1, -3] = {arr2[-1, -3]}\")\n",
    "print(f\"array[-3, -2] = {arr2[-3, -2]}\\n\")\n",
    "\n",
    "print(f\"array[0, :] = {arr2[0, :]}\")\n",
    "print(f\"array[:, 2] = {arr2[:, 2]}\\n\")\n",
    "\n",
    "print(f\"array[1, 1:3] = {arr2[1, 1:3]}\")\n",
    "print(f\"array[2, 2:4] = {arr2[2, 2:4]}\\n\")\n",
    "\n",
    "print(f\"array[:2, 1::2] =\\n{arr2[:2, 1::2]}\\n\")\n",
    "print(f\"array[0:2, 1:3] =\\n{arr2[0:2, 1:3]}\\n\")\n",
    "print(f\"array[::2, :] =\\n{arr2[::2, :]}\\n\")\n",
    "print(f\"array[::2, ::3] =\\n{arr2[::2, ::3]}\\n\")\n",
    "print(f\"array[::2, ::2] =\\n{arr2[::2, ::2]}\\n\")"
   ]
  },
  {
   "cell_type": "code",
   "execution_count": 41,
   "id": "825b567e-49bb-4835-a4e2-de293b41a15d",
   "metadata": {},
   "outputs": [
    {
     "name": "stdout",
     "output_type": "stream",
     "text": [
      "array =\n",
      "[[[0 1]\n",
      "  [2 3]]\n",
      "\n",
      " [[4 5]\n",
      "  [6 7]]]\n",
      "\n",
      "array[0, 0, 0] = 0\n",
      "array[1, 0, 1] = 5\n",
      "array[0, 1, 0] = 2\n",
      "\n",
      "array[-1, -2, -1] = 5\n",
      "array[-2, -1, -1] = 3\n"
     ]
    }
   ],
   "source": [
    "print(f\"array =\\n{arr3}\\n\")\n",
    "\n",
    "print(f\"array[0, 0, 0] = {arr3[0, 0, 0]}\")\n",
    "print(f\"array[1, 0, 1] = {arr3[1, 0, 1]}\")\n",
    "print(f\"array[0, 1, 0] = {arr3[0, 1, 0]}\\n\")\n",
    "\n",
    "print(f\"array[-1, -2, -1] = {arr3[-1, -2, -1]}\")\n",
    "print(f\"array[-2, -1, -1] = {arr3[-2, -1, -1]}\")"
   ]
  },
  {
   "cell_type": "code",
   "execution_count": 42,
   "id": "085a0852-993a-4412-bbc5-7804db0590cc",
   "metadata": {},
   "outputs": [
    {
     "name": "stdout",
     "output_type": "stream",
     "text": [
      "array =\n",
      "[[[ 0  1  2]\n",
      "  [ 3  4  5]\n",
      "  [ 6  7  8]]\n",
      "\n",
      " [[ 9 10 11]\n",
      "  [12 13 14]\n",
      "  [15 16 17]]\n",
      "\n",
      " [[18 19 20]\n",
      "  [21 22 23]\n",
      "  [24 25 26]]]\n",
      "\n",
      "array[1] =\n",
      "[[ 9 10 11]\n",
      " [12 13 14]\n",
      " [15 16 17]]\n",
      "\n",
      "array[::2] =\n",
      "[[[ 0  1  2]\n",
      "  [ 3  4  5]\n",
      "  [ 6  7  8]]\n",
      "\n",
      " [[18 19 20]\n",
      "  [21 22 23]\n",
      "  [24 25 26]]]\n",
      "\n",
      "array[:, 1] =\n",
      "[[ 3  4  5]\n",
      " [12 13 14]\n",
      " [21 22 23]]\n",
      "\n",
      "array[0, 1, :] = [3 4 5]\n",
      "array[:, 1, 1] = [ 4 13 22]\n",
      "array[0, :, 1] = [1 4 7]\n",
      "\n"
     ]
    }
   ],
   "source": [
    "arr3 = np.arange(27).reshape(3, 3, 3)\n",
    "print(f\"array =\\n{arr3}\\n\")\n",
    "\n",
    "print(f\"array[1] =\\n{arr3[1]}\\n\")\n",
    "print(f\"array[::2] =\\n{arr3[::2]}\\n\")\n",
    "print(f\"array[:, 1] =\\n{arr3[:, 1]}\\n\")\n",
    "\n",
    "print(f\"array[0, 1, :] = {arr3[0, 1, :]}\")\n",
    "print(f\"array[:, 1, 1] = {arr3[:, 1, 1]}\")\n",
    "print(f\"array[0, :, 1] = {arr3[0, :, 1]}\\n\")"
   ]
  },
  {
   "cell_type": "code",
   "execution_count": 43,
   "id": "fffb3299-453b-416f-a894-612023c89710",
   "metadata": {},
   "outputs": [
    {
     "name": "stdout",
     "output_type": "stream",
     "text": [
      "array[2, 1:, 1:] =\n",
      "[[22 23]\n",
      " [25 26]]\n",
      "\n",
      "array[:, 1:, 1:] =\n",
      "[[[ 4  5]\n",
      "  [ 7  8]]\n",
      "\n",
      " [[13 14]\n",
      "  [16 17]]\n",
      "\n",
      " [[22 23]\n",
      "  [25 26]]]\n",
      "\n",
      "array[::2, 0, ::2] =\n",
      "[[ 0  2]\n",
      " [18 20]]\n"
     ]
    }
   ],
   "source": [
    "print(f\"array[2, 1:, 1:] =\\n{arr3[2, 1:, 1:]}\\n\")\n",
    "print(f\"array[:, 1:, 1:] =\\n{arr3[:, 1:, 1:]}\\n\")\n",
    "print(f\"array[::2, 0, ::2] =\\n{arr3[::2, 0, ::2]}\")"
   ]
  },
  {
   "cell_type": "markdown",
   "id": "29844103-fbb0-424b-9301-e9219c061560",
   "metadata": {},
   "source": [
    "### Iterating through Arrays"
   ]
  },
  {
   "cell_type": "code",
   "execution_count": 44,
   "id": "c1b9654f-1559-4a43-b5a0-b4435dc9cb2e",
   "metadata": {},
   "outputs": [
    {
     "name": "stdout",
     "output_type": "stream",
     "text": [
      "2D Array=\n",
      "[[0 1 2]\n",
      " [3 4 5]\n",
      " [6 7 8]]\n",
      "\n",
      "nditer:\n",
      "0 1 2 3 4 5 6 7 8 "
     ]
    }
   ],
   "source": [
    "# flexible way to iterate over elements of an array\n",
    "arr_2d = np.arange(9).reshape(3, 3)\n",
    "\n",
    "iter_obj = np.nditer(arr_2d)\n",
    "\n",
    "print(f\"2D Array=\\n{arr_2d}\\n\")\n",
    "print(f\"nditer:\")\n",
    "for element in iter_obj:\n",
    "    print(element, end=\" \")"
   ]
  },
  {
   "cell_type": "code",
   "execution_count": 45,
   "id": "364c5396-600d-4b02-8ed4-7c35243722b2",
   "metadata": {},
   "outputs": [
    {
     "name": "stdout",
     "output_type": "stream",
     "text": [
      "Method 01:\n",
      "(array(1), array(5))\n",
      "(array(2), array(6))\n",
      "(array(3), array(7))\n",
      "(array(4), array(8))\n",
      "\n",
      "Method 02:\n",
      "1 5\n",
      "2 6\n",
      "3 7\n",
      "4 8\n"
     ]
    }
   ],
   "source": [
    "arr1 = np.array([[1, 2], [3, 4]])\n",
    "arr2 = np.array([[5, 6], [7, 8]])\n",
    "\n",
    "iter_obj = np.nditer([arr1, arr2])\n",
    "\n",
    "print(\"Method 01:\")\n",
    "for element in iter_obj:\n",
    "    print(element)\n",
    "\n",
    "iter_obj.reset()\n",
    "\n",
    "print(\"\\nMethod 02:\")\n",
    "for x, y in iter_obj:\n",
    "    print(x, y)"
   ]
  },
  {
   "cell_type": "markdown",
   "id": "2b349955-a74e-4006-942d-c77975550552",
   "metadata": {},
   "source": [
    "### Reshaping NumPy Arrays"
   ]
  },
  {
   "cell_type": "code",
   "execution_count": 46,
   "id": "30603ddf-15ce-49c2-b729-4f1c25e75676",
   "metadata": {},
   "outputs": [
    {
     "name": "stdout",
     "output_type": "stream",
     "text": [
      "Array =\n",
      "[[ 0  1  2  3]\n",
      " [ 4  5  6  7]\n",
      " [ 8  9 10 11]]\n",
      "\n",
      "Transpose =\n",
      "[[ 0  4  8]\n",
      " [ 1  5  9]\n",
      " [ 2  6 10]\n",
      " [ 3  7 11]]\n",
      "\n",
      "Ravel = [ 0  1  2  3  4  5  6  7  8  9 10 11]\n"
     ]
    }
   ],
   "source": [
    "arr = np.arange(12).reshape(3, 4)\n",
    "\n",
    "print(f\"Array =\\n{arr}\\n\")\n",
    "# np.transpose and arr.T are same\n",
    "print(f\"Transpose =\\n{np.transpose(arr)}\\n\")\n",
    "print(f\"Ravel = {np.ravel(arr)}\")   # flattens the array."
   ]
  },
  {
   "cell_type": "markdown",
   "id": "bbd5795d-4d85-414a-91ed-3461d2108e95",
   "metadata": {},
   "source": [
    "### Stacking & Splitting Arrays"
   ]
  },
  {
   "cell_type": "code",
   "execution_count": 47,
   "id": "312e9e87-de62-4947-91aa-186122161154",
   "metadata": {},
   "outputs": [
    {
     "name": "stdout",
     "output_type": "stream",
     "text": [
      "Array 01:\n",
      "[[ 0  1  2  3]\n",
      " [ 4  5  6  7]\n",
      " [ 8  9 10 11]]\n",
      "\n",
      "Array 02:\n",
      "[[12 13 14 15]\n",
      " [16 17 18 19]\n",
      " [20 21 22 23]]\n"
     ]
    }
   ],
   "source": [
    "arr1 = np.arange(12).reshape(3, 4)\n",
    "arr2 = np.arange(12, 24).reshape(3, 4)\n",
    "\n",
    "print(f\"Array 01:\\n{arr1}\\n\")\n",
    "print(f\"Array 02:\\n{arr2}\")"
   ]
  },
  {
   "cell_type": "code",
   "execution_count": 48,
   "id": "53e55c90-0660-4208-9c11-6023136ff75a",
   "metadata": {},
   "outputs": [
    {
     "data": {
      "text/plain": [
       "array([[ 0,  1,  2,  3, 12, 13, 14, 15],\n",
       "       [ 4,  5,  6,  7, 16, 17, 18, 19],\n",
       "       [ 8,  9, 10, 11, 20, 21, 22, 23]])"
      ]
     },
     "execution_count": 48,
     "metadata": {},
     "output_type": "execute_result"
    }
   ],
   "source": [
    "np.hstack((arr1, arr2))"
   ]
  },
  {
   "cell_type": "code",
   "execution_count": 49,
   "id": "6e1a3704-a9b0-4ae6-9703-7279cd72551d",
   "metadata": {},
   "outputs": [
    {
     "data": {
      "text/plain": [
       "array([[ 0,  1,  2,  3, 12, 13, 14, 15,  0,  1,  2,  3],\n",
       "       [ 4,  5,  6,  7, 16, 17, 18, 19,  4,  5,  6,  7],\n",
       "       [ 8,  9, 10, 11, 20, 21, 22, 23,  8,  9, 10, 11]])"
      ]
     },
     "execution_count": 49,
     "metadata": {},
     "output_type": "execute_result"
    }
   ],
   "source": [
    "np.hstack((arr1, arr2, arr1))"
   ]
  },
  {
   "cell_type": "code",
   "execution_count": 50,
   "id": "5fb16147-240d-43f4-80d1-b186743d594c",
   "metadata": {},
   "outputs": [
    {
     "data": {
      "text/plain": [
       "array([[ 0,  1,  2,  3],\n",
       "       [ 4,  5,  6,  7],\n",
       "       [ 8,  9, 10, 11],\n",
       "       [12, 13, 14, 15],\n",
       "       [16, 17, 18, 19],\n",
       "       [20, 21, 22, 23]])"
      ]
     },
     "execution_count": 50,
     "metadata": {},
     "output_type": "execute_result"
    }
   ],
   "source": [
    "np.vstack((arr1, arr2))"
   ]
  },
  {
   "cell_type": "code",
   "execution_count": 51,
   "id": "6aa9858c-a8a8-4049-8241-f7faa28cb0ac",
   "metadata": {},
   "outputs": [
    {
     "data": {
      "text/plain": [
       "[array([[0, 1],\n",
       "        [4, 5],\n",
       "        [8, 9]]),\n",
       " array([[ 2,  3],\n",
       "        [ 6,  7],\n",
       "        [10, 11]])]"
      ]
     },
     "execution_count": 51,
     "metadata": {},
     "output_type": "execute_result"
    }
   ],
   "source": [
    "np.hsplit(arr1, 2)      # it has to be equal division"
   ]
  },
  {
   "cell_type": "code",
   "execution_count": 52,
   "id": "1a5939f9-a63e-44f8-80f2-4a3543fd4043",
   "metadata": {},
   "outputs": [
    {
     "data": {
      "text/plain": [
       "[array([[0, 1, 2, 3]]), array([[4, 5, 6, 7]]), array([[ 8,  9, 10, 11]])]"
      ]
     },
     "execution_count": 52,
     "metadata": {},
     "output_type": "execute_result"
    }
   ],
   "source": [
    "np.vsplit(arr1, 3)"
   ]
  }
 ],
 "metadata": {
  "kernelspec": {
   "display_name": "Python 3 (ipykernel)",
   "language": "python",
   "name": "python3"
  },
  "language_info": {
   "codemirror_mode": {
    "name": "ipython",
    "version": 3
   },
   "file_extension": ".py",
   "mimetype": "text/x-python",
   "name": "python",
   "nbconvert_exporter": "python",
   "pygments_lexer": "ipython3",
   "version": "3.12.2"
  }
 },
 "nbformat": 4,
 "nbformat_minor": 5
}

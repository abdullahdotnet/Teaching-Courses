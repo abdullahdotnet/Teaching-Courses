{
 "cells": [
  {
   "cell_type": "markdown",
   "id": "08d963c0-3c37-4cb7-b8e8-012e1d86b140",
   "metadata": {},
   "source": [
    "<h1 style=\"text-align: center;\">NumPy Advanced</h1>"
   ]
  },
  {
   "cell_type": "markdown",
   "id": "88e8e168-aca5-4a0c-828b-136c9da167d0",
   "metadata": {},
   "source": [
    "### Contents\n",
    "\n",
    "- [Boolean Indexing](#Boolean-Indexing)\n",
    "- [Broadcasting](#Broadcasting)"
   ]
  },
  {
   "cell_type": "code",
   "execution_count": 1,
   "id": "a24f4b63-2767-4734-bac2-8f5885abb3e4",
   "metadata": {},
   "outputs": [],
   "source": [
    "import numpy as np"
   ]
  },
  {
   "cell_type": "markdown",
   "id": "9e08bd79-3550-4f40-8c08-904a4aed4750",
   "metadata": {},
   "source": [
    "### Boolean Indexing"
   ]
  },
  {
   "cell_type": "code",
   "execution_count": 2,
   "id": "7584df1f-8fb4-468f-83b5-bac281f09046",
   "metadata": {},
   "outputs": [
    {
     "data": {
      "text/plain": [
       "array([[ 6, 71, 95, 58],\n",
       "       [76, 57, 47, 19],\n",
       "       [20, 20, 29, 95],\n",
       "       [92, 79, 48, 10],\n",
       "       [49, 88, 53, 27],\n",
       "       [39, 53, 87, 94]])"
      ]
     },
     "execution_count": 2,
     "metadata": {},
     "output_type": "execute_result"
    }
   ],
   "source": [
    "arr = np.random.randint(1, 100, 24).reshape(6, 4)\n",
    "arr"
   ]
  },
  {
   "cell_type": "code",
   "execution_count": 3,
   "id": "0d0c3e2e-96c0-4fde-aa87-9fd72a6613bc",
   "metadata": {},
   "outputs": [
    {
     "data": {
      "text/plain": [
       "array([[False,  True,  True,  True],\n",
       "       [ True,  True, False, False],\n",
       "       [False, False, False,  True],\n",
       "       [ True,  True, False, False],\n",
       "       [False,  True,  True, False],\n",
       "       [False,  True,  True,  True]])"
      ]
     },
     "execution_count": 3,
     "metadata": {},
     "output_type": "execute_result"
    }
   ],
   "source": [
    "arr>50"
   ]
  },
  {
   "cell_type": "code",
   "execution_count": 4,
   "id": "e515f934-cddc-47ce-97df-f01fcbbd1426",
   "metadata": {},
   "outputs": [
    {
     "data": {
      "text/plain": [
       "array([71, 95, 58, 76, 57, 95, 92, 79, 88, 53, 53, 87, 94])"
      ]
     },
     "execution_count": 4,
     "metadata": {},
     "output_type": "execute_result"
    }
   ],
   "source": [
    "# numbers greater than 50\n",
    "\n",
    "condition = arr>50\n",
    "arr[condition]"
   ]
  },
  {
   "cell_type": "code",
   "execution_count": 5,
   "id": "c955ed2e-1e66-4682-bd65-3d483214967c",
   "metadata": {},
   "outputs": [
    {
     "data": {
      "text/plain": [
       "array([58, 76, 92, 88, 94])"
      ]
     },
     "execution_count": 5,
     "metadata": {},
     "output_type": "execute_result"
    }
   ],
   "source": [
    "# numbers greater than 50 and are even\n",
    "\n",
    "condition = (arr>50) & (arr%2==0)\n",
    "arr[condition]"
   ]
  },
  {
   "cell_type": "code",
   "execution_count": 6,
   "id": "4472707b-eb92-44c7-84ea-bd184c91fe20",
   "metadata": {},
   "outputs": [
    {
     "data": {
      "text/plain": [
       "array([ 6, 71, 95, 58, 76, 57, 47, 19, 20, 20, 29, 95, 92, 79, 48, 10, 88,\n",
       "       53, 27, 39, 53, 87, 94])"
      ]
     },
     "execution_count": 6,
     "metadata": {},
     "output_type": "execute_result"
    }
   ],
   "source": [
    "# numbers not divisible by 7\n",
    "\n",
    "condition = ~(arr%7==0)\n",
    "arr[condition]"
   ]
  },
  {
   "cell_type": "markdown",
   "id": "acca2515-83c1-4176-b106-8065a35be44a",
   "metadata": {},
   "source": [
    "### Broadcasting\n",
    "\n",
    "- The term broadcasting describes how NumPy treats arrays with different shapes during arithmetic operations. \n",
    "- The smaller array is “broadcast” across the larger array so that they have compatible shapes.\n",
    "\n",
    "#### Rules   \n",
    "\n",
    "1. Make the two arrays have the same number of dimensions.      \n",
    "2. Make each dimension of the two arrays the same size.         \n",
    "\n",
    "#### Steps       \n",
    "\n",
    "- If the numbers of dimensions of the two arrays are different, add new dimensions with size 1 to the head of the array with the smaller dimension.     \n",
    "- If the sizes of each dimension of the two arrays do not match, dimensions with size 1 are stretched to the size of the other array.       \n",
    "  arr1 = (3, 4)          \n",
    "  arr2 = (4) -> (1, 4) -> (3, 4)\n",
    "\n",
    "\n",
    "#### Note     \n",
    "\n",
    "- If there is a dimension whose size is not 1 in either of the two arrays, it cannot be broadcasted, and an error is raised.         "
   ]
  },
  {
   "cell_type": "markdown",
   "id": "0f2376fc-4462-4121-83c0-9d11f79ecbc9",
   "metadata": {},
   "source": [
    "<div style=\"text-align:center;\">\r\n",
    "    <img src=\"https://jakevdp.github.io/PythonDataScienceHandbook/figures/02.05-broadcasting.png\" alt=\"Broadcasting\">\r\n",
    "</div>"
   ]
  },
  {
   "cell_type": "code",
   "execution_count": 7,
   "id": "35c2211f-8b3a-44e5-a42d-a9717bb9b393",
   "metadata": {},
   "outputs": [
    {
     "name": "stdout",
     "output_type": "stream",
     "text": [
      "array 01:\n",
      "[[ 0  1  2]\n",
      " [ 3  4  5]\n",
      " [ 6  7  8]\n",
      " [ 9 10 11]]\n",
      "\n",
      "array 02:\n",
      "[0 1 2]\n",
      "\n",
      "Addition (Broadcasting):\n",
      "[[ 0  2  4]\n",
      " [ 3  5  7]\n",
      " [ 6  8 10]\n",
      " [ 9 11 13]]\n"
     ]
    }
   ],
   "source": [
    "arr1 = np.arange(12).reshape(4, 3)\n",
    "arr2 = np.arange(3)\n",
    "\n",
    "print(f\"array 01:\\n{arr1}\\n\")\n",
    "print(f\"array 02:\\n{arr2}\\n\")\n",
    "\n",
    "print(f\"Addition (Broadcasting):\\n{arr1+arr2}\")"
   ]
  },
  {
   "cell_type": "code",
   "execution_count": 8,
   "id": "44f123e2-9412-41a6-ae4c-6da2e0d8d612",
   "metadata": {},
   "outputs": [
    {
     "name": "stdout",
     "output_type": "stream",
     "text": [
      "array 01:\n",
      "[[0 1 2]]\n",
      "\n",
      "array 02:\n",
      "[[0]\n",
      " [1]\n",
      " [2]]\n",
      "\n",
      "Addition (Broadcasting):\n",
      "[[0 1 2]\n",
      " [1 2 3]\n",
      " [2 3 4]]\n"
     ]
    }
   ],
   "source": [
    "# broadcasting: stretched 1 to required amount 3 on both arrays\n",
    "arr1 = np.arange(3).reshape(1, 3)\n",
    "arr2 = np.arange(3).reshape(3, 1)\n",
    "\n",
    "print(f\"array 01:\\n{arr1}\\n\")\n",
    "print(f\"array 02:\\n{arr2}\\n\")\n",
    "\n",
    "print(f\"Addition (Broadcasting):\\n{arr1+arr2}\")"
   ]
  },
  {
   "cell_type": "code",
   "execution_count": 9,
   "id": "60c1f292-31b1-4855-a22a-e90b1fde79ab",
   "metadata": {},
   "outputs": [
    {
     "name": "stdout",
     "output_type": "stream",
     "text": [
      "array 01:\n",
      "[[0 1 2]]\n",
      "\n",
      "array 02:\n",
      "[[0]\n",
      " [1]\n",
      " [2]\n",
      " [3]]\n",
      "\n",
      "Addition (Broadcasting):\n",
      "[[0 1 2]\n",
      " [1 2 3]\n",
      " [2 3 4]\n",
      " [3 4 5]]\n"
     ]
    }
   ],
   "source": [
    "arr1 = np.arange(3).reshape(1, 3)\n",
    "arr2 = np.arange(4).reshape(4, 1)\n",
    "\n",
    "print(f\"array 01:\\n{arr1}\\n\")\n",
    "print(f\"array 02:\\n{arr2}\\n\")\n",
    "\n",
    "print(f\"Addition (Broadcasting):\\n{arr1+arr2}\")"
   ]
  },
  {
   "cell_type": "code",
   "execution_count": 10,
   "id": "63acf83d-748f-47a0-9596-eb6ceb154c84",
   "metadata": {},
   "outputs": [
    {
     "name": "stdout",
     "output_type": "stream",
     "text": [
      "array 01:\n",
      "[1]\n",
      "\n",
      "array 02:\n",
      "[[0 1]\n",
      " [2 3]]\n",
      "\n",
      "Addition (Broadcasting):\n",
      "[[1 2]\n",
      " [3 4]]\n"
     ]
    }
   ],
   "source": [
    "# shape -> (1,1)\n",
    "arr1 = np.array([1])\n",
    "\n",
    "# shape -> (2,2)\n",
    "arr2 = np.arange(4).reshape(2,2)\n",
    "\n",
    "print(f\"array 01:\\n{arr1}\\n\")\n",
    "print(f\"array 02:\\n{arr2}\\n\")\n",
    "\n",
    "print(f\"Addition (Broadcasting):\\n{arr1+arr2}\")"
   ]
  },
  {
   "cell_type": "code",
   "execution_count": 11,
   "id": "0671dd28-fac2-4ead-b2e6-c2362ffb373b",
   "metadata": {},
   "outputs": [
    {
     "name": "stdout",
     "output_type": "stream",
     "text": [
      "Broadcasting not possible.\n"
     ]
    }
   ],
   "source": [
    "try:\n",
    "    arr1 = np.arange(12).reshape(3, 4)\n",
    "    arr2 = np.arange(12).reshape(4, 3)\n",
    "\n",
    "    print(f\"Addition:\\n{arr1+arr2}\")\n",
    "except:\n",
    "    print(\"Broadcasting not possible.\")"
   ]
  },
  {
   "cell_type": "code",
   "execution_count": 12,
   "id": "11166ebb-51d4-40bf-96cb-1f11f89217cf",
   "metadata": {},
   "outputs": [
    {
     "name": "stdout",
     "output_type": "stream",
     "text": [
      "Broadcasting not possible.\n"
     ]
    }
   ],
   "source": [
    "try:\n",
    "    arr1 = np.arange(16).reshape(4,4)\n",
    "    arr2 = np.arange(4).reshape(2,2)\n",
    "\n",
    "    print(f\"Addition:\\n{arr1+arr2}\")\n",
    "except:\n",
    "    print(\"Broadcasting not possible.\")"
   ]
  },
  {
   "cell_type": "code",
   "execution_count": null,
   "id": "2a715f38-b48a-4ddd-b00c-977c1999ecbc",
   "metadata": {},
   "outputs": [],
   "source": []
  }
 ],
 "metadata": {
  "kernelspec": {
   "display_name": "Python 3 (ipykernel)",
   "language": "python",
   "name": "python3"
  },
  "language_info": {
   "codemirror_mode": {
    "name": "ipython",
    "version": 3
   },
   "file_extension": ".py",
   "mimetype": "text/x-python",
   "name": "python",
   "nbconvert_exporter": "python",
   "pygments_lexer": "ipython3",
   "version": "3.11.1"
  }
 },
 "nbformat": 4,
 "nbformat_minor": 5
}
